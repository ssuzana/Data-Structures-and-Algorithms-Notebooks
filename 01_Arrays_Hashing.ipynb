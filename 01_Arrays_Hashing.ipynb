{
  "nbformat": 4,
  "nbformat_minor": 0,
  "metadata": {
    "colab": {
      "provenance": [],
      "toc_visible": true,
      "authorship_tag": "ABX9TyMndoOItU1cP9VVEAhVs79y",
      "include_colab_link": true
    },
    "kernelspec": {
      "name": "python3",
      "display_name": "Python 3"
    },
    "language_info": {
      "name": "python"
    }
  },
  "cells": [
    {
      "cell_type": "markdown",
      "metadata": {
        "id": "view-in-github",
        "colab_type": "text"
      },
      "source": [
        "<a href=\"https://colab.research.google.com/github/ssuzana/Data-Structures-and-Algorithms-Notebooks/blob/main/01_Arrays_Hashing.ipynb\" target=\"_parent\"><img src=\"https://colab.research.google.com/assets/colab-badge.svg\" alt=\"Open In Colab\"/></a>"
      ]
    },
    {
      "cell_type": "markdown",
      "source": [
        "#**Leetcode 217. Contains Duplicate** (Easy)\n",
        "\n",
        "Given an integer array nums, return true if any value appears at least twice in the array, and return false if every element is distinct."
      ],
      "metadata": {
        "id": "sUMatXAA8QuG"
      }
    },
    {
      "cell_type": "code",
      "execution_count": null,
      "metadata": {
        "id": "eLqIheor8FaT"
      },
      "outputs": [],
      "source": [
        "# Time Complexity: O(n log n), Space Complexity: O(1)\n",
        "# Input nums: List[int], Output: bool\n",
        "def containsDuplicate1(nums):\n",
        "  nums.sort()\n",
        "  for i in range(len(nums)-1):\n",
        "    if nums[i] == nums[i+1]:\n",
        "      return True\n",
        "  return False     "
      ]
    },
    {
      "cell_type": "markdown",
      "source": [
        "**Note.** The Python list **sort()** has been using the Timsort algorithm since version 2.3. This algorithm has a runtime complexity of $O(n\\log n)$."
      ],
      "metadata": {
        "id": "U3F00ZMoBlZr"
      }
    },
    {
      "cell_type": "code",
      "source": [
        "# Time: O(n), Space: O(n)\n",
        "def containsDuplicate2(nums):\n",
        "  return len(nums) != len(set(nums))"
      ],
      "metadata": {
        "id": "DqYx2s76AyHt"
      },
      "execution_count": null,
      "outputs": []
    },
    {
      "cell_type": "markdown",
      "source": [
        "**Note.** Converting a list to a set requires that every item in the list be visited once, $O(n)$. Inserting an element into a set is $O(1)$, so the overall time complexity would be $O(n)$.\n",
        "\n",
        "Space required for the new set is less than or equal to the length of the list, so that is also $O(n)$."
      ],
      "metadata": {
        "id": "xevJ_t1nEqKx"
      }
    },
    {
      "cell_type": "code",
      "source": [
        "# Time: O(n), Space: O(n)\n",
        "def containsDuplicate3(nums):\n",
        "  hashTable = {}\n",
        "  for num in nums:\n",
        "    if num in hashTable:\n",
        "      return True\n",
        "    else:\n",
        "      hashTable[num] = \"seen\"\n",
        "  return False      "
      ],
      "metadata": {
        "id": "qvm0I8XoDV6o"
      },
      "execution_count": null,
      "outputs": []
    },
    {
      "cell_type": "code",
      "source": [
        "# Example 1\n",
        "nums1 = [1,2,3,1]\n",
        "print(containsDuplicate1(nums1)) # True\n",
        "# Example 2\n",
        "nums2 = [1,2,3,4]\n",
        "print(containsDuplicate2(nums2)) # False"
      ],
      "metadata": {
        "id": "dey99AQt9Zjt"
      },
      "execution_count": null,
      "outputs": []
    },
    {
      "cell_type": "markdown",
      "source": [
        "#**Leetcode 242. Valid Anagram** (Easy)\n",
        "\n",
        "Given two strings s and t, return true if t is an anagram of s, and false otherwise.\n",
        "\n",
        "An Anagram is a word or phrase formed by rearranging the letters of a different word or phrase, typically using all the original letters exactly once"
      ],
      "metadata": {
        "id": "KjNQ-Kjd8RYl"
      }
    },
    {
      "cell_type": "code",
      "source": [
        "# Time: O(n)\n",
        "\n",
        "def isAnagram(s,t):\n",
        "  s_counter = {}\n",
        "  \n",
        "  for letter in s:\n",
        "    s_counter[letter] = s_counter.get(letter, 0) + 1\n",
        "  \n",
        "  for letter in t:\n",
        "    if letter not in s_counter:\n",
        "      return False\n",
        "    else:\n",
        "      s_counter[letter] -= 1\n",
        "\n",
        "  return not(any(s_counter.values()))\n"
      ],
      "metadata": {
        "id": "lWmla0FDFR8g"
      },
      "execution_count": null,
      "outputs": []
    },
    {
      "cell_type": "code",
      "source": [
        "# Time: O(n)\n",
        "from collections import Counter\n",
        "def isAnagram1(s,t):\n",
        "  return Counter(s) == Counter(t)\n",
        "        "
      ],
      "metadata": {
        "id": "2s158ucq8h5B"
      },
      "execution_count": null,
      "outputs": []
    },
    {
      "cell_type": "code",
      "source": [
        "# Time: O(n^2)\n",
        "def isAnagram2(s,t):\n",
        "  if len(s) != len(t): # len() is O(1)\n",
        "    return False\n",
        "  for elem in set(s): # set() is O(n)\n",
        "    if s.count(elem) != t.count(elem): # count() is O(n)\n",
        "      return False\n",
        "  return True     "
      ],
      "metadata": {
        "id": "0Ti6fdlyBRda"
      },
      "execution_count": null,
      "outputs": []
    },
    {
      "cell_type": "markdown",
      "source": [
        "**Note.** The time complexity of the count(value) method is $O(n)$ for a list/string with $n$ elements. "
      ],
      "metadata": {
        "id": "Utrx_8V2Cjvd"
      }
    },
    {
      "cell_type": "code",
      "source": [
        "# sorted(s) returns a sorted list containing the characters of s\n",
        "# Time: O(n log n), Space: O(1)\n",
        "def isAnagram3(s,t):\n",
        "  return sorted(s) == sorted(t)"
      ],
      "metadata": {
        "id": "ar-5uYG9B9R1"
      },
      "execution_count": null,
      "outputs": []
    },
    {
      "cell_type": "code",
      "source": [
        "# Example 1 \n",
        "s1 = \"anagram\"\n",
        "t1 = \"nagaram\"\n",
        "print(isAnagram(s1,t1)) # True\n",
        "# Example 2\n",
        "s2 = \"aacc\"\n",
        "t2 = \"ccac\"\n",
        "print(isAnagram(s2,t2)) #False"
      ],
      "metadata": {
        "id": "m8JFJbBI85H_",
        "colab": {
          "base_uri": "https://localhost:8080/"
        },
        "outputId": "59cc5fa4-f743-4d9d-c3bc-3d61cb53ad28"
      },
      "execution_count": null,
      "outputs": [
        {
          "output_type": "stream",
          "name": "stdout",
          "text": [
            "True\n",
            "False\n"
          ]
        }
      ]
    },
    {
      "cell_type": "markdown",
      "source": [
        "#**Leetcode 1. Two Sum** (Easy)\n",
        "\n",
        "Given an array of integers nums and an integer target, return indices of the two numbers such that they add up to target.\n",
        "\n",
        "You may assume that each input would have exactly one solution, and you may not use the same element twice.\n",
        "\n",
        "You can return the answer in any order."
      ],
      "metadata": {
        "id": "RETRuLlNuN6a"
      }
    },
    {
      "cell_type": "code",
      "source": [
        "# Input: nums: List[int], target: int. Output: List[int]\n",
        "def twoSum1(nums, target):\n",
        "  for i in range(len(nums)):\n",
        "    diff = target - nums[i]\n",
        "    if diff in nums[i+1:]:\n",
        "      return [i, (i+1) + nums[i+1:].index(diff)]\n",
        "    else:\n",
        "      continue       "
      ],
      "metadata": {
        "id": "elV9s0pCuiru"
      },
      "execution_count": null,
      "outputs": []
    },
    {
      "cell_type": "code",
      "source": [
        "# Time: O(n), Space: O(n)\n",
        "def twoSum2(nums, target):\n",
        "  hashMap = {} # val: index\n",
        "  for i, num in enumerate(nums):\n",
        "    diff = target - num\n",
        "    if diff in hashMap:\n",
        "      return [hashMap[diff],i]\n",
        "    hashMap[num] = i     "
      ],
      "metadata": {
        "id": "pJLlbPMHwGFe"
      },
      "execution_count": null,
      "outputs": []
    },
    {
      "cell_type": "code",
      "source": [
        "# Example 1: Input: nums = [2,7,11,15], target = 9 Output: [0,1]\n",
        "nums = [2,7,11,15]\n",
        "target = 9\n",
        "twoSum1(nums, target)\n",
        "# Example 2: Input: nums = [3,2,4], target = 6 Output: [1,2]\n",
        "nums = [3,2,4]\n",
        "target = 6\n",
        "twoSum1(nums, target)\n",
        "# Example 3: Input: nums = [3,3], target = 6 Output: [0,1]\n",
        "nums = [3,3]\n",
        "target = 6\n",
        "twoSum2(nums, target)"
      ],
      "metadata": {
        "id": "YgAtVai4ux0f"
      },
      "execution_count": null,
      "outputs": []
    },
    {
      "cell_type": "markdown",
      "source": [
        "#**Leetcode 49. Group Anagrams** (Medium)\n",
        "\n",
        "Given an array of strings strs, group the anagrams together. You can return the answer in any order.\n",
        "\n",
        "An Anagram is a word or phrase formed by rearranging the letters of a different word or phrase, typically using all the original letters exactly once."
      ],
      "metadata": {
        "id": "cnsykmEF3ukJ"
      }
    },
    {
      "cell_type": "code",
      "source": [
        "# Input: strs: List[str], Output:  List[List[str]]\n",
        "def groupAnagrams1(strs):\n",
        "  hashMap = {}\n",
        "  for word in strs:\n",
        "    key = tuple(sorted(word))\n",
        "    hashMap[key] = hashMap.get(key, []) + [word]\n",
        "  return hashMap.values()"
      ],
      "metadata": {
        "id": "eLkaDy3l349S"
      },
      "execution_count": null,
      "outputs": []
    },
    {
      "cell_type": "markdown",
      "source": [
        "**Dictionary keys must be of an immutable type.** \n",
        "Strings and numbers are the two most commonly used data types as dictionary keys. We can also use tuples as keys but they must contain only strings, integers, or other tuples."
      ],
      "metadata": {
        "id": "qZ3c8PR0GJzy"
      }
    },
    {
      "cell_type": "code",
      "source": [
        "# Time: O(m*n) where m = len(strs) and n = average length of each string in strs\n",
        "from collections import defaultdict\n",
        "def groupAnagrams2(strs):\n",
        "  d = defaultdict(list)\n",
        "  for word in strs:\n",
        "    letter_count = [0] * 26\n",
        "    for letter in word:\n",
        "      letter_count[ord(letter) - ord('a')] += 1\n",
        "                \n",
        "    d[tuple(letter_count)].append(word)\n",
        "            \n",
        "  return d.values()"
      ],
      "metadata": {
        "id": "QDhCZg4tC50R"
      },
      "execution_count": null,
      "outputs": []
    },
    {
      "cell_type": "markdown",
      "source": [
        "**How is *defaultdict* different?**\n",
        "The defaultdict is a subdivision of the dict class. Its importance lies in the fact that it allows each new key to be given a default value based on the type of dictionary being created.\n",
        "\n",
        "A defaultdict can be created by giving its declaration an argument that can have three values; list, set or int. According to the specified data type, the dictionary is created and when any key, that does not exist in the defaultdict is added or accessed, it is assigned a default value as opposed to giving a KeyError. \n",
        "\n",
        "Giving **list** as a parameter results in all values being stored in a list format.The key with no value is now assigned an empty list upon entry. To add elements to the defaultdict we now use the **append** function which is used for lists."
      ],
      "metadata": {
        "id": "ydanYnHg6IXI"
      }
    },
    {
      "cell_type": "code",
      "source": [
        "# Example 1:\n",
        "strs1 = [\"eat\",\"tea\",\"tan\",\"ate\",\"nat\",\"bat\"]\n",
        "# Output: [[\"bat\"],[\"nat\",\"tan\"],[\"ate\",\"eat\",\"tea\"]]\n",
        "print(groupAnagrams2(strs1))\n",
        "\n",
        "# Example 2:\n",
        "strs2 = [\"\"]\n",
        "# Output: [[\"\"]]\n",
        "groupAnagrams1(strs2)"
      ],
      "metadata": {
        "id": "nnT7nCTo4LBE"
      },
      "execution_count": null,
      "outputs": []
    },
    {
      "cell_type": "markdown",
      "source": [
        "#**Leetcode 347. Top K Frequent Elements** (Medium)\n",
        "\n",
        "Given an integer array nums and an integer $k$, return the $k$ most frequent elements. You may return the answer in any order."
      ],
      "metadata": {
        "id": "k84vjbaJH02W"
      }
    },
    {
      "cell_type": "code",
      "source": [
        "# Input: nums: List[int], k: int, Output: List[int]\n",
        "from collections import Counter\n",
        "def topKFrequent1(nums, k):\n",
        "  res = []\n",
        "  for key, val in Counter(nums).most_common(k):\n",
        "    res.append(key)\n",
        "  return res     "
      ],
      "metadata": {
        "id": "yuUIbbiEH0Sv"
      },
      "execution_count": null,
      "outputs": []
    },
    {
      "cell_type": "markdown",
      "source": [
        "**Counter(list_of_num).most_common(n)**\n",
        "\n",
        "Return a list of the $n$ most common elements in list_of_nums and their counts from the most common to the least. If $n$ is omitted or None, most_common() returns all elements in the counter. Elements with equal counts are ordered in the order first encountered."
      ],
      "metadata": {
        "id": "xqNK1lhbmd5z"
      }
    },
    {
      "cell_type": "code",
      "source": [
        "# Time: O(n), Space: O(n)\n",
        "def topKFrequent2(nums, k):\n",
        "  freq = [[] for i in range(len(nums) + 1)]\n",
        "  counter = {}\n",
        "        \n",
        "  for num in nums:\n",
        "    counter[num] = 1 + counter.get(num,0)\n",
        "        \n",
        "  for num, count in counter.items():\n",
        "    freq[count].append(num)\n",
        "            \n",
        "  res = []\n",
        "  for i in range(len(freq) - 1, 0, -1):\n",
        "    for num in freq[i]:\n",
        "      res.append(num)\n",
        "      if len(res) == k:\n",
        "        return res"
      ],
      "metadata": {
        "id": "Ua7_572YnJ3g"
      },
      "execution_count": null,
      "outputs": []
    },
    {
      "cell_type": "code",
      "source": [
        "# Example 1: Output: [1,2]\n",
        "nums1 = [1,1,1,2,2,3]\n",
        "k1 = 2\n",
        "# Example 2: Output: [1]\n",
        "nums2 = [1]\n",
        "k2 = 1\n",
        "print(topKFrequent2(nums1,k1))\n",
        "print(topKFrequent2(nums2,k2))"
      ],
      "metadata": {
        "colab": {
          "base_uri": "https://localhost:8080/"
        },
        "id": "HYbviEXylvXc",
        "outputId": "ae20184b-485b-4e8e-b843-77efad87c99d"
      },
      "execution_count": null,
      "outputs": [
        {
          "output_type": "stream",
          "name": "stdout",
          "text": [
            "[1, 2]\n",
            "[1]\n"
          ]
        }
      ]
    },
    {
      "cell_type": "markdown",
      "source": [
        "#**Leetcode 238. Product of Array Except Self** (Medium)\n",
        "\n",
        "Given an integer array nums, return an array answer such that answer[i] is equal to the product of all the elements of nums except nums[i].\n",
        "\n",
        "The product of any prefix or suffix of nums is guaranteed to fit in a 32-bit integer.\n",
        "\n",
        "You must write an algorithm that runs in O(n) time and without using the division operation."
      ],
      "metadata": {
        "id": "sbas3lu0eSl7"
      }
    },
    {
      "cell_type": "code",
      "source": [
        "# Input: nums: List[int], Output: List[int]\n",
        "def productExceptSelf1(nums):\n",
        "  p1 = [1] * len(nums)\n",
        "  p2 = [1] * len(nums)\n",
        "        \n",
        "  for i in range(1,len(nums)):\n",
        "    p1[i] = p1[i-1]*nums[i-1]\n",
        "      \n",
        "    for i in range(len(nums)-2,-1,-1):\n",
        "      p2[i] = p2[i+1]*nums[i+1]\n",
        "            \n",
        "  return [p1[i]*p2[i] for i in range(len(nums))]"
      ],
      "metadata": {
        "id": "W2oGBKpseYEn"
      },
      "execution_count": null,
      "outputs": []
    },
    {
      "cell_type": "code",
      "source": [
        "# Time: O(n), Space O(1)\n",
        "def productExceptSelf2(nums):\n",
        "  res = [1] * len(nums)\n",
        "    \n",
        "  prefix = 1\n",
        "  for i in range(len(nums)):\n",
        "    res[i] = prefix\n",
        "    prefix *= nums[i] \n",
        "        \n",
        "  postfix = 1\n",
        "  for i in range(len(nums)-1,-1,-1):\n",
        "    res[i] *= postfix\n",
        "    postfix *= nums[i] \n",
        "            \n",
        "  return res"
      ],
      "metadata": {
        "id": "fbR9tD5vJwzm"
      },
      "execution_count": null,
      "outputs": []
    },
    {
      "cell_type": "code",
      "source": [
        "# Example 1: Output: [24,12,8,6]\n",
        "nums1 = [1,2,3,4]\n",
        "productExceptSelf1(nums1)\n",
        "# Example 2: Output: [0,0,9,0,0]\n",
        "nums2 = [-1,1,0,-3,3]\n",
        "productExceptSelf2(nums2)"
      ],
      "metadata": {
        "colab": {
          "base_uri": "https://localhost:8080/"
        },
        "id": "ErjaLEPDCv3b",
        "outputId": "479d6d9f-4849-415f-eaf1-29f17d8122b0"
      },
      "execution_count": null,
      "outputs": [
        {
          "output_type": "execute_result",
          "data": {
            "text/plain": [
              "[0, 0, 9, 0, 0]"
            ]
          },
          "metadata": {},
          "execution_count": 10
        }
      ]
    },
    {
      "cell_type": "markdown",
      "source": [
        "#**Leetcode 128. Longest Consecutive Sequence** (Medium)\n",
        "\n",
        "Given an unsorted array of integers nums, return the length of the longest consecutive elements sequence.\n",
        "\n",
        "You must write an algorithm that runs in $O(n)$ time."
      ],
      "metadata": {
        "id": "2dk3U4k_znfN"
      }
    },
    {
      "cell_type": "code",
      "source": [
        "# Input: nums: List[int], Output: int\n",
        "def longestConsecutive(nums):\n",
        "  nums = set(nums)\n",
        "  longest = 0\n",
        "           \n",
        "  for n in nums:\n",
        "    if n-1 not in nums:\n",
        "      length = 0\n",
        "      while (n+length) in nums:\n",
        "        length +=1\n",
        "      longest = max(length, longest)\n",
        "  return longest              "
      ],
      "metadata": {
        "id": "gYIzbzh7z1Ml"
      },
      "execution_count": null,
      "outputs": []
    },
    {
      "cell_type": "code",
      "source": [
        "# Example 1: Output: 4\n",
        "nums1 = [100,4,200,1,3,2]\n",
        "longestConsecutive(nums1)\n",
        "# Example 2: Output: 9\n",
        "nums2 = [0,3,7,2,5,8,4,6,0,1]\n",
        "longestConsecutive(nums2)"
      ],
      "metadata": {
        "colab": {
          "base_uri": "https://localhost:8080/"
        },
        "id": "JkgaBROW0Zqj",
        "outputId": "003f7c30-c5e8-43ad-8986-6a790dd655a3"
      },
      "execution_count": null,
      "outputs": [
        {
          "output_type": "execute_result",
          "data": {
            "text/plain": [
              "9"
            ]
          },
          "metadata": {},
          "execution_count": 12
        }
      ]
    },
    {
      "cell_type": "markdown",
      "source": [
        "#**Lintcode 659/Leetcode 271. Encode and Decode Strings** (Medium)\n",
        "\n",
        "Design an algorithm to encode a list of strings to a string. The encoded string is then sent over the network and is decoded back to the original list of strings.\n",
        "\n",
        "Please implement **encode** and **decode**."
      ],
      "metadata": {
        "id": "Oof3GMDwpIDd"
      }
    },
    {
      "cell_type": "code",
      "source": [
        "\"\"\" @param: strs: a list of strings\n",
        "    @return: encodes a list of strings to a single string.\n",
        "\"\"\"\n",
        "def encode(strs):\n",
        "  # write your code here\n",
        "  return \":;\".join(strs)\n",
        "\n",
        "\"\"\" @param: str: A string\n",
        "    @return: dcodes a single string to a list of strings\n",
        "\"\"\"\n",
        "def decode(strs):\n",
        "  # write your code here\n",
        "  return strs.split(\":;\")"
      ],
      "metadata": {
        "id": "oLHjY-LdpIwz"
      },
      "execution_count": null,
      "outputs": []
    },
    {
      "cell_type": "code",
      "source": [
        "# Example 1: Explanation: One possible encode method is: \"lint:;code:;love:;you\"\n",
        "# Input: [\"lint\",\"code\",\"love\",\"you\"]\n",
        "# Output: [\"lint\",\"code\",\"love\",\"you\"]\n",
        "strs = [\"lint\",\"code\",\"love\",\"you\"]\n",
        "encoded_strs = encode(strs)\n",
        "print(encoded_strs)\n",
        "print(decode(encoded_strs))"
      ],
      "metadata": {
        "colab": {
          "base_uri": "https://localhost:8080/"
        },
        "id": "K3qCXpv_pf92",
        "outputId": "69a8ca26-39a3-480c-89d4-c9b582239bf3"
      },
      "execution_count": null,
      "outputs": [
        {
          "output_type": "stream",
          "name": "stdout",
          "text": [
            "lint:;code:;love:;you\n",
            "['lint', 'code', 'love', 'you']\n"
          ]
        }
      ]
    }
  ]
}