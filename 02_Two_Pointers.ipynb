{
  "nbformat": 4,
  "nbformat_minor": 0,
  "metadata": {
    "colab": {
      "provenance": [],
      "include_colab_link": true
    },
    "kernelspec": {
      "name": "python3",
      "display_name": "Python 3"
    },
    "language_info": {
      "name": "python"
    }
  },
  "cells": [
    {
      "cell_type": "markdown",
      "metadata": {
        "id": "view-in-github",
        "colab_type": "text"
      },
      "source": [
        "<a href=\"https://colab.research.google.com/github/ssuzana/Data-Structures-and-Algorithms-Notebooks/blob/main/02_Two_Pointers.ipynb\" target=\"_parent\"><img src=\"https://colab.research.google.com/assets/colab-badge.svg\" alt=\"Open In Colab\"/></a>"
      ]
    },
    {
      "cell_type": "markdown",
      "source": [
        "#**Leetcode 125. Valid Palindrome** `Easy`\n",
        "\n",
        "A phrase is a palindrome if, after converting all uppercase letters into lowercase letters and removing all non-alphanumeric characters, it reads the same forward and backward. Alphanumeric characters include letters and numbers.\n",
        "\n",
        "Given a string `s`, return `true` if it is a palindrome, or `false` otherwise."
      ],
      "metadata": {
        "id": "C-S3KohPE5aI"
      }
    },
    {
      "cell_type": "code",
      "execution_count": null,
      "metadata": {
        "id": "UIn-kw8XEvrS"
      },
      "outputs": [],
      "source": [
        "# Input: s: str, Output: bool\n",
        "def isPalindrome1(s):\n",
        "  res = \"\"\n",
        "  for ch in s:\n",
        "    if ch.isalnum():\n",
        "      res += ch\n",
        "  res = res.lower()\n",
        "        \n",
        "  return res == res[::-1]            "
      ]
    },
    {
      "cell_type": "code",
      "source": [
        "def isPalindrome2(s):\n",
        "  alphanum_s = \"\"\n",
        "  for char in s:\n",
        "    if char.isalnum():\n",
        "      alphanum_s += char\n",
        "  s = alphanum_s.lower()\n",
        "        \n",
        "  if s == \"\":\n",
        "    return True\n",
        "        \n",
        "  res = False\n",
        "  for i in range(1+len(s)//2):\n",
        "    if s[i] == s[len(s)-1-i]:\n",
        "      res = True\n",
        "    else:\n",
        "      res = False\n",
        "      break\n",
        "                \n",
        "  return res                  "
      ],
      "metadata": {
        "id": "wjAhNr7-LVnh"
      },
      "execution_count": null,
      "outputs": []
    },
    {
      "cell_type": "code",
      "source": [
        "# Example 1: Output: true, Explanation: \"amanaplanacanalpanama\" is a palindrome.\n",
        "s1 = \"A man, a plan, a canal: Panama\"\n",
        "print(isPalindrome2(s1))\n",
        "# Example 2: Output: false, Explanation: \"raceacar\" is not a palindrome.\n",
        "s2 = \"race a car\"\n",
        "print(isPalindrome2(s2))\n",
        "# Example 3: Output: true, Explanation: s is an empty string \"\" after removing non-alphanumeric characters.\n",
        "# Since an empty string reads the same forward and backward, it is a palindrome.\n",
        "s3 = \" \"\n",
        "print(isPalindrome2(s3))"
      ],
      "metadata": {
        "colab": {
          "base_uri": "https://localhost:8080/"
        },
        "id": "bD-ASL2_F7hl",
        "outputId": "47679a22-7bcf-4761-9f56-deb57babac1f"
      },
      "execution_count": null,
      "outputs": [
        {
          "output_type": "stream",
          "name": "stdout",
          "text": [
            "True\n",
            "False\n",
            "True\n"
          ]
        }
      ]
    },
    {
      "cell_type": "markdown",
      "source": [
        "#**Leetcode 167. Two Sum II - Input Array Is Sorted** `Medium`\n",
        "\n",
        "Given a 1-indexed array of integers numbers that is already sorted in non-decreasing order, find two numbers such that they add up to a specific target number. Let these two numbers be `numbers[index1]` and `numbers[index2]` where `1 <= index1 < index2 <= numbers.length`.\n",
        "\n",
        "Return the indices of the two numbers, `index1` and `index2`, added by one as an integer array `[index1, index2]` of length 2.\n",
        "\n",
        "The tests are generated such that there is exactly one solution. You may not use the same element twice.\n",
        "\n",
        "Your solution must use only **constant extra space**."
      ],
      "metadata": {
        "id": "YN_ioJAdYSkG"
      }
    },
    {
      "cell_type": "code",
      "source": [
        "# Space: O(n), Time: O(n)\n",
        "# Input: numbers: List[int], target: int, Output: List[int]\n",
        "def twoSum1(numbers, target):\n",
        "  index_dict = {}\n",
        "  for i, num in enumerate(numbers):\n",
        "    pair_num = target - num\n",
        "    if pair_num in index_dict:\n",
        "      return [1+index_dict[pair_num], 1+i]\n",
        "    index_dict[num] = i"
      ],
      "metadata": {
        "id": "pzsznaRnYeD-"
      },
      "execution_count": null,
      "outputs": []
    },
    {
      "cell_type": "code",
      "source": [
        "# Space: O(1)\n",
        "def twoSum2(numbers, target):\n",
        "  left = 0\n",
        "  right = len(numbers) - 1\n",
        "  while left < right:\n",
        "    s = numbers[left] + numbers[right]\n",
        "    if s == target:\n",
        "      return [left + 1, right + 1]\n",
        "    elif s < target:\n",
        "      left += 1\n",
        "    else:\n",
        "      right -= 1           "
      ],
      "metadata": {
        "id": "h3TnKG4JacSs"
      },
      "execution_count": null,
      "outputs": []
    },
    {
      "cell_type": "code",
      "source": [
        "# Example 1:\n",
        "numbers1 = [2,7,11,15]\n",
        "target1 = 9\n",
        "# Output: [1,2]\n",
        "# Explanation: The sum of 2 and 7 is 9. Therefore, index1 = 1, index2 = 2. We return [1, 2].\n",
        "print(twoSum2(numbers1, target1))\n",
        "# Example 2:\n",
        "numbers2 = [2,3,4]\n",
        "target2 = 6\n",
        "# Output: [1,3]\n",
        "# Explanation: The sum of 2 and 4 is 6. Therefore index1 = 1, index2 = 3. We return [1, 3].\n",
        "print(twoSum2(numbers2, target2))\n",
        "# Example 3:\n",
        "numbers3 = [-1,0] \n",
        "target3 = -1\n",
        "# Output: [1,2]\n",
        "# Explanation: The sum of -1 and 0 is -1. Therefore index1 = 1, index2 = 2. We return [1, 2].\n",
        "print(twoSum2(numbers3, target3))"
      ],
      "metadata": {
        "colab": {
          "base_uri": "https://localhost:8080/"
        },
        "id": "IeEcwDXlZHk1",
        "outputId": "8aa77f12-a045-4867-e7ad-c3979ef3307c"
      },
      "execution_count": null,
      "outputs": [
        {
          "output_type": "stream",
          "name": "stdout",
          "text": [
            "[1, 2]\n",
            "[1, 3]\n",
            "[1, 2]\n"
          ]
        }
      ]
    },
    {
      "cell_type": "markdown",
      "source": [
        "#**Leetcode 15. 3Sum** `Medium`\n",
        "\n",
        "Given an integer array `nums`, return all the triplets `[nums[i], nums[j], nums[k]]` such that `i != j, i != k`, and `j != k`, and `nums[i] + nums[j] + nums[k] == 0`.\n",
        "\n",
        "Notice that the solution set must not contain duplicate triplets."
      ],
      "metadata": {
        "id": "pDEjgSSDntqF"
      }
    },
    {
      "cell_type": "code",
      "source": [
        "# Input: nums: List[int], Output: List[List[int]]\n",
        "def threeSum(nums):\n",
        "  nums.sort()\n",
        "  res = set()\n",
        "  for i in range(len(nums)):\n",
        "    if i > 0 and nums[i] == nums[i - 1]:\n",
        "      continue\n",
        "    left = i+1\n",
        "    right = len(nums) - 1\n",
        "    while left < right:\n",
        "      s = nums[i] + nums[left] + nums[right]\n",
        "      if s == 0:\n",
        "        res.add((nums[i], nums[left], nums[right]))\n",
        "        left += 1\n",
        "        right -= 1\n",
        "      elif s < 0:\n",
        "        left += 1\n",
        "      else:\n",
        "        right -= 1\n",
        "  return list(res)\n"
      ],
      "metadata": {
        "id": "QIrcL6_jor-7"
      },
      "execution_count": null,
      "outputs": []
    },
    {
      "cell_type": "code",
      "source": [
        "# Example:\n",
        "nums = [-1,0,1,2,-1,-4]\n",
        "# Output: [[-1,-1,2],[-1,0,1]]\n",
        "threeSum(nums)"
      ],
      "metadata": {
        "colab": {
          "base_uri": "https://localhost:8080/"
        },
        "id": "uRjButtsfG9R",
        "outputId": "d6ee3981-4cb4-45ed-ee6a-25c49f2414fd"
      },
      "execution_count": null,
      "outputs": [
        {
          "output_type": "execute_result",
          "data": {
            "text/plain": [
              "[(-1, -1, 2), (-1, 0, 1)]"
            ]
          },
          "metadata": {},
          "execution_count": 9
        }
      ]
    },
    {
      "cell_type": "markdown",
      "source": [
        "#**Leetcode 11. Container With Most Water** `Medium`\n",
        "\n",
        "You are given an integer array height of length `n`. There are `n` vertical lines drawn such that the two endpoints of the ith line are `(i, 0)` and `(i, height[i])`.\n",
        "\n",
        "Find two lines that together with the `x`-axis form a container, such that the container contains the most water.\n",
        "\n",
        "Return the maximum amount of water a container can store.\n",
        "\n",
        "Notice that you may not slant the container.\n",
        "\n",
        "Example:\n",
        "\n",
        "![question_11.jpg](data:image/jpeg;base64,/9j/4AAQSkZJRgABAQAAAQABAAD/2wBDAAMCAgICAgMCAgIDAwMDBAYEBAQEBAgGBgUGCQgKCgkICQkKDA8MCgsOCwkJDRENDg8QEBEQCgwSExIQEw8QEBD/2wBDAQMDAwQDBAgEBAgQCwkLEBAQEBAQEBAQEBAQEBAQEBAQEBAQEBAQEBAQEBAQEBAQEBAQEBAQEBAQEBAQEBAQEBD/wAARCAF/AyEDASIAAhEBAxEB/8QAHQABAAMBAQEBAQEAAAAAAAAAAAYICQUHBAMKAv/EAFYQAAEBBQUEBgYFBwkFBgcAAAABAgMEBQYHCDZ1swkREhYhVVeR0dUTMVF0l8EUFRk3oSJBR3aFtMQ4UmGUlaSltdRWcneWpiMlJkKiozJUZnGSsdL/xAAdAQEAAgMBAQEBAAAAAAAAAAAABQcGCAkEAwIB/8QAQREBAAECAwQGCAUCBAUFAAAAAAECAwQFcTI0kbEGERRScsEHFTM1NlOhsjE3YbPRIYESFkFRCBciVNITI4KSk//aAAwDAQACEQMRAD8A1TAAAAAeR3lry9BXW6LldbV87i30LNZ3CSZy5hGON6npVVp6+4U3qrLt0w8bXo6VRljoVtFPWXL51EOmH7h6w8dPGUbYbYaRWWmVTeioqetFQ8tvJ9NBSJPbaBRH4VLLl+R6qAAAAAAAAAAAAAAAAAAAAAAAAAAAAAAAAAAAAAAAAAAAAAAAAAAAAAAAAAAAAAAAAAAAAAAAAAAAAAAAAAAAAAAAAAAAAAAAAAAAAAAAAAAAAAAAAAAAAAAAAAAAAAAAAAAAAAAeVXkemiKeZ9toFF/hUMAvyPVTyq8f00dTTPttAo78J9BL8j1UAAAAAAAAAAAAAAAAAAAAAAAAAAAAAAAAAAAAAAAAAAAAAAAAAAAAAAAAAAAAAAAAAAAAAAAAAAAAAAAAAAAAAAAAAAAAAAAAAAAAAAAAAAAAAAAAAAAAAAAAAAAAAAAAAAAAAA8qvG9NKUsz7bQKR/CdQi/I9VPKrxfTTVJM+20ClPwm8MvyPVQAAAAAAAAAAAAAAAAAAAAAAAAAAAAAAAAAAAAAAAAAAAAAAAAAAAAAAAAAAAAAAAAAAAAAAAAAAAAAAAAAAAAAAAAAAAAAAAAAAAAAAAAAAAAAAAAAAAAAAAAAAAAAAAAAAAzlvE1zSMZeptUpq1uGtfrOW07S0rjaagLNphHNOpA2rl40/WMdQb1hHEU8eKy8Zbfo0x6PhVpUTgQtRcgqmpa1upWb1PV9Wu6lm8dKEbiJikSkQ8b3PG0YYfPP/O/YYRl29VfyvSMN8XTvIXN7Ir0lllr9ote3fH9m8+k9pj2HmUVBVY9i4SIlUydQ7DhG2G4d22j9wrLHErC8LSLuRFTpVr1S7PY3G2D2PSmzybT5zOZo6iIyYzKNh4ZIdw8i4uJeRD5HTtP/AIHbLb1WWU9iJ0J6kDlXqJrHSai6UjpdTcxnz93XtNNMQMveQzD96rMwdNIyysQ9dO0VpWUZTibRN7Sb1RN7SdeEtetBiYpzDvrrNqEK7evGWG376Y0wrDpFXcrbSMTdppUT1rwsqu5OhFXoPyvDdMmopn22gU1+Ee7X5HqoAAAAAAAAAAAAAAPPbYrdKBsMlsvm1fREa6h5m/ah4dYWGV8qtss8S70RehNx6EUu2nGBaKzaI0UI7NsVXgsHXft/jH++sMx6AZFhek3STC5Vjev/ANO5MxP+Geqf6U1T/Seqf9Y/2Tv7Qm7l1lPv7Ka8T6pZf4u9zeZQkpg5jPFiI1+7h3SNSxpEVttpGWd67+hN6oZWneoHHVOZtB6zJg9HSzH1VRExTwn+W0+J/wCH7onZsV3Kar3XETO3T/pHgbgAAslpOAAAAAAAAAAAAAAAAAAAAAAAAAAAAAAAAAAAAAAAAAAAAAAAAAAAAAAAAAAAAAB5FeLvS2T3W5LKJ/axFzOHhJ5FPIOEWBgmolpXjDHGvEiKm5N35z10zV23v3WWafrBF/uyAeq/a83Nuuqr/sF5/wD0fbI9rFdDqGdS+QS6cVQ1FzKKdQbhG5G2yyrx42jDO9eLoTeqdJg+Sqyf706N/WCXfvLsD+n4AAAAAAAAAAAAAAAAAAAAAAAAAAAAAAAAAAAAAAAAAAAAB5VeE6ZZQzPttAp38IxlfkeqnlV4LpgqCZ9toEg/CI3/ACPVQAAAAAAAAAAAAAAUu2nGBaKzaI0ULolLtpxgWis2iNFCG6Q+7Lukc4WV6H/jbAeKr7KmeR3qBx1TmbQesycE71A46pzNoPWZKpte0p1hv9jt1u+GrlLcAAF3uW4AAAAAAAAAAAAAAAAAAAAAAAAAAAAAAAAAAAAAAAAAAAAAAAAAAAAAAAAAAAAAGau29+6yzT9YIv8AdkNKjNXbe/dZZp+sEX+7IBkCSqyf706N/WCXfvLsipKrJ/vTo39YJd+8uwP6fgAAAAAAAAAAAAAAAAAAAAAAAAAAAAAAAAAAAAAAAAAABVu9BKKyszkFTWyRN6m0WRSxG2GZZTUmlsqe+mi3nC7h4KG9NDNvG23jxUROJpd3Eqr0Iu71S7XTdsFL2OSGBt5rVqp64fu1i5pFK4dOkh23i8SQzPokRlpHSKjHEiflKir6lQD8rwHTD2es+20CSfg9aX5Hqp4vegqGApeTUDOZnDzN9Dw9fSdptiXSyJmEQqJ6Vr8lxDO3j1tej1Msqv5vznYhLxtn0bFOYNzT1qDLx+8ZdMK+ssqd0witLuRWm25ejLCdPS00qIidKqiAeoAAAAAAAAAAAAABS7acYForNojRQuiUu2nGBaKzaI0UIbpD7su6RzhZXof+NsB4qvsqZ5HeoHHVOZtB6zJwTuUK8YdVtTz140jLDE1hGmlX8yI+Z3lU2vaU6w3+x+63fDVyluEDgc+Uf1/C96+A58o/r+F718C+Ox4j5dXCXK/tVjvxxh3wcDnyj+v4XvXwHPlH9fwvevgOx4j5dXCTtVjvxxh3wcDnyj+v4XvXwHPlH9fwvevgOx4j5dXCTtVjvxxh3wcDnyj+v4XvXwHPlH9fwvevgOx4j5dXCTtVjvxxh3wcDnyj+v4XvXwHPlH9fwvevgOx4j5dXCTtVjvxxh3wcDnyj+v4XvXwHPlH9fwvevgOx4j5dXCTtVjvxxh3wcDnyj+v4XvXwHPlH9fwvevgOx4j5dXCTtVjvxxh3wcDnyj+v4XvXwHPlH9fwvevgOx4j5dXCTtVjvxxh3wcDnyj+v4XvXwHPlH9fwvevgOx4j5dXCTtVjvxxh3wcDnyj+v4XvXwHPlH9fwvevgOx4j5dXCTtVjvxxh3wcDnyj+v4XvXwHPlH9fwvevgOx4j5dXCTtVjvxxh3wcDnyj+v4XvXwHPlH9fwvevgOx4j5dXCTtVjvxxh3wcDnyj+v4XvXwHPlH9fwvevgOx4j5dXCTtVjvxxh3wcDnyj+v4XvXwHPlH9fwvevgOx4j5dXCTtVjvxxh3wcDnyj+v4XvXwHPlH9fwvevgOx4j5dXCTtVjvxxh3wcDnyj+v4XvXwHPlH9fwvevgOx4j5dXCTtVjvxxh3wcDnyj+v4XvXwHPlH9fwvevgOx4j5dXCTtVjvxxh3wcDnyj+v4XvXwHPlH9fwvevgOx4j5dXCTtVjvxxh3wcDnyj+v4XvXwHPlH9fwvevgOx4j5dXCTtVjvxxh3wcDnyj+v4XvXwHPlH9fwvevgOx4j5dXCTtVjvxxh3wcDnyj+v4XvXwHPlH9fwvevgOx4j5dXCTtVjvxxh3wcDnyj+v4XvXwHPlH9fwvevgOx4j5dXCTtVjvxxh3wcDnyj+v4XvXwHPlH9fwvevgOx4j5dXCTtVjvxxh3wcDnyj+v4XvXwHPlH9fwvevgOx4j5dXCTtVjvxxh3zNXbe/dZZp+sEX+7IaF8+Uf1/C96+BnHtqaikk6sws3dSqYuolt3PotptGFXoT6Oh+asNfoj/FVRMRpL9U4izXP+GmuJnWGSRKrJ/vTo39YJd+8uyKkosreMOrT6PevGkZYYn0vaaVfzIkQxvPh+L7P6gAcDnyj+v4XvXwHPlH9fwvevgenseI+XVwl5+1WO/HGHfBwOfKP6/he9fAc+Uf1/C96+A7HiPl1cJO1WO/HGHfBwOfKP6/he9fAc+Uf1/C96+A7HiPl1cJO1WO/HGHfBwOfKP6/he9fAc+Uf1/C96+A7HiPl1cJO1WO/HGHfBwOfKP6/he9fAc+Uf1/C96+A7HiPl1cJO1WO/HGHfBwOfKP6/he9fAc+Uf1/C96+A7HiPl1cJO1WO/HGHfBwOfKP6/he9fAc+Uf1/C96+A7HiPl1cJO1WO/HGHfBwOfKP6/he9fAc+Uf1/C96+A7HiPl1cJO1WO/HGHfBwOfKP6/he9fA8yt0vUUZYlJ5ZN3ktiKgZmUS1DejgnzLCulRni3tcSepTz4qmrBWqr+IpmmiPxmYnqj/T/ZJ5Rgr2f423l2WxFy9c64ppiY656omZ/GYj8ImXtgKXfacUL2YT7+uOR9pxQvZhPv645IX/ADDlvzY4T/DP/wDk/wBNv+wq/wDtb/8ANdEHxSSaO53JYCdOnTTpiPhXUUyw0u9WUbYRpEX+lN59pMRMTHXCt66KrdU0VfjH9JAAf1+QAAAAAAAAAAeFW02XVjajb1Y48fydh9Z7RMZMKomz5t+64Xk2duUdS536JWvSKrLT1694kZVlFYTeqLuPdQAPKrfOl5Zqz7bQJV+DD9fkeqnlVvPTFWYs+20CW/g5iV+R6qAAAAAAAAAAAAAACl204wLRWbRGihdEpdtOMC0Vm0RooQ3SH3Zd0jnCyvQ/8bYDxVfZUzyOpS2J5R7/AA+oycs6lLYnlHv8PqMlWYb21Gsc2/mZble8NXKWlQANx3GkAAAAAAAAAAAAAAAAAAAAAAAAAAAAAAAAAAAAAAAAAAAAAAAAAAAAAAAAAAAAACje1UwBQ2cROgheQo3tVMAUNnEToIRedbhc0jnCRyjfbevlLNskFnmP6ZziC12CPkgs8x/TOcQWuwV3b241Z7Xsy3oABbCsQAAAAAAAAAAAAAAAAAACvN87B8gzNrSaLDFeb52D5BmbWk0Yh08+HcTpT91K3fQP+YmWeKv9qtUcAGsDqM3AoHAlOZRB6LJ3jg0DgSnMog9Fk7xd9r2dOkOW+P3q74qucgAPo8gAAAAAAAAAAAOfOKhkFPOnb6fzyXyx29aVl23GRLDlltUTeqIrapvXd0n3MNsPWGXjttlthtEaZaZXeiovqVFA8st36ZhZaz7bQID8IWLX5Hqp5Vbr0zayln22gQf4QUavyPVQAAAAAAAAAAAAAAUu2nGBaKzaI0ULolLtpxgWis2iNFCG6Q+7Lukc4WV6H/jbAeKr7KmeR1KWxPKPf4fUZOWdSlsTyj3+H1GSrMN7ajWObfzMtyveGrlLSoAG47jSAAAAAAAAAAAAAAAAAAAAAAAAAAAAAAAAAAAAAAAAAAAAAAAAAAAAAAAAAAAAABRvaqYAobOInQQvIUb2qmAKGziJ0EIvOtwuaRzhI5RvtvXylm2SCzzH9M5xBa7BHyQWeY/pnOILXYK7t7cas9r2Zb0AAthWIAAAAAAAAAAAAAAAAAABXm+dg+QZm1pNFhivN87B8gzNrSaMQ6efDuJ0p+6lbvoH/MTLPFX+1WqOADWB1GbgUDgSnMog9Fk7xwaBwJTmUQeiyd4u+17OnSHLfH71d8VXOQAH0eQAAAAAAAAAAGc9WwNW2y3xLb3TV2ORWzM0NCSySypiqp07gZdKYVuDR+8cQzl45eI1FP3zTbSPtycLLKflsIqcVn7js0o6Y3aKVhqHgKjlstlTyOljUrqGMZio6Vv3MW9Yewbb1lllGmHTaKw7XhRfRsu96Iu8+CvLtVprq1So7WLvtuTuz6PreCcQ1TQUdTrqcQsVEQ7v0UPGuWWnjtXL5h3vZVN7TDf5O9no6fS7DrIJJYXZpK7OJHM4+aMQTb+JipjHto1ER0ZEPm30REPFToRW3rxtrcnQiKifm3gRO8xEVPCt2WvaOlErmk2Sv4X6PCzOYvICGeL9Xx6rxv3bh+0x0J+Z018zswlQ3nG4pyxH2Q2XuYZp4yj545tGmDxthjf+U0ywsjZRpUTeqIrTKKvRvT1n5W49NRWQs+20Bz+EqmK/I9VAAAAAAAAAAAAAABS7acYForNojRQuiUu2nGBaKzaI0UIbpD7su6RzhZXof+NsB4qvsqZ5HUpbE8o9/h9Rk5Z1KWxPKPf4fUZKsw3tqNY5t/My3K94auUtKgAbjuNIAAAAAAAAeN3lbysju1yOTTyeUzHTlicxbyEdu4R8w7V2rDHFvXi9aHshRvaqYAobOInQQ8GZ368Nha7tuf6x/L2ZfZoxGJot3Pwn+D7VSgOymoP6648D7pFtP6Ens8l0jdWXT503MYtzCMvGoxyqMK8bRlFX+hN5maSCzzH9M5xBa7Bh9GfY6aoiao4QyyrJMHFMzFP1lvQADP2DgAAAAAAAAAAAAAAAAAAAAAAAAAAAAAAAAAAAAAAAAAAAAAUb2qmAKGziJ0ELyFG9qpgChs4idBCLzrcLmkc4SOUb7b18pZtkgs8x/TOcQWuwR8kFnmP6ZziC12Cu7e3GrPa9mW9AALYViAAAAAAAAAAAAAAAAAAAV5vnYPkGZtaTRYYrzfOwfIMza0mjEOnnw7idKfupW76B/wAxMs8Vf7Vao4ANYHUZuBQOBKcyiD0WTvHBoHAlOZRB6LJ3i77Xs6dIct8fvV3xVc5AAfR5AAAAAAAAAAAAAB5Vbf01RY6z7bQGPwk80X5Hqp5VbZ01dYyz7bQP/wBSObL8j1UAAAAAAAAAAAAAAFLtpxgWis2iNFC6JS7acYForNojRQhukPuy7pHOFleh/wCNsB4qvsqZ5HUpbE8o9/h9Rk5Z1KWxPKPf4fUZKsw3tqNY5t/My3K94auUtKgAbjuNIAAAAAAAAUb2qmAKGziJ0ELyFG9qpgChs4idBCLzrcLmkc4SOUb7b18pZtkgs8x/TOcQWuwR8kFnmP6ZziC12Cu7e3GrPa9mW9AALYViAAAAAAAAAAAAAAAAAAAAAAAAAAAAAAAAAAAAAAAAAAAAABRvaqYAobOInQQvIUb2qmAKGziJ0EIvOtwuaRzhI5RvtvXylm2SCzzH9M5xBa7BHyQWeY/pnOILXYK7t7cas9r2Zb0AAthWIAAAAAAAAAAAAAAAAAABXm+dg+QZm1pNFhivN87B8gzNrSaMQ6efDuJ0p+6lbvoH/MTLPFX+1WqOADWB1GbgUDgSnMog9Fk7xwaBwJTmUQeiyd4u+17OnSHLfH71d8VXOQAH0eQAAAAAAAAAAHxRk7k0vepDx83goZ6rKNIw+iGGGt3t3Kvq6FPph4mHi3LMTCP3b502m9l47aRplpP6FToUo/bbY5aZW95iv62eXQ6OtTkUJT0ml8liqsm7mDYbVwy/fPnUEyrt7xPG3kRwq036JlFdoiqu/eWIupVnQVeWE05PbN6AWh5Mw1FwS04rhhz9VxTmJeu4lxwsIjK7nzLxeJETfv3qjKqqIH721dNaWKs+20Bv8JBOF+R6qeK3kImqYWfWNPqLk0qms5Sv3n0aEmkyeS+Fef8Ah6c8XG/duH7bG5niVNzpreqInQi8SdqEqG843FOWI+yGy9zDNPGUfPHNo0weNsMb/wApplhZGyjSom9URWmUVejenrA9QAAAAAAAAAAAAACl204wLRWbRGihdEpdtOMC0Vm0RooQ3SH3Zd0jnCyvQ/8AG2A8VX2VM8jqUtieUe/w+oycs6lLYnlHv8PqMlWYb21Gsc2/mZble8NXKWlQANx3GkAAAAAAAAKN7VTAFDZxE6CF5Cje1UwBQ2cROghF51uFzSOcJHKN9t6+Us2yQWeY/pnOILXYI+SCzzH9M5xBa7BXdvbjVntezLegAFsKxAAAAAAAAAAAAAAAAAAAAPG7yt5WR3a5HJp5PKZjpyxOYt5CO3cI+Ydq7Vhji3rxetD5Xr1FiiblyeqIfS1arvVxbtx1zL2QFG/tVKA7Kag/rrjwPukW0/oSezyXSN1ZdPnTcxi3MIy8ajHKowrxtGUVf6E3ngjOcDM9UXI4T/D2zlOMiOubfL+V1gASiOAAAAAAAAAAAAAAAAAAAKN7VTAFDZxE6CF5Cje1UwBQ2cROghF51uFzSOcJHKN9t6+Us2yQWeY/pnOILXYI+SCzzH9M5xBa7BXdvbjVntezLegAFsKxAAAAAAAAAAAAAAAAAAAK83zsHyDM2tJosMV5vnYPkGZtaTRiHTz4dxOlP3Urd9A/5iZZ4q/2q1RwAawOozcCgcCU5lEHosneODQOBKcyiD0WTvF32vZ06Q5b4/erviq5yAA+jyAAAAAAAAAAArvW13i3B1aBVla2HXlHtGQtbunSzOVzanmJ05g4th0jpIqBVt879A1wIiq7VGmFa6VRehE9MsOsfp+wizKT2Y01HR0fDSxHz19GxzzjiIyJfPWnz9+8X1cTbx421uToTfu/MTwAeVWzdNoFhrPttAifwpieL8j1U8qtk6bRbCk/+v4xf+lp6eqgAAAAAAAAAAAAAApdtOMC0Vm0RooXRKXbTjAtFZtEaKEN0h92XdI5wsr0P/G2A8VX2VM8jqUtieUe/wAPqMnLOpS2J5R7/D6jJVmG9tRrHNv5mW5XvDVylpUADcdxpAAAAAAAACje1UwBQ2cROgheQo3tVMAUNnEToIRedbhc0jnCRyjfbevlLNskFnmP6ZziC12CPkgs8x/TOcQWuwV3b241Z7Xsy3oABbCsQAAAAAAAAAAAAAAAAAACje1UwBQ2cROgheQo3tVMAUNnEToIRedbhc0jnCRyjfbevlLNskFnmP6ZziC12CPkgs8x/TOcQWuwV3b241Z7Xsy3oABbCsQAAAAAAAAAAAAAAAAAACje1UwBQ2cROgheQo3tVMAUNnEToIRedbhc0jnCRyjfbevlLNskFnmP6ZziC12CPkgs8x/TOcQWuwV3b241Z7Xsy3oABbCsQAAAAAAAAAAAAAAAAAACvN87B8gzNrSaLDFeb52D5BmbWk0Yh08+HcTpT91K3fQP+YmWeKv9qtUcAGsDqM3AoHAlOZRB6LJ3jg0DgSnMog9Fk7xd9r2dOkOW+P3q74qucgAPo8gAAAAAAAAAAAPxjIyEl8K+j4+Kcw0NDsNPXz582jDDthE3q000vQiInSqqf6h4hxFuHcVCvnb5y+YR47eO2kaZbZVN6NIqdCoqdKKgHl1sPTaTYWnsrqNa/wCmJ2nzPVTyq17ptOsOT2VpHtf9NzhPmeqgAAAAAAAAAAAAAApdtOMC0Vm0RooXRKXbTjAtFZtEaKEN0h92XdI5wsr0P/G2A8VX2VM8jqUtieUe/wAPqMnLOpS2J5R7/D6jJVmG9tRrHNv5mW5XvDVylpUADcdxpAAAAAAAACje1UwBQ2cROgheQo3tVMAUNnEToIRedbhc0jnCRyjfbevlLNskFnmP6ZziC12CPkgs8x/TOcQWuwV3b241Z7Xsy3oABbCsQAAAAAAAAAAAAAAAAAACje1UwBQ2cROgheQo3tVMAUNnEToIRedbhc0jnCRyjfbevlLNskFnmP6ZziC12CPkgs8x/TOcQWuwV3b241Z7Xsy3oABbCsQAAAAAAAAAAAAAAAAAACje1UwBQ2cROgheQo3tVMAUNnEToIRedbhc0jnCRyjfbevlLNskFnmP6ZziC12CPkgs8x/TOcQWuwV3b241Z7Xsy3oABbCsQAAAAAAAAAAAAAAAAAACvN87B8gzNrSaLDFeb52D5BmbWk0Yh08+HcTpT91K3fQP+YmWeKv9qtUcAGsDqM3AoHAlOZRB6LJ3jg0DgSnMog9Fk7xd9r2dOkOW+P3q74qucgAPo8gAAAAAAAAAAM97+1tMltdk1qFh8jtRltM09ZvT8RMaqb+snEPGz2cehabgZLDMPF4m3XGyjb9plleJpGHTPTxFvLtM/kFR2AWex1NzmXTKFdU1LIZt7AxDD52w9dwrtlt2qsKqI0y0iorPrRU3Kcy1m6rYbavIKohZlZVQrqoakgotylRP6Xg4mNh4p85V2kXxqyjbTxleBrfxo0vAz+Um5FSYWSWY01Y7Z3IrO6VlsuhIOTwTmHeNQMC7g2Ip+ywyjyIadsdCNvGkVtpd6qqtLvVV6QIHeFpiW1lWtjNOTeJm0PCxVXxzTx5KpvFyyKTgkE0aTgiYR47fO+lEReFtOJN7K70VUXtwl3Kz6CinMY5qG1Bp44eMvWEfWp1O9YVWV3ojTDcwVltOjpZaRUVOhUVD8rWem1axJPZVMya/wCZp8z1UAAAAAAAAAAAAAAFLtpxgWis2iNFC6JS7acYForNojRQhukPuy7pHOFleh/42wHiq+ypnkdSlsTyj3+H1GTlnUpbE8o9/h9RkqzDe2o1jm38zLcr3hq5S0qABuO40gAAAAAAABRvaqYAobOInQQvIUb2qmAKGziJ0EIvOtwuaRzhI5RvtvXylm2SCzzH9M5xBa7BHyQWeY/pnOILXYK7t7cas9r2Zb0AAthWIAAAAAAAAAAAAAAAAAABRvaqYAobOInQQvIUb2qmAKGziJ0EIvOtwuaRzhI5RvtvXylm2SCzzH9M5xBa7BHyQWeY/pnOILXYK7t7cas9r2Zb0AAthWIAAAAAHjd5W8rI7tcjk08nlMx05YnMW8hHbuEfMO1dqwxxb14vWh7IUb2qmAKGziJ0EPBmd+vDYWu7bn+sfy9mX2aMRiaLdz8J/g+1UoDspqD+uuPA+6RbT+hJ7PJdI3Vl0+dNzGLcwjLxqMcqjCvG0ZRV/oTeZmkgs8x/TOcQWuwYfRn2OmqImqOEMsqyTBxTMxT9Zb0AAz9g4AAAAAFG9qpgChs4idBC8hRvaqYAobOInQQi863C5pHOEjlG+29fKWbZILPMf0znEFrsEfJBZ5j+mc4gtdgru3txqz2vZlvQAC2FYgAAAAAAAAAAAAAAAAAAFeb52D5BmbWk0WGK83zsHyDM2tJoxDp58O4nSn7qVu+gf8xMs8Vf7Vao4ANYHUZuBQOBKcyiD0WTvHBoHAlOZRB6LJ3i77Xs6dIct8fvV3xVc5AAfR5AAAAAAAAAAAAAB5Vat02tWKJ7KkmjX+BTBPmeqnlVqfTa/Ysnsn02a/wAFjU+Z6qAAAAAAAAAAAAAACl204wLRWbRGihdEpdtOMC0Vm0RooQ3SH3Zd0jnCyvQ/8bYDxVfZUzyOpS2J5R7/AA+oycs6lLYnlHv8PqMlWYb21Gsc2/mZble8NXKWlQANx3GkAAAAAAAAKN7VTAFDZxE6CF5Cje1UwBQ2cROghF51uFzSOcJHKN9t6+Us2yQWeY/pnOILXYI+SCzzH9M5xBa7BXdvbjVntezLegAFsKxAAAAAAAAAAAAAAAAAAAKN7VTAFDZxE6CF5Cje1UwBQ2cROghF51uFzSOcJHKN9t6+Us2yQWeY/pnOILXYI+SCzzH9M5xBa7BXdvbjVntezLegAFsKxAAAAAAo3tVMAUNnEToIXkKN7VTAFDZxE6CEXnW4XNI5wkco323r5SzbJBZ5j+mc4gtdgj5ILPMf0znEFrsFd29uNWe17Mt6AAWwrEAAAAACje1UwBQ2cROgheQo3tVMAUNnEToIRedbhc0jnCRyjfbevlLNskFnmP6ZziC12CPkgs8x/TOcQWuwV3b241Z7Xsy3oABbCsQAAAAAAAAAAAAAAAAAACvN87B8gzNrSaLDFeb52D5BmbWk0Yh08+HcTpT91K3fQP8AmJlnir/arVHABrA6jNwKBwJTmUQeiyd44NA4EpzKIPRZO8Xfa9nTpDlvj96u+KrnIAD6PIAAAAAAAAAADzW0m8nYJY/PIWmrTrWqapubRjlIh1BR8cyw+9ErSssvGmfWwwqo0iNNbkXha3L0Lun0onEpqCVQk9kMzhJlLZg4YiYSMhHzL5zEOW0Rph47bZVWWmVRUVFRVRUUrxXNDo6ibUqzuy07QVdWh1PGu5XVripppxOYT0ECjt3CcLt22qbk9CqwzxphlfSNNK0zv6fp2fD+Caui0FLIaGjoaIkzmMlUxcRjt2w26mDiLfMRTDKO1VngR8jxGN3/AJOHfuXegE1tQ6bY7GU9k5m7X+DxSfM9VPDbfKem9S2p2Oy6TV3PKUfrNJw0kdKHMC8fs7pY9XoSMh37v1IrPSx6m2vz8KpLafsuriTTmEmkxvIWiz2GhnnG8l0wgadYh4lP5jxqHlbp6if7jxlej1geigAAAAAAAAAAAABS7acYForNojRQuiUu2nGBaKzaI0UIbpD7su6RzhZXof8AjbAeKr7KmeR1KWxPKPf4fUZOWdSlsTyj3+H1GSrMN7ajWObfzMtyveGrlLSoAG47jSAAAAAAAAFG9qpgChs4idBC8hRvaqYAobOInQQi863C5pHOEjlG+29fKWbZILPMf0znEFrsEfJBZ5j+mc4gtdgru3txqz2vZlvQAC2FYgAAAAAAAAAAAAAAAAAAFG9qpgChs4idBC8hRvaqYAobOInQQi863C5pHOEjlG+29fKWbZILPMf0znEFrsEfJBZ5j+mc4gtdgru3txqz2vZlvQAC2FYgAAAAAUb2qmAKGziJ0ELyFG9qpgChs4idBCLzrcLmkc4SOUb7b18pZtkgs8x/TOcQWuwR8kFnmP6ZziC12Cu7e3GrPa9mW9AALYViAAAAABRvaqYAobOInQQvIUb2qmAKGziJ0EIvOtwuaRzhI5RvtvXylm2SCzzH9M5xBa7BHyQWeY/pnOILXYK7t7cas9r2Zb0AAthWIAAAAAAHjd5W8rI7tcjk08nlMx05YnMW8hHbuEfMO1dqwxxb14vWh8r16ixRNy5PVEPpatV3q4t2465l7ICjf2qlAdlNQf11x4H3SLaf0JPZ5LpG6sunzpuYxbmEZeNRjlUYV42jKKv9CbzwRnOBmeqLkcJ/h7ZynGRHXNvl/K6wAJRHAAAAAAV5vnYPkGZtaTRYYrzfOwfIMza0mjEOnnw7idKfupW76B/zEyzxV/tVqjgA1gdRm4FA4EpzKIPRZO8cGgcCU5lEHosneLvtezp0hy3x+9XfFVzkAB9HkAAAAAAAAAABX+v7nkiqyu6ktBo62K0uzmPrOGdw9ROKUmzmHh5i07YR2y/Vl65eK6fo7RGPSO1ZXcm/1q0rXqdlNllF2LUDKbNbPpY1AyOTu2mHDtt4rx42222rbx48ba6W2222mmmlX87S+pNyEtAHlVpfTbXY6nsjp21/hjxPmeqnlVpHTbfY+nsiJ41/h7SfM9VAAAAAAAAAAAAAABS7acYForNojRQuiUu2nGBaKzaI0UIbpD7su6RzhZXof+NsB4qvsqZ5HUpbE8o9/h9Rk5Z1KWxPKPf4fUZKsw3tqNY5t/My3K94auUtKgAbjuNIAAAAAAAAUb2qmAKGziJ0ELyFG9qpgChs4idBCLzrcLmkc4SOUb7b18pZtkgs8x/TOcQWuwR8kFnmP6ZziC12Cu7e3GrPa9mW9AALYViAAAAAAAAAAAAAAAAAAAUb2qmAKGziJ0ELyFG9qpgChs4idBCLzrcLmkc4SOUb7b18pZtkgs8x/TOcQWuwR8kFnmP6ZziC12Cu7e3GrPa9mW9AALYViAAAAABRvaqYAobOInQQvIUb2qmAKGziJ0EIvOtwuaRzhI5RvtvXylm2SCzzH9M5xBa7BHyQWeY/pnOILXYK7t7cas9r2Zb0AAthWIAAAAAFG9qpgChs4idBC8hRvaqYAobOInQQi863C5pHOEjlG+29fKWbZILPMf0znEFrsEfJBZ5j+mc4gtdgru3txqz2vZlvQAC2FYgAAAAAUb2qmAKGziJ0ELyFG9qpgChs4idBCLzrcLmkc4SOUb7b18pZtkgs8x/TOcQWuwR8kFnmP6ZziC12Cu7e3GrPa9mW9AALYViAAAAABXm+dg+QZm1pNFhivN87B8gzNrSaMQ6efDuJ0p+6lbvoH/MTLPFX+1WqOADWB1GbgUDgSnMog9Fk7xwaBwJTmUQeiyd4u+17OnSHLfH71d8VXOQAH0eQAAAAAAAAAAAHMnVUU1TfoOYqilkr+ktKw4+mxbtx6VpPWjPGqcS9Keo6TLTLbKNsNI0y0m9FRd6KgHldovTbpZCnsbnzX9xRPmeqnlVoXTbxZInsYqBr+6O0+Z6qAAAAAAAAAAAAAACl204wLRWbRGihdEpdtOMC0Vm0RooQ3SH3Zd0jnCyvQ/8AG2A8VX2VM8jqUtieUe/w+oycs6lLYnlHv8PqMlWYb21Gsc2/mZble8NXKWlQANx3GkAAAAAAAAKN7VTAFDZxE6CF5Cje1UwBQ2cROghF51uFzSOcJHKN9t6+Us2yQWeY/pnOILXYI+SCzzH9M5xBa7BXdvbjVntezLegAFsKxAAAAAAAAAAAAAAAAAAAKN7VTAFDZxE6CF5Cje1UwBQ2cROghF51uFzSOcJHKN9t6+Us2yQWeY/pnOILXYI+SCzzH9M5xBa7BXdvbjVntezLegAFsKxAAAAAAo3tVMAUNnEToIXkKN7VTAFDZxE6CEXnW4XNI5wkco323r5SzbJBZ5j+mc4gtdgj5ILPMf0znEFrsFd29uNWe17Mt6AAWwrEAAAAACje1UwBQ2cROgheQo3tVMAUNnEToIRedbhc0jnCRyjfbevlLNskFnmP6ZziC12CPkgs8x/TOcQWuwV3b241Z7Xsy3oABbCsQAAAAAKN7VTAFDZxE6CF5Cje1UwBQ2cROghF51uFzSOcJHKN9t6+Us2yQWeY/pnOILXYI+SCzzH9M5xBa7BXdvbjVntezLegAFsKxAAAAAArzfOwfIMza0miwxXm+dg+QZm1pNGIdPPh3E6U/dSt30D/AJiZZ4q/2q1RwAawOozcCgcCU5lEHosneODQOBKcyiD0WTvF32vZ06Q5b4/erviq5yAA+jyAAAAAAAAAAApjeFpS7FZ9atVNpN41xD2q1RXMJCy+i6EZkjU0mcLDOHCstuIGG42+l6+R48V/wuUZaVU4t+9WvWrktn9fWYXa6Toy0iCfwE3g/pbbuXP41Yt5LYN5EvG4WEae9O9XTlp2xuRVRnh3J6jz6rbnNuT+3mtLdrLL2Dii5hWKQjhp0+s9gpw/goWHcsu2YZ1ERT9VYdqqcbTLDLCNNblVFVN5YayimrQaRoeCkVqFpnP9ROG3zUTPvqZxKvpLLTxpp2z9GcKrtjgYVljei9PDvXpUCAW2T2aU7bDZXNJPRk4qmKdOZ/wyyUvYN3EvEVw4ZVplqMfuHO5lF3rxPEXcnQir0Epp+1GuJzOYSVzG7faLIoaJecDyYzCOp1uHhk/nvGYeaPXqp/uO2l6fUc+vem8BZQnsgaja/wDZhU+Z6qAAAAAAAAAAAAAACl204wLRWbRGihdEpdtOMC0Vm0RooQ3SH3Zd0jnCyvQ/8bYDxVfZUzyOpS2J5R7/AA+oycs6lLYnlHv8PqMlWYb21Gsc2/mZble8NXKWlQANx3GkAAAAAAAAKN7VTAFDZxE6CF5Cje1UwBQ2cROghF51uFzSOcJHKN9t6+Us2yQWeY/pnOILXYI+SCzzH9M5xBa7BXdvbjVntezLegAFsKxAAAAAA8NvN3qqfuy8t/XtKTCdcyfTPRfRHzDv0X0f0PFxcXr3+nTdu/mqe5Gfe1h/RZ+3P4Ejs1xFzC4Su7anqmOrnEPdltijE4qm1cj+k9fKZSD7VSgOymoP6648DuUJtKqIruuKeoeEs0nkK/qGawkqdP3kW5aYdNv3zLpG2kTpVEVveqJ7DL89Bu8ff/Zn+uMl/fXRidnPcdXcppmr+kzH+kMou5Lg6bdVUU/hE/6y3HABnrCQAAAAAKN7VTAFDZxE6CF5Cje1UwBQ2cROghF51uFzSOcJHKN9t6+Us2yQWeY/pnOILXYI+SCzzH9M5xBa7BXdvbjVntezLegAFsKxAAAAAAo3tVMAUNnEToIXkKN7VTAFDZxE6CEXnW4XNI5wkco323r5SzbJBZ5j+mc4gtdgj5ILPMf0znEFrsFd29uNWe17Mt6AAWwrEAAAAACje1UwBQ2cROgheQo3tVMAUNnEToIRedbhc0jnCRyjfbevlLNskFnmP6ZziC12CPkgs8x/TOcQWuwV3b241Z7Xsy3oABbCsQAAAAAKN7VTAFDZxE6CF5Cje1UwBQ2cROghF51uFzSOcJHKN9t6+Us2yQWeY/pnOILXYI+SCzzH9M5xBa7BXdvbjVntezLegAFsKxAAAAAArzfOwfIMza0miwxXm+dg+QZm1pNGIdPPh3E6U/dSt30D/mJlnir/AGq1RwAawOozcCgcCU5lEHosneODQOBKcyiD0WTvF32vZ06Q5b4/erviq5yAA+jyAAAAAAAAAAAAADyquum8JZUnsllStf8Aog0+Z6qeVVv03ibLE9kmqZr8IBPmeqgAAAAAAAAAAAAAApdtOMC0Vm0RooXRKXbTjAtFZtEaKEN0h92XdI5wsr0P/G2A8VX2VM8jqUtieUe/w+oycs6lLYnlHv8AD6jJVmG9tRrHNv5mW5XvDVylpUADcdxpAAAAAAAACje1UwBQ2cROgheQo3tVMAUNnEToIRedbhc0jnCRyjfbevlLNskFnmP6ZziC12CPkgs8x/TOcQWuwV3b241Z7Xsy3oABbCsQAAAAAM+9rD+iz9ufwJoIZ97WH9Fn7c/gSIz33fc/t90JTJd+o/vyln2eg3ePv/sz/XGS/vro8+PQbvH3/wBmf64yX99dGA4f21Gsc2b3/ZVaTybjgAtVWgAAAAAFG9qpgChs4idBC8hRvaqYAobOInQQi863C5pHOEjlG+29fKWbZILPMf0znEFrsEfJBZ5j+mc4gtdgru3txqz2vZlvQAC2FYgAAAAAUb2qmAKGziJ0ELyFG9qpgChs4idBCLzrcLmkc4SOUb7b18pZtkgs8x/TOcQWuwR8kFnmP6ZziC12Cu7e3GrPa9mW9AALYViAAAAABRvaqYAobOInQQvIUb2qmAKGziJ0EIvOtwuaRzhI5RvtvXylm2SCzzH9M5xBa7BHyQWeY/pnOILXYK7t7cas9r2Zb0AAthWIAAAAAFG9qpgChs4idBC8hRvaqYAobOInQQi863C5pHOEjlG+29fKWbZILPMf0znEFrsEfJBZ5j+mc4gtdgru3txqz2vZlvQAC2FYgAAAAAV5vnYPkGZtaTRYYrzfOwfIMza0mjEOnnw7idKfupW76B/zEyzxV/tVqjgA1gdRm4FA4EpzKIPRZO8cGgcCU5lEHosneLvtezp0hy3x+9XfFVzkAB9HkAAAAAAAAAAB+EZHQUucLFTCMcQrlGmWFePniMMo000jLKb16N6qqIntVUQ/cp1tEaBm0fStM18lpdUw0ul1YUzDrS7h64YlUU21MnbKvnzKO/TPG040VEV4rCK7YVGd6by4oHlVadN42y9PZIaoa/8AVLU+Z6qeF2y1JOaYt9suj5HZ/P6vftSGqGFgZK+gHT9lnjlf/aKsbEw7vhToTobVrpTci9O6X0/ajXE5nMJK5jdvtFkUNEvOB5MZhHU63Dwyfz3jMPNHr1U/3HbS9PqA9FAAAAo/eP2ptA3cbZ6isYndldQTiNp76J6WNhY1y7dPfTwjmJThZa6U3I+Rld/50UC8AM1ftvbLOw+qv7RhvA9wuibRai73VpMys2pyzmdSCJlsjfTxuJjYt09YbYdxDhyrtEY6d6rEMrv9W5lQLdAAAAABS7acYForNojRQuiUu2nGBaKzaI0UIbpD7su6RzhZXof+NsB4qvsqZ5HUpbE8o9/h9Rk5Z1KWxPKPf4fUZKsw3tqNY5t/My3K94auUtKgAbjuNIAAAAAAAAUb2qmAKGziJ0ELyFG9qpgChs4idBCLzrcLmkc4SOUb7b18pZtkgs8x/TOcQWuwR8kFnmP6ZziC12Cu7e3GrPa9mW9AALYViAAAAABn3tYf0Wftz+BNBDPvaw/os/bn8CRGe+77n9vuhKZLv1H9+Us+z0G7x9/9mf64yX99dHnx6Dd4+/8Asz/XGS/vrowHD+2o1jmze/7KrSeTccAFqq0AAAAAAo3tVMAUNnEToIXkKN7VTAFDZxE6CEXnW4XNI5wkco323r5SzbJBZ5j+mc4gtdgj5ILPMf0znEFrsFd29uNWe17Mt6AAWwrEAAAAACje1UwBQ2cROgheQo3tVMAUNnEToIRedbhc0jnCRyjfbevlLNskFnmP6ZziC12CPkgs8x/TOcQWuwV3b241Z7Xsy3oABbCsQAAAAAKN7VTAFDZxE6CF5Cje1UwBQ2cROghF51uFzSOcJHKN9t6+Us2yQWeY/pnOILXYI+SCzzH9M5xBa7BXdvbjVntezLegAFsKxAAAAAAo3tVMAUNnEToIXkKN7VTAFDZxE6CEXnW4XNI5wkco323r5SzbJBZ5j+mc4gtdgj5ILPMf0znEFrsFd29uNWe17Mt6AAWwrEAAAAACvN87B8gzNrSaLDFeb52D5BmbWk0Yh08+HcTpT91K3fQP+YmWeKv9qtUcAGsDqM3AoHAlOZRB6LJ3jg0DgSnMog9Fk7xd9r2dOkOW+P3q74qucgAPo8gAAAAAAAAAAPNbf7GmbdKGhaLaqJZKkNPZVOvpKQn0ji+hxbuI9FwcbG7j9Hw8W/8AJ379zW7cvpQAHlVX9N5WzNPZS1Vtf+/J0+Z6qeVVZ03mbNU9lIVa1/eZInzPVQAAAGAO1H/l2Wm/sX/J4I3+MAdqP/LstN/Yv+TwQFVS/wDsVP5U9U/8P47/ADGXFAC/+xU/lT1T/wAP47/MZcBtSAAAAAFLtpxgWis2iNFC6JS7acYForNojRQhukPuy7pHOFleh/42wHiq+ypnkdSlsTyj3+H1GTlnUpbE8o9/h9RkqzDe2o1jm38zLcr3hq5S0qABuO40gAAAAAAABRvaqYAobOInQQvIUb2qmAKGziJ0EIvOtwuaRzhI5RvtvXylm2SCzzH9M5xBa7BHyQWeY/pnOILXYK7t7cas9r2Zb0AAthWIAAAAAGfe1h/RZ+3P4E0EM+9rD+iz9ufwJEZ77vuf2+6Epku/Uf35Sz7PQbvH3/2Z/rjJf310efHoN3j7/wCzP9cZL++ujAcP7ajWObN7/sqtJ5NxwAWqrQAAAAACje1UwBQ2cROgheQo3tVMAUNnEToIRedbhc0jnCRyjfbevlLNskFnmP6ZziC12CPkgs8x/TOcQWuwV3b241Z7Xsy3oABbCsQAAAAAKN7VTAFDZxE6CF5Cje1UwBQ2cROghF51uFzSOcJHKN9t6+Us2yQWeY/pnOILXYI+SCzzH9M5xBa7BXdvbjVntezLegAFsKxAAAAAAo3tVMAUNnEToIXkKN7VTAFDZxE6CEXnW4XNI5wkco323r5SzbJBZ5j+mc4gtdgj5ILPMf0znEFrsFd29uNWe17Mt6AAWwrEAAAAACje1UwBQ2cROgheQo3tVMAUNnEToIRedbhc0jnCRyjfbevlLNskFnmP6ZziC12CPkgs8x/TOcQWuwV3b241Z7Xsy3oABbCsQAAAAAK83zsHyDM2tJosMV5vnYPkGZtaTRiHTz4dxOlP3Urd9A/5iZZ4q/2q1RwAawOozcCgcCU5lEHosneODQOBKcyiD0WTvF32vZ06Q5b4/erviq5yAA+jyAAAAAAAAAAAA+CaT+RSNHSzudQEvR+1wOvpUSw69I10dDPEqb16U9XtPvA8qqnpvPWcJ7KLq5r++SJPmeqnlVTdN6KzpPZQtYNf36n0+Z6qAAAAwB2o/wDLstN/Yv8Ak8Eb/GAO1H/l2Wm/sX/J4ICqpf8A2Kn8qeqf+H8d/mMuKAF/9ip/Knqn/h/Hf5jLgNqQAAAAApdtOMC0Vm0RooXRKXbTjAtFZtEaKEN0h92XdI5wsr0P/G2A8VX2VM8jqUtieUe/w+oycs6lLYnlHv8AD6jJVmG9tRrHNv5mW5XvDVylpUADcdxpAAAAAAAACje1UwBQ2cROgheQo3tVMAUNnEToIRedbhc0jnCRyjfbevlLNskFnmP6ZziC12CPkgs8x/TOcQWuwV3b241Z7Xsy3oABbCsQAAAAAM+9rD+iz9ufwJoIZ97WH9Fn7c/gSIz33fc/t90JTJd+o/vyln2eg3ePv/sz/XGS/vro8+PQbvH3/wBmf64yX99dGA4f21Gsc2b3/ZVaTybjgAtVWgAAAAAFG9qpgChs4idBC8hRvaqYAobOInQQi863C5pHOEjlG+29fKWbZILPMf0znEFrsEfJBZ5j+mc4gtdgru3txqz2vZlvQAC2FYgAAAAAUb2qmAKGziJ0ELyFG9qpgChs4idBCLzrcLmkc4SOUb7b18pZtkgs8x/TOcQWuwR8kFnmP6ZziC12Cu7e3GrPa9mW9AALYViAAAAABRvaqYAobOInQQvIUb2qmAKGziJ0EIvOtwuaRzhI5RvtvXylm2SCzzH9M5xBa7BHyQWeY/pnOILXYK7t7cas9r2Zb0AAthWIAAAAAFG9qpgChs4idBC8hRvaqYAobOInQQi863C5pHOEjlG+29fKWbZILPMf0znEFrsEfJBZ5j+mc4gtdgru3txqz2vZlvQAC2FYgAAAAAV5vnYPkGZtaTRYYrzfOwfIMza0mjEOnnw7idKfupW76B/zEyzxV/tVqjgA1gdRm4FA4EpzKIPRZO8cGgcCU5lEHosneLvtezp0hy3x+9XfFVzkAB9HkAAAAAAAAAABTah7HLNbxt5O8HPbbKRgawSnJhL6PkkPNXTL9xK4BIB2+efRkVP+zetvXzbavE/LZVfyWk3qei3DZnOY67ZJpdO509mzyn5tOpBDRj18r1t5CQUyiIeH3tr0t7nTthlF/OjKHy2i3Y7T3tptT2m3f7eVs5iq8gHMJU0LEyBibOH0Q5YR05joZlp679DEMuvyFX8plrcyqpvQ9YsXsnpyw6zCn7LKVexL+XyGG9CkRFNI0/inrTStvX7xU6FbePG2213dG9ro6AOFaXS1py2m0laZZrJKXnTyRyKeSOLgJ5PIiVMqkdES18w+dvXMHFcSs/VzTKsKwzv9Kio1+TuX/PMd6fsbsq+Jcx8iPVQB5VzHen7G7KviXMfIhzHen7G7KviXMfIj1UAeVcx3p+xuyr4lzHyIo/eP2attF462eorZ53L6Kk8bUP0T0sFC19FvHTr0EI5hk4WmpFvXejlGl3/nVTTUAZAfYzWqf/OUp/z1E+RHuF0S4ZbndFtJmVpNOSGhJ/EzKRvpG3DRtoEY6YYYeRDh8rxFYkW/eiw7KbvVuaU0PAHlXMd6fsbsq+Jcx8iHMd6fsbsq+Jcx8iPVQB5VzHen7G7KviXMfIhzHen7G7KviXMfIj1UAeVcx3p+xuyr4lzHyI8cvKWJXnLyEjk0ki6TswppJPFvIpHrutZhHK+Vpjh4eFZQ64d3r371/wDsW4B8MThreLtTZux10z+KVyTOsZ0ex9vM8BV/hu25maZmInq64mPwn+k/0mWYT/Zv3knSojuY2ePt/wCdidxibv8A8oJD9JZs8rzEsmUJMmWqAerCP3b9Haz6KZRtWWkXdv8Aoa7t+717lNOQRVHRvLbcxVFv+sfrV/Kxb3pv6a36KrdeJp6piYn/ANu3+E//ABVP5CvX9ldmnxAjPKByFev7K7NPiBGeUFsAZt6/x/ejhCjvUeC7v1lU/kK9f2V2afECM8oHIV6/srs0+IEZ5QWwA9f4/vRwg9R4Lu/WVT+Qr1/ZXZp8QIzygchXr+yuzT4gRnlBbAD1/j+9HCD1Hgu79ZVP5CvX9ldmnxAjPKByFev7K7NPiBGeUFsAPX+P70cIPUeC7v1lU/kK9f2V2afECM8oPHLyty28neUkcmkc8pGgpMxJot5Fu3kJXcS8V4rbHDuXilHQhomD5Xs6xd+ibdyYmJ/SH0tZRhbNcXLcTEx+ssbPsbrcP51K/wDOb7yk+6RbIO3SRTyXTx0xSb1uXRbmLZdtVo+RG1dto0iL/wB0+pdxsKDwRe6p64pjg9s2euOqZniqfyFev7K7NPiBGeUDkK9f2V2afECM8oLYAlPX+P70cIR3qPBd36yqfyFev7K7NPiBGeUDkK9f2V2afECM8oLYAev8f3o4Qeo8F3frKp/IV6/srs0+IEZ5QOQr1/ZXZp8QIzygtgB6/wAf3o4Qeo8F3frKp/IV6/srs0+IEZ5QeHXm7jF4+81y39e0tQkl5b+mei+iV1EvPS/SPQ8XFxSjo3egTdu/nKaQg+V7OcXiKJt3ZiYn9IfWzlOFsVxctxMTH6yxs+xutw/nUr/zm+8pO5QmyYt4oSuKeriEh6Rin9PTWEmrpw8rV8yw9bcPmXqMNKkp3oiqxuVU9pruDw035pmKopjrj9HsqsxVHVMzxVP5CvX9ldmnxAjPKByFev7K7NPiBGeUFsASfr/H96OEI71Hgu79ZVP5CvX9ldmnxAjPKByFev7K7NPiBGeUFsAPX+P70cIPUeC7v1lU/kK9f2V2afECM8oHIV6/srs0+IEZ5QWwA9f4/vRwg9R4Lu/WVT+Qr1/ZXZp8QIzyg8OvVXJ7195qn5FIvqKzSm/qWMeRfpeboyM9LxscPDw/Vrvh3evfvU0hB8r2c4vEW5tXaommf0h9bOU4WxXFy3HVMfrLEv7GC9f/ALU2af2vGf6Q6NObHa9dIaglk9WorNX/ANXRjmL9Ek5jGfSejbRrh3/Q13b927fuXdv9Sm0YI6K4ieuIj6/y980TMdUzy/hU/kK9f2V2afECM8oHIV6/srs0+IEZ5QWwBLev8f3o4Qi/UeC7v1lU/kK9f2V2afECM8oHIV6/srs0+IEZ5QWwA9f4/vRwg9R4Lu/WVT+Qr1/ZXZp8QIzygchXr+yuzT4gRnlBbAD1/j+9HCD1Hgu79ZVP5CvX9ldmnxAjPKDw69VcnvX3mqfkUi+orNKb+pYx5F+l5ujIz0vGxw8PD9Wu+Hd69+9TSEHyvZzi8Rbm1dqiaZ/SH1s5ThbFcXLcdUx+ssS/sYL1/wDtTZp/a8Z/pDoU7sdr18gqCWT3mGzR/wDV0Y5i/RfXMYz6T0baNcPF9DXdv3bt+5TaQEdFcRPXER9f5e+aJmOqZ5fwqfyFev7K7NPiBGeUDkK9f2V2afECM8oLYAlvX+P70cIRfqPBd36yqfyFev7K7NPiBGeUDkK9f2V2afECM8oLYAev8f3o4Qeo8F3frKp/IV6/srs0+IEZ5QOQr1/ZXZp8QIzygtgB6/x/ejhB6jwXd+sqn8hXr+yuzT4gRnlB4dequT3r7zVPyKRfUVmlN/UsY8i/S83RkZ6XjY4eHh+rXfDu9e/eppCD5Xs5xeItzau1RNM/pD62cpwtiuLluOqY/WWJf2MF6/8A2ps0/teM/wBIdCndjtevkFQSye8w2aP/AKujHMX6L65jGfSejbRrh4voa7t+7dv3KbSAjoriJ64iPr/L3zRMx1TPL+FT+Qr1/ZXZp8QIzygchXr+yuzT4gRnlBbAEt6/x/ejhCL9R4Lu/WVT+Qr1/ZXZp8QIzygchXr+yuzT4gRnlBbAD1/j+9HCD1Hgu79ZVP5CvX9ldmnxAjPKByFev7K7NPiBGeUFsAPX+P70cIPUeC7v1lU/kK9f2V2afECM8oPHLyty28neUkcmkc8pGgpMxJot5Fu3kJXcS8V4rbHDuXilHQhomD5Xs6xd+ibdyYmJ/SH0tZRhbNcXLcTEx+ssbPsbrcP51K/85vvKT7pFsg7dJFPJdPHTFJvW5dFuYtl21Wj5EbV22jSIv/dPqXcbCg8EXuqeuKY4PbNnrjqmZ4qn8hXr+yuzT4gRnlA5CvX9ldmnxAjPKC2AJT1/j+9HCEd6jwXd+sqn8hXr+yuzT4gRnlA5CvX9ldmnxAjPKC2AHr/H96OEHqPBd36yqfyFev7K7NPiBGeUDkK9f2V2afECM8oLYAev8f3o4Qeo8F3frKp/IV6/srs0+IEZ5QQa1i6/egtllUFKI+m7NafZgIhYll6lYRsX6VVZVnh4UljHD69+/epekHizHH381w1eDxU9dFX4x1dX4TE/jH6wm+jtyrormdrN8s/6b1qZmmZ/6ojriaZ/pPXE/wBJn8WZH2bF47r2zf8AtqP/ANCPs2Lx3Xtm/wDbUf8A6E03BiX+V8t7k8Z/lbf/AD16bf8Ac0//AJ0f+LxuQx16WRSOXSRmyOyt+kvhHMKj1bSJiwrxHbCM8XD9RLu37t+7eu72qffzHen7G7KviXMfIj1UE/ERTHVCo7lyq7XNyr8Znrn+7yrmO9P2N2VfEuY+RDmO9P2N2VfEuY+RHqoP6/DyrmO9P2N2VfEuY+RDmO9P2N2VfEuY+RHqoA8q5jvT9jdlXxLmPkR8l2GpbyVU2e/WF5yz+nqUqRH3C4cSmN9Kr5xu6G3zpGnjLlv1dCPWt+9d7LvdwnsAAAAD/9k=)\n",
        "\n",
        "Input: height = [1,8,6,2,5,4,8,3,7]\n",
        "\n",
        "Output: 49\n",
        "\n",
        "Explanation: The above vertical lines are represented by array [1,8,6,2,5,4,8,3,7]. In this case, the max area of water (blue section) the container can contain is 49."
      ],
      "metadata": {
        "id": "ORD0mybnF4AL"
      }
    },
    {
      "cell_type": "code",
      "source": [
        "# Time Complexity: O(n)\n",
        "def maxArea(height):\n",
        "  l = 0\n",
        "  r = len(height) - 1\n",
        "  max_area = 0\n",
        "  while l < r:\n",
        "      cur_height = min(height[r], height[l])\n",
        "      cur_area = (r-l)* cur_height\n",
        "      if cur_area > max_area:\n",
        "          max_area = cur_area\n",
        "      if height[l] == cur_height:\n",
        "          l += 1\n",
        "      elif height[r] == cur_height:\n",
        "          r -= 1      \n",
        "  return max_area"
      ],
      "metadata": {
        "id": "YsLqPmr6GRlh"
      },
      "execution_count": null,
      "outputs": []
    },
    {
      "cell_type": "code",
      "source": [
        "height = [1,8,6,2,5,4,8,3,7]\n",
        "maxArea(height)"
      ],
      "metadata": {
        "colab": {
          "base_uri": "https://localhost:8080/"
        },
        "id": "rt9WEx1PHLKM",
        "outputId": "c6eb1c77-4a1d-47be-a209-76bc49a8d584"
      },
      "execution_count": null,
      "outputs": [
        {
          "output_type": "execute_result",
          "data": {
            "text/plain": [
              "49"
            ]
          },
          "metadata": {},
          "execution_count": 6
        }
      ]
    },
    {
      "cell_type": "markdown",
      "source": [
        "#**42. Trapping Rain Water** `Hard`\n",
        "\n",
        "Given `n` non-negative integers representing an elevation map where the width of each bar is `1`, compute how much water it can trap after raining.\n",
        "\n",
        "**Example 1**\n",
        "\n",
        "![rainwatertrap.png](data:image/png;base64,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)\n",
        "\n",
        "Input: `height = [0,1,0,2,1,0,1,3,2,1,2,1]`\n",
        "Output: `6`"
      ],
      "metadata": {
        "id": "cpKe8NZktYob"
      }
    },
    {
      "cell_type": "code",
      "source": [
        "# Time: O(n), Space: O(1)\n",
        "\n",
        "from typing import List\n",
        "class Solution:\n",
        "    def trap(self, height: List[int]) -> int:\n",
        "        \n",
        "        left = 0\n",
        "        right = len(height) - 1\n",
        "        left_max = 0\n",
        "        right_max = 0\n",
        "        res = 0\n",
        "        \n",
        "        while left < right:\n",
        "            if height[left] < height[right]:\n",
        "                if height[left] >= left_max:\n",
        "                    left_max = height[left]\n",
        "                else:\n",
        "                    res += left_max - height[left]\n",
        "                left += 1   \n",
        "                \n",
        "            else:\n",
        "                if height[right] >= right_max:\n",
        "                    right_max = height[right]\n",
        "                else:\n",
        "                    res += right_max - height[right]\n",
        "                right -= 1 \n",
        "                \n",
        "        return res"
      ],
      "metadata": {
        "id": "sP05rNB8t1OT"
      },
      "execution_count": null,
      "outputs": []
    },
    {
      "cell_type": "code",
      "source": [
        "height = [0,1,0,2,1,0,1,3,2,1,2,1]\n",
        "sol = Solution()\n",
        "sol.trap(height)"
      ],
      "metadata": {
        "colab": {
          "base_uri": "https://localhost:8080/"
        },
        "id": "3tVFsXRquBkK",
        "outputId": "dd69acca-bf45-4813-e3f9-ba710027db1f"
      },
      "execution_count": null,
      "outputs": [
        {
          "output_type": "execute_result",
          "data": {
            "text/plain": [
              "6"
            ]
          },
          "metadata": {},
          "execution_count": 2
        }
      ]
    }
  ]
}