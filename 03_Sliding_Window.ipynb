{
  "nbformat": 4,
  "nbformat_minor": 0,
  "metadata": {
    "colab": {
      "provenance": [],
      "include_colab_link": true
    },
    "kernelspec": {
      "name": "python3",
      "display_name": "Python 3"
    },
    "language_info": {
      "name": "python"
    }
  },
  "cells": [
    {
      "cell_type": "markdown",
      "metadata": {
        "id": "view-in-github",
        "colab_type": "text"
      },
      "source": [
        "<a href=\"https://colab.research.google.com/github/ssuzana/Data-Structures-and-Algorithms-Notebooks/blob/main/03_Sliding_Window.ipynb\" target=\"_parent\"><img src=\"https://colab.research.google.com/assets/colab-badge.svg\" alt=\"Open In Colab\"/></a>"
      ]
    },
    {
      "cell_type": "markdown",
      "source": [
        "#**Leetcode 121. Best Time to Buy and Sell Stock** `Easy`\n",
        "\n",
        "You are given an array `prices` where `prices[i]` is the price of a given stock on the `i`th day.\n",
        "\n",
        "You want to maximize your profit by choosing a single day to buy one stock and choosing a different day in the future to sell that stock.\n",
        "\n",
        "Return the maximum profit you can achieve from this transaction. If you cannot achieve any profit, return `0`.\n",
        "\n",
        "```\n",
        "Example 1:\n",
        "Input: prices = [7,1,5,3,6,4]\n",
        "Output: 5\n",
        "Explanation: Buy on day 2 (price = 1) and sell on day 5 (price = 6), profit = 6-1 = 5.\n",
        "Note that buying on day 2 and selling on day 1 is not allowed because you must buy before you sell.\n",
        "\n",
        "Example 2:\n",
        "Input: prices = [7,6,4,3,1]\n",
        "Output: 0\n",
        "Explanation: In this case, no transactions are done and the max profit = 0.\n",
        "```\n"
      ],
      "metadata": {
        "id": "i40NwpxKeeHn"
      }
    },
    {
      "cell_type": "code",
      "source": [
        "from typing import List\n",
        "def maxProfit(prices: List[int]) -> int:\n",
        "    cur_min = prices[0]\n",
        "    profit = 0\n",
        "    \n",
        "    for i in range(1, len(prices)):\n",
        "        if prices[i] < cur_min:\n",
        "            cur_min = prices[i]\n",
        "        if prices[i] - cur_min > profit:\n",
        "            profit = prices[i] - cur_min\n",
        "    \n",
        "    return profit"
      ],
      "metadata": {
        "id": "0aidsWH5-kjq"
      },
      "execution_count": null,
      "outputs": []
    },
    {
      "cell_type": "code",
      "source": [
        "from typing import List\n",
        "def maxProfit(prices: List[int]) -> int:\n",
        "    left = 0  \n",
        "    right = 1\n",
        "    max_profit = 0\n",
        "    \n",
        "    while right < len(prices):\n",
        "        if prices[left] < prices[right]:\n",
        "            profit = prices[right] - prices[left]\n",
        "            if profit > max_profit:\n",
        "                max_profit = profit        \n",
        "        else:\n",
        "            left = right\n",
        "        \n",
        "        right += 1\n",
        "        \n",
        "    return max_profit    "
      ],
      "metadata": {
        "id": "AVU8Fy4pEjdd"
      },
      "execution_count": null,
      "outputs": []
    },
    {
      "cell_type": "code",
      "source": [
        "prices = [7,1,5,3,6,4]\n",
        "maxProfit(prices)"
      ],
      "metadata": {
        "id": "BA5u_GaNm6jy"
      },
      "execution_count": null,
      "outputs": []
    },
    {
      "cell_type": "markdown",
      "source": [
        "#**Leetcode 3. Longest Substring Without Repeating Characters** `Medium`\n",
        "\n",
        "Given a string `s`, find the length of the longest substring without repeating characters.\n",
        "\n",
        "```\n",
        "Example:\n",
        "Input: s = \"abcabcbb\"\n",
        "Output: 3\n",
        "Explanation: The answer is \"abc\", with the length of 3.\n",
        "```\n",
        "\n",
        "\n",
        "---\n",
        "\n",
        "\n",
        " This makes it a classic sliding window problem. A sliding window is defined by two pointers. We move the window (incrementing pointers) whilst maintaining a certain invariant. For this particular problem, the invariant is the characters inside the window being unique. We use a set to record what's in the window. And when we encounter a character that's already in the window, we want to move the left pointer until it goes past the last occurrence of that character."
      ],
      "metadata": {
        "id": "dDU-a0JAKjXK"
      }
    },
    {
      "cell_type": "code",
      "source": [
        "def lengthOfLongestSubstring(s: str) -> int:\n",
        "    left = 0  \n",
        "    right = 0\n",
        "    max_length = 0\n",
        "    window = set()\n",
        "\n",
        "    while right < len(s):\n",
        "        if s[right] not in window:   \n",
        "            window.add(s[right])\n",
        "            right += 1\n",
        "        else:\n",
        "            window.remove(s[left])\n",
        "            left += 1 \n",
        "        \n",
        "        length = right - left\n",
        "        if length > max_length:\n",
        "            max_length = length \n",
        "    \n",
        "    return max_length     "
      ],
      "metadata": {
        "id": "cX17KMz1LOFg"
      },
      "execution_count": null,
      "outputs": []
    },
    {
      "cell_type": "code",
      "source": [
        "s = \"abcabcbb\"\n",
        "lengthOfLongestSubstring(s)"
      ],
      "metadata": {
        "colab": {
          "base_uri": "https://localhost:8080/"
        },
        "id": "onWGpKQ2M2ht",
        "outputId": "e25ee468-f89f-41fe-ecbb-2a49a361069e"
      },
      "execution_count": null,
      "outputs": [
        {
          "output_type": "execute_result",
          "data": {
            "text/plain": [
              "3"
            ]
          },
          "metadata": {},
          "execution_count": 41
        }
      ]
    },
    {
      "cell_type": "markdown",
      "source": [
        "#**Leetcode 567. Permutation in String** `Medium`\n",
        "\n",
        "Given two strings `s1` and `s2`, return `true` if `s2` contains a permutation of `s1`, or `false` otherwise.\n",
        "\n",
        "In other words, return `true` if one of `s1`'s permutations is the substring of `s2`.\n",
        "\n",
        "\n",
        "\n",
        "```\n",
        "Example 1:\n",
        "Input: s1 = \"ab\", s2 = \"eidbaooo\"\n",
        "Output: true\n",
        "Explanation: s2 contains one permutation of s1 (\"ba\").\n",
        "\n",
        "Example 2:\n",
        "Input: s1 = \"ab\", s2 = \"eidboaoo\"\n",
        "Output: false\n",
        "```\n",
        "\n"
      ],
      "metadata": {
        "id": "B3tQo_RfUmoV"
      }
    },
    {
      "cell_type": "code",
      "source": [
        "from typing import List\n",
        "from collections import Counter\n",
        "def checkInclusion(s1: str, s2: str) -> bool:\n",
        "    \n",
        "    if len(s1) > len(s2):\n",
        "        return False\n",
        "    \n",
        "    L = 0\n",
        "    R = len(s1) - 1\n",
        "    \n",
        "    counter1 = Counter(s1)\n",
        "    counter2 = Counter(s2[:R])\n",
        "    \n",
        "    while R < len(s2):\n",
        "        \n",
        "        counter2[s2[R]] = 1 + counter2.get(s2[R],0)\n",
        "        if counter2 == counter1:\n",
        "            return True\n",
        "        \n",
        "        counter2[s2[L]] -= 1\n",
        "        \n",
        "        if counter2[s2[L]] == 0:\n",
        "            del counter2[s2[L]]\n",
        "            \n",
        "        L += 1\n",
        "        R += 1\n",
        "        \n",
        "    return False\n"
      ],
      "metadata": {
        "id": "F-lYMTv-U1o7"
      },
      "execution_count": null,
      "outputs": []
    },
    {
      "cell_type": "code",
      "source": [
        "s1 = \"ab\"\n",
        "s2 = \"eidbaooo\"\n",
        "checkInclusion(s1,s2)"
      ],
      "metadata": {
        "id": "hEuulQArVajF"
      },
      "execution_count": null,
      "outputs": []
    },
    {
      "cell_type": "markdown",
      "source": [
        "#**Leetcode 424. Longest Repeating Character Replacement** `Medium`\n",
        "You are given a string `s` and an integer `k`. You can choose any character of the string and change it to any other uppercase English character. You can perform this operation at most `k` times.\n",
        "\n",
        "Return the length of the longest substring containing the same letter you can get after performing the above operations.\n",
        "\n",
        " \n",
        "```\n",
        "Example 1:\n",
        "Input: s = \"ABAB\", k = 2\n",
        "Output: 4\n",
        "Explanation: Replace the two 'A's with two 'B's or vice versa.\n",
        "\n",
        "Example 2:\n",
        "Input: s = \"AABABBA\", k = 1\n",
        "Output: 4\n",
        "Explanation: Replace the one 'A' in the middle with 'B' and form \"AABBBBA\".\n",
        "The substring \"BBBB\" has the longest repeating letters, which is 4.\n",
        "```"
      ],
      "metadata": {
        "id": "MO0cHoZnVTzF"
      }
    },
    {
      "cell_type": "code",
      "source": [
        "from typing import List\n",
        "def characterReplacement(s: str, k: int) -> int:\n",
        "  res = 0\n",
        "  count = {}\n",
        "  l = 0\n",
        "\n",
        "  for r in range(len(s)):\n",
        "    count[s[r]] = 1 + count.get(s[r],0)\n",
        "    # r-l+1 is the length of the sliding window\n",
        "    while (r-l+1) - max(count.values()) > k:\n",
        "      count[s[l]] -= 1\n",
        "      l += 1\n",
        "    res = max(res, r-l+1)\n",
        "  return res     \n"
      ],
      "metadata": {
        "id": "lrkWl4wjV4t-"
      },
      "execution_count": null,
      "outputs": []
    },
    {
      "cell_type": "code",
      "source": [
        "s1 = \"ABAB\"\n",
        "k1 = 2\n",
        "print(characterReplacement(s1,k1))\n",
        "s2 = \"AABABBA\"\n",
        "k2 = 1\n",
        "print(characterReplacement(s2,k2))"
      ],
      "metadata": {
        "id": "iWXgRmwRW56n"
      },
      "execution_count": null,
      "outputs": []
    },
    {
      "cell_type": "markdown",
      "source": [
        "#**Deques**\n",
        "\n",
        "Deques are a generalization of stacks and queues (the name is pronounced “deck” and is short for “double-ended queue”). Deques support thread-safe, memory efficient appends and pops from either side of the deque with approximately the same `O(1)` performance in either direction.\n",
        "Indexed access is `O(1)` at both ends but slows to `O(n)` in the middle.\n",
        "\n",
        "* `append(x)`\n",
        "Add `x` to the right side of the deque.\n",
        "\n",
        "* `appendleft(x)`\n",
        "Add `x` to the left side of the deque.\n",
        "\n",
        "* `pop()`\n",
        "Remove and return an element from the right side of the deque. If no elements are present, raises an `IndexError`.\n",
        "\n",
        "* `popleft()`\n",
        "Remove and return an element from the left side of the deque. If no elements are present, raises an `IndexError`."
      ],
      "metadata": {
        "id": "NhaKOuNsp0zj"
      }
    },
    {
      "cell_type": "markdown",
      "source": [
        "#**Leetcode 239. Sliding Window Maximum** `Hard`\n",
        "\n",
        "You are given an array of integers `nums`, there is a sliding window of size `k` which is moving from the very left of the array to the very right. You can only see the `k` numbers in the window. Each time the sliding window moves right by one position.\n",
        "\n",
        "Return the max sliding window.\n",
        "\n",
        " \n",
        "```\n",
        "Example:\n",
        "\n",
        "Input: nums = [1,3,-1,-3,5,3,6,7], k = 3\n",
        "Output: [3,3,5,5,6,7]\n",
        "Explanation: \n",
        "Window position                Max\n",
        "---------------               -----\n",
        "[1  3  -1] -3  5  3  6  7       3\n",
        " 1 [3  -1  -3] 5  3  6  7       3\n",
        " 1  3 [-1  -3  5] 3  6  7       5\n",
        " 1  3  -1 [-3  5  3] 6  7       5\n",
        " 1  3  -1  -3 [5  3  6] 7       6\n",
        " 1  3  -1  -3  5 [3  6  7]      7\n",
        " ```"
      ],
      "metadata": {
        "id": "MOMQK7vBnct2"
      }
    },
    {
      "cell_type": "code",
      "source": [
        "# Time: O(n)\n",
        "from typing import List\n",
        "from collections import deque\n",
        "\n",
        "def maxSlidingWindow(nums: List[int], k: int) -> List[int]:\n",
        "    idxDeq = deque()\n",
        "    res = []\n",
        "    l,r = 0,0\n",
        "    \n",
        "    while r <  len(nums):\n",
        "        \n",
        "        while idxDeq and nums[r] > nums[idxDeq[-1]]:\n",
        "            idxDeq.pop()\n",
        "        idxDeq.append(r)    \n",
        "        \n",
        "        if l > idxDeq[0]:\n",
        "            idxDeq.popleft()\n",
        "            \n",
        "        if r >= k-1:\n",
        "            res.append(nums[idxDeq[0]])\n",
        "            l += 1     \n",
        "        r+= 1\n",
        "        \n",
        "    return res"
      ],
      "metadata": {
        "id": "EWMi-Xgqnz2s"
      },
      "execution_count": null,
      "outputs": []
    },
    {
      "cell_type": "code",
      "source": [
        "nums = [1,3,-1,-3,5,3,6,7]\n",
        "k = 3\n",
        "maxSlidingWindow(nums, k)"
      ],
      "metadata": {
        "id": "Rsb1YDE-oWJ_"
      },
      "execution_count": null,
      "outputs": []
    },
    {
      "cell_type": "markdown",
      "source": [
        "#**Leetcode 76. Minimum Window Substring** `Hard`\n",
        "\n",
        "Given two strings `s` and `t` of lengths `m` and `n` respectively, return the minimum window substring of `s` such that every character in `t` (including duplicates) is included in the window. If there is no such substring, return the empty string `\"\"`.\n",
        "\n",
        "The testcases will be generated such that the answer is unique.\n",
        "\n",
        "A substring is a contiguous sequence of characters within the string.\n",
        "\n",
        "\n",
        "\n",
        "```\n",
        "Example 1:\n",
        "Input: s = \"ADOBECODEBANC\", t = \"ABC\"\n",
        "Output: \"BANC\"\n",
        "Explanation: The minimum window substring \"BANC\" includes 'A', 'B', and 'C' from string t.\n",
        "\n",
        "Example 2:\n",
        "Input: s = \"a\", t = \"a\"\n",
        "Output: \"a\"\n",
        "Explanation: The entire string s is the minimum window.\n",
        "\n",
        "Example 3:\n",
        "Input: s = \"a\", t = \"aa\"\n",
        "Output: \"\"\n",
        "Explanation: Both 'a's from t must be included in the window.\n",
        "Since the largest window of s only has one 'a', return empty string.\n",
        "```\n",
        "\n"
      ],
      "metadata": {
        "id": "5pxRS7ufzIX2"
      }
    },
    {
      "cell_type": "code",
      "source": [
        "from collections import Counter\n",
        "\n",
        "def minWindow(s: str, t: str) -> str:\n",
        "  if t == \"\":\n",
        "    return t\n",
        "\n",
        "  tCount = Counter(t)\n",
        "  wCount = {}\n",
        "  have,  need = 0, len(tCount)\n",
        "  resLen = float(\"infinity\")\n",
        "  res = [-1,-1] # left and right indices of the result string\n",
        " \n",
        "  l = 0\n",
        "  for r in range(len(s)):\n",
        "    wCount[s[r]] = 1 + wCount.get(s[r],0)\n",
        "    if s[r] in tCount and wCount[s[r]] == tCount[s[r]]:\n",
        "      have += 1\n",
        "      \n",
        "    while need == have:   \n",
        "      if (r - l + 1) < resLen:\n",
        "        res = [l,r]\n",
        "        resLen = r - l + 1  \n",
        "       \n",
        "\n",
        "      wCount[s[l]] -= 1\n",
        "      if s[l] in tCount and wCount[s[l]] < tCount[s[l]]:\n",
        "        have -= 1\n",
        "      l += 1\n",
        "    \n",
        "  l,r = res\n",
        "  if resLen != float(\"infinity\"):\n",
        "    return s[l:r+1]\n",
        "  else:\n",
        "    return \"\"  "
      ],
      "metadata": {
        "id": "bwdNsdJyzh67"
      },
      "execution_count": null,
      "outputs": []
    },
    {
      "cell_type": "code",
      "source": [
        "from collections import Counter\n",
        "def minWindow(s: str, t: str) -> str:\n",
        "    if t == \"\":\n",
        "        return t\n",
        "    \n",
        "    tCount = Counter(t)\n",
        "    wCount = {} # window counter\n",
        "    have, need = 0, len(tCount)\n",
        "    resLen = float(\"infinity\")\n",
        "    res = [-1,-1] # left and right indices of result string\n",
        "    l = 0\n",
        "        \n",
        "    for r in range(len(s)):  \n",
        "        wCount[s[r]] = 1 + wCount.get(s[r],0)\n",
        "        if s[r] in tCount and wCount[s[r]] == tCount[s[r]]:\n",
        "            have += 1\n",
        "        while need == have:\n",
        "            if (r - l + 1) < resLen:\n",
        "                res = [l,r]\n",
        "                resLen = r-l+1\n",
        "            \n",
        "            wCount[s[l]] -= 1\n",
        "            if s[l] in tCount and wCount[s[l]] < tCount[s[l]]:\n",
        "                have -= 1\n",
        "            l += 1  \n",
        "    \n",
        "    l,r = res\n",
        "    \n",
        "    if resLen != float(\"infinity\"):       \n",
        "        return s[l:r+1] \n",
        "    else:\n",
        "        return \"\""
      ],
      "metadata": {
        "id": "F8wDx-kA3zQ8"
      },
      "execution_count": null,
      "outputs": []
    },
    {
      "cell_type": "code",
      "source": [
        "s = \"ADOBECODEBANC\"\n",
        "t = \"ABC\"\n",
        "minWindow(s,t)"
      ],
      "metadata": {
        "id": "44CzlESs11q4"
      },
      "execution_count": null,
      "outputs": []
    },
    {
      "cell_type": "markdown",
      "source": [
        "---\n",
        "#**Leetcode 209. Minimum Size Subarray Sum** `Medium`\n",
        "\n",
        "Given an array of positive integers `nums` and a positive integer `target`, return the minimal length of a contiguous subarray `[numsl, numsl+1, ..., numsr-1, numsr]` of which the sum is greater than or equal to `target`. If there is no such subarray, return `0` instead.\n",
        "\n",
        "```\n",
        "Example 1:\n",
        "Input: target = 7, nums = [2,3,1,2,4,3]\n",
        "Output: 2\n",
        "Explanation: The subarray [4,3] has the minimal length under the problem constraint.\n",
        "\n",
        "Example 2:\n",
        "Input: target = 4, nums = [1,4,4]\n",
        "Output: 1\n",
        "\n",
        "Example 3:\n",
        "Input: target = 11, nums = [1,1,1,1,1,1,1,1]\n",
        "Output: 0\n",
        "```"
      ],
      "metadata": {
        "id": "VTRbWKISEiXa"
      }
    },
    {
      "cell_type": "code",
      "source": [
        "# Time:  O(n), Space: O(1)\n",
        "from typing import List\n",
        "def minSubArrayLen(target: int, nums: List[int]) -> int:\n",
        "\n",
        "  res = float(\"inf\")\n",
        "  curSum = 0\n",
        "  l = 0\n",
        "\n",
        "  for r in range(len(nums)):\n",
        "    curSum += nums[r]\n",
        "\n",
        "    while curSum >= target:\n",
        "      if (r-l+1) <  res:\n",
        "        res = r - l + 1\n",
        "      curSum -= nums[l]\n",
        "      l += 1\n",
        "  \n",
        "  if res  != float(\"inf\"):\n",
        "    return res\n",
        "  else:\n",
        "    return 0     "
      ],
      "metadata": {
        "id": "I_eRglWrFKi-"
      },
      "execution_count": null,
      "outputs": []
    },
    {
      "cell_type": "code",
      "source": [
        "target = 4\n",
        "nums = [1,4,4]\n",
        "minSubArrayLen(target, nums)"
      ],
      "metadata": {
        "colab": {
          "base_uri": "https://localhost:8080/"
        },
        "id": "hLo2OdTQGflq",
        "outputId": "c291ed74-52f9-4051-efc2-fe1eca3e9ddb"
      },
      "execution_count": null,
      "outputs": [
        {
          "output_type": "execute_result",
          "data": {
            "text/plain": [
              "1"
            ]
          },
          "metadata": {},
          "execution_count": 8
        }
      ]
    },
    {
      "cell_type": "markdown",
      "source": [
        "#**Leetcode 1358. Number of Substrings Containing All Three Characters** `Medium`\n",
        "\n",
        "Given a string `s` consisting only of characters `a`, `b` and `c`.\n",
        "\n",
        "Return the number of substrings containing at least one occurrence of all these characters `a, b` and `c`.\n",
        "\n",
        " \n",
        "```\n",
        "Example:\n",
        "\n",
        "Input: s = \"abcabc\"\n",
        "Output: 10\n",
        "Explanation: The substrings containing at least one occurrence of the characters a, b and c are \"abc\", \"abca\", \"abcab\", \"abcabc\", \"bca\", \"bcab\", \"bcabc\", \"cab\", \"cabc\" and \"abc\" (again). \n",
        "```"
      ],
      "metadata": {
        "id": "By4EhjKKC9xg"
      }
    },
    {
      "cell_type": "code",
      "source": [
        " from collections import Counter\n",
        " def numberOfSubstrings(s):\n",
        "   # Maintain a window which contains at least each character of a, b and c.\n",
        "   # Once we found a window, rest part of that window will be a valid count.\n",
        "   i = 0 # start of the window\n",
        "   ans = 0\n",
        "   counter = Counter()\n",
        "\n",
        "   for j,c in enumerate(s):\n",
        "     counter[c] += 1\n",
        "\n",
        "     while len(counter) == 3:\n",
        "       ans += len(s) - j\n",
        "       counter[s[i]] -= 1\n",
        "       if not counter[s[i]]:\n",
        "         del counter[s[i]]\n",
        "       i += 1\n",
        "   return ans        "
      ],
      "metadata": {
        "id": "jltJJtvnDSE0"
      },
      "execution_count": 3,
      "outputs": []
    },
    {
      "cell_type": "code",
      "source": [
        " s = \"abcabc\"\n",
        " ans = numberOfSubstrings(s)\n",
        " print(ans)"
      ],
      "metadata": {
        "colab": {
          "base_uri": "https://localhost:8080/"
        },
        "id": "nSmirlvyELQN",
        "outputId": "0da3bc50-33ad-4612-b2e3-29d76b5944b4"
      },
      "execution_count": 4,
      "outputs": [
        {
          "output_type": "stream",
          "name": "stdout",
          "text": [
            "10\n"
          ]
        }
      ]
    }
  ]
}