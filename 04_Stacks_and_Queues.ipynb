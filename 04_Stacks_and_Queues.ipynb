{
  "nbformat": 4,
  "nbformat_minor": 0,
  "metadata": {
    "colab": {
      "provenance": [],
      "include_colab_link": true
    },
    "kernelspec": {
      "name": "python3",
      "display_name": "Python 3"
    },
    "language_info": {
      "name": "python"
    }
  },
  "cells": [
    {
      "cell_type": "markdown",
      "metadata": {
        "id": "view-in-github",
        "colab_type": "text"
      },
      "source": [
        "<a href=\"https://colab.research.google.com/github/ssuzana/Data-Structures-and-Algorithms-Notebooks/blob/main/04_Stacks_and_Queues.ipynb\" target=\"_parent\"><img src=\"https://colab.research.google.com/assets/colab-badge.svg\" alt=\"Open In Colab\"/></a>"
      ]
    },
    {
      "cell_type": "markdown",
      "source": [
        "#**Stacks Intro**\n",
        "A **stack** stores data in the same way arrays do - it's simply a list of elements. But stacks have the following three constraints:\n",
        "\n",
        "* Data can be insterted only at the end of a stack.\n",
        "* Data can be deleted only from the end of a stack.\n",
        "* Only the last element of a stack can be read.\n",
        "\n",
        "A stack uses **LIFO (last-in first-out)** ordering. Unlike an array, a stack does not offer constant-time access to the `i`th element. However, it does allow constant time adds and removes, as it doesn't require shifting elements around.\n",
        "\n",
        "Some of the problems require you to implement your own stack class; for others, use the built-in list-type.\n",
        " * `s.append(e)` pushes an element `e` onto the stack `s`.\n",
        " * `s[-1]` will retrieve, but does not remove, the element at the top of the stack.\n",
        " * `s.pop()` will remove and return the element at the top of the stack.\n",
        " * `len(s) == 0` tests if the stack is empty.\n",
        " When called on an empty list `s`, both `s[-1]` and `s.pop()` raise an `IndexError` exception."
      ],
      "metadata": {
        "id": "BHWTa57TaHKL"
      }
    },
    {
      "cell_type": "markdown",
      "source": [
        "#**Queues Intro**\n",
        "\n",
        "\n",
        "A **queue** supports two basic operations - enqueue and dequeue. Elements are added (enqueued) and removed (dequeued) in **first-in, first-out** order.\n",
        "\n",
        "A **deque** (double-ended queue) is a dubly linked list in which all instertions and deletions are from one of the two ends of the list, i.e., at the head or the tail.\n",
        "\n",
        "Some of the problems require you to implement your own queue class; for others, you can use the `collections.deque` class.\n",
        "\n",
        "If `q = collections.deque()` then\n",
        "\n",
        "* `q.append(e)` pushes element `e` onto the queue. \n",
        "* `q[0]` will retrieve, but not retrieve, the element at the fron of the queue. Similarly, `q[-1]` will retrieve, but not remove, the element at the back of the queue.\n",
        "* `q.popleft()` will remove and return the element at the front of the queue.\n",
        "\n",
        "`Warning.` Dequeueing or accessing the head/tail of an empty queue results in an `IndexError` exception being raised."
      ],
      "metadata": {
        "id": "eNR3nauTAK2W"
      }
    },
    {
      "cell_type": "markdown",
      "source": [
        "#**Leetcode 20. Valid Parentheses** `Easy`\n",
        "Given a string `s` containing just the characters `'(', ')', '{', '}', '['` and `']'`, determine if the input string is valid.\n",
        "\n",
        "An input string is valid if:\n",
        "\n",
        "Open brackets must be closed by the same type of brackets.\n",
        "Open brackets must be closed in the correct order.\n",
        " \n",
        "```\n",
        "Example 1:\n",
        "Input: s = \"()\"\n",
        "Output: true\n",
        "\n",
        "Example 2:\n",
        "Input: s = \"()[]{}\"\n",
        "Output: true\n",
        "\n",
        "Example 3:\n",
        "Input: s = \"(]\"\n",
        "Output: false\n",
        " \n",
        "Constraints:\n",
        "1 <= s.length <= 104\n",
        "s consists of parentheses only '()[]{}'.\n",
        "```\n"
      ],
      "metadata": {
        "id": "PAYAKCwsbTFK"
      }
    },
    {
      "cell_type": "code",
      "execution_count": null,
      "metadata": {
        "id": "pG6nT5E_aCra"
      },
      "outputs": [],
      "source": [
        "def isValid(s: str) -> bool:\n",
        "        \n",
        "        matchings = {\")\" : \"(\",\n",
        "                     '}' : '{',\n",
        "                     ']' : '['} \n",
        "        stack = []\n",
        "        res = False\n",
        "        \n",
        "        for p in s:\n",
        "            if p in matchings.values():\n",
        "                stack.append(p)\n",
        "            else:\n",
        "                if len(stack) == 0 or matchings[p] !=  stack.pop():\n",
        "                    return False\n",
        "                \n",
        "        return len(stack) == 0         \n",
        "            "
      ]
    },
    {
      "cell_type": "code",
      "source": [
        "s = \"()[]{}\"\n",
        "isValid(s)"
      ],
      "metadata": {
        "colab": {
          "base_uri": "https://localhost:8080/"
        },
        "id": "OKRUh5SCbx_0",
        "outputId": "4fa601fb-8491-4612-b695-87e1b3389ad9"
      },
      "execution_count": null,
      "outputs": [
        {
          "output_type": "execute_result",
          "data": {
            "text/plain": [
              "True"
            ]
          },
          "metadata": {},
          "execution_count": 2
        }
      ]
    },
    {
      "cell_type": "markdown",
      "source": [
        "#**Leetcode 232. Implement Queue using Stacks** `Easy`\n",
        "\n",
        "Implement a first in first out (FIFO) queue using only two stacks. The implemented queue should support all the functions of a normal queue (push, peek, pop, and empty).\n",
        "\n",
        "Implement the MyQueue class:\n",
        "\n",
        "`void push(int x)` Pushes element x to the back of the queue.\n",
        "\n",
        "`int pop()` Removes the element from the front of the queue and returns it.\n",
        "\n",
        "`int peek()` Returns the element at the front of the queue.\n",
        "\n",
        "`boolean empty()` Returns true if the queue is empty, false otherwise."
      ],
      "metadata": {
        "id": "z0yViblp7Up8"
      }
    },
    {
      "cell_type": "code",
      "source": [
        "class MyQueue:\n",
        "\n",
        "    def __init__(self):\n",
        "        # first stack used for enqueue \n",
        "        self.enq = []\n",
        "        # second stack used for dequeue\n",
        "        self.deq = []\n",
        "\n",
        "    def push(self, x: int) -> None:\n",
        "        self.enq.append(x)\n",
        "\n",
        "    def pop(self) -> int:\n",
        "        if not self.deq:\n",
        "            while self.enq:\n",
        "                self.deq.append(self.enq.pop())\n",
        "        return self.deq.pop()\n",
        "\n",
        "    def peek(self) -> int:\n",
        "        if not self.deq:\n",
        "            while self.enq:\n",
        "                self.deq.append(self.enq.pop())\n",
        "        return self.deq[-1]\n",
        "        \n",
        "    def empty(self) -> bool:\n",
        "        return self.enq == [] and self.deq == []    "
      ],
      "metadata": {
        "id": "cIq7dt477udG"
      },
      "execution_count": 1,
      "outputs": []
    },
    {
      "cell_type": "markdown",
      "source": [
        "#**Leetcode 155. Min Stack** `Medium`\n",
        "Design a stack that supports push, pop, top, and retrieving the minimum element in constant time.\n",
        "\n",
        "Implement the `MinStack` class:\n",
        "\n",
        "> `MinStack()` initializes the stack object.\n",
        "\n",
        "> `push(val)` pushes the element `val` onto the stack.\n",
        "\n",
        ">  `pop()` removes the element on the top of the stack.\n",
        "\n",
        "> `top()` gets the top element of the stack.\n",
        "\n",
        "> `getMin()` retrieves the minimum element in the stack.\n",
        " \n",
        "```\n",
        "Example:\n",
        "Input\n",
        "[\"MinStack\",\"push\",\"push\",\"push\",\"getMin\",\"pop\",\"top\",\"getMin\"]\n",
        "[[],[-2],[0],[-3],[],[],[],[]]\n",
        "Output\n",
        "[null,null,null,null,-3,null,0,-2]\n",
        "\n",
        "Explanation\n",
        "MinStack minStack = new MinStack();\n",
        "minStack.push(-2);\n",
        "minStack.push(0);\n",
        "minStack.push(-3);\n",
        "minStack.getMin(); // return -3\n",
        "minStack.pop();\n",
        "minStack.top();    // return 0\n",
        "minStack.getMin(); // return -2\n",
        "```"
      ],
      "metadata": {
        "id": "YV_iAxxRb4y8"
      }
    },
    {
      "cell_type": "code",
      "source": [
        "class MinStack:\n",
        "\n",
        "    def __init__(self):\n",
        "        \"\"\"\n",
        "        initialize your data structure here.\n",
        "        \"\"\"\n",
        "        self.stack = []\n",
        "        self.minStack = []\n",
        "        \n",
        "\n",
        "    def push(self, x: int) -> None:\n",
        "        self.stack.append(x)\n",
        "        if self.minStack:\n",
        "            self.minStack.append(min(self.minStack[-1], x))\n",
        "        else: \n",
        "            self.minStack.append(x)       \n",
        "\n",
        "    def pop(self) -> None:\n",
        "        self.stack.pop()\n",
        "        self.minStack.pop()\n",
        "\n",
        "    def top(self) -> int:\n",
        "        return self.stack[-1]\n",
        "\n",
        "    def getMin(self) -> int:\n",
        "        return self.minStack[-1]"
      ],
      "metadata": {
        "id": "cVA3_cS5JeKg"
      },
      "execution_count": null,
      "outputs": []
    },
    {
      "cell_type": "code",
      "source": [
        "minStack = MinStack()\n",
        "minStack.push(-2)\n",
        "minStack.push(0)\n",
        "minStack.push(-3)\n",
        "minStack.getMin() # return -3\n",
        "minStack.pop()\n",
        "minStack.top()    # return 0\n",
        "minStack.getMin() # return -2"
      ],
      "metadata": {
        "colab": {
          "base_uri": "https://localhost:8080/"
        },
        "id": "NH6cLFkiRMwZ",
        "outputId": "8b5b4858-0120-4692-a07c-f3a03aba742e"
      },
      "execution_count": null,
      "outputs": [
        {
          "output_type": "execute_result",
          "data": {
            "text/plain": [
              "-2"
            ]
          },
          "metadata": {},
          "execution_count": 6
        }
      ]
    },
    {
      "cell_type": "markdown",
      "source": [
        "#**Leetcode 739. Daily Temperatures** `Medium`\n",
        "\n",
        "Given an array of integers `temperatures` represents the daily temperatures, return an array answer such that `answer[i]` is the number of days you have to wait after the `i`th day to get a warmer temperature. If there is no future day for which this is possible, keep `answer[i] == 0` instead.\n",
        "\n",
        "```\n",
        "Example 1:\n",
        "Input: temperatures = [73,74,75,71,69,72,76,73]\n",
        "Output: [1,1,4,2,1,1,0,0]\n",
        "\n",
        "Example 2:\n",
        "Input: temperatures = [30,40,50,60]\n",
        "Output: [1,1,1,0]\n",
        "\n",
        "Example 3:\n",
        "Input: temperatures = [30,60,90]\n",
        "Output: [1,1,0]\n",
        "```\n",
        " \n",
        " "
      ],
      "metadata": {
        "id": "OdV3ezFXWgWV"
      }
    },
    {
      "cell_type": "code",
      "source": [
        "from typing import List\n",
        "\n",
        "def dailyTemperatures(temperatures: List[int]) -> List[int]:\n",
        "    stack = [] # monotonically decreasing stack\n",
        "    res = [0] * len(temperatures)\n",
        "    \n",
        "    for i, temp in enumerate(temperatures):\n",
        "        while stack and temp > stack[-1][0]:\n",
        "            t, idx = stack.pop()\n",
        "            res[idx] = i - idx\n",
        "            \n",
        "        stack.append([temp,i])\n",
        "        \n",
        "    return res   "
      ],
      "metadata": {
        "id": "7Lky5HSsW1m8"
      },
      "execution_count": null,
      "outputs": []
    },
    {
      "cell_type": "code",
      "source": [
        "dailyTemperatures([73,74,75,71,69,72,76,73])"
      ],
      "metadata": {
        "colab": {
          "base_uri": "https://localhost:8080/"
        },
        "id": "WGlJjEJ_2vam",
        "outputId": "0b2a595c-55e8-4e1c-a14f-1db4765b48c8"
      },
      "execution_count": null,
      "outputs": [
        {
          "output_type": "execute_result",
          "data": {
            "text/plain": [
              "[1, 1, 4, 2, 1, 1, 0, 0]"
            ]
          },
          "metadata": {},
          "execution_count": 2
        }
      ]
    },
    {
      "cell_type": "markdown",
      "source": [
        "#**Leetcode 150. Evaluate Reverse Polish Notation** `Medium`\n",
        "\n",
        "Evaluate the value of an arithmetic expression in Reverse Polish Notation.\n",
        "\n",
        "Valid operators are `+, -, *, and /`. Each operand may be an integer or another expression.\n",
        "\n",
        "Note that division between two integers should truncate toward zero.\n",
        "\n",
        "It is guaranteed that the given RPN expression is always valid. That means the expression would always evaluate to a result, and there will not be any division by zero operation.\n",
        "\n",
        " \n",
        "```\n",
        "Example 1:\n",
        "Input: tokens = [\"2\",\"1\",\"+\",\"3\",\"*\"]\n",
        "Output: 9\n",
        "Explanation: ((2 + 1) * 3) = 9\n",
        "\n",
        "Example 2:\n",
        "Input: tokens = [\"4\",\"13\",\"5\",\"/\",\"+\"]\n",
        "Output: 6\n",
        "Explanation: (4 + (13 / 5)) = 6\n",
        "```"
      ],
      "metadata": {
        "id": "EFw3OoUU8u2t"
      }
    },
    {
      "cell_type": "code",
      "source": [
        "from typing import List\n",
        "\n",
        "def evalRPN(tokens: List[str]) -> int:\n",
        "    \n",
        "    stack = []\n",
        "    \n",
        "    for c in tokens:\n",
        "        if c == \"+\":\n",
        "            x, y = stack.pop(), stack.pop() \n",
        "            stack.append(x + y)\n",
        "        elif c == \"-\":    \n",
        "            x, y = stack.pop(), stack.pop() \n",
        "            stack.append(y - x)\n",
        "        elif c == \"*\":   \n",
        "            x, y = stack.pop(), stack.pop() \n",
        "            stack.append(x * y)  \n",
        "        elif c == \"/\":  \n",
        "            x, y = stack.pop(), stack.pop() \n",
        "            \n",
        "            stack.append(int(y / x))  \n",
        "        else:\n",
        "            stack.append(int(c))\n",
        "      \n",
        "    return stack[0]\n",
        "    "
      ],
      "metadata": {
        "id": "mHpxCTh19BGM"
      },
      "execution_count": null,
      "outputs": []
    },
    {
      "cell_type": "code",
      "source": [
        "tokens = [\"4\",\"13\",\"5\",\"/\",\"+\"]\n",
        "evalRPN(tokens)"
      ],
      "metadata": {
        "colab": {
          "base_uri": "https://localhost:8080/"
        },
        "id": "vySP_EZ39Ntn",
        "outputId": "66a4b36e-ed44-4a6d-fc0b-f8998375f1e6"
      },
      "execution_count": null,
      "outputs": [
        {
          "output_type": "execute_result",
          "data": {
            "text/plain": [
              "6"
            ]
          },
          "metadata": {},
          "execution_count": 4
        }
      ]
    },
    {
      "cell_type": "markdown",
      "source": [
        "#**Leetcode 22. Generate Parentheses** `Medium`\n",
        "\n",
        "Given `n` pairs of parentheses, write a function to generate all combinations of well-formed parentheses.\n",
        "```\n",
        "Example 1:\n",
        "Input: n = 3\n",
        "Output: [\"((()))\",\"(()())\",\"(())()\",\"()(())\",\"()()()\"]\n",
        "\n",
        "Example 2:\n",
        "Input: n = 1\n",
        "Output: [\"()\"]\n",
        " \n",
        "Constraints:\n",
        "1 <= n <= 8\n",
        "```"
      ],
      "metadata": {
        "id": "MOyJ5pEzk0QI"
      }
    },
    {
      "cell_type": "code",
      "source": [
        "from typing import List\n",
        "\n",
        "def generateParenthesis(n: int) -> List[str]:\n",
        "\n",
        "  res = []\n",
        "\n",
        "  def dfs(s=\"\", left=0, right=0):\n",
        "\n",
        "    if len(s) == 2*n:\n",
        "      res.append(s)\n",
        "    if left < n:\n",
        "      dfs(s + \"(\", left +1, right)\n",
        "    if left > right and right < n:\n",
        "      dfs(s + \")\", left, right + 1)    \n",
        "\n",
        "  dfs(\"\", 0,0)\n",
        "  return res    \n"
      ],
      "metadata": {
        "id": "0Q-pkDNylDyA"
      },
      "execution_count": null,
      "outputs": []
    },
    {
      "cell_type": "code",
      "source": [
        "generateParenthesis(3)"
      ],
      "metadata": {
        "colab": {
          "base_uri": "https://localhost:8080/"
        },
        "id": "zHlGc9DxnEoJ",
        "outputId": "cdde77ba-fec5-4637-d91e-08d7f84b77e6"
      },
      "execution_count": null,
      "outputs": [
        {
          "output_type": "execute_result",
          "data": {
            "text/plain": [
              "['((()))', '(()())', '(())()', '()(())', '()()()']"
            ]
          },
          "metadata": {},
          "execution_count": 8
        }
      ]
    },
    {
      "cell_type": "markdown",
      "source": [
        "#**Leetcode 716. Max Stack** `Hard`\n",
        "\n",
        "Design a max stack data structure that supports the stack operations and supports finding the stack's maximum element.\n",
        "\n",
        "Implement the `MaxStack` class:\n",
        "\n",
        "`MaxStack()` Initializes the stack object.\n",
        "\n",
        "void `push(int x)` Pushes element x onto the stack.\n",
        "\n",
        "int `pop()` Removes the element on top of the stack and returns it.\n",
        "\n",
        "int `top()` Gets the element on the top of the stack without removing it.\n",
        "\n",
        "int `peekMax()` Retrieves the maximum element in the stack without removing it.\n",
        "\n",
        "int `popMax()` Retrieves the maximum element in the stack and removes it. If there is more than one maximum element, only remove the top-most one.\n",
        "\n",
        "You must come up with a solution that supports `O(1)` for each top call and `O(log n)` for each other call.\n",
        "\n",
        "```\n",
        "Input\n",
        "[\"MaxStack\", \"push\", \"push\", \"push\", \"top\", \"popMax\", \"top\", \"peekMax\", \"pop\", \"top\"]\n",
        "[[], [5], [1], [5], [], [], [], [], [], []]\n",
        "Output\n",
        "[null, null, null, null, 5, 5, 1, 5, 1, 5]\n",
        "\n",
        "Explanation\n",
        "MaxStack stk = new MaxStack();\n",
        "stk.push(5);   // [5] the top of the stack and the maximum number is 5.\n",
        "stk.push(1);   // [5, 1] the top of the stack is 1, but the maximum is 5.\n",
        "stk.push(5);   // [5, 1, 5] the top of the stack is 5, which is also the maximum, because it is the top most one.\n",
        "stk.top();     // return 5, [5, 1, 5] the stack did not change.\n",
        "stk.popMax();  // return 5, [5, 1] the stack is changed now, and the top is different from the max.\n",
        "stk.top();     // return 1, [5, 1] the stack did not change.\n",
        "stk.peekMax(); // return 5, [5, 1] the stack did not change.\n",
        "stk.pop();     // return 1, [5] the top of the stack and the max element is now 5.\n",
        "stk.top();     // return 5, [5] the stack did not change.\n",
        "```"
      ],
      "metadata": {
        "id": "aiSUkQMquj0d"
      }
    },
    {
      "cell_type": "markdown",
      "source": [
        "##**Idea.**\n",
        "To peek or pop the max element quickly, we may think of a heap (or priority queue). Meanwhile, a classic stack is sufficient to peek or pop the last added element quickly. \n",
        "\n",
        "When we pop the top element of our heap or the stack, we don't know how to locate the removed element in the other one unless we enumerate all items in it from top to bottom.\n",
        "\n",
        "Thus, we do not delete the popped element. Instead, we just memorize the ID of this element.\n",
        "\n",
        "Whenever we are requested to operate on stack or heap (i.e., top, pop, peekMax and popMax), we first check the ID of its top element, if is turns out to be an ID in removed, that is, it was removed previously, we need to remove the current top element until its ID is not in removed to make sure the top still exists."
      ],
      "metadata": {
        "id": "DBrl-1vmvuSw"
      }
    },
    {
      "cell_type": "code",
      "source": [
        "import heapq\n",
        "class MaxStack:\n",
        "\n",
        "    def __init__(self):\n",
        "        self.stack = []\n",
        "        self.heap = []\n",
        "        self.count = 0\n",
        "        self.deleted = set()\n",
        "\n",
        "    def push(self, x: int) -> None:\n",
        "        self.stack.append((x, self.count))\n",
        "        heapq.heappush(self.heap, (-x, -self.count))\n",
        "        self.count += 1\n",
        "\n",
        "    def pop(self) -> int:\n",
        "        while self.stack and self.stack[-1][1] in self.deleted:\n",
        "            self.stack.pop()\n",
        "        val, i = self.stack.pop()     \n",
        "        self.deleted.add(i)\n",
        "        return val\n",
        "        \n",
        "    def top(self) -> int:\n",
        "        while self.stack and self.stack[-1][1] in self.deleted:\n",
        "             self.stack.pop()\n",
        "        return self.stack[-1][0]\n",
        "\n",
        "    def peekMax(self) -> int:\n",
        "        while self.heap and -self.heap[0][1] in self.deleted:\n",
        "            heapq.heappop(self.heap)\n",
        "        return -self.heap[0][0]    \n",
        "\n",
        "    def popMax(self) -> int:\n",
        "        while self.heap and -self.heap[0][1] in self.deleted:\n",
        "            heapq.heappop(self.heap)\n",
        "        val, i = heapq.heappop(self.heap)\n",
        "        self.deleted.add(-i)\n",
        "        return -val"
      ],
      "metadata": {
        "id": "s1m8D8gcvHrN"
      },
      "execution_count": null,
      "outputs": []
    },
    {
      "cell_type": "markdown",
      "source": [
        "#**Leetcode 641. Design Circular Deque** `Medium`\n",
        "\n",
        "Design your implementation of the circular double-ended queue (deque).\n",
        "\n",
        "Implement the `MyCircularDeque` class:\n",
        "\n",
        "`MyCircularDeque(int k)` Initializes the deque with a maximum size of k.\n",
        "\n",
        "`boolean insertFront()` Adds an item at the front of Deque. Returns true if the operation is successful, or false otherwise.\n",
        "\n",
        "`boolean insertLast()` Adds an item at the rear of Deque. Returns true if the operation is successful, or false otherwise.\n",
        "\n",
        "`boolean deleteFront()` Deletes an item from the front of Deque. Returns true if the operation is successful, or false otherwise.\n",
        "\n",
        "`boolean deleteLast()` Deletes an item from the rear of Deque. Returns true if the operation is successful, or false otherwise.\n",
        "\n",
        "`int getFront()` Returns the front item from the Deque. Returns -1 if the deque is empty.\n",
        "\n",
        "`int getRear()` Returns the last item from Deque. Returns -1 if the deque is empty.\n",
        "\n",
        "`boolean isEmpty()` Returns true if the deque is empty, or false otherwise.\n",
        "\n",
        "`boolean isFull()` Returns true if the deque is full, or false otherwise.\n",
        "\n",
        "```\n",
        "Input\n",
        "[\"MyCircularDeque\", \"insertLast\", \"insertLast\", \"insertFront\", \"insertFront\", \"getRear\", \"isFull\", \"deleteLast\", \"insertFront\", \"getFront\"]\n",
        "[[3], [1], [2], [3], [4], [], [], [], [4], []]\n",
        "Output\n",
        "[null, true, true, true, false, 2, true, true, true, 4]\n",
        "```"
      ],
      "metadata": {
        "id": "p0efvhYFQEVu"
      }
    },
    {
      "cell_type": "code",
      "source": [
        "class MyCircularDeque:\n",
        "\n",
        "    def __init__(self, k: int):\n",
        "        self.entries = [0] * k\n",
        "        self.front = 0\n",
        "        self.rear =  0\n",
        "        # self.count is the size of the queue\n",
        "        self.count = 0  \n",
        "        self.capacity = k    \n",
        "\n",
        "    def insertFront(self, value: int) -> bool:\n",
        "        if self.count == self.capacity:\n",
        "            return False\n",
        "        if self.count == 0:\n",
        "            self.entries[self.front] = value\n",
        "        else:\n",
        "            self.front = (self.front - 1) % self.capacity    \n",
        "            self.entries[self.front] = value\n",
        "        self.count += 1\n",
        "        return True\n",
        "            \n",
        "    def insertLast(self, value: int) -> bool:\n",
        "        if self.count == self.capacity:\n",
        "            return False\n",
        "        if self.count == 0:\n",
        "            self.entries[self.rear] = value\n",
        "        else:    \n",
        "            self.rear = (self.rear + 1) % self.capacity   \n",
        "            self.entries[self.rear] = value\n",
        "        self.count += 1\n",
        "        return True\n",
        "        \n",
        "\n",
        "    def deleteFront(self) -> bool:\n",
        "        if self.count == 0:\n",
        "            return False\n",
        "        self.front = (self.front + 1) % self.capacity    \n",
        "        self.count -= 1\n",
        "        if self.count == 0:\n",
        "            self.rear = self.front\n",
        "        return True\n",
        "        \n",
        "\n",
        "    def deleteLast(self) -> bool:\n",
        "        if self.count == 0:\n",
        "            return False\n",
        "        self.rear = (self.rear - 1) % self.capacity    \n",
        "        self.count -= 1\n",
        "        if self.count == 0:\n",
        "            self.front = self.rear\n",
        "        return True\n",
        "        \n",
        "    def getFront(self) -> int:\n",
        "        if self.count == 0:\n",
        "            return -1\n",
        "        return self.entries[self.front]\n",
        "\n",
        "    def getRear(self) -> int:\n",
        "        if self.count == 0:\n",
        "            return -1\n",
        "     \n",
        "        return self.entries[self.rear]\n",
        "        \n",
        "\n",
        "    def isEmpty(self) -> bool:\n",
        "        return self.count == 0\n",
        "        \n",
        "\n",
        "    def isFull(self) -> bool:\n",
        "        return self.count == self.capacity"
      ],
      "metadata": {
        "id": "424GA-k1Qfab"
      },
      "execution_count": 2,
      "outputs": []
    }
  ]
}