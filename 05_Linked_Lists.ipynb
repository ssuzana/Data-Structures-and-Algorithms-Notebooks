{
  "nbformat": 4,
  "nbformat_minor": 0,
  "metadata": {
    "colab": {
      "provenance": [],
      "toc_visible": true,
      "include_colab_link": true
    },
    "kernelspec": {
      "name": "python3",
      "display_name": "Python 3"
    },
    "language_info": {
      "name": "python"
    }
  },
  "cells": [
    {
      "cell_type": "markdown",
      "metadata": {
        "id": "view-in-github",
        "colab_type": "text"
      },
      "source": [
        "<a href=\"https://colab.research.google.com/github/ssuzana/Data-Structures-and-Algorithms-Notebooks/blob/main/05_Linked_Lists.ipynb\" target=\"_parent\"><img src=\"https://colab.research.google.com/assets/colab-badge.svg\" alt=\"Open In Colab\"/></a>"
      ]
    },
    {
      "cell_type": "markdown",
      "metadata": {
        "id": "n8yYV5G4Dv_A"
      },
      "source": [
        "A (singly) linked list is a data structure that contains a sequence of nodes such that each node contains an object and a reference to the next node in the list. The first node is referred to as the head and the last node is referred to as the tail; the tail's next field is null.\n",
        "\n",
        "There are many variants of linked lists, e.g., in a *doubly linked list*, each node has a link to its predecessor; similarly, a sentinel node or a self-loop can be used instead of null to mark the end of the list.\n",
        "\n",
        "**Arrays vs. linked lists:** An array must be stored contiguously in memory. To insert an element at a given index in an array we must shift over elements of the array. Insertion in array has `O(n)` time complexity but insertion in linked list has `O(1)` time complexity (if we insert at the currect position). "
      ]
    },
    {
      "cell_type": "code",
      "metadata": {
        "id": "ZALfn3tJDjkj"
      },
      "source": [
        "# Each node has two entries -  a \"data\" field and a \"next\" field,\n",
        "# which points to the next node in the list\n",
        "# with the next field of the last node being null\n",
        "\n",
        "class ListNode:\n",
        "  def __init__(self, val=0, next=None):\n",
        "    self.val = val\n",
        "    self.next = next\n",
        "\n",
        "# Search\n",
        "def search_list(head: ListNode, value: int) -> ListNode:\n",
        "  # Return True if value in linked list, otherwise False\n",
        "  current_node = head\n",
        "  while current_node is not None:\n",
        "    if current_node.val == value:\n",
        "      return True\n",
        "\n",
        "    current_node = current_node.next\n",
        "  return False"
      ],
      "execution_count": null,
      "outputs": []
    },
    {
      "cell_type": "code",
      "metadata": {
        "id": "8tNM8JsbP1UU"
      },
      "source": [
        "# Insert a new node after a specified node\n",
        "def insert_after(node: ListNode, new_node: ListNode) -> None:\n",
        "  new_node.next = node.next\n",
        "  node.next = new_node"
      ],
      "execution_count": null,
      "outputs": []
    },
    {
      "cell_type": "code",
      "metadata": {
        "id": "4c245rDYSPfI"
      },
      "source": [
        "# Delete a node after a specified node. \n",
        "# Assume node is not a tail\n",
        "\n",
        "def delete_after(node: ListNode) -> None:\n",
        "  node.next = node.next.next"
      ],
      "execution_count": null,
      "outputs": []
    },
    {
      "cell_type": "code",
      "metadata": {
        "colab": {
          "base_uri": "https://localhost:8080/"
        },
        "id": "e3uTyzk4StR5",
        "outputId": "b3fd4c9e-1a58-4b65-de3e-ff26187a5293"
      },
      "source": [
        "# node3 -> node2 -> node1\n",
        "node1 = ListNode(10) # tail\n",
        "node2 = ListNode(9,node1)\n",
        "node3 = ListNode(8, node2) #head\n",
        "print(search_list(node3,10))"
      ],
      "execution_count": null,
      "outputs": [
        {
          "output_type": "stream",
          "name": "stdout",
          "text": [
            "True\n"
          ]
        }
      ]
    },
    {
      "cell_type": "code",
      "metadata": {
        "colab": {
          "base_uri": "https://localhost:8080/"
        },
        "id": "vk0jtAqFOzuO",
        "outputId": "a3433205-553f-4ecd-dd61-bfd31c414a7c"
      },
      "source": [
        "print(search_list(node3, 4))\n",
        "print(search_list(node3,9))"
      ],
      "execution_count": null,
      "outputs": [
        {
          "output_type": "stream",
          "name": "stdout",
          "text": [
            "False\n",
            "True\n"
          ]
        }
      ]
    },
    {
      "cell_type": "code",
      "metadata": {
        "colab": {
          "base_uri": "https://localhost:8080/"
        },
        "id": "JKX35GDeRxpd",
        "outputId": "4723e9f6-8746-44e8-877c-ccf68eb0fef4"
      },
      "source": [
        "insert_after(node3, ListNode(4))\n",
        "print(search_list(node3,4))"
      ],
      "execution_count": null,
      "outputs": [
        {
          "output_type": "stream",
          "name": "stdout",
          "text": [
            "True\n"
          ]
        }
      ]
    },
    {
      "cell_type": "code",
      "metadata": {
        "colab": {
          "base_uri": "https://localhost:8080/"
        },
        "id": "PghnDeOiSxa4",
        "outputId": "bb8f2058-39f9-4318-c40e-1e0927ae7f36"
      },
      "source": [
        "delete_after(node2)\n",
        "print(search_list(node3,10))"
      ],
      "execution_count": null,
      "outputs": [
        {
          "output_type": "stream",
          "name": "stdout",
          "text": [
            "False\n"
          ]
        }
      ]
    },
    {
      "cell_type": "markdown",
      "source": [
        "#**Leetcode 206. Reverse Linked List** `Easy`\n",
        "Given the head of a singly linked list, reverse the list, and return the reversed list.\n",
        "\n",
        " ```\n",
        "Example:\n",
        "Input: head = [1,2,3,4,5]\n",
        "Output: [5,4,3,2,1]\n",
        "```"
      ],
      "metadata": {
        "id": "oUHCUyws_llS"
      }
    },
    {
      "cell_type": "code",
      "source": [
        "from typing import List\n",
        "\n",
        "# Definition for singly-linked list.\n",
        "class ListNode:\n",
        "  def __init__(self, val=0, next=None):\n",
        "    self.val = val\n",
        "    self.next = next\n",
        "\n",
        "# iterative solution; Time: O(n), Space: O(1)\n",
        "  def reverseList(head):\n",
        "    prev = None\n",
        "    cur = head\n",
        "    while cur is not None:\n",
        "      # save next node\n",
        "      temp = cur.next\n",
        "      # reverse link\n",
        "      cur.next = prev\n",
        "      # shift pointers\n",
        "      prev = cur\n",
        "      cur = temp\n",
        "    return prev\n",
        "        "
      ],
      "metadata": {
        "id": "MXJJd7gI_99d"
      },
      "execution_count": null,
      "outputs": []
    },
    {
      "cell_type": "code",
      "source": [
        "# recursive solution; Time: O(n), Space: O(n)\n",
        "def reverseList(head):\n",
        "        if not head or not head.next:\n",
        "            return head\n",
        "        \n",
        "        new_head = reverseList(head.next)\n",
        "        head.next.next = head\n",
        "        head.next = None\n",
        "        return new_head"
      ],
      "metadata": {
        "id": "Pu9iAqIFryH-"
      },
      "execution_count": null,
      "outputs": []
    },
    {
      "cell_type": "markdown",
      "source": [
        "#**Leetcode 234. Palindrome Linked List** `Easy`\n",
        "Given the `head` of a singly linked list, return `true` if it is a \n",
        "palindrome or `false` otherwise.\n",
        "\n",
        "```\n",
        "Input: head = [1,2,2,1] \n",
        "1 -> 2 -> 2 -> 1\n",
        "Output: true\n",
        "```\n",
        "\n",
        "**Idea**: Reverse the back half of the list.\n",
        "To find the middle of the linked list, we'll traverse the linked list with two pointers, one of which is moving twice as fast as the other.\n",
        "When the `fast` pointer reaches the end of the list, the `slow` pointer must be in the middle."
      ],
      "metadata": {
        "id": "Wh_zNROrwgSj"
      }
    },
    {
      "cell_type": "code",
      "source": [
        "def isPalindrome(head):\n",
        "  # find middle of node\n",
        "  slow = fast = head\n",
        "  while fast and fast.next:\n",
        "    fast = fast.next.next\n",
        "    slow = slow.next\n",
        "\n",
        "  # reverse the second half\n",
        "  prev = None\n",
        "  while slow:\n",
        "    # save the next node\n",
        "    temp = slow.next\n",
        "    # reverse link\n",
        "    slow.next = prev\n",
        "    # shift pointers \n",
        "    prev = slow\n",
        "    slow = temp\n",
        "\n",
        "  # compare the first and second half nodes\n",
        "  #  1 -> 2 -> 2 <- 1\n",
        "  # head     prev\n",
        "  while prev:\n",
        "    if prev.val != head.val:\n",
        "      return False\n",
        "    prev = prev.next\n",
        "    head = head.next\n",
        "  return True"
      ],
      "metadata": {
        "id": "mbNM0Zgrx0-u"
      },
      "execution_count": null,
      "outputs": []
    },
    {
      "cell_type": "markdown",
      "source": [
        "#**Leetcode 2487. Remove Nodes From Linked List**\n",
        " `Medium`\n",
        "\n",
        "You are given the `head` of a linked list.\n",
        "\n",
        "Remove every node which has a node with a **strictly greater** value anywhere to the right side of it.\n",
        "\n",
        "Return the `head` of the modified linked list.\n",
        "\n",
        "```\n",
        "Input: head = [5,2,13,3,8]\n",
        "Output: [13,8]\n",
        "```"
      ],
      "metadata": {
        "id": "bX4QF3GHVPLA"
      }
    },
    {
      "cell_type": "code",
      "source": [
        "# Definition for singly-linked list.\n",
        "# class ListNode:\n",
        "#     def __init__(self, val=0, next=None):\n",
        "#         self.val = val\n",
        "#         self.next = next\n",
        "\n",
        "def removeNodes(head):\n",
        "    # recursive sol: time O(n), space: O(n)\n",
        "    if not head:\n",
        "        return None\n",
        "\n",
        "    head.next = removeNodes(head.next)\n",
        "\n",
        "    if head.next and head.val < head.next.val:\n",
        "        return head.next\n",
        "    return head    "
      ],
      "metadata": {
        "id": "SP77wqAwVh2V"
      },
      "execution_count": null,
      "outputs": []
    },
    {
      "cell_type": "markdown",
      "source": [
        "The following solution uses a **monotonic stack** to filter out nodes that don't satisfy the condition in the problem. \n",
        "\n",
        "When traversing the next node from the list, we have to check whether its value is greater than for any of the previous ones. It can be done by first checking the last node, then the last before last and so on. For the last nodes to be available for comparison, we maintain a stack. The nodes that break the condition in the problem are removed. This effectively makes this stack a monotonic stack, thus, ensuring that we stop comparing nodes when the condition for the current node and top node (on the stack) is restored.\n"
      ],
      "metadata": {
        "id": "TBSpgURCWl4T"
      }
    },
    {
      "cell_type": "code",
      "source": [
        "import math\n",
        "def removeNodes(head):\n",
        "    # iterative sol: time O(n), space: O(n)\n",
        "    dummy = ListNode(math.inf)\n",
        "    stack = [dummy]\n",
        "    cur = head\n",
        "    \n",
        "    while cur:\n",
        "      while cur.val > stack[-1].val:\n",
        "        stack.pop()\n",
        "      stack[-1].next = cur\n",
        "      stack.append(cur)  \n",
        "      cur = cur.next\n",
        "    return dummy.next    "
      ],
      "metadata": {
        "id": "UPTy_APyWlXs"
      },
      "execution_count": null,
      "outputs": []
    },
    {
      "cell_type": "code",
      "source": [
        "# head = [5,2,13,3,8]\n",
        "# 5 -> 2 -> 13 -> 3 -> 8 -> None\n",
        "node1 = ListNode(8)\n",
        "node2 = ListNode(3,node1)\n",
        "node3 = ListNode(13, node2)\n",
        "node4 = ListNode(2, node3)\n",
        "head = ListNode(5, node4)\n",
        "\n",
        "updated_head = removeNodes(head)\n",
        "cur = updated_head\n",
        "while cur:\n",
        "  print(cur.val)\n",
        "  cur = cur.next"
      ],
      "metadata": {
        "colab": {
          "base_uri": "https://localhost:8080/"
        },
        "id": "h37zo6egbx3l",
        "outputId": "2b9df025-321e-4242-8e0d-f686d0dd5945"
      },
      "execution_count": null,
      "outputs": [
        {
          "output_type": "stream",
          "name": "stdout",
          "text": [
            "13\n",
            "8\n"
          ]
        }
      ]
    },
    {
      "cell_type": "markdown",
      "source": [
        "#**Leetcode 369. Plus One Linked List** `Medium`\n",
        "\n",
        "Given a non-negative integer represented as a linked list of digits, plus one to the integer.\n",
        "\n",
        "The digits are stored such that the most significant digit is at the `head` of the list.\n",
        "\n",
        "```\n",
        "Input: head = [1,2,3]\n",
        "Output: [1,2,4]\n",
        "\n",
        "Input: head = [2,4,9,3,9]\n",
        "Output: [2,4,9,4,0]\n",
        "\n",
        "Input: head = [9,9,9]\n",
        "Output: [1,0,0,0]\n",
        "\n",
        "```\n",
        "\n"
      ],
      "metadata": {
        "id": "SWfc8lqUQvq4"
      }
    },
    {
      "cell_type": "code",
      "source": [
        " def plusOne(head: ListNode) -> ListNode:\n",
        "\n",
        "   dummy = ListNode(0)\n",
        "   dummy.next = head\n",
        "\n",
        "   processNode(dummy)\n",
        "\n",
        "   if dummy.val != 0:\n",
        "     return dummy\n",
        "   return dummy.next\n",
        "\n",
        "def processNode(node):\n",
        "  if node:\n",
        "    node.val += processNode(node.next)\n",
        "    quotient, rem = divmod(node.val, 10)\n",
        "    node.val = rem\n",
        "    return quotient\n",
        "  return 1  "
      ],
      "metadata": {
        "id": "JkGTCrlvRaPL"
      },
      "execution_count": null,
      "outputs": []
    },
    {
      "cell_type": "code",
      "source": [
        "# head = [2,4,9,3,9]\n",
        "node1 = ListNode(9)\n",
        "node2 = ListNode(3,node1)\n",
        "node3 = ListNode(9, node2)\n",
        "node4 = ListNode(4, node3)\n",
        "head = ListNode(2, node4)\n",
        "\n",
        "updated_head = plusOne(head)\n",
        "cur = updated_head\n",
        "while cur:\n",
        "  print(cur.val, end=\"\")\n",
        "  cur = cur.next"
      ],
      "metadata": {
        "colab": {
          "base_uri": "https://localhost:8080/"
        },
        "id": "7w7506qsTOFt",
        "outputId": "7380d893-cdba-4a6c-d061-66083c73465b"
      },
      "execution_count": null,
      "outputs": [
        {
          "output_type": "stream",
          "name": "stdout",
          "text": [
            "24940"
          ]
        }
      ]
    },
    {
      "cell_type": "markdown",
      "source": [
        "The idea for the following solution is to identify the **rightmost** digit which is **not equal to nine** and increase that digit by one. All the following nines should be set to zero."
      ],
      "metadata": {
        "id": "VqD2OLrcVHlC"
      }
    },
    {
      "cell_type": "code",
      "source": [
        " def plusOne(head: ListNode) -> ListNode:\n",
        "\n",
        "   dummy = ListNode(0)\n",
        "   dummy.next = head\n",
        "   not_nine = dummy\n",
        "\n",
        "   while head:\n",
        "     if head.val != 9:\n",
        "       not_nine = head\n",
        "     head = head.next\n",
        "   \n",
        "   not_nine.val += 1\n",
        "   cur = not_nine.next\n",
        "  \n",
        "   while cur:\n",
        "     cur.val = 0\n",
        "     cur = cur.next\n",
        "  \n",
        "   if dummy.val != 0:\n",
        "     return dummy\n",
        "   return dummy.next"
      ],
      "metadata": {
        "id": "8XI8NgBSVTio"
      },
      "execution_count": null,
      "outputs": []
    },
    {
      "cell_type": "code",
      "source": [
        "# head = [2,4,9,3,9]\n",
        "node1 = ListNode(9)\n",
        "node2 = ListNode(3,node1)\n",
        "node3 = ListNode(9, node2)\n",
        "node4 = ListNode(4, node3)\n",
        "head = ListNode(2, node4)\n",
        "\n",
        "updated_head = plusOne(head)\n",
        "cur = updated_head\n",
        "while cur:\n",
        "  print(cur.val, end=\"\")\n",
        "  cur = cur.next"
      ],
      "metadata": {
        "colab": {
          "base_uri": "https://localhost:8080/"
        },
        "id": "q--nPvg0Wbm-",
        "outputId": "a4af6c0e-0ba6-4aa0-c038-e404501666e7"
      },
      "execution_count": null,
      "outputs": [
        {
          "output_type": "stream",
          "name": "stdout",
          "text": [
            "24940"
          ]
        }
      ]
    }
  ]
}