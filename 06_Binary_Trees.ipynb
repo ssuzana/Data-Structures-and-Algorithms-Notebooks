{
  "nbformat": 4,
  "nbformat_minor": 0,
  "metadata": {
    "colab": {
      "provenance": [],
      "toc_visible": true,
      "include_colab_link": true
    },
    "kernelspec": {
      "name": "python3",
      "display_name": "Python 3"
    },
    "language_info": {
      "name": "python"
    }
  },
  "cells": [
    {
      "cell_type": "markdown",
      "metadata": {
        "id": "view-in-github",
        "colab_type": "text"
      },
      "source": [
        "<a href=\"https://colab.research.google.com/github/ssuzana/Data-Structures-and-Algorithms-Notebooks/blob/main/06_Binary_Trees.ipynb\" target=\"_parent\"><img src=\"https://colab.research.google.com/assets/colab-badge.svg\" alt=\"Open In Colab\"/></a>"
      ]
    },
    {
      "cell_type": "markdown",
      "metadata": {
        "id": "D02WD7oyG-MR"
      },
      "source": [
        "# Definitions\n",
        "\n",
        "> **Trees.** In a classic linked list, each node contains a link that connects \n",
        "to a single other node. A tree is also a node based data structure, but within a tree, each node can have links to multiple nodes.\n",
        "\n",
        "> A *binary tree* is a tree in which each node has zero, one, or two children. \n",
        "\n",
        "> A *binary search tree* is a binary tree that also abides by the following rules:    \n",
        "*   Each node can have at most one \"left\" child and one \"right\" child.\n",
        "*   A node's \"left\" descendants can only contain values that are less than the node itself. Likewise, a node's \"right\" descendents can only contain values that are greater than the node itself.\n",
        "\n"
      ]
    },
    {
      "cell_type": "markdown",
      "source": [
        "# **Binary Search Trees**"
      ],
      "metadata": {
        "id": "bQYjpGe8unjX"
      }
    },
    {
      "cell_type": "code",
      "metadata": {
        "id": "kDlblbpaF1xA"
      },
      "source": [
        "# Implementation of a tree node\n",
        "class TreeNode:\n",
        "  def __init__(self, val, left=None, right=None):\n",
        "    self.value = val\n",
        "    self.leftChild = left\n",
        "    self.rightChild = right"
      ],
      "execution_count": null,
      "outputs": []
    },
    {
      "cell_type": "code",
      "metadata": {
        "id": "UzlT70hqN--o"
      },
      "source": [
        "# Build a tree\n",
        "node1 = TreeNode(25)\n",
        "node2 = TreeNode(75)\n",
        "root = TreeNode(50, node1, node2)"
      ],
      "execution_count": null,
      "outputs": []
    },
    {
      "cell_type": "markdown",
      "metadata": {
        "id": "ScOM-Yi9O77T"
      },
      "source": [
        "## **Searching within a binary search tree**\n",
        "\n",
        "1.   Designate a node to be the \"current node\". \n",
        "(At the beginning of the algorithm, the root node is the first \"current node\".)\n",
        "2.   Inspect the value at the current node.\n",
        "3.   If we've found the value we're looking for, great!\n",
        "4.   If the value we're looking for is less than the current node, search for it in its left subtree.\n",
        "5.   If the value we're looking for is greater than the current node, search for it in its right subtree.\n",
        "6.   Repeat Steps 1 through 5 until we find the value we're searching for, or until we hit the bottom of the tree, in which case our value must not be in the tree.\n",
        "\n",
        "**Time complexity.** With a balanced tree search takes `O(log N)`. In a worst-case scenario, when a tree is completely inbalanced, search is `O(N)`.\n",
        "In the typical scenario, in which data is inserted in random order, a tree will be pretty well balanced and search will take about `O(log N)`.\n"
      ]
    },
    {
      "cell_type": "code",
      "metadata": {
        "id": "IA8fyubxvPSi"
      },
      "source": [
        "# Code Implementation: Searching a Binary Search Tree\n",
        "def search(searchValue, node):\n",
        "\n",
        "  if node is None or node.value == searchValue:\n",
        "    return node\n",
        "\n",
        "  elif searchValue < node.value:\n",
        "    return search(searchValue, node.leftChild)\n",
        "\n",
        "  else:\n",
        "    return search(searchValue, node.rightChild)"
      ],
      "execution_count": null,
      "outputs": []
    },
    {
      "cell_type": "markdown",
      "metadata": {
        "id": "xVRGrQhtzHc4"
      },
      "source": [
        "## **Insertion in a binary search tree** \n",
        "\n",
        "Insertion in a binary search tree always takes just one extra step beyond a search, which means insertion takes `(log N) + 1` steps. In Big `O` notation, which ignores constants, this is `O(log N)`.\n",
        "\n",
        "In an ordered array, by contrast, insertion takes `O(N)`, because in addition to search, we must shift a lot of data to the rigth to make room for the value we're inserting. \n",
        "\n",
        "This is what makes binary search trees so efficient. This becomes crucial in an application in which you anticipate a lot of changes to your data."
      ]
    },
    {
      "cell_type": "code",
      "metadata": {
        "id": "Oqx2ESW7xsNj"
      },
      "source": [
        "# Code Implementation: Binary Search Tree Insertion\n",
        "\n",
        "def insert(value, node):\n",
        "  if value < node.value:\n",
        "    # If the left child does not exist,\n",
        "    # we want to insert the value as the left child:\n",
        "    if node.leftChild is None:\n",
        "      node.leftChild = TreeNode(value)\n",
        "    else:\n",
        "      insert(value, node.leftChild)\n",
        "  elif value  > node.value:\n",
        "    # If the right child does not exist,\n",
        "    # we want to insert the value as the right child:\n",
        "    if node. rightChild is None:\n",
        "      node.rightChild = TreeNode(value)\n",
        "    else:\n",
        "      insert(value, node.rightChild)     "
      ],
      "execution_count": null,
      "outputs": []
    },
    {
      "cell_type": "markdown",
      "metadata": {
        "id": "zoQlldO-dopW"
      },
      "source": [
        "## **Deletion from a binary search tree** \n",
        "\n",
        "*   If the node deleted has no children, simply delete it.\n",
        "*   If the node being deleted has one child, delete the node and plug the child into the spot where the deleted node was.\n",
        "*   When deleting a node with two children, replace the deleted node with the successor node (i.e. the child node whose value is the least of all values that are greater than the deleted node.) \n",
        "*   To find the successor node: visit the right child of the deleted value, and then keep on visiting the left child of each subsequent child until there are no more children. The bottom value is the succesor node.\n",
        "*   If the succesor node has a right child, after plugging in the successor node into the spot of the deleted node, take the former right child of the successor node and turn it into the left child of the former parent of the successor node.\n",
        "\n",
        "**Time complexity.** Like search and insertion, deleting from trees is also typically `O(log N)`. This is because deletion requires a search plus a few extra steps to deal with any hanging children.\n",
        "\n",
        "Contrast this with deleting a value from an ordered array, which is `O(N)` due to shifting elements to the left to close the gap of the deleted value."
      ]
    },
    {
      "cell_type": "code",
      "metadata": {
        "id": "6fqqOEQOh0b-"
      },
      "source": [
        "# Code Implementation: Binary Search Tree Deletion\n",
        "def delete(valueToDelete, node):\n",
        "  if node is None:\n",
        "    return None\n",
        "  elif valueToDelete < node.value:\n",
        "    node.leftChild  = delete(valueToDelete, node.leftChild)\n",
        "    return node\n",
        "  elif valueToDelete > node.value:\n",
        "    node.rightChild = delete(valueToDelete, node.rightChild)\n",
        "    return node\n",
        "  elif valueToDelete == node.value:\n",
        "    if node.leftChild is None:\n",
        "      return node.rightChild\n",
        "    elif node.rightChild is None:\n",
        "      return node.leftChild\n",
        "    else:\n",
        "      node.rightChild = lift(node.rightChild, node)\n",
        "      return node\n",
        "\n",
        "def lift(node, nodeToDelete):\n",
        "  # If the current node of this function has a left child,\n",
        "  # we recursively call this function to continue down\n",
        "  # the left subtree to find the successor node.\n",
        "  if node.leftChild:\n",
        "    node.leftChild = lift(node.leftChild, nodeToDelete)\n",
        "    return node\n",
        "  else:\n",
        "    # If the current node has no left child, that means the current node \n",
        "    # is the successor node, and we take its value \n",
        "    # and make it the new value of the node we're deleting\n",
        "    nodeToDelete.value = node.value\n",
        "    # We return the successor node's right child to be now used\n",
        "    # as its parent's left child\n",
        "    return node.rightChild             "
      ],
      "execution_count": null,
      "outputs": []
    },
    {
      "cell_type": "code",
      "metadata": {
        "id": "uQLdWDJT8TvP"
      },
      "source": [
        "# find the greatest value within a binary search tree\n",
        "def max(node):\n",
        "   if node.rightChild is not None: \n",
        "     return max(node.rightChild) \n",
        "   else: \n",
        "     return node.value"
      ],
      "execution_count": null,
      "outputs": []
    },
    {
      "cell_type": "markdown",
      "source": [
        "# **Tree Traversals**\n",
        "\n"
      ],
      "metadata": {
        "id": "tdC8TXTO5yav"
      }
    },
    {
      "cell_type": "markdown",
      "source": [
        "## **Inorder Traversal (Left, Root, Right)**\n",
        "We create a recursive function called *traverse* that can be called on a particular node. The function performs the following steps:\n",
        "\n",
        "1.   Call itself recursively on the node's **left** child. The function will keep getting called until we hit a node that does not have a left child.\n",
        "2.   \"Visit\" (print) the node value.\n",
        "3.   Call itself recursively on the node's **right** child. The function will keep getting called until we hit a node that does not have a right child.\n",
        "\n",
        "* In the case of binary search trees (BST), the inorder traversal gives the nodes in non-decreasing order."
      ],
      "metadata": {
        "id": "-Vw428A7yr13"
      }
    },
    {
      "cell_type": "code",
      "source": [
        "# Inorder Traversal (Left, Root, Right)\n",
        "def inorder_traversal(node):\n",
        "  if node is None:\n",
        "    return\n",
        "  inorder_traversal(node.leftChild)\n",
        "  print(node.value)\n",
        "  inorder_traversal(node.rightChild)  "
      ],
      "metadata": {
        "id": "3darLUc37xQF"
      },
      "execution_count": null,
      "outputs": []
    },
    {
      "cell_type": "markdown",
      "source": [
        "## **Preorder Traversal (Root, Left, Right)**\n",
        "\n",
        "* Preorder traversal can be used to create a copy of the tree. It can be also used to get prefix expressions on an expression tree."
      ],
      "metadata": {
        "id": "wrA6XnfNy0Ej"
      }
    },
    {
      "cell_type": "code",
      "source": [
        "# Preorder Traversal (Root, Left, Right)\n",
        "def preorder_traversal(node):\n",
        "  if node is None:\n",
        "    return\n",
        "  print(node.value)  \n",
        "  preorder_traversal(node.leftChild)\n",
        "  preorder_traversal(node.rightChild) "
      ],
      "metadata": {
        "id": "dE1yjMw_-ThI"
      },
      "execution_count": null,
      "outputs": []
    },
    {
      "cell_type": "markdown",
      "source": [
        "## **Preorder Traversal (Root, Left, Right)**\n",
        "\n",
        "* Postorder traversal is used to delete the tree. Postorder traversal is also useful to get the postfix expression of an expression tree."
      ],
      "metadata": {
        "id": "JCT4gNyQy7Zb"
      }
    },
    {
      "cell_type": "code",
      "source": [
        "# Postorder Traversal (Left, Right, Root)\n",
        "def postorder_traversal(node):\n",
        "  if node is None:\n",
        "    return\n",
        "  postorder_traversal(node.leftChild)\n",
        "  postorder_traversal(node.rightChild)   \n",
        "  print(node.value)  "
      ],
      "metadata": {
        "id": "vKMkOBxL_Pd0"
      },
      "execution_count": null,
      "outputs": []
    },
    {
      "cell_type": "markdown",
      "source": [
        "## **Depth-First Traversal**"
      ],
      "metadata": {
        "id": "Oct6W8ju0CzX"
      }
    },
    {
      "cell_type": "code",
      "source": [
        "# Time: O(n), Space: O(n) where n = # of nodes\n",
        "def depth_first_values(root):\n",
        "  if not root:\n",
        "    return []\n",
        "  res = []\n",
        "  stack = [root]\n",
        "  while stack:\n",
        "    cur = stack.pop()\n",
        "    res.append(cur.val)\n",
        "    if cur.right:\n",
        "      stack.append(cur.right)\n",
        "    if cur.left:\n",
        "      stack.append(cur.left)\n",
        "  return res   "
      ],
      "metadata": {
        "id": "YYJWS3Tv0Ih5"
      },
      "execution_count": 11,
      "outputs": []
    },
    {
      "cell_type": "code",
      "source": [
        "# Leetcode definition for a binary tree node.\n",
        "class TreeNode:\n",
        "    def __init__(self, val=0, left=None, right=None):\n",
        "        self.val = val\n",
        "        self.left = left\n",
        "        self.right = right"
      ],
      "metadata": {
        "id": "CexS7mWcULv-"
      },
      "execution_count": 2,
      "outputs": []
    },
    {
      "cell_type": "code",
      "source": [
        "#             a\n",
        "#            / \\\n",
        "#           b   c\n",
        "#          / \\   \\\n",
        "#         d   e   f\n",
        "d = TreeNode(val=\"d\",left=None, right=None)\n",
        "e = TreeNode(val=\"e\",left=None, right=None)\n",
        "f = TreeNode(val=\"f\",left=None, right=None)\n",
        "b = TreeNode(val=\"b\",left=d, right=e)\n",
        "c = TreeNode(val=\"c\",left=None, right=f)\n",
        "a = TreeNode(val=\"a\",left=b, right=c)"
      ],
      "metadata": {
        "id": "HkcJvhGG06D5"
      },
      "execution_count": 3,
      "outputs": []
    },
    {
      "cell_type": "code",
      "source": [
        "depth_first_values(root=a)"
      ],
      "metadata": {
        "colab": {
          "base_uri": "https://localhost:8080/"
        },
        "id": "A6015HrQ2KP6",
        "outputId": "c43c91d5-e3e4-461f-c561-6686dd39d6ca"
      },
      "execution_count": 4,
      "outputs": [
        {
          "output_type": "execute_result",
          "data": {
            "text/plain": [
              "['a', 'b', 'd', 'e', 'c', 'f']"
            ]
          },
          "metadata": {},
          "execution_count": 4
        }
      ]
    },
    {
      "cell_type": "markdown",
      "source": [
        "## **Breadth-First Traversal** \n"
      ],
      "metadata": {
        "id": "_2Tmcyo749G1"
      }
    },
    {
      "cell_type": "code",
      "source": [
        "# # Time: O(n), Space: O(n) where n = # of nodes\n",
        "# assuming add and remove operations for queue are O(1)\n",
        "from collections import deque\n",
        "def breadth_first_values(root):\n",
        "  if not root:\n",
        "    return []\n",
        "  res = []\n",
        "  q = deque([root])\n",
        "  while q:\n",
        "    cur = q.popleft()\n",
        "    res.append(cur.val)\n",
        "    if cur.left:\n",
        "      q.append(cur.left)\n",
        "    if cur.right:\n",
        "      q.append(cur.right)\n",
        "  return res   "
      ],
      "metadata": {
        "id": "NIk4eTNk5D_-"
      },
      "execution_count": 12,
      "outputs": []
    },
    {
      "cell_type": "code",
      "source": [
        "breadth_first_values(root=a)"
      ],
      "metadata": {
        "colab": {
          "base_uri": "https://localhost:8080/"
        },
        "id": "_uH-T6Vv5sq3",
        "outputId": "8aacc251-1268-426e-c944-a41916e2dd1c"
      },
      "execution_count": 9,
      "outputs": [
        {
          "output_type": "execute_result",
          "data": {
            "text/plain": [
              "['a', 'b', 'c', 'd', 'e', 'f']"
            ]
          },
          "metadata": {},
          "execution_count": 9
        }
      ]
    },
    {
      "cell_type": "markdown",
      "source": [
        "#**Leetcode 102. Binary Tree Level Order Traversal** `Medium`\n",
        "\n",
        "Given the `root` of a binary tree, return the level order traversal of its nodes' values. (i.e., from left to right, level by level).\n",
        "\n",
        "```\n",
        "Input: root = [3,9,20,null,null,15,7]\n",
        "Output: [[3],[9,20],[15,7]]\n",
        "```"
      ],
      "metadata": {
        "id": "j4zKnQIITsEG"
      }
    },
    {
      "cell_type": "code",
      "source": [
        "import collections\n",
        "def levelOrder(root):\n",
        "    res = []\n",
        "    q = collections.deque()\n",
        "  \n",
        "    if root:\n",
        "        q.append(root)\n",
        "\n",
        "    while q:\n",
        "        val = []\n",
        "\n",
        "        for i in range(len(q)):\n",
        "            node = q.popleft()\n",
        "            val.append(node.val)\n",
        "            if node.left:\n",
        "                q.append(node.left)\n",
        "            if node.right:\n",
        "                q.append(node.right)\n",
        "        res.append(val)\n",
        "    return res"
      ],
      "metadata": {
        "id": "fq24YdDVTtEE"
      },
      "execution_count": null,
      "outputs": []
    },
    {
      "cell_type": "markdown",
      "source": [
        "#**Leetcode 701. Insert into a Binary Search Tree** `Medium`\n",
        "\n",
        "You are given the `root` node of a binary search tree (BST) and a `value` to insert into the tree. Return the root node of the BST after the insertion. It is guaranteed that the new value does not exist in the original BST.\n",
        "\n",
        "Notice that there may exist multiple valid ways for the insertion, as long as the tree remains a BST after insertion. You can return any of them.\n",
        "\n",
        "```\n",
        "Input: root = [4,2,7,1,3], val = 5\n",
        "                  4\n",
        "                 / \\\n",
        "                2   7\n",
        "               / \\\n",
        "              1   3\n",
        "\n",
        "Output: [4,2,7,1,3,5]\n",
        "                    4\n",
        "                 /    \\\n",
        "                2      7\n",
        "              / \\     /\n",
        "             1   3   5\n",
        "  \n",
        "```"
      ],
      "metadata": {
        "id": "xFecnkm9PYf8"
      }
    },
    {
      "cell_type": "code",
      "source": [
        "def insertIntoBST_recursive(root, val):\n",
        "    # Recursive sol: time = O(height of tree), \n",
        "    # space = O(height of tree) to keep the recursion stack\n",
        "    if root is None:\n",
        "        root = TreeNode(val)    \n",
        "    if val < root.val:\n",
        "        if root.left is None:\n",
        "            root.left = TreeNode(val)\n",
        "        else:\n",
        "            insertIntoBST(root.left, val)\n",
        "    elif val > root.val:\n",
        "        if root.right is None:\n",
        "            root.right = TreeNode(val)\n",
        "        else:\n",
        "            insertIntoBST(root.right, val)      \n",
        "    return root "
      ],
      "metadata": {
        "id": "wAnfl7Q3RUaY"
      },
      "execution_count": null,
      "outputs": []
    },
    {
      "cell_type": "code",
      "source": [
        "#Iterative sol: time = O(height of tree), space = O(1)   \n",
        "def insertIntoBST_iterative(root, val):\n",
        "    if root is None:\n",
        "        return TreeNode(val)       \n",
        "    cur = root\n",
        "    while True:\n",
        "        if cur.val < val:\n",
        "            if not cur.right:\n",
        "                cur.right = TreeNode(val)\n",
        "                return root\n",
        "            cur = cur.right\n",
        "        else:\n",
        "            if not cur.left:\n",
        "                cur.left = TreeNode(val)\n",
        "                return root\n",
        "            cur = cur.left            "
      ],
      "metadata": {
        "id": "_COc43dpRotL"
      },
      "execution_count": null,
      "outputs": []
    },
    {
      "cell_type": "code",
      "source": [
        "# Build the example tree\n",
        "              #     4\n",
        "              #    / \\\n",
        "              #   2   7\n",
        "              #  / \\\n",
        "              # 1   3\n",
        "node1 = TreeNode(1)\n",
        "node2 = TreeNode(3)\n",
        "node3 = TreeNode(2, node1, node2)\n",
        "node4 = TreeNode(7)\n",
        "root = TreeNode(4, node3, node4)\n"
      ],
      "metadata": {
        "id": "TTUwQH5HSVC_"
      },
      "execution_count": null,
      "outputs": []
    },
    {
      "cell_type": "code",
      "source": [
        "print(levelOrder(root))"
      ],
      "metadata": {
        "colab": {
          "base_uri": "https://localhost:8080/"
        },
        "id": "dB3yYjE1UYAi",
        "outputId": "8ec6e376-4870-4594-dd53-65f5763f3d31"
      },
      "execution_count": null,
      "outputs": [
        {
          "output_type": "stream",
          "name": "stdout",
          "text": [
            "[[4], [2, 7], [1, 3]]\n"
          ]
        }
      ]
    },
    {
      "cell_type": "code",
      "source": [
        "insertIntoBST_iterative(root,val=5)\n",
        "print(levelOrder(root))"
      ],
      "metadata": {
        "colab": {
          "base_uri": "https://localhost:8080/"
        },
        "id": "Ha-kzBzhUprr",
        "outputId": "400a8d3e-3b85-443b-b444-ad9768a435b4"
      },
      "execution_count": null,
      "outputs": [
        {
          "output_type": "stream",
          "name": "stdout",
          "text": [
            "[[4], [2, 7], [1, 3, 5]]\n"
          ]
        }
      ]
    }
  ]
}