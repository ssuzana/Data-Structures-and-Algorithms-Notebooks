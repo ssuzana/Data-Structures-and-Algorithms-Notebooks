{
  "nbformat": 4,
  "nbformat_minor": 0,
  "metadata": {
    "colab": {
      "provenance": [],
      "include_colab_link": true
    },
    "kernelspec": {
      "name": "python3",
      "display_name": "Python 3"
    },
    "language_info": {
      "name": "python"
    }
  },
  "cells": [
    {
      "cell_type": "markdown",
      "metadata": {
        "id": "view-in-github",
        "colab_type": "text"
      },
      "source": [
        "<a href=\"https://colab.research.google.com/github/ssuzana/Data-Structures-and-Algorithms-Notebooks/blob/main/06_Trees_Binary_Search_Trees.ipynb\" target=\"_parent\"><img src=\"https://colab.research.google.com/assets/colab-badge.svg\" alt=\"Open In Colab\"/></a>"
      ]
    },
    {
      "cell_type": "markdown",
      "metadata": {
        "id": "D02WD7oyG-MR"
      },
      "source": [
        "**Trees.** In a classic linked list, each node contains a link that connects to a single other node. A tree is also a node based data structure, but within a tree, each node can have links to multiple nodes.\n",
        "\n",
        "#**Binary Search Trees.** \n",
        "\n",
        "A *binary tree* is a tree in which each node has zero, one, or two children. \n",
        "\n",
        "A *binary search tree* is a binary tree that also abides by the following rules:    \n",
        "\n",
        "*   Each node can have at most one \"left\" child and one \"right\" child.\n",
        "*   A node's \"left\" descendants can only contain values that are less than the node itself. Likewise, a node's \"right\" descendents can only contain values that are greater than the node itself.\n",
        "\n"
      ]
    },
    {
      "cell_type": "code",
      "metadata": {
        "id": "kDlblbpaF1xA"
      },
      "source": [
        "# Implementation of a tree node\n",
        "class TreeNode:\n",
        "  def __init__(self, val, left=None, right=None):\n",
        "    self.value = val\n",
        "    self.leftChild = left\n",
        "    self.rightChild = right"
      ],
      "execution_count": null,
      "outputs": []
    },
    {
      "cell_type": "code",
      "metadata": {
        "id": "UzlT70hqN--o"
      },
      "source": [
        "# Build a tree\n",
        "node1 = TreeNode(25)\n",
        "node2 = TreeNode(75)\n",
        "root = TreeNode(50, node1, node2)"
      ],
      "execution_count": null,
      "outputs": []
    },
    {
      "cell_type": "markdown",
      "metadata": {
        "id": "ScOM-Yi9O77T"
      },
      "source": [
        "**Algorithm for searching within a binary search tree.**\n",
        "\n",
        "1.   Designate a node to be the \"current node\". \n",
        "(At the beginning of the algorithm, the root node is the first \"current node\".)\n",
        "2.   Inspect the value at the current node.\n",
        "3.   If we've found the value we're looking for, great!\n",
        "4.   If the value we're looking for is less than the current node, search for it in its left subtree.\n",
        "5.   If the value we're looking for is greater than the current node, search for it in its right subtree.\n",
        "6.   Repeat Steps 1 through 5 until we find the value we're searching for, or until we hit the bottom of the tree, in which case our value must not be in the tree.\n",
        "\n",
        "**Time complexity.** With a balanced tree search takes `O(log N)`. In a worst-case scenario, when a tree is completely inbalanced, search is `O(N)`.\n",
        "In the typical scenario, in which data is inserted in random order, a tree will be pretty well balanced and search will take about `O(log N)`.\n"
      ]
    },
    {
      "cell_type": "code",
      "metadata": {
        "id": "IA8fyubxvPSi"
      },
      "source": [
        "# Code Implementation: Searching a Binary Search Tree\n",
        "def search(searchValue, node):\n",
        "\n",
        "  if node is None or node.value == searchValue:\n",
        "    return node\n",
        "\n",
        "  elif searchValue < node.value:\n",
        "    return search(searchValue, node.leftChild)\n",
        "\n",
        "  else:\n",
        "    return search(searchValue, node.rightChild)"
      ],
      "execution_count": null,
      "outputs": []
    },
    {
      "cell_type": "markdown",
      "metadata": {
        "id": "xVRGrQhtzHc4"
      },
      "source": [
        "**Insertion** always takes just one extra step beyond a search, which means insertion takes `(log N) + 1` steps. In Big `O` notation, which ignores constants, this is `O(log N)`.\n",
        "\n",
        "In an ordered array, by contrast, insertion takes `O(N)`, because in addition to search, we must shift a lot of data to the rigth to make room for the value we're inserting. \n",
        "\n",
        "This is what makes binary search trees so efficient. This becomes crucial in an application in which you anticipate a lot of changes to your data."
      ]
    },
    {
      "cell_type": "code",
      "metadata": {
        "id": "Oqx2ESW7xsNj"
      },
      "source": [
        "# Code Implementation: Binary Search Tree Insertion\n",
        "\n",
        "def insert(value, node):\n",
        "  if value < node.value:\n",
        "    # If the left child does not exist,\n",
        "    # we want to insert the value as the left child:\n",
        "    if node.leftChild is None:\n",
        "      node.leftChild = TreeNode(value)\n",
        "    else:\n",
        "      insert(value, node.leftChild)\n",
        "  elif value  > node.value:\n",
        "    # If the right child does not exist,\n",
        "    # we want to insert the value as the right child:\n",
        "    if node. rightChild is None:\n",
        "      node.rightChild = TreeNode(value)\n",
        "    else:\n",
        "      insert(value, node.rightChild)     "
      ],
      "execution_count": null,
      "outputs": []
    },
    {
      "cell_type": "markdown",
      "metadata": {
        "id": "zoQlldO-dopW"
      },
      "source": [
        "**Deletion.** \n",
        "\n",
        "*   If the node deleted has no children, simply delete it.\n",
        "*   If the node being deleted has one child, delete the node and plug the child into the spot where the deleted node was.\n",
        "*   When deleting a node with two children, replace the deleted node with the successor node (i.e. the child node whose value is the least of all values that are greater than the deleted node.) \n",
        "*   To find the successor node: visit the right child of the deleted value, and then keep on visiting the left child of each subsequent child until there are no more children. The bottom value is the succesor node.\n",
        "*   If the succesor node has a right child, after plugging in the successor node into the spot of the deleted node, take the former right child of the successor node and turn it into the left child of the former parent of the successor node.\n",
        "\n",
        "**Time complexity.** Like search and insertion, deleting from trees is also typically `O(log N)`. This is because deletion requires a search plus a few extra steps to deal with any hanging children.\n",
        "\n",
        "Contrast this with deleting a value from an ordered array, which is `O(N)` due to shifting elements to the left to close the gap of the deleted value."
      ]
    },
    {
      "cell_type": "code",
      "metadata": {
        "id": "6fqqOEQOh0b-"
      },
      "source": [
        "# Code Implementation: Binary Search Tree Deletion\n",
        "def delete(valueToDelete, node):\n",
        "  if node is None:\n",
        "    return None\n",
        "  elif valueToDelete < node.value:\n",
        "    node.leftChild  = delete(valueToDelete, node.leftChild)\n",
        "    return node\n",
        "  elif valueToDelete > node.value:\n",
        "    node.rightChild = delete(valueToDelete, node.rightChild)\n",
        "    return node\n",
        "  elif valueToDelete == node.value:\n",
        "    if node.leftChild is None:\n",
        "      return node.rightChild\n",
        "    elif node.rightChild is None:\n",
        "      return node.leftChild\n",
        "    else:\n",
        "      node.rightChild = lift(node.rightChild, node)\n",
        "      return node\n",
        "\n",
        "def lift(node, nodeToDelete):\n",
        "  # If the current node of this function has a left child,\n",
        "  # we recursively call this function to continue down\n",
        "  # the left subtree to find the successor node.\n",
        "  if node.leftChild:\n",
        "    node.leftChild = lift(node.leftChild, nodeToDelete)\n",
        "    return node\n",
        "  else:\n",
        "    # If the current node has no left child, that means the current node \n",
        "    # is the successor node, and we take its value \n",
        "    # and make it the new value of the node we're deleting\n",
        "    nodeToDelete.value = node.value\n",
        "    # We return the successor node's right child to be now used\n",
        "    # as its parent's left child\n",
        "    return node.rightChild             "
      ],
      "execution_count": null,
      "outputs": []
    },
    {
      "cell_type": "code",
      "metadata": {
        "id": "uQLdWDJT8TvP"
      },
      "source": [
        "# find the greatest value within a binary search tree\n",
        "def max(node):\n",
        "   if node.rightChild is not None: \n",
        "     return max(node.rightChild) \n",
        "   else: \n",
        "     return node.value"
      ],
      "execution_count": null,
      "outputs": []
    },
    {
      "cell_type": "markdown",
      "source": [
        "**Binary Search Tree Traversals:**\n",
        "\n",
        "**Inorder Traversal**\n",
        "We create a recursive function called *traverse* that can be called on a particular node. The function performs the following steps:\n",
        "\n",
        "1.   Call itself recursively on the node's **left** child. The function will keep getting called until we hit a node that does not have a left child.\n",
        "2.   \"Visit\" (print) the node value.\n",
        "3.   Call itself recursively on the node's **right** child. The function will keep getting called until we hit a node that does not have a right child."
      ],
      "metadata": {
        "id": "tdC8TXTO5yav"
      }
    },
    {
      "cell_type": "code",
      "source": [
        "# Inorder Traversal (Left, Root, Right)\n",
        "def inorder_traversal(node):\n",
        "  if node is None:\n",
        "    return\n",
        "  inorder_traversal(node.leftChild)\n",
        "  print(node.value)\n",
        "  inorder_traversal(node.rightChild)  "
      ],
      "metadata": {
        "id": "3darLUc37xQF"
      },
      "execution_count": null,
      "outputs": []
    },
    {
      "cell_type": "code",
      "source": [
        "# Preorder Traversal (Root, Left, Right)\n",
        "def preorder_traversal(node):\n",
        "  if node is None:\n",
        "    return\n",
        "  print(node.value)  \n",
        "  preorder_traversal(node.leftChild)\n",
        "  preorder_traversal(node.rightChild) "
      ],
      "metadata": {
        "id": "dE1yjMw_-ThI"
      },
      "execution_count": null,
      "outputs": []
    },
    {
      "cell_type": "code",
      "source": [
        "# Postorder Traversal (Left, Right, Root)\n",
        "def postorder_traversal(node):\n",
        "  if node is None:\n",
        "    return\n",
        "  postorder_traversal(node.leftChild)\n",
        "  postorder_traversal(node.rightChild)   \n",
        "  print(node.value)  "
      ],
      "metadata": {
        "id": "vKMkOBxL_Pd0"
      },
      "execution_count": null,
      "outputs": []
    }
  ]
}