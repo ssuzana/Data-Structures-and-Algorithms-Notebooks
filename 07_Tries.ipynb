{
  "nbformat": 4,
  "nbformat_minor": 0,
  "metadata": {
    "colab": {
      "provenance": [],
      "include_colab_link": true
    },
    "kernelspec": {
      "name": "python3",
      "display_name": "Python 3"
    },
    "language_info": {
      "name": "python"
    }
  },
  "cells": [
    {
      "cell_type": "markdown",
      "metadata": {
        "id": "view-in-github",
        "colab_type": "text"
      },
      "source": [
        "<a href=\"https://colab.research.google.com/github/ssuzana/Data-Structures-and-Algorithms-Notebooks/blob/main/07_Tries.ipynb\" target=\"_parent\"><img src=\"https://colab.research.google.com/assets/colab-badge.svg\" alt=\"Open In Colab\"/></a>"
      ]
    },
    {
      "cell_type": "markdown",
      "source": [
        "The **trie** is a kind of tree that is ideal for text-based features such as autocomplete. The word *trie* is derived from the word *retrieval*.\n",
        "Most people pronounce trie as \"try\".\n",
        "\n",
        "**The Trie Node** Like most other trees, the trie is a collection of nodes that point to other nodes. However, the trie is not a binary tree.\n",
        "\n",
        "In our implementation, each trie node contains a hash table, where the keys are English characters and the values are the other nodes of the trie."
      ],
      "metadata": {
        "id": "st5B49x3zit1"
      }
    },
    {
      "cell_type": "code",
      "execution_count": null,
      "metadata": {
        "id": "K82lHGFWzV0f"
      },
      "outputs": [],
      "source": [
        "class TrieNode:\n",
        "  def __init__(self):\n",
        "    self.children = {}\n",
        "\n",
        "# the Trie class keeps track of self.root variable that points to root node\n",
        "class Trie:\n",
        "  def __init__(self):\n",
        "    self.root = TrieNode()    "
      ]
    },
    {
      "cell_type": "markdown",
      "source": [
        "#**Trie Search**\n",
        "\n",
        "The algorithm for **prefix search** (i.e. search to see whether a string is the beginning of a word). This search will end up finding complete words as well, since a complete word is at least as good as a prefix.\n",
        "\n",
        "1.   We establish a variable called `currentNode`. At the beginning of the algorithm, this points to the root node.\n",
        "2.   We iterate over each character of our search string.\n",
        "3.   As we point to each character of our search string, we look to see if the `currentNode` has a child with that character key.\n",
        "4.   If it does not, we return `None`, as it means our search string does not exist in the trie.\n",
        "5.   If the `currentNode` does have a child with the current character as the key, we update the `currentNode` to become that child. We then go back to step 2, continuing to iterate over each character in our search string.\n",
        "6.   If we get to the end of our search string, it means we've found our search string.\n",
        "\n",
        "\n",
        "\n",
        "\n",
        "\n"
      ],
      "metadata": {
        "id": "IVdQRdXR7dzB"
      }
    },
    {
      "cell_type": "code",
      "source": [
        "def search(self, word):\n",
        "  currentNode = self.root\n",
        "\n",
        "  for char in word:\n",
        "    # If the current node has child key with current character:\n",
        "    if currentNode.children.get(char):\n",
        "      # Follow the child node:\n",
        "      currentNode = currentNode.children[char]\n",
        "\n",
        "  else:\n",
        "    # If the current character isn't found among\n",
        "    # the current node's children, our search word\n",
        "    # must not be in the trie:\n",
        "    return None\n",
        "\n",
        "  return currentNode       "
      ],
      "metadata": {
        "id": "m09jSSFI8Yng"
      },
      "execution_count": null,
      "outputs": []
    },
    {
      "cell_type": "markdown",
      "source": [
        "**Time Complexity of Trie Search**\n",
        "We focus on each character of our search string one at a time. As we do so, we use each node's hash table to find the appropriate child node in one step (a hash table lookup takes $O(1)$ time). Then, our algorithm takes as many steps as there are characters in our search string.\n",
        "\n",
        "Expressing trie search in terms of Big $O$ is slightly tricky. We can't quite call it $O(1)$, since the number of steps is not constant, as it depends on the search string's length. And $O(N)$ is misleading, since $N$ normally refers to the amount of data in the data structure. That would be the number of nodes in our trie, which is a much greater number than the number of characters in our search string.\n",
        "\n",
        "\n",
        "---\n",
        "\n",
        "\n",
        "Most references have decided to call this $O(K)$, where $K$ is the number of characters in our search string.\n",
        "\n",
        "\n",
        "---\n",
        "\n",
        "\n",
        "Even though $O(K)$ is not constant, it is similar to constant time in one important sense. Our trie can grow tremendously, but that will have no affect on the speed of our search. An $O(K)$ algorithm on a string of three characters will always take three steps, no matter how large the trie is."
      ],
      "metadata": {
        "id": "kio0ahOGBQv2"
      }
    },
    {
      "cell_type": "markdown",
      "source": [
        "#**Trie Insertion** \n",
        "\n",
        "Inserting a new word into a trie is similar to searching for an existing word.\n",
        "\n",
        "1.   We establish a variable called `currentNode`. At the beginning of the algorithm, this points to the root node.\n",
        "2.   We iterate over each character of our search string.\n",
        "3.   As we point to each character of our search string, we look to see if the `currentNode` has a child with that character as a key.\n",
        "4.   If it does, we update the `currentNode` to become that child node and we go back to step 2, moving on to the next character of our search string.\n",
        "5.   If `currentNode` does not have a child node that matches the current character, we create such a child node and update `currentNode` to be this new node. We then go back to step 2, moving on to the next character of our search string.\n",
        "6.   After we instert the final character of our new word, we add a `*` child to the last node to indicate the word is complete.\n",
        "\n",
        "Like search, trie insertion takes about $O(K)$ steps. If we count the adding of the \"*\" at the end, it's technically $K+1$ steps, but because we drop the constants, we express the speed as $O(K)$."
      ],
      "metadata": {
        "id": "fYuXQDe_FeOC"
      }
    },
    {
      "cell_type": "code",
      "source": [
        "def insert(self, word):\n",
        "  currentNode = self.root\n",
        "\n",
        "  for char in word:\n",
        "    if currentNode.children.get(char):\n",
        "      currentNode = currentNode.children[char]\n",
        "    else:\n",
        "      # If the current character isn't found among \n",
        "      # the current node's children,\n",
        "      # we add the character as a new child node:\n",
        "      newNode = TrieNode()\n",
        "      currentNode.children[char] = newNode\n",
        "\n",
        "      currentNode = newNode  \n",
        "\n",
        "  # After insterting the entire word into the trie,\n",
        "  # we add a \"*\" key at the end:\n",
        "  currentNode.children[\"*\"] = None   "
      ],
      "metadata": {
        "id": "CRqGD3wRHqGw"
      },
      "execution_count": null,
      "outputs": []
    },
    {
      "cell_type": "markdown",
      "source": [
        "#**Autocomplete**\n",
        "\n",
        "The following method, called `collectAllWords`, colects a list of all the trie's words starting from a particular node.\n",
        "\n",
        "This method accepts three arguments:\n",
        "\n",
        "> The first is the `node` whose descendents we're collecting words from. \n",
        "\n",
        "> The second argument, `word`, begins as an empty string, and we add characters to it as we move through the trie. \n",
        "\n",
        "> The third argument, `words`, begins as an empty array, and by the end of the function will contain all the words from the trie."
      ],
      "metadata": {
        "id": "bcjYTFMbh0hb"
      }
    },
    {
      "cell_type": "code",
      "source": [
        "def collectAllWords(self, node=None, word=\"\", words=[]):\n",
        "  # The current node is the node passed in as the first parameter,\n",
        "  # or the root node if none is provided:\n",
        "  currentNode = node or self.root\n",
        "\n",
        "  # We iterate through all the current node's children:\n",
        "  for key, childNode in currentNode.children.items():\n",
        "    # If the current key is *, it means we hit the end of a \n",
        "    # complete word, so we can add it to our words array:\n",
        "    if key == \"*\":\n",
        "      words.append(word)\n",
        "    else:\n",
        "      # If we're still in the middle of a word,\n",
        "      # we recursively call this function on the child node.\n",
        "      self.collectAllWords(childNode, word + key, words)\n",
        "  return words       "
      ],
      "metadata": {
        "id": "f7TiWrVajc4K"
      },
      "execution_count": null,
      "outputs": []
    },
    {
      "cell_type": "markdown",
      "source": [
        "The `autocomplete` method accepts the `prefix` parameter, which is the string of characters the user begins typing in.\n",
        "\n",
        "> First, we search the trie for the existence of the `prefix`.\n",
        "\n",
        "> If the search method doesn't find the prefix in the trie, it returns `None`. \n",
        "\n",
        "> However, if the prefix is found in the trie, the `search` method returns the node in the trie that represents the final character in the prefix.\n",
        "\n",
        "> Our `autocomplete` method continues by calling the `collectAllWords`\n",
        "method on the node returned by the `search` method.\n",
        "\n",
        "> Our method finally returns an array of all possible endings to the user's prefix, which we could then display to the user as possible autocomplete options.\n",
        "\n"
      ],
      "metadata": {
        "id": "LoN-P0Dso5G4"
      }
    },
    {
      "cell_type": "code",
      "source": [
        "def autocomplete(self, prefix):\n",
        "  currentNode = self.search(prefix)\n",
        "  if not currentNode:\n",
        "    return None\n",
        "  return self.collectAllWords(currentNode)  "
      ],
      "metadata": {
        "id": "40PYbBD4ohAH"
      },
      "execution_count": null,
      "outputs": []
    },
    {
      "cell_type": "markdown",
      "source": [
        "#**Leetcode 208. Implement Trie (Prefix Tree)** `Medium`\n",
        "A trie (pronounced as \"try\") or prefix tree is a tree data structure used to efficiently store and retrieve keys in a dataset of strings. There are various applications of this data structure, such as autocomplete and spellchecker.\n",
        "\n",
        "Implement the Trie class:\n",
        "\n",
        "`Trie()` Initializes the trie object.\n",
        "\n",
        "void `insert`(String word) Inserts the string word into the trie.\n",
        "\n",
        "boolean `search`(String `word`) Returns `true` if the string word is in the trie (i.e., was inserted before), and `false` otherwise.\n",
        "\n",
        "boolean `startsWith`(String `prefix`) Returns `true` if there is a previously inserted string word that has the prefix prefix, and `false` otherwise."
      ],
      "metadata": {
        "id": "iBZBaUYh8QJa"
      }
    },
    {
      "cell_type": "code",
      "source": [
        "class TrieNode:\n",
        "    def __init__(self):\n",
        "         self.children = {}\n",
        "            \n",
        "class Trie:\n",
        "\n",
        "    def __init__(self):\n",
        "        self.root = TrieNode()\n",
        "       \n",
        "    def insert(self, word: str) -> None:\n",
        "        cur = self.root\n",
        "        \n",
        "        for char in word:\n",
        "            if cur.children.get(char):\n",
        "                cur = cur.children[char]\n",
        "            else:\n",
        "                newNode = TrieNode()\n",
        "                cur.children[char] = newNode\n",
        "                cur = newNode\n",
        "        cur.children[\"*\"] = None        \n",
        "         \n",
        "\n",
        "    def search(self, word: str) -> bool:\n",
        "        cur = self.root\n",
        "        \n",
        "        for char in word:\n",
        "            if cur.children.get(char):\n",
        "                cur = cur.children[char]\n",
        "            else:\n",
        "                return False\n",
        "                \n",
        "        return \"*\" in cur.children\n",
        "\n",
        "    def startsWith(self, prefix: str) -> bool:\n",
        "        cur = self.root\n",
        "        \n",
        "        for char in prefix:\n",
        "            if cur.children.get(char):\n",
        "                cur = cur.children[char]\n",
        "            else:\n",
        "                return False\n",
        "                \n",
        "        return True "
      ],
      "metadata": {
        "id": "ZmB3mMrB9EFg"
      },
      "execution_count": null,
      "outputs": []
    },
    {
      "cell_type": "code",
      "source": [
        "# Example 1:\n",
        "# Input\n",
        "# [\"Trie\", \"insert\", \"search\", \"search\", \"startsWith\", \"insert\", \"search\"]\n",
        "# [[], [\"apple\"], [\"apple\"], [\"app\"], [\"app\"], [\"app\"], [\"app\"]]\n",
        "# Output\n",
        "# [null, null, true, false, true, null, true]\n",
        "trie = Trie()\n",
        "trie.insert(\"apple\")\n",
        "trie.search(\"apple\")\n",
        "trie.search(\"app\")\n",
        "trie.startsWith(\"app\")\n",
        "trie.insert(\"app\")\n",
        "trie.search(\"app\")"
      ],
      "metadata": {
        "colab": {
          "base_uri": "https://localhost:8080/"
        },
        "id": "91u08kg29LW9",
        "outputId": "0b04f7c7-652b-4273-98f3-73af2863707a"
      },
      "execution_count": null,
      "outputs": [
        {
          "output_type": "execute_result",
          "data": {
            "text/plain": [
              "True"
            ]
          },
          "metadata": {},
          "execution_count": 9
        }
      ]
    },
    {
      "cell_type": "markdown",
      "source": [
        "#**Leetcode 211. Design Add and Search Words Data Structure** `Medium`\n",
        "Design a data structure that supports adding new words and finding if a string matches any previously added string.\n",
        "\n",
        "Implement the `WordDictionary` class:\n",
        "\n",
        "* `WordDictionary()` Initializes the object.\n",
        "void `addWord(word)` Adds word to the data structure, it can be matched later.\n",
        "* bool `search(word)` Returns `true` if there is any string in the data structure that matches word or `false` otherwise.\n",
        "* `word` may contain dots '.' where dots can be matched with any letter.\n",
        "\n",
        "\n",
        "\n"
      ],
      "metadata": {
        "id": "jXpZb4J6Myfv"
      }
    },
    {
      "cell_type": "code",
      "source": [
        "class TrieNode:\n",
        "  def __init__(self):\n",
        "    self.children = {}\n",
        "    self.isWord = False\n",
        "\n",
        "class WordDictionary:\n",
        "\n",
        "    def __init__(self):\n",
        "        self.root = TrieNode()  \n",
        "\n",
        "    def addWord(self, word: str) -> None:\n",
        "      cur = self.root\n",
        "\n",
        "      for letter in word:\n",
        "        if letter not in cur.children:\n",
        "          newNode = TrieNode()\n",
        "          cur.children[letter] = newNode\n",
        "\n",
        "        cur = cur.children[letter]\n",
        "\n",
        "      cur.isWord = True\n",
        "    \n",
        "    def search(self, word: str) -> bool:\n",
        "\n",
        "      def dfs(idx, root):\n",
        "        cur = root\n",
        "\n",
        "        for i in range(idx, len(word)):\n",
        "          char = word[i]\n",
        "          if char == \".\":\n",
        "            for child in cur.children.values():\n",
        "              if dfs(i+1, child):\n",
        "                return True\n",
        "            return False\n",
        "          else:\n",
        "            if char not in cur.children:\n",
        "              return False\n",
        "            cur =  cur.children[char]\n",
        "        return cur.isWord\n",
        "\n",
        "      return dfs(0, self.root)   \n",
        "          "
      ],
      "metadata": {
        "id": "gMOsuo8cNbpY"
      },
      "execution_count": null,
      "outputs": []
    },
    {
      "cell_type": "code",
      "source": [
        "# Input\n",
        "# [\"WordDictionary\",\"addWord\",\"addWord\",\"addWord\",\"search\",\"search\",\"search\",\"search\"]\n",
        "# [[],[\"bad\"],[\"dad\"],[\"mad\"],[\"pad\"],[\"bad\"],[\".ad\"],[\"b..\"]]\n",
        "# Output\n",
        "# [null,null,null,null,false,true,true,true]\n",
        "\n",
        "wordDictionary = WordDictionary()\n",
        "wordDictionary.addWord(\"bad\")\n",
        "wordDictionary.addWord(\"dad\")\n",
        "wordDictionary.addWord(\"mad\")\n",
        "wordDictionary.search(\"pad\") # return False\n",
        "wordDictionary.search(\"bad\") # return True\n",
        "wordDictionary.search(\".ad\") # return True\n",
        "wordDictionary.search(\"b..\") # return True"
      ],
      "metadata": {
        "colab": {
          "base_uri": "https://localhost:8080/"
        },
        "id": "SJ8fZSvyQn9x",
        "outputId": "d9d91f18-5185-4fbf-c8b3-9e2915743703"
      },
      "execution_count": null,
      "outputs": [
        {
          "output_type": "execute_result",
          "data": {
            "text/plain": [
              "True"
            ]
          },
          "metadata": {},
          "execution_count": 17
        }
      ]
    }
  ]
}