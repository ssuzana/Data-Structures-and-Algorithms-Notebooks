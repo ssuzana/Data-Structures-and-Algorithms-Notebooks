{
  "nbformat": 4,
  "nbformat_minor": 0,
  "metadata": {
    "colab": {
      "provenance": [],
      "include_colab_link": true
    },
    "kernelspec": {
      "name": "python3",
      "display_name": "Python 3"
    },
    "language_info": {
      "name": "python"
    }
  },
  "cells": [
    {
      "cell_type": "markdown",
      "metadata": {
        "id": "view-in-github",
        "colab_type": "text"
      },
      "source": [
        "<a href=\"https://colab.research.google.com/github/ssuzana/Data-Structures-and-Algorithms-Notebooks/blob/main/08_Heaps.ipynb\" target=\"_parent\"><img src=\"https://colab.research.google.com/assets/colab-badge.svg\" alt=\"Open In Colab\"/></a>"
      ]
    },
    {
      "cell_type": "markdown",
      "source": [
        "#**Priority Queues**\n",
        "\n",
        "A *priority queue* is a list whose deletions and access are just like a classic queue, but whose insertions are like an ordered array. That is, we only delete and access data from the front of the priority queue, but when we insert data, we always make sure the data remains sorted in a specific order.\n",
        "\n",
        "Example of where a priority queue is helpful is an application that manages the triage system for a hospital emergency room."
      ],
      "metadata": {
        "id": "4lTvxdBlVXTy"
      }
    },
    {
      "cell_type": "markdown",
      "source": [
        "#**Heaps**\n",
        "\n",
        "A *heap* is a type of tree data structure. It is useful when we want to constantly keep track tabs on the greatest or least data element in a dataset.\n",
        "\n",
        "There are several types of heaps, but we're going to focus on the *binary heap*.\n",
        "\n",
        "The binary heap is a specific kind of binary tree and it can be classified into two types: the *max-heap* and the *min-heap*. We're going to work with the max-heap for now and refer to this data structure simply as a heap. So from now on, **heap = binary max-heap**.\n",
        "\n",
        "The heap is a **binary tree** that maintains the following conditions:\n",
        "\n",
        "* **The heap condition**: the value of each node must be greater than each of its descendant nodes. The root, therefore, is the maximum element of the tree.\n",
        "\n",
        "* The tree must be **complete** (i.e. completely filled with nodes other than the rightmost elements on the last level). Completeness is important because we want to ensure our heap remains *well-balanced*.\n",
        "\n",
        "The heap has two primary operations: **inserting** and **deleting**. Searching within a heap would require us to inspect each node, so search is not an operation usually implemented in the context of heaps.\n",
        "\n",
        "The heap has something called a **last node**. A heap's last node is the rightmost node in its bottom level."
      ],
      "metadata": {
        "id": "lKyAWJYjTzv7"
      }
    },
    {
      "cell_type": "markdown",
      "source": [
        "#**Heap Insertion** $O(\\log N)$\n",
        "\n",
        "1. We create a node containing the new value and insert it at the next available rightmost spot in the bottom level. Thus, this value becomes the heaps last node.\n",
        "\n",
        "2. Next, we compare this new node with its parent node.\n",
        "\n",
        "3. If the new node is greater than its parent node, we swap the new node with the parent node.\n",
        "\n",
        "4. We repeat Step 3, effectively moving the new node up through the heap (called *trickling* the node), until it has a parent whose value is greater than it.\n",
        "\n",
        "The efficiency of inserting a node in a heap is $O(\\log N)$.\n",
        "\n",
        " For $N$ nodes in any binary tree, the tree is organized into about $\\log(N)$ rows/levels. Since at most we'd have to trickle the new value up to the top row, this will take $\\log(N)$ steps at most.\n"
      ],
      "metadata": {
        "id": "dmIEizQrGeVW"
      }
    },
    {
      "cell_type": "markdown",
      "source": [
        "#**Heap Deletion** $O(\\log N)$ \n",
        "## In a heap we only delete the root node.\n",
        "\n",
        "1. Move the last node into where the root node was, effectively removing the original root node.\n",
        "\n",
        "2. Trickle the root node (the \"trickle node\")  **down** into its proper place:\n",
        "<ol type=\"a\">\n",
        "  <li> We check both children of the trickle node and see which one is larger.</li>\n",
        "  <li> If the trickle node is smaller than the larger of the two child nodes, we swap the trickle node with that larger child.\n",
        "  <li> We repeat steps a and b until the trickle node has no children who are greater than it.</li>\n",
        "</ol>"
      ],
      "metadata": {
        "id": "kw-8or1POOGI"
      }
    },
    {
      "cell_type": "markdown",
      "source": [
        "#**Looking for the Last Node**\n",
        "\n",
        "The first step of the insertion algorithm has us place the new value as the heap's last node. Also, the first step of the deletion algorithm requires us to move the last node and turn it into the root node.\n",
        "But how do we find the spot that will be the last node?\n",
        "\n",
        "**An array is used to store the values of a heap**. The root node is always stored at index 0. We then move down a level and go fro  left to right, assigning each node to the next available index in the array. We then reach the end of a level, we move down to the next level and repeat this pattern. When we implement the heap in this fashion, the *last node will always be the final element of the array*.\n",
        "\n",
        "![heap-exp.jpg](data:image/jpeg;base64,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)\n",
        "\n",
        "\n",
        "\n",
        "\n",
        "\n",
        "\n"
      ],
      "metadata": {
        "id": "dPbaoiGUUY4y"
      }
    },
    {
      "cell_type": "markdown",
      "source": [
        "#**Traversing an Array-Based Heap**\n",
        "\n",
        "When we assign the indexes of the heap's nodes according to the pattern described earlier, the following traits of a heap are always true:\n",
        "* To find the **left child** of any node, we can use the formula `(index * 2) + 1`\n",
        "* To find the **right child** of any node, we can use the formula `(index * 2) + 2`\n",
        "* To find a node's **parent**, we can use the formula `(index - 1) // 2` (integer division)"
      ],
      "metadata": {
        "id": "ocpycwrHg4pL"
      }
    },
    {
      "cell_type": "code",
      "execution_count": null,
      "metadata": {
        "id": "dV7IxIAYTxpr"
      },
      "outputs": [],
      "source": [
        "class Heap:\n",
        "  def __init__(self):\n",
        "    self.data = []\n",
        "\n",
        "  def rootNode(self):\n",
        "    return self.data[0]\n",
        "\n",
        "  def lastNode(self):\n",
        "    return self.data[-1]    \n",
        "\n",
        "  def leftChildIndex(self, index):\n",
        "    return  (index * 2) + 1\n",
        "\n",
        "  def rightChildIndex(self, index):\n",
        "    return (index * 2) + 2  \n",
        "\n",
        "  def ParentIndex(self, index):\n",
        "    return (index - 1) // 2  \n",
        "\n",
        "  def insert(self, value):\n",
        "    self.data.append(value)\n",
        "    new_idx = len(self.data) - 1\n",
        "    # \"trickle up\" the new node\n",
        "    while new_idx > 0 and self.data[new_idx] > self.data[self.ParentIndex(new_idx)]:\n",
        "      # swap the new node with the parent node\n",
        "      self.data[self.ParentIndex(new_idx)], self.data[new_idx]  = self.data[new_idx], self.data[self.ParentIndex(new_idx)]\n",
        "    \n",
        "      # update the index of the new node\n",
        "      new_idx = self.ParentIndex(new_idx)"
      ]
    },
    {
      "cell_type": "markdown",
      "source": [
        "  Heap Deletion - uses two helper methods `has_greater_child` and `calculate_larger_child_index`:"
      ],
      "metadata": {
        "id": "s1swArmmpaY4"
      }
    },
    {
      "cell_type": "code",
      "source": [
        "def delete(self):\n",
        "  # pop the last node from the array and make it the root node\n",
        "  self.data[0] = self.data.pop()\n",
        "  trickle_node_idx = 0\n",
        "   # \"trickle down\" the trickle (root) node\n",
        "  while self.has_greater_child(trickle_node_idx):\n",
        "    larger_child_idx = self.calculate_larger_child_idx(trickle_node_idx)\n",
        "\n",
        "    # swap the trickle node with its larger child:\n",
        "    self.data[trickle_node_idx], self.data[larger_child_idx] =\\\n",
        "    self.data[larger_child_idx], self.data[trickle_node_idx]\n",
        "    \n",
        "    # update the trickle's node index\n",
        "    trickle_node_idx = larger_child_idx\n",
        "\n",
        "def has_greater_child(self, index):\n",
        "  # check whether the node at index has left and right children\n",
        "  # and if either of those children are greater\n",
        "  (self.data[self.leftChildIndex(index)] and self.data[self.leftChildIndex(index)] > self.data[index])\\\n",
        "  or (self.data[self.rightChildIndex(index)] and self.data[self.rightChildIndex(index)] > self.data[index])\n",
        "\n",
        "def calculate_larger_child_idx(self, index):\n",
        "  if not self.data[self.rightChildIndex(index)]:\n",
        "    return self.leftChildIndex(index)\n",
        "\n",
        "  if self.data[self.rightChildIndex(index)] > self.data[self.leftChildIndex(index)]:\n",
        "    return self.rightChildIndex(index)\n",
        "  else:\n",
        "    return self.leftChildIndex(index)     "
      ],
      "metadata": {
        "id": "vEgBWbsHplgl"
      },
      "execution_count": null,
      "outputs": []
    },
    {
      "cell_type": "markdown",
      "source": [
        "#**[`heapq`](https://docs.python.org/3/library/heapq.html#module-heapq) — Heap queue algorithm**\n",
        "\n",
        "This module provides an implementation of the heap queue algorithm, also known as the priority queue algorithm.\n",
        "\n",
        "Heaps are binary trees for which every parent node has a value less than or equal to any of its children. This implementation uses arrays for which `heap[k] <= heap[2*k+1]` and `heap[k] <= heap[2*k+2]` for all `k`, counting elements from zero. For the sake of comparison, non-existing elements are considered to be infinite. The interesting property of a heap is that its **smallest element is always the root**, heap[0].\n",
        "\n",
        "* `heapq.heapify(x)`\n",
        "Transform list x into a heap, in-place, in linear time.\n",
        "\n",
        "* `heapq.heappush(heap, item)`\n",
        "Push the value item onto the heap, maintaining the heap invariant.\n",
        "\n",
        "* `heapq.heappop(heap)`\n",
        "Pop and return the smallest item from the heap, maintaining the heap invariant. If the heap is empty, `IndexError` is raised. To access the smallest item without popping it, use `heap[0]`.\n",
        "\n",
        "* `heapq.heappushpop(heap, item)`\n",
        "Push item on the heap, then pop and return the smallest item from the heap. \n",
        "\n",
        "* `heapq.heapreplace(heap, item)`\n",
        "Pop and return the smallest item from the heap, and also push the new item. The heap size doesn’t change. If the heap is empty, `IndexError` is raised.\n"
      ],
      "metadata": {
        "id": "epB0hAv-YSC8"
      }
    },
    {
      "cell_type": "markdown",
      "source": [
        "#**703. Kth Largest Element in a Stream** `Easy`\n",
        "\n",
        "Design a class to find the `k`th largest element in a stream. Note that it is the `k`th largest element in the sorted order, not the `k`th distinct element.\n",
        "\n",
        "Implement `KthLargest` class:\n",
        "\n",
        "* `KthLargest(int k, int[] nums)` Initializes the object with the integer `k` and the stream of integers nums.\n",
        "* `int add(int val)` Appends the integer val to the stream and returns the element representing the `k`th largest element in the stream."
      ],
      "metadata": {
        "id": "wq3MkSzSXAEK"
      }
    },
    {
      "cell_type": "code",
      "source": [
        "import heapq \n",
        "\n",
        "class KthLargest:\n",
        "\n",
        "    def __init__(self, k, nums):\n",
        "        self.nums = nums\n",
        "        self.k = k\n",
        "        heapq.heapify(self.nums)\n",
        "        while len(self.nums) > self.k:\n",
        "            heapq.heappop(self.nums)\n",
        "\n",
        "    def add(self, val: int) -> int:\n",
        "        \n",
        "        heapq.heappush(self.nums, val)\n",
        "        if len(self.nums) > self.k:\n",
        "            heapq.heappop(self.nums)\n",
        "        return self.nums[0]\n",
        "    "
      ],
      "metadata": {
        "id": "3P8weYSBWUYT"
      },
      "execution_count": null,
      "outputs": []
    },
    {
      "cell_type": "code",
      "source": [
        "kthLargest = KthLargest(3, [4, 5, 8, 2])\n",
        "print(kthLargest.add(3)) # return 4\n",
        "print(kthLargest.add(5)) # return 5\n",
        "print(kthLargest.add(10)) # return 5\n",
        "print(kthLargest.add(9)) # return 8\n",
        "print(kthLargest.add(4)) # return 8"
      ],
      "metadata": {
        "colab": {
          "base_uri": "https://localhost:8080/"
        },
        "id": "3MC_xxm7FAeo",
        "outputId": "42ef06ac-112a-46df-f668-a24620ccb853"
      },
      "execution_count": null,
      "outputs": [
        {
          "output_type": "stream",
          "name": "stdout",
          "text": [
            "4\n",
            "5\n",
            "5\n",
            "8\n",
            "8\n"
          ]
        }
      ]
    },
    {
      "cell_type": "markdown",
      "source": [
        "#**Leetcode 1046. Last Stone Weight** `Easy`\n",
        "\n",
        "You are given an array of integers `stones` where `stones[i]` is the weight of the `i`th stone.\n",
        "\n",
        "We are playing a game with the stones. On each turn, we choose the heaviest two stones and smash them together. Suppose the heaviest two stones have weights `x` and `y` with `x <= y`. The result of this smash is:\n",
        "\n",
        "* If `x == y`, both stones are destroyed, and\n",
        "\n",
        "* If `x != y`, the stone of weight `x` is destroyed, and the stone of weight y has new weight `y - x`.\n",
        "At the end of the game, there is at most one stone left.\n",
        "\n",
        "Return the smallest possible weight of the left stone. If there are no stones left, return `0`.\n",
        "\n",
        "``` \n",
        "Example 1:\n",
        "Input: stones = [2,7,4,1,8,1]\n",
        "Output: 1\n",
        "Explanation: \n",
        "We combine 7 and 8 to get 1 so the array converts to [2,4,1,1,1] then,\n",
        "we combine 2 and 4 to get 2 so the array converts to [2,1,1,1] then,\n",
        "we combine 2 and 1 to get 1 so the array converts to [1,1,1] then,\n",
        "we combine 1 and 1 to get 0 so the array converts to [1] then that's the value of the last stone.\n",
        "\n",
        "Example 2:\n",
        "Input: stones = [1]\n",
        "Output: 1\n",
        " \n",
        "Constraints:\n",
        "\n",
        "1 <= stones.length <= 30\n",
        "1 <= stones[i] <= 1000\n",
        "```"
      ],
      "metadata": {
        "id": "_l9jz2RjY-01"
      }
    },
    {
      "cell_type": "code",
      "source": [
        "import heapq\n",
        "\n",
        "from typing import List\n",
        "\n",
        "def lastStoneWeight(stones: List[int]) -> int:\n",
        "\n",
        "  stones = [-s for s in stones]\n",
        "  heapq.heapify(stones)\n",
        "\n",
        "  while len(stones) > 1:\n",
        "    first =  heapq.heappop(stones)\n",
        "    second = heapq.heappop(stones)\n",
        "    if first < second:\n",
        "      heapq.heappush(stones, first - second)\n",
        "\n",
        "  if stones:\n",
        "    return -stones[0]\n",
        "  else:\n",
        "    return 0    "
      ],
      "metadata": {
        "id": "RCltCiFxZjoz"
      },
      "execution_count": null,
      "outputs": []
    },
    {
      "cell_type": "code",
      "source": [
        "stones = [2,7,4,1,8,1]\n",
        "lastStoneWeight(stones)"
      ],
      "metadata": {
        "colab": {
          "base_uri": "https://localhost:8080/"
        },
        "id": "wTldA6zzaKJT",
        "outputId": "5aaf2737-4b15-4087-9632-295e0d59894f"
      },
      "execution_count": null,
      "outputs": [
        {
          "output_type": "execute_result",
          "data": {
            "text/plain": [
              "1"
            ]
          },
          "metadata": {},
          "execution_count": 9
        }
      ]
    },
    {
      "cell_type": "markdown",
      "source": [
        "#**Leetcode 215. Kth Largest Element in an Array** `Medium`\n",
        "\n",
        "Given an integer array `nums` and an integer `k`, return the `k`th largest element in the array.\n",
        "\n",
        "Note that it is the `k`th largest element in the sorted order, not the `k`th distinct element.\n",
        "\n",
        " \n",
        "```\n",
        "Example 1:\n",
        "Input: nums = [3,2,1,5,6,4], k = 2\n",
        "Output: 5\n",
        "\n",
        "Example 2:\n",
        "Input: nums = [3,2,3,1,2,4,5,5,6], k = 4\n",
        "Output: 4\n",
        "\n",
        "Constraints:\n",
        "\n",
        "1 <= k <= nums.length <= 104\n",
        "-104 <= nums[i] <= 104\n",
        "```"
      ],
      "metadata": {
        "id": "J2Qv3wqACsa1"
      }
    },
    {
      "cell_type": "code",
      "source": [
        "from typing import List\n",
        "import heapq\n",
        "\n",
        "def findKthLargest(nums: List[int], k: int) -> int:\n",
        "\n",
        "  heap = []\n",
        "\n",
        "  for num in nums:\n",
        "    heapq.heappush(heap,num)\n",
        "    if len(heap) > k:\n",
        "      heapq.heappop(heap)\n",
        "\n",
        "  return heap[0]    \n"
      ],
      "metadata": {
        "id": "oju7cp9WDVgx"
      },
      "execution_count": null,
      "outputs": []
    },
    {
      "cell_type": "code",
      "source": [
        "nums = [3,2,1,5,6,4]\n",
        "k = 2\n",
        "findKthLargest(nums, k)"
      ],
      "metadata": {
        "colab": {
          "base_uri": "https://localhost:8080/"
        },
        "id": "p_77dVBQEINA",
        "outputId": "9f1c1556-a5c3-460b-915a-cee3605774fe"
      },
      "execution_count": null,
      "outputs": [
        {
          "output_type": "execute_result",
          "data": {
            "text/plain": [
              "5"
            ]
          },
          "metadata": {},
          "execution_count": 5
        }
      ]
    },
    {
      "cell_type": "markdown",
      "source": [
        "#**Leetcode 973. K Closest Points to Origin** `Medium`\n",
        "\n",
        "Given an array of points where `points[i] = [xi, yi]` represents a point on the `X-Y` plane and an integer `k`, return the `k` closest points to the origin `(0, 0)`.\n",
        "\n",
        "The distance between two points on the `X-Y` plane is the Euclidean distance (i.e., `√(x1 - x2)2 + (y1 - y2)2)`.\n",
        "\n",
        "You may return the answer in any order. The answer is guaranteed to be unique (except for the order that it is in).\n",
        "\n",
        "```\n",
        "Example 1:\n",
        "Input: points = [[1,3],[-2,2]], k = 1\n",
        "Output: [[-2,2]]\n",
        "\n",
        "Example 2:\n",
        "Input: points = [[3,3],[5,-1],[-2,4]], k = 2\n",
        "Output: [[3,3],[-2,4]]\n",
        " \n",
        "Constraints:\n",
        "1 <= k <= points.length <= 104\n",
        "-104 < xi, yi < 104\n",
        "```"
      ],
      "metadata": {
        "id": "JlV3fKdXgjcS"
      }
    },
    {
      "cell_type": "code",
      "source": [
        "import heapq\n",
        "from typing import List\n",
        "\n",
        "def kClosest(points: List[List[int]], k: int) -> List[List[int]]:\n",
        "        minHeap = []\n",
        "    \n",
        "        for [x,y] in points:\n",
        "            heapq.heappush(minHeap, (-(x**2+y**2),[x,y]))\n",
        "            if len(minHeap) > k:\n",
        "                heapq.heappop(minHeap)\n",
        "                \n",
        "        res = [t[1] for t in minHeap]    \n",
        "        \n",
        "        return res \n",
        "        "
      ],
      "metadata": {
        "id": "oJ2ZInIliJ0d"
      },
      "execution_count": null,
      "outputs": []
    },
    {
      "cell_type": "code",
      "source": [
        "points = [[3,3],[5,-1],[-2,4]]\n",
        "k = 2\n",
        "kClosest(points, k)"
      ],
      "metadata": {
        "colab": {
          "base_uri": "https://localhost:8080/"
        },
        "id": "UtMIIBHtiZcg",
        "outputId": "1dc5a120-7a5c-487b-e1f5-b0ba9dac93dd"
      },
      "execution_count": null,
      "outputs": [
        {
          "output_type": "execute_result",
          "data": {
            "text/plain": [
              "[[-2, 4], [3, 3]]"
            ]
          },
          "metadata": {},
          "execution_count": 4
        }
      ]
    }
  ]
}