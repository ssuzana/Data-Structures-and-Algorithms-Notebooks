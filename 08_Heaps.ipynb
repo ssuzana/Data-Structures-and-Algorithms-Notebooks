{
  "nbformat": 4,
  "nbformat_minor": 0,
  "metadata": {
    "colab": {
      "provenance": [],
      "include_colab_link": true
    },
    "kernelspec": {
      "name": "python3",
      "display_name": "Python 3"
    },
    "language_info": {
      "name": "python"
    }
  },
  "cells": [
    {
      "cell_type": "markdown",
      "metadata": {
        "id": "view-in-github",
        "colab_type": "text"
      },
      "source": [
        "<a href=\"https://colab.research.google.com/github/ssuzana/Data-Structures-and-Algorithms-Notebooks/blob/main/08_Heaps.ipynb\" target=\"_parent\"><img src=\"https://colab.research.google.com/assets/colab-badge.svg\" alt=\"Open In Colab\"/></a>"
      ]
    },
    {
      "cell_type": "markdown",
      "source": [
        "#**Priority Queues**\n",
        "\n",
        "A *priority queue* is a list whose deletions and access are just like a classic queue, but whose insertions are like an ordered array. That is, we only delete and access data from the front of the priority queue, but when we insert data, we always make sure the data remains sorted in a specific order.\n",
        "\n",
        "Example of where a priority queue is helpful is an application that manages the triage system for a hospital emergency room."
      ],
      "metadata": {
        "id": "4lTvxdBlVXTy"
      }
    },
    {
      "cell_type": "markdown",
      "source": [
        "#**Heaps**\n",
        "\n",
        "A *heap* is a type of tree data structure. It is useful when we want to constantly keep track tabs on the greatest or least data element in a dataset.\n",
        "\n",
        "There are several types of heaps, but we're going to focus on the *binary heap*.\n",
        "\n",
        "The binary heap is a specific kind of binary tree and it can be classified into two types: the *max-heap* and the *min-heap*. We're going to work with the max-heap for now and refer to this data structure simply as a heap. So from now on, **heap = binary max-heap**.\n",
        "\n",
        "The heap is a **binary tree** that maintains the following conditions:\n",
        "\n",
        "* **The heap condition**: the value of each node must be greater than each of its descendant nodes. The root, therefore, is the maximum element of the tree.\n",
        "\n",
        "* The tree must be **complete** (i.e. completely filled with nodes other than the rightmost elements on the last level). Completeness is important because we want to ensure our heap remains *well-balanced*.\n",
        "\n",
        "The heap has two primary operations: **inserting** and **deleting**. Searching within a heap would require us to inspect each node, so search is not an operation usually implemented in the context of heaps.\n",
        "\n",
        "The heap has something called a **last node**. A heap's last node is the rightmost node in its bottom level."
      ],
      "metadata": {
        "id": "lKyAWJYjTzv7"
      }
    },
    {
      "cell_type": "markdown",
      "source": [
        "#**Heap Insertion** \n",
        "\n",
        "1. We create a node containing the new value and insert it at the next available rightmost spot in the bottom level. Thus, this value becomes the heaps last node.\n",
        "\n",
        "2. Next, we compare this new node with its parent node.\n",
        "\n",
        "3. If the new node is greater than its parent node, we swap the new node with the parent node.\n",
        "\n",
        "4. We repeat Step 3, effectively moving the new node up through the heap (called *trickling* the node), until it has a parent whose value is greater than it.\n",
        "\n",
        "The efficiency of inserting a node in a heap is `O(log N)`.\n",
        "\n",
        " For `N` nodes in any binary tree, the tree is organized into about `log(N)` rows/levels. Since at most we'd have to trickle the new value up to the top row, this will take `log(N)` steps at most.\n"
      ],
      "metadata": {
        "id": "dmIEizQrGeVW"
      }
    },
    {
      "cell_type": "markdown",
      "source": [
        "#**Heap Deletion** \n",
        "## In a heap we only delete the root node.\n",
        "\n",
        "1. Move the last node into where the root node was, effectively removing the original root node.\n",
        "\n",
        "2. Trickle the root node (the \"trickle node\")  **down** into its proper place:\n",
        "\n",
        "  a. We check both children of the trickle node and see which one is larger.\n",
        "\n",
        "  b. If the trickle node is smaller than the larger of the two child nodes, we swap the trickle node with that larger child.\n",
        "\n",
        "  c. We repeat steps a and b until the trickle node has no children who are greater than it.\n"
      ],
      "metadata": {
        "id": "kw-8or1POOGI"
      }
    },
    {
      "cell_type": "markdown",
      "source": [
        "#**Looking for the Last Node**\n",
        "\n",
        "The first step of the insertion algorithm has us place the new value as the heap's last node. Also, the first step of the deletion algorithm requires us to move the last node and turn it into the root node.\n",
        "But how do we find the spot that will be the last node?\n",
        "\n",
        "**An array is used to store the values of a heap**. The root node is always stored at index 0. We then move down a level and go fro  left to right, assigning each node to the next available index in the array. We then reach the end of a level, we move down to the next level and repeat this pattern. When we implement the heap in this fashion, the *last node will always be the final element of the array*.\n",
        "\n",
        "\n",
        "\n",
        "\n",
        "\n",
        "\n",
        "\n"
      ],
      "metadata": {
        "id": "dPbaoiGUUY4y"
      }
    },
    {
      "cell_type": "markdown",
      "source": [
        "#**Traversing an Array-Based Heap**\n",
        "\n",
        "When we assign the indexes of the heap's nodes according to the pattern described earlier, the following traits of a heap are always true:\n",
        "* To find the **left child** of any node, we can use the formula `(index * 2) + 1`\n",
        "* To find the **right child** of any node, we can use the formula `(index * 2) + 2`\n",
        "* To find a node's **parent**, we can use the formula `(index - 1) // 2` (integer division)"
      ],
      "metadata": {
        "id": "ocpycwrHg4pL"
      }
    },
    {
      "cell_type": "code",
      "execution_count": null,
      "metadata": {
        "id": "dV7IxIAYTxpr"
      },
      "outputs": [],
      "source": [
        "class Heap:\n",
        "  def __init__(self):\n",
        "    self.data = []\n",
        "\n",
        "  def rootNode(self):\n",
        "    return self.data[0]\n",
        "\n",
        "  def lastNode(self):\n",
        "    return self.data[-1]    \n",
        "\n",
        "  def leftChildIndex(self, index):\n",
        "    return  (index * 2) + 1\n",
        "\n",
        "  def rightChildIndex(self, index):\n",
        "    return (index * 2) + 2  \n",
        "\n",
        "  def ParentIndex(self, index):\n",
        "    return (index - 1) // 2  \n",
        "\n",
        "  def insert(self, value):\n",
        "    self.data.append(value)\n",
        "    new_idx = len(self.data) - 1\n",
        "    # \"trickle up\" the new node\n",
        "    while new_idx > 0 and self.data[new_idx] > self.data[self.ParentIndex(new_idx)]:\n",
        "      # swap the new node with the parent node\n",
        "      self.data[self.ParentIndex(new_idx)], self.data[new_idx]  = self.data[new_idx], self.data[self.ParentIndex(new_idx)]\n",
        "    \n",
        "      # update the index of the new node\n",
        "      new_idx = self.ParentIndex(new_idx)"
      ]
    },
    {
      "cell_type": "markdown",
      "source": [
        "  Heap Deletion - uses two helper methods `has_greater_child` and `calculate_larger_child_index`:"
      ],
      "metadata": {
        "id": "s1swArmmpaY4"
      }
    },
    {
      "cell_type": "code",
      "source": [
        "def delete(self):\n",
        "  # pop the last node from the array and make it the root node\n",
        "  self.data[0] = self.data.pop()\n",
        "  trickle_node_idx = 0\n",
        "   # \"trickle down\" the trickle (root) node\n",
        "  while self.has_greater_child(trickle_node_idx):\n",
        "    larger_child_idx = self.calculate_larger_child_idx(trickle_node_idx)\n",
        "\n",
        "    # swap the trickle node with its larger child:\n",
        "    self.data[trickle_node_idx], self.data[larger_child_idx] =\\\n",
        "    self.data[larger_child_idx], self.data[trickle_node_idx]\n",
        "    \n",
        "    # update the trickle's node index\n",
        "    trickle_node_idx = larger_child_idx\n",
        "\n",
        "def has_greater_child(self, index):\n",
        "  # check whether the node at index has left and right children\n",
        "  # and if either of those children are greater\n",
        "  (self.data[self.leftChildIndex(index)] and self.data[self.leftChildIndex(index)] > self.data[index])\\\n",
        "  or (self.data[self.rightChildIndex(index)] and self.data[self.rightChildIndex(index)] > self.data[index])\n",
        "\n",
        "def calculate_larger_child_idx(self, index):\n",
        "  if not self.data[self.rightChildIndex(index)]:\n",
        "    return self.leftChildIndex(index)\n",
        "\n",
        "  if self.data[self.rightChildIndex(index)] > self.data[self.leftChildIndex(index)]:\n",
        "    return self.rightChildIndex(index)\n",
        "  else:\n",
        "    return self.leftChildIndex(index)     "
      ],
      "metadata": {
        "id": "vEgBWbsHplgl"
      },
      "execution_count": null,
      "outputs": []
    },
    {
      "cell_type": "markdown",
      "source": [
        "#**`heapq` — Heap queue algorithm**\n",
        "\n",
        "This module provides an implementation of the heap queue algorithm, also known as the priority queue algorithm.\n",
        "\n",
        "Heaps are binary trees for which every parent node has a value less than or equal to any of its children. This implementation uses arrays for which `heap[k] <= heap[2*k+1]` and `heap[k] <= heap[2*k+2]` for all `k`, counting elements from zero. For the sake of comparison, non-existing elements are considered to be infinite. The interesting property of a heap is that its **smallest element is always the root**, heap[0].\n",
        "\n",
        "* `heapq.heapify(x)`\n",
        "Transform list x into a heap, in-place, in linear time.\n",
        "\n",
        "* `heapq.heappush(heap, item)`\n",
        "Push the value item onto the heap, maintaining the heap invariant.\n",
        "\n",
        "* `heapq.heappop(heap)`\n",
        "Pop and return the smallest item from the heap, maintaining the heap invariant. If the heap is empty, `IndexError` is raised. To access the smallest item without popping it, use `heap[0]`.\n",
        "\n",
        "* `heapq.heappushpop(heap, item)`\n",
        "Push item on the heap, then pop and return the smallest item from the heap. \n",
        "\n",
        "* `heapq.heapreplace(heap, item)`\n",
        "Pop and return the smallest item from the heap, and also push the new item. The heap size doesn’t change. If the heap is empty, `IndexError` is raised.\n"
      ],
      "metadata": {
        "id": "epB0hAv-YSC8"
      }
    },
    {
      "cell_type": "markdown",
      "source": [
        "#**703. Kth Largest Element in a Stream** `Easy`\n",
        "\n",
        "Design a class to find the `k`th largest element in a stream. Note that it is the `k`th largest element in the sorted order, not the `k`th distinct element.\n",
        "\n",
        "Implement `KthLargest` class:\n",
        "\n",
        "* `KthLargest(int k, int[] nums)` Initializes the object with the integer `k` and the stream of integers nums.\n",
        "* `int add(int val)` Appends the integer val to the stream and returns the element representing the `k`th largest element in the stream."
      ],
      "metadata": {
        "id": "wq3MkSzSXAEK"
      }
    },
    {
      "cell_type": "code",
      "source": [
        "import heapq \n",
        "\n",
        "class KthLargest:\n",
        "\n",
        "    def __init__(self, k, nums):\n",
        "        self.nums = nums\n",
        "        self.k = k\n",
        "        heapq.heapify(self.nums)\n",
        "        while len(self.nums) > self.k:\n",
        "            heapq.heappop(self.nums)\n",
        "\n",
        "    def add(self, val: int) -> int:\n",
        "        \n",
        "        heapq.heappush(self.nums, val)\n",
        "        if len(self.nums) > self.k:\n",
        "            heapq.heappop(self.nums)\n",
        "        return self.nums[0]\n",
        "    "
      ],
      "metadata": {
        "id": "3P8weYSBWUYT"
      },
      "execution_count": null,
      "outputs": []
    },
    {
      "cell_type": "code",
      "source": [
        "kthLargest = KthLargest(3, [4, 5, 8, 2])\n",
        "print(kthLargest.add(3)) # return 4\n",
        "print(kthLargest.add(5)) # return 5\n",
        "print(kthLargest.add(10)) # return 5\n",
        "print(kthLargest.add(9)) # return 8\n",
        "print(kthLargest.add(4)) # return 8"
      ],
      "metadata": {
        "colab": {
          "base_uri": "https://localhost:8080/"
        },
        "id": "3MC_xxm7FAeo",
        "outputId": "a92d454d-fdf1-407b-d903-d11a30b57bd3"
      },
      "execution_count": null,
      "outputs": [
        {
          "output_type": "stream",
          "name": "stdout",
          "text": [
            "4\n",
            "5\n",
            "5\n",
            "8\n",
            "8\n"
          ]
        }
      ]
    },
    {
      "cell_type": "markdown",
      "source": [
        "#**Leetcode 1046. Last Stone Weight** `Easy`\n",
        "\n",
        "You are given an array of integers `stones` where `stones[i]` is the weight of the `i`th stone.\n",
        "\n",
        "We are playing a game with the stones. On each turn, we choose the heaviest two stones and smash them together. Suppose the heaviest two stones have weights `x` and `y` with `x <= y`. The result of this smash is:\n",
        "\n",
        "* If `x == y`, both stones are destroyed, and\n",
        "\n",
        "* If `x != y`, the stone of weight `x` is destroyed, and the stone of weight y has new weight `y - x`.\n",
        "At the end of the game, there is at most one stone left.\n",
        "\n",
        "Return the smallest possible weight of the left stone. If there are no stones left, return `0`.\n",
        "\n",
        "``` \n",
        "Example 1:\n",
        "Input: stones = [2,7,4,1,8,1]\n",
        "Output: 1\n",
        "Explanation: \n",
        "We combine 7 and 8 to get 1 so the array converts to [2,4,1,1,1] then,\n",
        "we combine 2 and 4 to get 2 so the array converts to [2,1,1,1] then,\n",
        "we combine 2 and 1 to get 1 so the array converts to [1,1,1] then,\n",
        "we combine 1 and 1 to get 0 so the array converts to [1] then that's the value of the last stone.\n",
        "\n",
        "Example 2:\n",
        "Input: stones = [1]\n",
        "Output: 1\n",
        " \n",
        "Constraints:\n",
        "\n",
        "1 <= stones.length <= 30\n",
        "1 <= stones[i] <= 1000\n",
        "```"
      ],
      "metadata": {
        "id": "_l9jz2RjY-01"
      }
    },
    {
      "cell_type": "code",
      "source": [
        "import heapq\n",
        "\n",
        "from typing import List\n",
        "\n",
        "def lastStoneWeight(stones: List[int]) -> int:\n",
        "\n",
        "  stones = [-s for s in stones]\n",
        "  heapq.heapify(stones)\n",
        "\n",
        "  while len(stones) > 1:\n",
        "    first =  heapq.heappop(stones)\n",
        "    second = heapq.heappop(stones)\n",
        "    if first < second:\n",
        "      heapq.heappush(stones, first - second)\n",
        "\n",
        "  if stones:\n",
        "    return -stones[0]\n",
        "  else:\n",
        "    return 0    "
      ],
      "metadata": {
        "id": "RCltCiFxZjoz"
      },
      "execution_count": null,
      "outputs": []
    },
    {
      "cell_type": "code",
      "source": [
        "stones = [2,7,4,1,8,1]\n",
        "lastStoneWeight(stones)"
      ],
      "metadata": {
        "colab": {
          "base_uri": "https://localhost:8080/"
        },
        "id": "wTldA6zzaKJT",
        "outputId": "b0e7fef1-4a3f-42c0-d588-0ffcbf2b7663"
      },
      "execution_count": null,
      "outputs": [
        {
          "output_type": "execute_result",
          "data": {
            "text/plain": [
              "1"
            ]
          },
          "metadata": {},
          "execution_count": 6
        }
      ]
    },
    {
      "cell_type": "markdown",
      "source": [
        "#**Leetcode 215. Kth Largest Element in an Array** `Medium`\n",
        "\n",
        "Given an integer array `nums` and an integer `k`, return the `k`th largest element in the array.\n",
        "\n",
        "Note that it is the `k`th largest element in the sorted order, not the `k`th distinct element.\n",
        "\n",
        " \n",
        "```\n",
        "Example 1:\n",
        "Input: nums = [3,2,1,5,6,4], k = 2\n",
        "Output: 5\n",
        "\n",
        "Example 2:\n",
        "Input: nums = [3,2,3,1,2,4,5,5,6], k = 4\n",
        "Output: 4\n",
        "\n",
        "Constraints:\n",
        "\n",
        "1 <= k <= nums.length <= 104\n",
        "-104 <= nums[i] <= 104\n",
        "```"
      ],
      "metadata": {
        "id": "J2Qv3wqACsa1"
      }
    },
    {
      "cell_type": "code",
      "source": [
        "from typing import List\n",
        "import heapq\n",
        "\n",
        "def findKthLargest(nums: List[int], k: int) -> int:\n",
        "\n",
        "  heap = []\n",
        "\n",
        "  for num in nums:\n",
        "    heapq.heappush(heap,num)\n",
        "    if len(heap) > k:\n",
        "      heapq.heappop(heap)\n",
        "\n",
        "  return heap[0]    \n"
      ],
      "metadata": {
        "id": "oju7cp9WDVgx"
      },
      "execution_count": null,
      "outputs": []
    },
    {
      "cell_type": "code",
      "source": [
        "nums = [3,2,1,5,6,4]\n",
        "k = 2\n",
        "findKthLargest(nums, k)"
      ],
      "metadata": {
        "colab": {
          "base_uri": "https://localhost:8080/"
        },
        "id": "p_77dVBQEINA",
        "outputId": "486aefc6-6401-404d-bdc3-d8fcd67eeb62"
      },
      "execution_count": null,
      "outputs": [
        {
          "output_type": "execute_result",
          "data": {
            "text/plain": [
              "5"
            ]
          },
          "metadata": {},
          "execution_count": 8
        }
      ]
    },
    {
      "cell_type": "markdown",
      "source": [
        "#**Leetcode 973. K Closest Points to Origin** `Medium`\n",
        "\n",
        "Given an array of points where `points[i] = [xi, yi]` represents a point on the `X-Y` plane and an integer `k`, return the `k` closest points to the origin `(0, 0)`.\n",
        "\n",
        "The distance between two points on the `X-Y` plane is the Euclidean distance (i.e., `sqrt((x1 - x2)^2 + (y1 - y2)^2)`.\n",
        "\n",
        "You may return the answer in any order. The answer is guaranteed to be unique (except for the order that it is in).\n",
        "\n",
        "```\n",
        "Example 1:\n",
        "Input: points = [[1,3],[-2,2]], k = 1\n",
        "Output: [[-2,2]]\n",
        "\n",
        "Example 2:\n",
        "Input: points = [[3,3],[5,-1],[-2,4]], k = 2\n",
        "Output: [[3,3],[-2,4]]\n",
        " \n",
        "Constraints:\n",
        "1 <= k <= points.length <= 104\n",
        "-104 < xi, yi < 104\n",
        "```"
      ],
      "metadata": {
        "id": "JlV3fKdXgjcS"
      }
    },
    {
      "cell_type": "code",
      "source": [
        "import heapq\n",
        "from typing import List\n",
        "\n",
        "def kClosest(points: List[List[int]], k: int) -> List[List[int]]:\n",
        "        minHeap = []\n",
        "    \n",
        "        for [x,y] in points:\n",
        "            heapq.heappush(minHeap, (-(x**2+y**2),[x,y]))\n",
        "            if len(minHeap) > k:\n",
        "                heapq.heappop(minHeap)\n",
        "                \n",
        "        res = [t[1] for t in minHeap]    \n",
        "        \n",
        "        return res \n",
        "        "
      ],
      "metadata": {
        "id": "oJ2ZInIliJ0d"
      },
      "execution_count": null,
      "outputs": []
    },
    {
      "cell_type": "code",
      "source": [
        "points = [[3,3],[5,-1],[-2,4]]\n",
        "k = 2\n",
        "kClosest(points, k)"
      ],
      "metadata": {
        "colab": {
          "base_uri": "https://localhost:8080/"
        },
        "id": "UtMIIBHtiZcg",
        "outputId": "095dddac-1fa8-41ed-edcb-4ee21ca7f957"
      },
      "execution_count": null,
      "outputs": [
        {
          "output_type": "execute_result",
          "data": {
            "text/plain": [
              "[[-2, 4], [3, 3]]"
            ]
          },
          "metadata": {},
          "execution_count": 10
        }
      ]
    },
    {
      "cell_type": "markdown",
      "source": [],
      "metadata": {
        "id": "hVq3LBVlub1o"
      }
    }
  ]
}