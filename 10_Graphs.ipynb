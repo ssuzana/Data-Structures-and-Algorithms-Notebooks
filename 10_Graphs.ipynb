{
  "nbformat": 4,
  "nbformat_minor": 0,
  "metadata": {
    "colab": {
      "provenance": [],
      "include_colab_link": true
    },
    "kernelspec": {
      "name": "python3",
      "display_name": "Python 3"
    },
    "language_info": {
      "name": "python"
    }
  },
  "cells": [
    {
      "cell_type": "markdown",
      "metadata": {
        "id": "view-in-github",
        "colab_type": "text"
      },
      "source": [
        "<a href=\"https://colab.research.google.com/github/ssuzana/Data-Structures-and-Algorithms-Notebooks/blob/main/10_Graphs.ipynb\" target=\"_parent\"><img src=\"https://colab.research.google.com/assets/colab-badge.svg\" alt=\"Open In Colab\"/></a>"
      ]
    },
    {
      "cell_type": "markdown",
      "source": [
        "# Graph Terminology\n",
        "\n",
        "* A graph is a data structure used for analyzing relationships between pairs of objects.  \n",
        "\n",
        "* A graph consists of a set *V* of *vertices* and a set $E\\subset V\\times V$ of *edges*. Vertices that are connected by an edge are called *adjacent*.\n",
        "\n",
        "* Edges can be *undirected* (like a two-way street) or *directed* (like a one-way street). For a directed edge $e=(u,v)$, the vertex $u$ is its *source*, and $v$ is its *sink*.\n",
        "\n",
        "* A *path* is a sequence of vertices. The sequence may consist of a single vertex. The *length of a path* is the number of edges it traverses. A graph is *connected* if there is a path between every pair of vertices.\n",
        "\n",
        "* A *cycle* is a path that starts and ends at the same vertex.\n",
        "An *acyclic graph* is one without cycles.\n",
        "\n",
        "* A *tree* is a type of graph, but not all graphs are trees. A tree is a connected graph without cycles.\n",
        "\n",
        "* There are two common ways to implement a graph: using an *adjacency list* or an *adjacency matrix*. \n",
        "  * In the adjacency list representation every vertex stores a list of adjacent vertices. Note that a directed edge $e=(u,v)$ would be stored twice: once in $u$'s adjacent vertices and once in $v$'s adjacent vertices.\n",
        "  * An adjacency matrix $A=(a_{i,j})$ for a graph is a square $|V|\\times |V|$ matrix in which the entry in row $i$ and column $j$ is 1 if there is an edge from vertex $i$ to vertex $j$, and 0 otherwise. This can be expressed as:\n",
        " $$a_{i,j} = \n",
        "\\begin{cases}\n",
        "1 & \\text{if there is an edge from vertex } i \\text{ to vertex } j \\\\\n",
        "0 & \\text{otherwise}\n",
        "\\end{cases}$$\n",
        "      Note that the matrix is symmetric for undirected graphs.\n",
        "      For an undirected graph, the matrix is not necessarily symmetric.\n",
        "\n",
        "\n",
        "\n",
        "\n",
        "\n"
      ],
      "metadata": {
        "id": "v2jQjpfmKv0P"
      }
    },
    {
      "cell_type": "markdown",
      "source": [
        "# Object-oriented Graph Implementation"
      ],
      "metadata": {
        "id": "HQ7k4nLGZALM"
      }
    },
    {
      "cell_type": "code",
      "execution_count": null,
      "metadata": {
        "id": "b0DAfnXNN0Y3"
      },
      "outputs": [],
      "source": [
        "class Vertex:\n",
        "  def __init__(self, val = 0, neighbors = None):\n",
        "    self.val = val\n",
        "    self.neighbors = neighbors if neighbors is not None else []\n",
        "\n",
        "  def add_adjacent_vertex(self, vertex):\n",
        "    self.neighbors.append(vertex)  "
      ]
    },
    {
      "cell_type": "markdown",
      "source": [
        "Here’s how we can use this class to build a directed graph representing who follows whom in this image:\n",
        "\n",
        "![SmartSelect_20220524-155550_Xodo Docs.jpg](data:image/jpeg;base64,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)"
      ],
      "metadata": {
        "id": "b-1mUKe5SE76"
      }
    },
    {
      "cell_type": "code",
      "source": [
        "alice = Vertex(\"alice\")\n",
        "bob = Vertex(\"bob\")\n",
        "cynthia = Vertex(\"cynthia\")\n",
        "\n",
        "alice.add_adjacent_vertex(bob)\n",
        "alice.add_adjacent_vertex(cynthia)\n",
        "bob.add_adjacent_vertex(cynthia)\n",
        "cynthia.add_adjacent_vertex(bob)"
      ],
      "metadata": {
        "id": "XlLeA9eOQUWr"
      },
      "execution_count": null,
      "outputs": []
    },
    {
      "cell_type": "markdown",
      "source": [
        "To build an undirected graph for the social network (where all friendships are mutual), we can modify our `add_adjacent_vertex` method as follows:"
      ],
      "metadata": {
        "id": "C1nIZvSrTKb6"
      }
    },
    {
      "cell_type": "code",
      "source": [
        "# vertex in undirected graph\n",
        "class Vertex:\n",
        "  def __init__(self, val = 0, neighbors = None):\n",
        "    self.val = val\n",
        "    self.neighbors = neighbors if neighbors is not None else []\n",
        "\n",
        "  def add_adjacent_vertex(self, vertex):\n",
        "    if vertex in self.neighbors:\n",
        "      return\n",
        "    else:  \n",
        "      self.neighbors.append(vertex)  \n",
        "      vertex.add_adjacent_vertex(self)"
      ],
      "metadata": {
        "id": "wgfSEWlLUCSq"
      },
      "execution_count": null,
      "outputs": []
    },
    {
      "cell_type": "markdown",
      "source": [
        "#**Graph Search**\n",
        "\n",
        "* Searching a graph means getting from one vertex to another. When the graph is connected, search can be used to find any vertex within the entire graph even if we have access to just one random vertex. Graph search can be used to either find a particular vertex, or it can be used to simply traverse the graph. \n",
        "\n",
        "* There are two well-known approaches for graph search: *depth-first search* (DFS) and *breadth-first search* (BFS).\n",
        "\n",
        "* If the graph could have cycles, the key to any graph search algorithm is **keeping track of which vertices we've visited so far**. If we don't do this, we can end up in an infinite cycle. One way to keep track of our visited vertices is by using a hash table. As we visit each vertex, we add the vertex (or its value) as a key in the hash table and assign it an arbitrary value, such as the boolean `True`. If a vertex is in the hash table, it means we've already visited it."
      ],
      "metadata": {
        "id": "qsn900izWMtT"
      }
    },
    {
      "cell_type": "markdown",
      "source": [
        "## **Depth-First Search**\n",
        "\n",
        "1. Start at any random vertex within the graph.\n",
        "2. Add the curent vertex to the hash table to mark it as having been visited.\n",
        "3. Iterate through the curent vertex's adjacent vertices.\n",
        "4. For each vertex, if the adjacent vertex has already been visited, ignore it.\n",
        "5. If the adjacent vertex has not yet been visited, recursively perform depth-first search on that vertex."
      ],
      "metadata": {
        "id": "W8ey0iSccjzD"
      }
    },
    {
      "cell_type": "code",
      "source": [
        "# depth-first traversal (recursive) - can be used for cyclic graphs \n",
        "def dfs_traverse(vertex, visited_vertices = {}):\n",
        "  visited_vertices[vertex.val] = True\n",
        "  print(vertex.val)\n",
        "  for adjacent_vertex in vertex.neighbors:\n",
        "    if adjacent_vertex.val in visited_vertices:\n",
        "      continue\n",
        "    dfs_traverse(adjacent_vertex, visited_vertices)  "
      ],
      "metadata": {
        "id": "mbKUigNAcism"
      },
      "execution_count": null,
      "outputs": []
    },
    {
      "cell_type": "code",
      "source": [
        "# set up the undirected graph\n",
        "#            Alice\n",
        "#   /       /       \\        \\\n",
        "# Bob   Candy       Derek -- Elaine\n",
        "#  |      /            |\n",
        "# Fred   /           Gina\n",
        "#  |    /              |\n",
        "# Helen              Irena\n",
        "\n",
        "alice = Vertex(\"Alice\")\n",
        "bob = Vertex(\"Bob\")\n",
        "candy = Vertex(\"Candy\")\n",
        "derek = Vertex(\"Derek\")\n",
        "elaine = Vertex(\"Elaine\")\n",
        "fred = Vertex(\"Fred\")\n",
        "helen = Vertex(\"Helen\")\n",
        "gina = Vertex(\"Gina\")\n",
        "irena = Vertex(\"Irena\")\n",
        "alice.add_adjacent_vertex(bob)\n",
        "alice.add_adjacent_vertex(candy)\n",
        "alice.add_adjacent_vertex(derek)\n",
        "alice.add_adjacent_vertex(elaine)\n",
        "bob.add_adjacent_vertex(fred)\n",
        "candy.add_adjacent_vertex(helen)\n",
        "fred.add_adjacent_vertex(helen)\n",
        "derek.add_adjacent_vertex(elaine)\n",
        "derek.add_adjacent_vertex(gina)\n",
        "gina.add_adjacent_vertex(irena)"
      ],
      "metadata": {
        "id": "i4_TjJKuhKTC"
      },
      "execution_count": null,
      "outputs": []
    },
    {
      "cell_type": "code",
      "source": [
        "dfs_traverse(alice)\n",
        "# Output: Alice, Bob, Fred, Helen, Candy, Derek, Elaine, Gina, Irena"
      ],
      "metadata": {
        "colab": {
          "base_uri": "https://localhost:8080/"
        },
        "id": "hDc4jWEaiRkP",
        "outputId": "5bc6b3c5-5e3f-4035-e13f-97fc83dbade7"
      },
      "execution_count": null,
      "outputs": [
        {
          "output_type": "stream",
          "name": "stdout",
          "text": [
            "Alice\n",
            "Bob\n",
            "Fred\n",
            "Helen\n",
            "Candy\n",
            "Derek\n",
            "Elaine\n",
            "Gina\n",
            "Irena\n"
          ]
        }
      ]
    },
    {
      "cell_type": "markdown",
      "source": [
        "## **Breadth-First Search**\n",
        "\n",
        "Algorithm for breadth-first traversal:\n",
        "\n",
        "1. Start at any vertex. We'll call this `starting_vertex`.\n",
        "2. Add `starting_vertex` to the hash table to mark it as having been visited.\n",
        "3. Add `starting_vertex` to the queue.\n",
        "4. Start a loop that runs while the queue isn't empty.\n",
        "5. Within this loop, remove the first vertex from the queue. We'll call this `current_vertex`.\n",
        "6. Iterate over all the adjacent vertices of `current_vertex`.\n",
        "7. If the adjacent vertex was already visited, ignore it.\n",
        "8. If the adjacent vertex has not yet been visited, mark it as visited by adding it to the hash table, and add it to the queue.\n",
        "9. Repeat this loop (starting from Step 4) until the queue is empty."
      ],
      "metadata": {
        "id": "mAT-KR3Nq1sD"
      }
    },
    {
      "cell_type": "markdown",
      "source": [
        "### **Implementation of queue using collections.deque**\n",
        "\n",
        "Queue in Python can be implemented using `deque` class from the `collections` module. Deque is preferred over list in the cases where we need quicker append and pop operations from both the ends of container, as `deque` provides an `O(1)` time complexity for append and pop operations as compared to list which provides `O(n)` time complexity. \n",
        "\n",
        "Some of the methods supported by `deque` objects:\n",
        "\n",
        "* `append(x)` Add `x` to the right side of the deque.\n",
        "\n",
        "* `appendleft(x)` Add `x` to the left side of the deque.\n",
        "\n",
        "* `pop()` Remove and return an element from the right side of the deque. If no elements are present, raises an `IndexError`.\n",
        "\n",
        "* `popleft()` Remove and return an element from the left side of the deque. If no elements are present, raises an `IndexError`."
      ],
      "metadata": {
        "id": "TjM6kq4zvzm5"
      }
    },
    {
      "cell_type": "code",
      "source": [
        "# breadth-first traversal\n",
        "from collections import deque\n",
        "\n",
        "def bfs_traverse(starting_vertex):\n",
        "  q = deque()\n",
        "  visited_vertices = {}\n",
        "  visited_vertices[starting_vertex.val] = True\n",
        "  q.append(starting_vertex)\n",
        "\n",
        "  while q:\n",
        "    current_vertex = q.popleft()\n",
        "    print(current_vertex.val)\n",
        "    for adjacent_vertex in current_vertex.neighbors:\n",
        "      if adjacent_vertex.val not in visited_vertices:\n",
        "        visited_vertices[adjacent_vertex.val] = True\n",
        "        q.append(adjacent_vertex)   "
      ],
      "metadata": {
        "id": "kyVSxntmtCpQ"
      },
      "execution_count": null,
      "outputs": []
    },
    {
      "cell_type": "code",
      "source": [
        "bfs_traverse(alice)\n",
        "# Output: Alice, Bob, Candy, Derek, Elaine, Fred, Helen, Gina, Irena"
      ],
      "metadata": {
        "colab": {
          "base_uri": "https://localhost:8080/"
        },
        "id": "k69kZrCYzclY",
        "outputId": "13968a7f-5827-4910-dad2-54f98d678f3d"
      },
      "execution_count": null,
      "outputs": [
        {
          "output_type": "stream",
          "name": "stdout",
          "text": [
            "Alice\n",
            "Bob\n",
            "Candy\n",
            "Derek\n",
            "Elaine\n",
            "Fred\n",
            "Helen\n",
            "Gina\n",
            "Irena\n"
          ]
        }
      ]
    },
    {
      "cell_type": "markdown",
      "source": [
        "# Graph representation as a hashmap (adjacency list)"
      ],
      "metadata": {
        "id": "IyBRSV6TpiFT"
      }
    },
    {
      "cell_type": "code",
      "source": [
        "# store vertices using a hashmap\n",
        "graph = dict()\n",
        "for vertex in [alice, bob, candy, derek, elaine, fred, helen, gina, irena]:\n",
        "  graph[vertex.val] = [v.val for v in vertex.neighbors]\n",
        "print(graph)  "
      ],
      "metadata": {
        "colab": {
          "base_uri": "https://localhost:8080/"
        },
        "id": "h2Y1w-Ptmvxe",
        "outputId": "7a519e60-52fc-416b-da82-3d9b0b5ba489"
      },
      "execution_count": null,
      "outputs": [
        {
          "output_type": "stream",
          "name": "stdout",
          "text": [
            "{'Alice': ['Bob', 'Candy', 'Derek', 'Elaine'], 'Bob': ['Alice', 'Fred'], 'Candy': ['Alice', 'Helen'], 'Derek': ['Alice', 'Elaine', 'Gina'], 'Elaine': ['Alice', 'Derek'], 'Fred': ['Bob', 'Helen'], 'Helen': ['Candy', 'Fred'], 'Gina': ['Derek', 'Irena'], 'Irena': ['Gina']}\n"
          ]
        }
      ]
    },
    {
      "cell_type": "code",
      "source": [
        "graph = {'Alice': ['Bob', 'Candy', 'Derek', 'Elaine'],\n",
        "         'Bob': ['Alice', 'Fred'], \n",
        "         'Candy': ['Alice', 'Helen'], \n",
        "         'Derek': ['Alice', 'Elaine', 'Gina'], \n",
        "         'Elaine': ['Alice', 'Derek'], \n",
        "         'Fred': ['Bob', 'Helen'],\n",
        "         'Helen': ['Candy', 'Fred'], \n",
        "         'Gina': ['Derek', 'Irena'], \n",
        "         'Irena': ['Gina']}"
      ],
      "metadata": {
        "id": "9_CEhmxmqHHy"
      },
      "execution_count": null,
      "outputs": []
    },
    {
      "cell_type": "code",
      "source": [
        "# depth first traversal (for cyclic graphs)\n",
        "def depth_first_print(graph, start):\n",
        "  stack = [start]\n",
        "  visited = set()\n",
        "  while stack:\n",
        "    cur = stack.pop()\n",
        "    if cur not in visited:\n",
        "      visited.add(cur)    \n",
        "      print(cur)\n",
        "      for neighbor in graph[cur]:\n",
        "        if neighbor in visited:\n",
        "          continue\n",
        "        stack.append(neighbor)         "
      ],
      "metadata": {
        "id": "c4W2MgVerbup"
      },
      "execution_count": null,
      "outputs": []
    },
    {
      "cell_type": "code",
      "source": [
        "depth_first_print(graph=graph, start='Alice')"
      ],
      "metadata": {
        "colab": {
          "base_uri": "https://localhost:8080/"
        },
        "id": "oumEPd10sLy2",
        "outputId": "5bfd97d3-ea20-403a-bae5-6be8da27fa21"
      },
      "execution_count": null,
      "outputs": [
        {
          "output_type": "stream",
          "name": "stdout",
          "text": [
            "Alice\n",
            "Elaine\n",
            "Derek\n",
            "Gina\n",
            "Irena\n",
            "Candy\n",
            "Helen\n",
            "Fred\n",
            "Bob\n"
          ]
        }
      ]
    },
    {
      "cell_type": "code",
      "source": [
        "# breadth first traversal (for cyclic graphs)\n",
        "from collections import deque\n",
        "def breadth_first_print(graph, start):\n",
        "  q = deque([start])\n",
        "  visited = set()\n",
        "  while q:\n",
        "    cur = q.popleft()\n",
        "    if cur not in visited:\n",
        "      visited.add(cur)  \n",
        "      print(cur)\n",
        "      for neighbor in graph[cur]:\n",
        "        if neighbor in visited:\n",
        "          continue\n",
        "        q.append(neighbor)"
      ],
      "metadata": {
        "id": "Ua5S0J3Uy0R9"
      },
      "execution_count": null,
      "outputs": []
    },
    {
      "cell_type": "code",
      "source": [
        "breadth_first_print(graph=graph, start='Alice')"
      ],
      "metadata": {
        "colab": {
          "base_uri": "https://localhost:8080/"
        },
        "id": "dg8aNE3Kz3ve",
        "outputId": "1913e5f9-51db-415d-a4bb-abab18ae574d"
      },
      "execution_count": null,
      "outputs": [
        {
          "output_type": "stream",
          "name": "stdout",
          "text": [
            "Alice\n",
            "Bob\n",
            "Candy\n",
            "Derek\n",
            "Elaine\n",
            "Fred\n",
            "Helen\n",
            "Gina\n",
            "Irena\n"
          ]
        }
      ]
    },
    {
      "cell_type": "markdown",
      "source": [
        "## DFS uses a stack, BFS uses a queue\n",
        "\n",
        "\n",
        "* **Depth first search (DFS)** uses a stack (Last-In-First-Out) data structure to keep track of the visited vertices and to determine the next vertex to visit. When DFS visits a vertex, it adds it to the top of the stack and explores its neighbors. \n",
        " > If any of the neighbors have not been visited yet, DFS recursively visits them and adds them to the stack. This process continues until all vertices have been visited. Because DFS uses a stack, it visits vertices in a depth-first manner, meaning it visits vertices that are farther away from the starting vertex before visiting the closer ones.\n",
        "\n",
        "* **Breadth first search (BFS)** uses a queue (First-In-First-Out) data structure to keep track of the visited vertices and to determine the next vertex to visit. When BFS visits a vertex, it adds it to the end of the queue and explores its neighbors. \n",
        ">  If any of the neighbors have not been visited yet, BFS visits them and adds them to the end of the queue. This process continues until all vertices have been visited. Because BFS uses a queue, it visits vertices in a breadth-first manner, meaning it visits all vertices at the same depth level before visiting vertices that are deeper in the graph.\n",
        "\n",
        "\n",
        "* Note that a queue can be generally thought of as horizontal in structure i.e, breadth/width can be attributed to it. Stack is visualized as a vertical structure and hence has depth."
      ],
      "metadata": {
        "id": "FWmrj8gc7RI1"
      }
    },
    {
      "cell_type": "markdown",
      "source": [
        "# Directed Graphs\n",
        "\n",
        "* A graph is directed when its edges have directions (these edges are also called arcs).\n",
        "\n",
        "* **Topological sort** or **topological ordering** of a directed graph is an ordering of nodes such that every node appears in the ordering before all the nodes it points to. Note that topological ordering is not unique and graphs with cycles do not have topological ordering.\n"
      ],
      "metadata": {
        "id": "YXq2pqnyRq5k"
      }
    },
    {
      "cell_type": "markdown",
      "source": [
        "## Kahn's Algorithm (topological order)\n",
        "\n",
        "* To obtain a topological order, we can use Kahn's algorithm which is very similar to Breadth First Search. The main difference is that **we only push nodes with 0 in-degree into the queue** in topological sort whereas in BFS we push all the neighboring nodes into the queue.\n",
        "\n",
        "* For this algorithm, we systematically remove one node at a time, each time removing a node such that no other nodes point to that node (in-degree is 0). \n",
        "\n",
        "  * If no such node exists, then there must be a cycle, there is no way to order the nodes such that \"every node appears in the ordering before all the nodes it points to\" (no solution). \n",
        "  * After removing the current node, for each neighboring node the current node points to, we check whether any nodes point to this node. \n",
        "  * If there isn't any, we push this node into the queue. \n",
        "  * Notice it is important to keep track of the number of nodes pointing to a node (in-degree) in the question as we only push the node into the queue once all nodes the current node depended on have been removed. \n",
        "\n",
        "\n",
        "* Let's summarize the steps here:\n",
        "\n",
        "0.   Initialize a hashmap to store the in-degrees.\n",
        "1.   Go through the nodes, count the in-degree of each node.\n",
        "2.   Push the nodes with 0 in-degree into the queue.\n",
        "3.   Pop each node from the queue, subtract 1 from the in-degree of each of its neighbors (each node it points to).\n",
        "4.   If a node's in-degree drops to 0, then push it into the queue.\n",
        "5.   Repeat until the queue is empty. If any nodes remain unprocessed, then there must be a cycle."
      ],
      "metadata": {
        "id": "Q9wjKa96TPNr"
      }
    },
    {
      "cell_type": "code",
      "source": [
        "from collections import deque\n",
        "\n",
        "def find_indegree(graph):\n",
        "    indegree = { node: 0 for node in graph }  \n",
        "    for node in graph:\n",
        "        for neighbor in graph[node]:\n",
        "            indegree[neighbor] += 1\n",
        "    return indegree\n",
        "\n",
        "\n",
        "def topo_sort(graph):\n",
        "    res = []\n",
        "    q = deque()\n",
        "    indegree = find_indegree(graph)\n",
        "    for node in indegree:\n",
        "        if indegree[node] == 0:\n",
        "            q.append(node)\n",
        "    while len(q) > 0:\n",
        "        node = q.popleft()\n",
        "        res.append(node)\n",
        "        for neighbor in graph[node]:\n",
        "            indegree[neighbor] -= 1\n",
        "            if indegree[neighbor] == 0:\n",
        "                q.append(neighbor)\n",
        "    return res if len(graph) == len(res) else None"
      ],
      "metadata": {
        "id": "Y7xTBSx-V7vO"
      },
      "execution_count": null,
      "outputs": []
    },
    {
      "cell_type": "markdown",
      "source": [
        "# **Leetcode 733. Flood Fill** `Easy`\n",
        "\n",
        "https://leetcode.com/problems/flood-fill/\n",
        "\n",
        "An image is represented by an `m x n` integer grid image where `image[i][j]` represents the pixel value of the image.\n",
        "\n",
        "You are also given three integers `sr, sc,` and `color`. You should perform a flood fill on the image starting from the pixel `image[sr][sc]`.\n",
        "\n",
        "To perform a flood fill, consider the starting pixel, plus any pixels connected 4-directionally to the starting pixel of the same color as the starting pixel, plus any pixels connected 4-directionally to those pixels (also with the same color), and so on. Replace the color of all of the aforementioned pixels with color.\n",
        "\n",
        "Return the modified image after performing the flood fill.\n",
        "\n",
        "```\n",
        "Input: image = [[1,1,1],[1,1,0],[1,0,1]], sr = 1, sc = 1, color = 2\n",
        "Output: [[2,2,2],[2,2,0],[2,0,1]]\n",
        "Explanation: From the center of the image with position (sr, sc) = (1, 1) (i.e., the red pixel), \n",
        "all pixels connected by a path of the same color as the starting pixel (i.e., the blue pixels) are colored with the new color.\n",
        "Note the bottom corner is not colored 2, because it is not 4-directionally connected to the starting pixel.\n",
        "```"
      ],
      "metadata": {
        "id": "1EZKpc9kkdZC"
      }
    },
    {
      "cell_type": "code",
      "source": [
        "def floodFill(image: list[list[int]], sr: int, sc: int, newColor: int) -> list[list[int]]:\n",
        "    R, C = len(image), len(image[0])\n",
        "    color = image[sr][sc]\n",
        "    if color == newColor: \n",
        "        return image\n",
        "\n",
        "    def dfs(r, c):\n",
        "        if (r not in range(R)) or (c not in range(C)): return\n",
        "        if image[r][c] != color: return\n",
        "        \n",
        "        image[r][c] = newColor\n",
        "        \n",
        "        dfs(r+1, c)\n",
        "        dfs(r-1, c)\n",
        "        dfs(r, c+1)\n",
        "        dfs(r, c-1)\n",
        "    \n",
        "    dfs(sr, sc)\n",
        "    return image"
      ],
      "metadata": {
        "id": "ajKkbJ85lE9g"
      },
      "execution_count": null,
      "outputs": []
    },
    {
      "cell_type": "markdown",
      "source": [
        "## Time and Space Complexity \n",
        "\n",
        "\n",
        "\n",
        "* The time and space complexity of the `floodFill` function depend on the number of elements in the input `image` and the size of the call stack used by the recursive `dfs` function.\n",
        "\n",
        "* In the worst case, where all elements in the `image` are of the same color, the `dfs` function will visit every element in the image exactly once. Since each element can have up to 4 neighboring elements, the time complexity of the `dfs` function is `O(R*C)`, where `R` and `C` are the dimensions of the input `image`. Therefore, the overall time complexity of the `floodFill` function is also `O(R*C)`, as the `dfs` function is called only once. \n",
        "\n",
        "* The space complexity is also `O(R*C)`, as the maximum number of recursive calls on the call stack is proportional to the number of elements in the `image`."
      ],
      "metadata": {
        "id": "xTzEyHv_pCbA"
      }
    },
    {
      "cell_type": "code",
      "source": [
        "image = [[1,1,1],[1,1,0],[1,0,1]]\n",
        "sr = 1\n",
        "sc = 1\n",
        "newColor = 2\n",
        "floodFill(image, sr, sc, newColor)"
      ],
      "metadata": {
        "colab": {
          "base_uri": "https://localhost:8080/"
        },
        "id": "0ghH1F24n5_c",
        "outputId": "87213b5f-e36d-401e-9951-b97d00f4f7ea"
      },
      "execution_count": null,
      "outputs": [
        {
          "output_type": "execute_result",
          "data": {
            "text/plain": [
              "[[2, 2, 2], [2, 2, 0], [2, 0, 1]]"
            ]
          },
          "metadata": {},
          "execution_count": 9
        }
      ]
    },
    {
      "cell_type": "markdown",
      "source": [
        "# **Leetcode 1971. Find if Path Exists in Graph** `Easy`\n",
        "\n",
        "https://leetcode.com/problems/find-if-path-exists-in-graph/\n",
        "\n",
        "There is a bi-directional graph with `n` vertices, where each vertex is labeled from 0 to `n - 1` (inclusive). The edges in the graph are represented as a 2D integer array edges, where each `edges[i] = [u_i, v_i]` denotes a bi-directional edge between vertex `u_i` and vertex `v_i`. Every vertex pair is connected by at most one edge, and no vertex has an edge to itself.\n",
        "\n",
        "You want to determine if there is a valid path that exists from vertex source to vertex destination.\n",
        "\n",
        "Given edges and the integers `n`, source, and destination, return `true` if there is a valid path from source to destination, or `false` otherwise.\n",
        "\n",
        "```\n",
        "Input: n = 3, edges = [[0,1],[1,2],[2,0]], source = 0, destination = 2\n",
        "Output: true\n",
        "Explanation: There are two paths from vertex 0 to vertex 2:\n",
        "- 0 → 1 → 2\n",
        "- 0 → 2\n",
        "```\n",
        "\n",
        "```\n",
        "Input: n = 6, edges = [[0,1],[0,2],[3,5],[5,4],[4,3]], source = 0, destination = 5\n",
        "Output: false\n",
        "Explanation: There is no path from vertex 0 to vertex 5.\n",
        "```"
      ],
      "metadata": {
        "id": "XMdqGqL_AaYV"
      }
    },
    {
      "cell_type": "code",
      "source": [
        "import collections\n",
        "def validPath(n: int, edges: list[list[int]], source: int, destination: int) -> bool:\n",
        "\n",
        "    graph = collections.defaultdict(list)\n",
        "    for u, v in edges:\n",
        "        graph[u].append(v)\n",
        "        graph[v].append(u)\n",
        "    \n",
        "    visited = set([source])\n",
        "    queue = collections.deque([source])\n",
        "\n",
        "    while queue:\n",
        "        cur = queue.popleft()\n",
        "        if cur == destination:\n",
        "            return True\n",
        "\n",
        "        for neighbor in graph[cur]:\n",
        "            if neighbor not in visited:\n",
        "                visited.add(neighbor)\n",
        "                queue.append(neighbor)\n",
        "    \n",
        "    return False"
      ],
      "metadata": {
        "id": "4iCmw_2IGVqj"
      },
      "execution_count": null,
      "outputs": []
    },
    {
      "cell_type": "code",
      "source": [
        "n = 3\n",
        "edges = [[0,1],[1,2],[2,0]]\n",
        "source = 0\n",
        "destination = 2\n",
        "validPath(n, edges, source, destination)"
      ],
      "metadata": {
        "colab": {
          "base_uri": "https://localhost:8080/"
        },
        "id": "NCfnbz2YGsVL",
        "outputId": "105ee871-5242-473c-d3e2-a5b5a89ee84f"
      },
      "execution_count": null,
      "outputs": [
        {
          "output_type": "execute_result",
          "data": {
            "text/plain": [
              "True"
            ]
          },
          "metadata": {},
          "execution_count": 7
        }
      ]
    },
    {
      "cell_type": "code",
      "source": [
        "n = 6\n",
        "edges = [[0,1],[0,2],[3,5],[5,4],[4,3]]\n",
        "source = 0\n",
        "destination = 5\n",
        "validPath(n, edges, source, destination)"
      ],
      "metadata": {
        "colab": {
          "base_uri": "https://localhost:8080/"
        },
        "id": "ufzsoWZ-G3Bf",
        "outputId": "01f7ea37-b1a5-4a19-e50e-a28ee79ebe61"
      },
      "execution_count": null,
      "outputs": [
        {
          "output_type": "execute_result",
          "data": {
            "text/plain": [
              "False"
            ]
          },
          "metadata": {},
          "execution_count": 8
        }
      ]
    },
    {
      "cell_type": "markdown",
      "source": [
        "## Time and Space Complexity\n",
        "\n",
        "\n",
        "\n",
        "* The `import collections` statement is used to import the Python standard library module `collections`, which provides specialized container data types such as `defaultdict`, `deque`, and `Counter`.\n",
        "\n",
        "* The time complexity of the `validPath` function depends on the size of the input `n` (number of vertices), the number of edges `m` in the graph, and the distances between the source and destination nodes in the graph.\n",
        "\n",
        "  - The initialization of the `graph` defaultdict takes `O(m)` time because it requires iterating through all edges and appending nodes to the adjacency list of each node. \n",
        "  - The `visited` set and `queue` deque initialization both take constant time. \n",
        "  - The while loop runs for at most `n` iterations, since each node is visited at most once, and each iteration performs constant time operations. \n",
        "  - The worst-case scenario occurs when the source and destination nodes are not connected, in which case the function returns `False` after traversing the entire graph. Thus, the overall time complexity of the function is `O(m + n)`.\n",
        "\n",
        "* The space complexity of the `validPath` function depends on the size of the input `n`, the number of edges `m` in the graph, and the maximum size of the `visited` set and `queue` deque during the execution of the while loop.\n",
        "\n",
        "  - The `graph` defaultdict takes `O(m)` space because it stores the adjacency lists for all nodes. \n",
        "  - The `visited` set and `queue` deque both take `O(n)` space in the worst case when all nodes are visited, and the maximum size of `visited` is `n` and the maximum size of `queue` is `n` when the graph is a line. \n",
        "  - The overall space complexity of the function is `O(m + n)` because the size of `m` can be as large as `n^2` in the worst case, and thus `m` dominates the space complexity."
      ],
      "metadata": {
        "id": "RPq1iO5-Mgka"
      }
    },
    {
      "cell_type": "markdown",
      "source": [
        "# **Leetcode 323. Number of Connected Components in an Undirected Graph** `Medium`\n",
        "\n",
        "You have a graph of `n` nodes. You are given an integer `n` and an array edges where `edges[i] = [a_i, b_i]` indicates that there is an edge between `a_i` and `b_i` in the graph.\n",
        "\n",
        "Return the number of connected components in the graph.\n",
        "\n",
        "```\n",
        "Input: n = 5, edges = [[0,1],[1,2],[3,4]]\n",
        "Output: 2\n",
        "```\n",
        "```\n",
        "Input: n = 5, edges = [[0,1],[1,2],[2,3],[3,4]]\n",
        "Output: 1\n",
        "```\n"
      ],
      "metadata": {
        "id": "-RqUQ0L-PHwI"
      }
    },
    {
      "cell_type": "code",
      "source": [
        "import collections\n",
        "def countComponents(n: int, edges: list[list[int]]) -> int:\n",
        "    \n",
        "    # create adjacency map\n",
        "    graph = collections.defaultdict(list)\n",
        "    for [u,v] in edges:\n",
        "        graph[u].append(v)\n",
        "        graph[v].append(u)\n",
        "    for i in range(n):\n",
        "        if i not in graph:\n",
        "            graph[i] = []\n",
        "            \n",
        "    visited = set()   \n",
        "    \n",
        "    # depth first - undirected graph\n",
        "    def dfs(graph, start):    \n",
        "        stack = [start]\n",
        "    \n",
        "        while stack:\n",
        "            cur = stack.pop()\n",
        "            visited.add(cur)\n",
        "            for neighbor in graph[cur]:\n",
        "                if neighbor not in visited:\n",
        "                    stack.append(neighbor)\n",
        "        \n",
        "    count = 0\n",
        "    for vertex in graph:\n",
        "        if vertex not in visited:\n",
        "            count += 1\n",
        "            dfs(graph, vertex)\n",
        "    return count"
      ],
      "metadata": {
        "id": "pTbEZOWyQsPl"
      },
      "execution_count": null,
      "outputs": []
    },
    {
      "cell_type": "code",
      "source": [
        "n = 5\n",
        "edges = [[0,1],[1,2],[3,4]]\n",
        "countComponents(n, edges)"
      ],
      "metadata": {
        "colab": {
          "base_uri": "https://localhost:8080/"
        },
        "id": "XbniGWIuQ4_8",
        "outputId": "0264ed77-5b71-4a76-99e3-3f4dde0c1f63"
      },
      "execution_count": null,
      "outputs": [
        {
          "output_type": "execute_result",
          "data": {
            "text/plain": [
              "2"
            ]
          },
          "metadata": {},
          "execution_count": 10
        }
      ]
    },
    {
      "cell_type": "markdown",
      "source": [
        "## Time and Space Complexity\n",
        "\n",
        "\n",
        "The time and space complexity of the `countComponents` function can be analyzed as follows:\n",
        "\n",
        "- Creating the adjacency map takes `O(E)` time, where `E` is the number of edges in the graph.\n",
        "- Adding missing vertices to the adjacency map takes `O(N)` time, where `N` is the total number of vertices.\n",
        "- The DFS algorithm is applied to each vertex once, taking `O(V+E)` time, where `V` is the total number of vertices and `E` is the number of edges.\n",
        "- The space complexity is `O(V+E)`, as we need to keep track of visited vertices and the stack of vertices to be visited during the DFS traversal.\n",
        "\n",
        "Therefore, the overall time complexity of the method is `O(V+E)`, and the space complexity is also `O(V+E)`."
      ],
      "metadata": {
        "id": "X52iqjrRRRAr"
      }
    },
    {
      "cell_type": "markdown",
      "source": [
        "# **Leetcode 200. Number of Islands** `Medium`\n",
        "\n",
        "https://leetcode.com/problems/number-of-islands/\n",
        "\n",
        "Given an `m x n` 2D binary grid `grid` which represents a map of `'1'`s (land) and `'0'`s (water), return the number of islands.\n",
        "\n",
        "An island is surrounded by water and is formed by connecting adjacent lands horizontally or vertically. You may assume all four edges of the grid are all surrounded by water.\n",
        " \n",
        "```\n",
        "Input: grid = [\n",
        "  [\"1\",\"1\",\"1\",\"1\",\"0\"],\n",
        "  [\"1\",\"1\",\"0\",\"1\",\"0\"],\n",
        "  [\"1\",\"1\",\"0\",\"0\",\"0\"],\n",
        "  [\"0\",\"0\",\"0\",\"0\",\"0\"]\n",
        "]\n",
        "Output: 1\n",
        "```\n",
        "```\n",
        "Input: grid = [\n",
        "  [\"1\",\"1\",\"0\",\"0\",\"0\"],\n",
        "  [\"1\",\"1\",\"0\",\"0\",\"0\"],\n",
        "  [\"0\",\"0\",\"1\",\"0\",\"0\"],\n",
        "  [\"0\",\"0\",\"0\",\"1\",\"1\"]\n",
        "]\n",
        "Output: 3\n",
        "``` \n",
        "\n",
        "\n"
      ],
      "metadata": {
        "id": "VYvWHpADGpuL"
      }
    },
    {
      "cell_type": "code",
      "source": [
        "def numIslands(grid: list[list[str]]) -> int:\n",
        "  if not grid:\n",
        "    return 0\n",
        "\n",
        "  islands = 0\n",
        "  visited = set()  \n",
        "  rows, cols = len(grid), len(grid[0])\n",
        "  directions = [[0,1], [0,-1],[1,0], [-1,0]]\n",
        "\n",
        "  def dfs(r,c):\n",
        "    if (r not in range(rows) or \n",
        "        c not in range(cols) or\n",
        "        grid[r][c] == \"0\" or \n",
        "        (r,c) in visited):\n",
        "      return \n",
        "    visited.add((r,c))\n",
        "    for rdir,cdir in directions:\n",
        "      dfs(r + rdir, c + cdir)\n",
        "  \n",
        "  for row in range(rows):\n",
        "    for col in range(cols):\n",
        "      if (grid[row][col] == \"1\" and (row, col) not in visited):\n",
        "        islands += 1\n",
        "        dfs(row, col)\n",
        "  return islands\n"
      ],
      "metadata": {
        "id": "CO3vw5bMG_5d"
      },
      "execution_count": null,
      "outputs": []
    },
    {
      "cell_type": "code",
      "source": [
        "grid = [[\"1\",\"1\",\"0\",\"0\",\"0\"],[\"1\",\"1\",\"0\",\"0\",\"0\"],[\"0\",\"0\",\"1\",\"0\",\"0\"],[\"0\",\"0\",\"0\",\"1\",\"1\"]]\n",
        "numIslands(grid)"
      ],
      "metadata": {
        "colab": {
          "base_uri": "https://localhost:8080/"
        },
        "id": "EgPaZrEDJpMi",
        "outputId": "c59af98d-4d17-4a54-9643-77f6ec416382"
      },
      "execution_count": null,
      "outputs": [
        {
          "output_type": "execute_result",
          "data": {
            "text/plain": [
              "3"
            ]
          },
          "metadata": {},
          "execution_count": 3
        }
      ]
    },
    {
      "cell_type": "markdown",
      "source": [
        "## Time and Space Complexity\n",
        "\n",
        "\n",
        "* The time complexity of the `numIslands` function is `O(rows * cols)`, where `rows` and `cols` are the dimensions of the input grid. \n",
        "\n",
        " This is because the function uses a nested loop to iterate over each cell in the grid, and for each cell, it performs a constant amount of work (i.e., a few simple conditional checks) and then calls the `dfs` function, which can visit at most every cell in the grid once. The `dfs` function has a time complexity of `O(1)` per cell, and so its time complexity is also `O(rows * cols)` overall.\n",
        "\n",
        "* The space complexity of the function is `O(rows * cols)` as well. \n",
        "\n",
        " This is because the function uses a set to keep track of the visited cells, which can have at most `O(rows * cols)` elements if every cell in the grid is visited. The `dfs` function also uses a constant amount of additional space per cell it visits (i.e., the call stack for recursion), but since it visits at most every cell in the grid once, this additional space is also `O(rows * cols)`. Overall, the space complexity of the function is dominated by the set used to store visited cells."
      ],
      "metadata": {
        "id": "qOB2wTTg2BQm"
      }
    },
    {
      "cell_type": "markdown",
      "source": [
        "# **Leetcode 1254. Number of Closed Islands** `Medium`\n",
        "\n",
        "https://leetcode.com/problems/number-of-closed-islands/\n",
        "\n",
        "Given a 2D grid consists of `0`s (land) and `1`s (water).  An island is a maximal 4-directionally connected group of `0`s and a closed island is an island totally (all left, top, right, bottom) surrounded by `1`s.\n",
        "\n",
        "Return the number of closed islands.\n",
        "\n",
        "```\n",
        "Input: grid = [[1,1,1,1,1,1,1,0],[1,0,0,0,0,1,1,0],[1,0,1,0,1,1,1,0],[1,0,0,0,0,1,0,1],[1,1,1,1,1,1,1,0]]\n",
        "Output: 2\n",
        "Explanation: \n",
        "Islands in gray are closed because they are completely surrounded by water (group of 1s).\n",
        "```"
      ],
      "metadata": {
        "id": "Be-1c8sOKv_O"
      }
    },
    {
      "cell_type": "code",
      "source": [
        "def closedIsland(grid: list[list[int]]) -> int:\n",
        "\n",
        "    islands = 0\n",
        "    rows, cols = len(grid), len(grid[0])\n",
        "    visited = [[False for _ in range(cols)] for _ in range(rows)]\n",
        "    directions = [[0,1], [0,-1],[1,0], [-1,0]]\n",
        "\n",
        "    def dfs(r,c, grid, visited):\n",
        "        if (r not in range(rows) or c not in range(cols)):\n",
        "            return False\n",
        "        if grid[r][c] == 1 or visited[r][c]:\n",
        "            return True\n",
        "      \n",
        "        visited[r][c] = True\n",
        "        closed = True\n",
        "\n",
        "        for rdir,cdir in directions:\n",
        "            if not dfs(r + rdir, c + cdir, grid, visited):\n",
        "                closed = False\n",
        "        return closed\n",
        "\n",
        "    for row in range(rows):\n",
        "        for col in range(cols):\n",
        "            if (grid[row][col] == 0 and not visited[row][col] and dfs(row, col, grid, visited)):\n",
        "                islands += 1\n",
        "    return islands"
      ],
      "metadata": {
        "id": "xoPXeafrLIfx"
      },
      "execution_count": null,
      "outputs": []
    },
    {
      "cell_type": "code",
      "source": [
        "grid = [[1,1,1,1,1,1,1,0],[1,0,0,0,0,1,1,0],[1,0,1,0,1,1,1,0],[1,0,0,0,0,1,0,1],[1,1,1,1,1,1,1,0]]\n",
        "closedIsland(grid)"
      ],
      "metadata": {
        "colab": {
          "base_uri": "https://localhost:8080/"
        },
        "id": "zolziud_LS39",
        "outputId": "f748971f-c27c-482c-b861-c31f81e137e2"
      },
      "execution_count": null,
      "outputs": [
        {
          "output_type": "execute_result",
          "data": {
            "text/plain": [
              "2"
            ]
          },
          "metadata": {},
          "execution_count": 6
        }
      ]
    },
    {
      "cell_type": "markdown",
      "source": [
        "## Time and Space Complexity\n",
        "\n",
        "* The time complexity is `O(rows * cols)`, where `rows` and `cols` are the dimensions of the input grid.\n",
        "\n",
        "* The space complexity of the function is `O(rows * cols)` as well. "
      ],
      "metadata": {
        "id": "cqQ4PbECLvGm"
      }
    },
    {
      "cell_type": "markdown",
      "source": [
        "# **Leetcode 695. Max Area of Island** `Medium`\n",
        "\n",
        "https://leetcode.com/problems/max-area-of-island/\n",
        "\n",
        "You are given an `m x n` binary matrix grid. An island is a group of `1`'s (representing land) connected 4-directionally (horizontal or vertical.) You may assume all four edges of the grid are surrounded by water.\n",
        "\n",
        "The area of an island is the number of cells with a value `1` in the island.\n",
        "\n",
        "Return the maximum area of an island in grid. If there is no island, return `0`.\n",
        "\n",
        "```\n",
        "Input: grid = [[0,0,1,0,0,0,0,1,0,0,0,0,0],\n",
        "               [0,0,0,0,0,0,0,1,1,1,0,0,0],\n",
        "               [0,1,1,0,1,0,0,0,0,0,0,0,0],\n",
        "               [0,1,0,0,1,1,0,0,1,0,1,0,0],\n",
        "               [0,1,0,0,1,1,0,0,1,1,1,0,0],\n",
        "               [0,0,0,0,0,0,0,0,0,0,1,0,0],\n",
        "               [0,0,0,0,0,0,0,1,1,1,0,0,0],\n",
        "               [0,0,0,0,0,0,0,1,1,0,0,0,0]]\n",
        "Output: 6\n",
        "Explanation: The answer is not 11, because the island must be connected 4-directionally.\n",
        "```"
      ],
      "metadata": {
        "id": "33giroic3BHI"
      }
    },
    {
      "cell_type": "code",
      "source": [
        "def maxAreaOfIsland(grid: list[list[int]]) -> int:\n",
        "\n",
        "    rows, cols = len(grid), len(grid[0])\n",
        "    max_size = 0\n",
        "    visited = set()\n",
        "\n",
        "    def df_explore(r,c):\n",
        "        if r not in range(rows) or c not in range(cols):\n",
        "            return 0   \n",
        "        if grid[r][c]== 0 or (r,c) in visited:\n",
        "            return 0\n",
        "\n",
        "        visited.add((r,c))\n",
        "        \n",
        "        size = 1\n",
        "        size += df_explore(r-1,c)\n",
        "        size += df_explore(r+1,c)\n",
        "        size += df_explore(r,c-1)\n",
        "        size += df_explore(r,c+1)\n",
        "\n",
        "        return size\n",
        "\n",
        "    for i in range(rows):\n",
        "        for j in range(cols):\n",
        "            if grid[i][j] == 1 and (i,j) not in visited:\n",
        "                size = df_explore(i,j)\n",
        "                if size > max_size:\n",
        "                    max_size = size\n",
        "\n",
        "    return max_size"
      ],
      "metadata": {
        "id": "GM1hRaoS4TKn"
      },
      "execution_count": null,
      "outputs": []
    },
    {
      "cell_type": "code",
      "source": [
        "grid = [[0,0,1,0,0,0,0,1,0,0,0,0,0],\n",
        "               [0,0,0,0,0,0,0,1,1,1,0,0,0],\n",
        "               [0,1,1,0,1,0,0,0,0,0,0,0,0],\n",
        "               [0,1,0,0,1,1,0,0,1,0,1,0,0],\n",
        "               [0,1,0,0,1,1,0,0,1,1,1,0,0],\n",
        "               [0,0,0,0,0,0,0,0,0,0,1,0,0],\n",
        "               [0,0,0,0,0,0,0,1,1,1,0,0,0],\n",
        "               [0,0,0,0,0,0,0,1,1,0,0,0,0]]\n",
        "maxAreaOfIsland(grid)"
      ],
      "metadata": {
        "colab": {
          "base_uri": "https://localhost:8080/"
        },
        "id": "QMnYkMio4eZP",
        "outputId": "304bdd1c-8771-40ad-ee51-c318fc5fe96b"
      },
      "execution_count": null,
      "outputs": [
        {
          "output_type": "execute_result",
          "data": {
            "text/plain": [
              "6"
            ]
          },
          "metadata": {},
          "execution_count": 3
        }
      ]
    },
    {
      "cell_type": "markdown",
      "source": [
        "## Time and Space Complexity\n",
        "\n",
        "* The time complexity of the `maxAreaOfIsland` function is `O(rows * cols)`, where `rows` and `cols` are the dimensions of the input grid.\n",
        "\n",
        "* The space complexity of the function is `O(rows * cols)` as well. \n",
        "\n"
      ],
      "metadata": {
        "id": "sR8fFOp_489t"
      }
    },
    {
      "cell_type": "markdown",
      "source": [
        "# **Leetcode 1905. Count Sub Islands** `Medium`\n",
        "\n",
        "https://leetcode.com/problems/count-sub-islands/\n",
        "\n",
        "You are given two `m x n` binary matrices `grid1` and `grid2` containing only `0`'s (representing water) and `1`'s (representing land). An island is a group of `1`'s connected 4-directionally (horizontal or vertical). Any cells outside of the grid are considered water cells.\n",
        "\n",
        "An island in `grid2` is considered a sub-island if there is an island in `grid1` that contains all the cells that make up this island in `grid2`.\n",
        "\n",
        "Return the number of islands in `grid2` that are considered sub-islands.\n",
        "\n",
        "```\n",
        "Input: grid1 = [[1,1,1,0,0],[0,1,1,1,1],[0,0,0,0,0],[1,0,0,0,0],[1,1,0,1,1]], grid2 = [[1,1,1,0,0],[0,0,1,1,1],[0,1,0,0,0],[1,0,1,1,0],[0,1,0,1,0]]\n",
        "Output: 3\n",
        "Explanation: In the picture above, the grid on the left is grid1 and the grid on the right is grid2.\n",
        "The 1s colored red in grid2 are those considered to be part of a sub-island. There are three sub-islands.\n",
        "```"
      ],
      "metadata": {
        "id": "ETy17eB9782y"
      }
    },
    {
      "cell_type": "code",
      "source": [
        "def countSubIslands(grid1: list[list[int]], grid2: list[list[int]]) -> int:\n",
        "    visited = set()  \n",
        "    rows, cols = len(grid1), len(grid1[0])\n",
        "    directions = [[0,1], [0,-1],[1,0], [-1,0]]\n",
        "\n",
        "    def dfs(r,c):\n",
        "        if (r not in range(rows) or \n",
        "            c not in range(cols) or\n",
        "            grid2[r][c] == 0  or\n",
        "            (r,c) in visited):return True\n",
        "        \n",
        "        visited.add((r,c))    \n",
        "        res = True  \n",
        "        if grid1[r][c] == 0: res = False \n",
        "        \n",
        "        for rdir,cdir in directions:\n",
        "            res = dfs(r + rdir, c + cdir) and res\n",
        "        return res\n",
        "    \n",
        "    subislands = 0\n",
        "    for r in range(rows):\n",
        "        for c in range(cols):\n",
        "            if grid2[r][c] and (r, c) not in visited and dfs(r,c):\n",
        "                subislands += 1\n",
        "    return subislands"
      ],
      "metadata": {
        "id": "L8bYNGcr8a6D"
      },
      "execution_count": null,
      "outputs": []
    },
    {
      "cell_type": "code",
      "source": [
        "grid1 = [[1,1,1,0,0],[0,1,1,1,1],[0,0,0,0,0],[1,0,0,0,0],[1,1,0,1,1]]\n",
        "grid2 = [[1,1,1,0,0],[0,0,1,1,1],[0,1,0,0,0],[1,0,1,1,0],[0,1,0,1,0]]\n",
        "countSubIslands(grid1, grid2)"
      ],
      "metadata": {
        "colab": {
          "base_uri": "https://localhost:8080/"
        },
        "id": "PtLZeJmm8oep",
        "outputId": "3437c513-dcb5-43fc-db9b-c6d70ffbedbd"
      },
      "execution_count": null,
      "outputs": [
        {
          "output_type": "execute_result",
          "data": {
            "text/plain": [
              "3"
            ]
          },
          "metadata": {},
          "execution_count": 2
        }
      ]
    },
    {
      "cell_type": "markdown",
      "source": [
        "## Time and Space Complexity\n",
        "\n",
        "* Time complexity: `O(rows * cols)`, where `rows` and `cols` are the dimensions of the input grid.\n",
        "\n",
        "* Space complexity: `O(rows * cols)`."
      ],
      "metadata": {
        "id": "0gO8i5fQ9IfZ"
      }
    },
    {
      "cell_type": "markdown",
      "source": [
        "# **Leetcode 1020. Number of Enclaves** `Medium`\n",
        "\n",
        "https://leetcode.com/problems/number-of-enclaves/\n",
        "\n",
        "You are given an `m x n` binary matrix grid, where `0` represents a sea cell and `1` represents a land cell.\n",
        "\n",
        "A move consists of walking from one land cell to another adjacent (4-directionally) land cell or walking off the boundary of the grid.\n",
        "\n",
        "Return the number of land cells in grid for which we cannot walk off the boundary of the grid in any number of moves.\n",
        "\n",
        "```\n",
        "Input: grid = [[0,0,0,0],[1,0,1,0],[0,1,1,0],[0,0,0,0]]\n",
        "Output: 3\n",
        "Explanation: There are three 1s that are enclosed by 0s, and one 1 that is not enclosed because its on the boundary.\n",
        "```\n",
        "```\n",
        "Input: grid = [[0,1,1,0],[0,0,1,0],[0,0,1,0],[0,0,0,0]]\n",
        "Output: 0\n",
        "Explanation: All 1s are either on the boundary or can reach the boundary.\n",
        "```"
      ],
      "metadata": {
        "id": "spbiHcaeQEHF"
      }
    },
    {
      "cell_type": "code",
      "source": [
        "def numEnclaves(grid: list[list[int]]) -> int:\n",
        "    \"\"\"\n",
        "    If we begin to traverse from the land cells on the boundary \n",
        "    and keep on traversing as long as we can, we will visit all \n",
        "    the land cells from which we can reach the boundary.\n",
        "    The land cells which aren't visited will be the ones from \n",
        "    which we   cannot reach the boundary in any way. \n",
        "    The count of all these unvisited land cells would be our answer.\n",
        "    \"\"\"\n",
        "    rows, cols = len(grid), len(grid[0])\n",
        "    visited = [[False for _ in range(cols)] for _ in range(rows)]\n",
        "    directions = [[0,1], [0,-1],[1,0], [-1,0]]\n",
        "\n",
        "    def dfs(r,c, grid, visited):\n",
        "        if (r not in range(rows) or c not in range(cols) or grid[r][c] == 0 or visited[r][c]) :\n",
        "            return \n",
        "\n",
        "        visited[r][c] = True\n",
        "\n",
        "        for rdir,cdir in directions:\n",
        "            dfs(r + rdir, c + cdir, grid, visited)\n",
        "        return \n",
        "\n",
        "    for i in range(rows):\n",
        "        if grid[i][0] == 1 and not visited[i][0]:\n",
        "            dfs(i, 0, grid, visited)\n",
        "        if grid[i][cols - 1] == 1 and not visited[i][cols - 1]:\n",
        "            dfs(i, cols - 1, grid, visited) \n",
        "    for j in range(cols):\n",
        "        if grid[0][j] == 1 and not visited[0][j]:\n",
        "            dfs(0, j, grid, visited)\n",
        "        if grid[rows - 1][j] == 1 and not visited[rows - 1][j]:\n",
        "            dfs(rows - 1, j, grid, visited) \n",
        "              \n",
        "    enclaves = 0\n",
        "    for i in range(rows):\n",
        "        for j in range(cols):\n",
        "            if grid[i][j] == 1 and not visited[i][j]:\n",
        "                enclaves += 1\n",
        "    return enclaves "
      ],
      "metadata": {
        "id": "Q-rDO5hCQmf_"
      },
      "execution_count": null,
      "outputs": []
    },
    {
      "cell_type": "code",
      "source": [
        "grid = [[0,0,0,0],[1,0,1,0],[0,1,1,0],[0,0,0,0]]\n",
        "numEnclaves(grid)"
      ],
      "metadata": {
        "colab": {
          "base_uri": "https://localhost:8080/"
        },
        "id": "JxeqEs8lQzY6",
        "outputId": "754fc513-ca1d-4c01-cf19-9c3e574f9303"
      },
      "execution_count": null,
      "outputs": [
        {
          "output_type": "execute_result",
          "data": {
            "text/plain": [
              "3"
            ]
          },
          "metadata": {},
          "execution_count": 4
        }
      ]
    },
    {
      "cell_type": "markdown",
      "source": [
        "# **Leetcode 1162. As Far from Land as Possible** `Medium`\n",
        "\n",
        "https://leetcode.com/problems/as-far-from-land-as-possible/\n",
        "\n",
        "Given an `n x n` grid containing only values `0` and `1`, where `0` represents water and `1` represents land, find a water cell such that its distance to the nearest land cell is maximized, and return the distance. If no land or water exists in the grid, return `-1`.\n",
        "\n",
        "The distance used in this problem is the Manhattan distance: the distance between two cells `(x0, y0)` and (x1, y1)` is `|x0 - x1| + |y0 - y1|`.\n",
        "\n",
        "```\n",
        "Input: grid = [[1,0,1],[0,0,0],[1,0,1]]\n",
        "Output: 2\n",
        "Explanation: The cell (1, 1) is as far as possible from all the land with distance 2.\n",
        "```\n",
        "\n",
        "```\n",
        "Input: grid = [[1,0,0],[0,0,0],[0,0,0]]\n",
        "Output: 4\n",
        "Explanation: The cell (2, 2) is as far as possible from all the land with distance 4.\n",
        "```"
      ],
      "metadata": {
        "id": "8SJZDhGNPo5t"
      }
    },
    {
      "cell_type": "code",
      "source": [
        "from collections import deque\n",
        "\n",
        "def maxDistance(grid: list[list[int]]) -> int:\n",
        "    distance = -1\n",
        "    directions = [[1,0], [-1,0], [0,1], [0,-1]]\n",
        "    n = len(grid)\n",
        "    queue = deque([])\n",
        "    \n",
        "    for i in range(n):\n",
        "        for j in range(n):\n",
        "            if grid[i][j] == 1:\n",
        "                queue.append((i,j))\n",
        "\n",
        "    if len(queue) == n**2 or len(queue) == 0: \n",
        "        return -1\n",
        "\n",
        "    while queue:\n",
        "        q = len(queue)\n",
        "        for _ in range(q):\n",
        "            cur = queue.popleft()\n",
        "\n",
        "            for rdir,cdir in directions:\n",
        "                x = cur[0] + rdir\n",
        "                y = cur[1] + cdir\n",
        "                if (0<=x<n and 0<=y<n and grid[x][y] == 0):\n",
        "                    queue.append((x,y))\n",
        "                    grid[x][y] = 1     \n",
        "        distance += 1\n",
        "    return distance   "
      ],
      "metadata": {
        "id": "cs1Z0ybBP-Zw"
      },
      "execution_count": 2,
      "outputs": []
    },
    {
      "cell_type": "code",
      "source": [
        "grid = [[1,0,1],[0,0,0],[1,0,1]]\n",
        "maxDistance(grid)"
      ],
      "metadata": {
        "colab": {
          "base_uri": "https://localhost:8080/"
        },
        "id": "dYRhvVPMQHz8",
        "outputId": "460f2067-2ace-408f-da14-63ceceb175a2"
      },
      "execution_count": 3,
      "outputs": [
        {
          "output_type": "execute_result",
          "data": {
            "text/plain": [
              "2"
            ]
          },
          "metadata": {},
          "execution_count": 3
        }
      ]
    },
    {
      "cell_type": "markdown",
      "source": [
        "## Time and Space Complexity\n",
        "\n",
        "* The time complexity of the given function `maxDistance` is `O(n^2)` where `n` is the length of the given grid. \n",
        "  \n",
        "  This is because the function has two nested loops that iterate over all the elements of the grid, and for each element, the function performs a constant amount of work.\n",
        "\n",
        "* The space complexity of the function is also `O(n^2)`, because in the worst-case scenario, all the elements of the grid are equal to 1, and the queue will contain all `n^2` elements of the grid. In addition, the function uses a constant amount of additional space for variables like `directions`, `n`, and `distance`. \n",
        "\n",
        "  However, note that the worst-case scenario is unlikely to happen in practice, since the function returns -1 if all elements are 1, or if there are no elements equal to 1. Therefore, the actual space complexity of the function will depend on the size and distribution of the 0 and 1 elements in the grid."
      ],
      "metadata": {
        "id": "GphVuHPOQdzC"
      }
    },
    {
      "cell_type": "markdown",
      "source": [
        "# **Leetcode 994. Rotting Oranges** `Medium`\n",
        "\n",
        "https://leetcode.com/problems/rotting-oranges/\n",
        "\n",
        "You are given an `m x n` grid where each cell can have one of three values:\n",
        "\n",
        "* `0` representing an empty cell,\n",
        "* `1` representing a fresh orange, or\n",
        "* `2` representing a rotten orange.\n",
        "\n",
        "Every minute, any fresh orange that is 4-directionally adjacent to a rotten orange becomes rotten.\n",
        "\n",
        "Return the minimum number of minutes that must elapse until no cell has a fresh orange. If this is impossible, return `-1`.\n",
        "\n",
        "```\n",
        "Input: grid = [[2,1,1],[1,1,0],[0,1,1]]\n",
        "Output: 4\n",
        "```\n",
        "```\n",
        "Input: grid = [[2,1,1],[0,1,1],[1,0,1]]\n",
        "Output: -1\n",
        "Explanation: The orange in the bottom left corner (row 2, column 0) is never rotten, because rotting only happens 4-directionally.\n",
        "```"
      ],
      "metadata": {
        "id": "lFKaJwFxNJ25"
      }
    },
    {
      "cell_type": "code",
      "source": [
        "from collections import deque\n",
        "def orangesRotting(grid: list[list[int]]) -> int:\n",
        "    \n",
        "    directions = [[1,0], [-1,0], [0,1], [0,-1]]\n",
        "    m, n = len(grid), len(grid[0])\n",
        "    rotten = deque([])\n",
        "    time, fresh = 0, 0\n",
        "    \n",
        "    for i in range(m):\n",
        "        for j in range(n):\n",
        "            if grid[i][j] == 2:\n",
        "                rotten.append((i,j))\n",
        "            elif grid[i][j] == 1:\n",
        "                fresh += 1    \n",
        "\n",
        "    while rotten and fresh:\n",
        "        time += 1\n",
        "        q = len(rotten)\n",
        "        for _ in range(q):\n",
        "            cur = rotten.popleft()\n",
        "            for rdir,cdir in directions:\n",
        "                x = cur[0] + rdir\n",
        "                y = cur[1] + cdir\n",
        "                if not (0<=x<m and 0<=y<n):\n",
        "                  continue\n",
        "                if grid[x][y] == 0 or grid[x][y] == 2:\n",
        "                  continue\n",
        "                fresh -= 1       \n",
        "                grid[x][y] = 2 \n",
        "        \n",
        "                rotten.append((x,y))\n",
        "        \n",
        "    return time if fresh == 0 else -1"
      ],
      "metadata": {
        "id": "CIxWkVh_NxSG"
      },
      "execution_count": 5,
      "outputs": []
    },
    {
      "cell_type": "code",
      "source": [
        "grid = [[2,1,1],[1,1,0],[0,1,1]]\n",
        "orangesRotting(grid)"
      ],
      "metadata": {
        "colab": {
          "base_uri": "https://localhost:8080/"
        },
        "id": "B81XIZ5kOA_T",
        "outputId": "83da81d6-02bd-4484-ce21-1486f411acbf"
      },
      "execution_count": 6,
      "outputs": [
        {
          "output_type": "execute_result",
          "data": {
            "text/plain": [
              "4"
            ]
          },
          "metadata": {},
          "execution_count": 6
        }
      ]
    },
    {
      "cell_type": "markdown",
      "source": [
        "## Time and Space Complexity\n",
        "\n",
        "\n",
        "* The time complexity of the `orangesRotting` function is `O(m*n)` where `m` and `n` are the dimensions of the input grid. \n",
        "\n",
        " This is because the function iterates over all the cells in the grid once to find the rotten and fresh oranges, and then it uses a breadth-first search (BFS) algorithm to update the status of the oranges. In the worst case scenario, all the cells in the grid need to be visited twice (once to find the rotten and fresh oranges, and once during the BFS), which gives us a time complexity of `O(m*n)`.\n",
        "\n",
        "* The space complexity of the function is also `O(m*n)`. \n",
        "  \n",
        "  This is because we use a deque data structure to store the rotten oranges, which can contain at most `m*n` elements in the worst case scenario. Additionally, we store the number of fresh oranges and the time taken to rot all the oranges, both of which require `O(1)` space.\n",
        "\n"
      ],
      "metadata": {
        "id": "TOAH3mY6Odjg"
      }
    },
    {
      "cell_type": "markdown",
      "source": [
        "# **Leetcode 133. Clone Graph** `Medium`\n",
        "\n",
        "Given a reference of a node in a connected undirected graph.\n",
        "\n",
        "Return a deep copy (clone) of the graph.\n",
        "\n",
        "Each node in the graph contains a value (int) and a list (List[Node]) of its neighbors.\n",
        "\n",
        "Test case format:\n",
        "\n",
        "For simplicity, each node's value is the same as the node's index (1-indexed). For example, the first node with `val == 1`, the second node with `val == 2`, and so on. The graph is represented in the test case using an adjacency list.\n",
        "\n",
        "An adjacency list is a collection of unordered lists used to represent a finite graph. Each list describes the set of neighbors of a node in the graph.\n",
        "\n",
        "The given node will always be the first node with val = 1. You must return the copy of the given node as a reference to the cloned graph."
      ],
      "metadata": {
        "id": "pgzxaB-juN-y"
      }
    },
    {
      "cell_type": "code",
      "source": [
        "from collections import deque\n",
        "class Node:\n",
        "    def __init__(self, val = 0, neighbors = None):\n",
        "        self.val = val\n",
        "        self.neighbors = neighbors if neighbors is not None else []\n",
        "\n",
        "def cloneGraph(self, node: 'Node') -> 'Node':\n",
        "    if node is None:\n",
        "        return None\n",
        "    \n",
        "    vertex_map = {node: Node(node.val)}\n",
        "    \n",
        "    q = deque([node])\n",
        "    \n",
        "    while q:\n",
        "        current_vertex = q.popleft()\n",
        "        for adjacent_vertex in current_vertex.neighbors:\n",
        "            if adjacent_vertex not in vertex_map:\n",
        "                vertex_map[adjacent_vertex] = Node(adjacent_vertex.val)\n",
        "                q.append(adjacent_vertex)   \n",
        "            vertex_map[current_vertex].neighbors.append(vertex_map[adjacent_vertex])\n",
        "    \n",
        "    return vertex_map[node]"
      ],
      "metadata": {
        "id": "PFbWv2W38E_h"
      },
      "execution_count": null,
      "outputs": []
    },
    {
      "cell_type": "markdown",
      "source": [
        "# **Leetcode 207. Course Schedule** `Medium`\n",
        "\n",
        "https://leetcode.com/problems/course-schedule/\n",
        "\n",
        "There are a total of `numCourses` courses you have to take, labeled from `0` to `numCourses - 1`. You are given an array prerequisites where `prerequisites[i] = [a_i, b_i]` indicates that you must take course `b_i` first if you want to take course `a_i`.\n",
        "\n",
        "For example, the pair `[0, 1]`, indicates that to take course 0 you have to first take course 1.\n",
        "Return `true` if you can finish all courses. Otherwise, return `false`.\n",
        "\n",
        "```\n",
        "Input: numCourses = 2, prerequisites = [[1,0]]\n",
        "Output: true\n",
        "Explanation: There are a total of 2 courses to take. \n",
        "To take course 1 you should have finished course 0. So it is possible.\n",
        "```\n",
        "```\n",
        "Input: numCourses = 2, prerequisites = [[1,0],[0,1]]\n",
        "Output: false\n",
        "Explanation: There are a total of 2 courses to take. \n",
        "To take course 1 you should have finished course 0, and to take course 0 you should also have finished course 1. So it is impossible.\n",
        "```\n"
      ],
      "metadata": {
        "id": "JPgiveNDmlbS"
      }
    },
    {
      "cell_type": "code",
      "source": [
        "from collections import defaultdict, deque\n",
        "\n",
        "def canFinish(numCourses: int, prerequisites: list[list[int]]) -> bool:\n",
        "  \n",
        "    graph = defaultdict(list)\n",
        "    indegree = [0] * numCourses\n",
        "\n",
        "    for course, prereq in prerequisites:\n",
        "        graph[prereq].append(course)\n",
        "        indegree[course] += 1\n",
        "      \n",
        "    q = deque()\n",
        "    for course in range(numCourses):\n",
        "        if indegree[course] == 0:\n",
        "            q.append(course)\n",
        "\n",
        "    visited = 0        \n",
        "    while q:\n",
        "        node = q.popleft()\n",
        "        visited += 1\n",
        "        for neighbor in graph[node]:\n",
        "            indegree[neighbor] -= 1\n",
        "            if indegree[neighbor] == 0:\n",
        "                q.append(neighbor)\n",
        "\n",
        "    return visited == numCourses"
      ],
      "metadata": {
        "id": "bcxLAJ3tnLa6"
      },
      "execution_count": null,
      "outputs": []
    },
    {
      "cell_type": "code",
      "source": [
        "numCourses = 2\n",
        "prerequisites = [[1,0],[0,1]]\n",
        "canFinish(numCourses, prerequisites)"
      ],
      "metadata": {
        "colab": {
          "base_uri": "https://localhost:8080/"
        },
        "id": "sjNGFuTpnaRm",
        "outputId": "bed3c827-8362-4fd1-fa1e-c0181a8316d6"
      },
      "execution_count": null,
      "outputs": [
        {
          "output_type": "execute_result",
          "data": {
            "text/plain": [
              "False"
            ]
          },
          "metadata": {},
          "execution_count": 4
        }
      ]
    },
    {
      "cell_type": "markdown",
      "source": [
        "## Time and Space Complexity\n",
        "\n",
        "\n",
        "* The time complexity of this solution is `O(N + E)`, where `N` is the number of courses and `E` is the number of prerequisites:\n",
        "\n",
        "   * The loop that builds the adjacency list and calculates the in-degree has a time complexity of `O(E)`, while the loop that traverses the graph has a time complexity of `O(N + E)` since we may visit all nodes and edges. The time complexity of creating the deque is `O(1)`.\n",
        "\n",
        "* The space complexity of this solution is `O(N + E)`:\n",
        "\n",
        "  * The adjacency list requires `O(E)` space, the in-degree list requires `O(N)` space, and the deque requires `O(N)` space in the worst-case scenario where all nodes have an in-degree of 0 and are added to the queue.\n"
      ],
      "metadata": {
        "id": "zNrrNhKAoLez"
      }
    },
    {
      "cell_type": "code",
      "source": [],
      "metadata": {
        "id": "636KsRHk3lHs"
      },
      "execution_count": null,
      "outputs": []
    }
  ]
}