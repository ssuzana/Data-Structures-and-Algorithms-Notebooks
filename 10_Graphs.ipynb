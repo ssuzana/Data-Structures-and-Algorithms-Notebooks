{
  "nbformat": 4,
  "nbformat_minor": 0,
  "metadata": {
    "colab": {
      "provenance": [],
      "include_colab_link": true
    },
    "kernelspec": {
      "name": "python3",
      "display_name": "Python 3"
    },
    "language_info": {
      "name": "python"
    }
  },
  "cells": [
    {
      "cell_type": "markdown",
      "metadata": {
        "id": "view-in-github",
        "colab_type": "text"
      },
      "source": [
        "<a href=\"https://colab.research.google.com/github/ssuzana/Data-Structures-and-Algorithms-Notebooks/blob/main/10_Graphs.ipynb\" target=\"_parent\"><img src=\"https://colab.research.google.com/assets/colab-badge.svg\" alt=\"Open In Colab\"/></a>"
      ]
    },
    {
      "cell_type": "markdown",
      "source": [
        "# Graph Terminology\n",
        "\n",
        "* A graph is a data structure used for analyzing relationships between pairs of objects.  \n",
        "\n",
        "* A graph consists of a set *V* of *vertices* and a set $E\\subset V\\times V$ of *edges*. Vertices that are connected by an edge are called *adjacent*.\n",
        "\n",
        "* Edges can be *undirected* (like a two-way street) or *directed* (like a one-way street). For a directed edge $e=(u,v)$, the vertex $u$ is its *source*, and $v$ is its *sink*.\n",
        "\n",
        "* A *path* is a sequence of vertices. The sequence may consist of a single vertex. The *length of a path* is the number of edges it traverses. A graph is *connected* if there is a path between every pair of vertices.\n",
        "\n",
        "* A *cycle* is a path that starts and ends at the same vertex.\n",
        "An *acyclic graph* is one without cycles.\n",
        "\n",
        "* A *tree* is a type of graph, but not all graphs are trees. A tree is a connected graph without cycles.\n",
        "\n",
        "* There are two common ways to implement a graph: using an *adjacency list* or an *adjacency matrix*. \n",
        "  * In the adjacency list representation every vertex stores a list of adjacent vertices. Note that a directed edge $e=(u,v)$ would be stored twice: once in $u$'s adjacent vertices and once in $v$'s adjacent vertices.\n",
        "  * An adjacency matrix $A=(a_{i,j})$ for a graph is a square $|V|\\times |V|$ matrix in which the entry in row $i$ and column $j$ is 1 if there is an edge from vertex $i$ to vertex $j$, and 0 otherwise. This can be expressed as:\n",
        " $$a_{i,j} = \n",
        "\\begin{cases}\n",
        "1 & \\text{if there is an edge from vertex } i \\text{ to vertex } j \\\\\n",
        "0 & \\text{otherwise}\n",
        "\\end{cases}$$\n",
        "      Note that the matrix is symmetric for undirected graphs.\n",
        "      For an undirected graph, the matrix is not necessarily symmetric.\n",
        "\n",
        "\n",
        "\n",
        "\n",
        "\n"
      ],
      "metadata": {
        "id": "v2jQjpfmKv0P"
      }
    },
    {
      "cell_type": "markdown",
      "source": [
        "# Object-oriented Graph Implementation"
      ],
      "metadata": {
        "id": "HQ7k4nLGZALM"
      }
    },
    {
      "cell_type": "code",
      "execution_count": 7,
      "metadata": {
        "id": "b0DAfnXNN0Y3"
      },
      "outputs": [],
      "source": [
        "class Vertex:\n",
        "  def __init__(self, val = 0, neighbors = None):\n",
        "    self.val = val\n",
        "    self.neighbors = neighbors if neighbors is not None else []\n",
        "\n",
        "  def add_adjacent_vertex(self, vertex):\n",
        "    self.neighbors.append(vertex)  "
      ]
    },
    {
      "cell_type": "markdown",
      "source": [
        "Here’s how we can use this class to build a directed graph representing who follows whom in this image:\n",
        "\n",
        "![SmartSelect_20220524-155550_Xodo Docs.jpg](data:image/jpeg;base64,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)"
      ],
      "metadata": {
        "id": "b-1mUKe5SE76"
      }
    },
    {
      "cell_type": "code",
      "source": [
        "alice = Vertex(\"alice\")\n",
        "bob = Vertex(\"bob\")\n",
        "cynthia = Vertex(\"cynthia\")\n",
        "\n",
        "alice.add_adjacent_vertex(bob)\n",
        "alice.add_adjacent_vertex(cynthia)\n",
        "bob.add_adjacent_vertex(cynthia)\n",
        "cynthia.add_adjacent_vertex(bob)"
      ],
      "metadata": {
        "id": "XlLeA9eOQUWr"
      },
      "execution_count": 8,
      "outputs": []
    },
    {
      "cell_type": "markdown",
      "source": [
        "To build an undirected graph for the social network (where all friendships are mutual), we can modify our `add_adjacent_vertex` method as follows:"
      ],
      "metadata": {
        "id": "C1nIZvSrTKb6"
      }
    },
    {
      "cell_type": "code",
      "source": [
        "# vertex in undirected graph\n",
        "class Vertex:\n",
        "  def __init__(self, val = 0, neighbors = None):\n",
        "    self.val = val\n",
        "    self.neighbors = neighbors if neighbors is not None else []\n",
        "\n",
        "  def add_adjacent_vertex(self, vertex):\n",
        "    if vertex in self.neighbors:\n",
        "      return\n",
        "    else:  \n",
        "      self.neighbors.append(vertex)  \n",
        "      vertex.add_adjacent_vertex(self)"
      ],
      "metadata": {
        "id": "wgfSEWlLUCSq"
      },
      "execution_count": 12,
      "outputs": []
    },
    {
      "cell_type": "markdown",
      "source": [
        "#**Graph Search**\n",
        "\n",
        "* Searching a graph means getting from one vertex to another. When the graph is connected, search can be used to find any vertex within the entire graph even if we have access to just one random vertex. Graph search can be used to either find a particular vertex, or it can be used to simply traverse the graph. \n",
        "\n",
        "* There are two well-known approaches for graph search: *depth-first search* (DFS) and *breadth-first search* (BFS).\n",
        "\n",
        "* If the graph could have cycles, the key to any graph search algorithm is **keeping track of which vertices we've visited so far**. If we don't do this, we can end up in an infinite cycle. One way to keep track of our visited vertices is by using a hash table. As we visit each vertex, we add the vertex (or its value) as a key in the hash table and assign it an arbitrary value, such as the boolean `True`. If a vertex is in the hash table, it means we've already visited it."
      ],
      "metadata": {
        "id": "qsn900izWMtT"
      }
    },
    {
      "cell_type": "markdown",
      "source": [
        "## **Depth-First Search**\n",
        "\n",
        "1. Start at any random vertex within the graph.\n",
        "2. Add the curent vertex to the hash table to mark it as having been visited.\n",
        "3. Iterate through the curent vertex's adjacent vertices.\n",
        "4. For each vertex, if the adjacent vertex has already been visited, ignore it.\n",
        "5. If the adjacent vertex has not yet been visited, recursively perform depth-first search on that vertex."
      ],
      "metadata": {
        "id": "W8ey0iSccjzD"
      }
    },
    {
      "cell_type": "code",
      "source": [
        "# depth-first traversal (recursive) - can be used for cyclic graphs \n",
        "def dfs_traverse(vertex, visited_vertices = {}):\n",
        "  visited_vertices[vertex.val] = True\n",
        "  print(vertex.val)\n",
        "  for adjacent_vertex in vertex.neighbors:\n",
        "    if adjacent_vertex.val in visited_vertices:\n",
        "      continue\n",
        "    dfs_traverse(adjacent_vertex, visited_vertices)  "
      ],
      "metadata": {
        "id": "mbKUigNAcism"
      },
      "execution_count": 97,
      "outputs": []
    },
    {
      "cell_type": "code",
      "source": [
        "# set up the undirected graph\n",
        "#            Alice\n",
        "#   /       /       \\        \\\n",
        "# Bob   Candy       Derek -- Elaine\n",
        "#  |      /            |\n",
        "# Fred   /           Gina\n",
        "#  |    /              |\n",
        "# Helen              Irena\n",
        "\n",
        "alice = Vertex(\"Alice\")\n",
        "bob = Vertex(\"Bob\")\n",
        "candy = Vertex(\"Candy\")\n",
        "derek = Vertex(\"Derek\")\n",
        "elaine = Vertex(\"Elaine\")\n",
        "fred = Vertex(\"Fred\")\n",
        "helen = Vertex(\"Helen\")\n",
        "gina = Vertex(\"Gina\")\n",
        "irena = Vertex(\"Irena\")\n",
        "alice.add_adjacent_vertex(bob)\n",
        "alice.add_adjacent_vertex(candy)\n",
        "alice.add_adjacent_vertex(derek)\n",
        "alice.add_adjacent_vertex(elaine)\n",
        "bob.add_adjacent_vertex(fred)\n",
        "candy.add_adjacent_vertex(helen)\n",
        "fred.add_adjacent_vertex(helen)\n",
        "derek.add_adjacent_vertex(elaine)\n",
        "derek.add_adjacent_vertex(gina)\n",
        "gina.add_adjacent_vertex(irena)"
      ],
      "metadata": {
        "id": "i4_TjJKuhKTC"
      },
      "execution_count": 98,
      "outputs": []
    },
    {
      "cell_type": "code",
      "source": [
        "dfs_traverse(alice)\n",
        "# Output: Alice, Bob, Fred, Helen, Candy, Derek, Elaine, Gina, Irena"
      ],
      "metadata": {
        "colab": {
          "base_uri": "https://localhost:8080/"
        },
        "id": "hDc4jWEaiRkP",
        "outputId": "5bc6b3c5-5e3f-4035-e13f-97fc83dbade7"
      },
      "execution_count": 99,
      "outputs": [
        {
          "output_type": "stream",
          "name": "stdout",
          "text": [
            "Alice\n",
            "Bob\n",
            "Fred\n",
            "Helen\n",
            "Candy\n",
            "Derek\n",
            "Elaine\n",
            "Gina\n",
            "Irena\n"
          ]
        }
      ]
    },
    {
      "cell_type": "markdown",
      "source": [
        "## **Breadth-First Search**\n",
        "\n",
        "Algorithm for breadth-first traversal:\n",
        "\n",
        "1. Start at any vertex. We'll call this `starting_vertex`.\n",
        "2. Add `starting_vertex` to the hash table to mark it as having been visited.\n",
        "3. Add `starting_vertex` to the queue.\n",
        "4. Start a loop that runs while the queue isn't empty.\n",
        "5. Within this loop, remove the first vertex from the queue. We'll call this `current_vertex`.\n",
        "6. Iterate over all the adjacent vertices of `current_vertex`.\n",
        "7. If the adjacent vertex was already visited, ignore it.\n",
        "8. If the adjacent vertex has not yet been visited, mark it as visited by adding it to the hash table, and add it to the queue.\n",
        "9. Repeat this loop (starting from Step 4) until the queue is empty."
      ],
      "metadata": {
        "id": "mAT-KR3Nq1sD"
      }
    },
    {
      "cell_type": "markdown",
      "source": [
        "### **Implementation of queue using collections.deque**\n",
        "\n",
        "Queue in Python can be implemented using `deque` class from the `collections` module. Deque is preferred over list in the cases where we need quicker append and pop operations from both the ends of container, as `deque` provides an `O(1)` time complexity for append and pop operations as compared to list which provides `O(n)` time complexity. \n",
        "\n",
        "Some of the methods supported by `deque` objects:\n",
        "\n",
        "* `append(x)` Add `x` to the right side of the deque.\n",
        "\n",
        "* `appendleft(x)` Add `x` to the left side of the deque.\n",
        "\n",
        "* `pop()` Remove and return an element from the right side of the deque. If no elements are present, raises an `IndexError`.\n",
        "\n",
        "* `popleft()` Remove and return an element from the left side of the deque. If no elements are present, raises an `IndexError`."
      ],
      "metadata": {
        "id": "TjM6kq4zvzm5"
      }
    },
    {
      "cell_type": "code",
      "source": [
        "# breadth-first traversal\n",
        "from collections import deque\n",
        "\n",
        "def bfs_traverse(starting_vertex):\n",
        "  q = deque()\n",
        "  visited_vertices = {}\n",
        "  visited_vertices[starting_vertex.val] = True\n",
        "  q.append(starting_vertex)\n",
        "\n",
        "  while q:\n",
        "    current_vertex = q.popleft()\n",
        "    print(current_vertex.val)\n",
        "    for adjacent_vertex in current_vertex.neighbors:\n",
        "      if adjacent_vertex.val not in visited_vertices:\n",
        "        visited_vertices[adjacent_vertex.val] = True\n",
        "        q.append(adjacent_vertex)   "
      ],
      "metadata": {
        "id": "kyVSxntmtCpQ"
      },
      "execution_count": 100,
      "outputs": []
    },
    {
      "cell_type": "code",
      "source": [
        "bfs_traverse(alice)\n",
        "# Output: Alice, Bob, Candy, Derek, Elaine, Fred, Helen, Gina, Irena"
      ],
      "metadata": {
        "colab": {
          "base_uri": "https://localhost:8080/"
        },
        "id": "k69kZrCYzclY",
        "outputId": "13968a7f-5827-4910-dad2-54f98d678f3d"
      },
      "execution_count": 101,
      "outputs": [
        {
          "output_type": "stream",
          "name": "stdout",
          "text": [
            "Alice\n",
            "Bob\n",
            "Candy\n",
            "Derek\n",
            "Elaine\n",
            "Fred\n",
            "Helen\n",
            "Gina\n",
            "Irena\n"
          ]
        }
      ]
    },
    {
      "cell_type": "markdown",
      "source": [
        "# Graph representation as a hashmap (adjacency list)"
      ],
      "metadata": {
        "id": "IyBRSV6TpiFT"
      }
    },
    {
      "cell_type": "code",
      "source": [
        "# store vertices using a hashmap\n",
        "graph = dict()\n",
        "for vertex in [alice, bob, candy, derek, elaine, fred, helen, gina, irena]:\n",
        "  graph[vertex.val] = [v.val for v in vertex.neighbors]\n",
        "print(graph)  "
      ],
      "metadata": {
        "colab": {
          "base_uri": "https://localhost:8080/"
        },
        "id": "h2Y1w-Ptmvxe",
        "outputId": "7a519e60-52fc-416b-da82-3d9b0b5ba489"
      },
      "execution_count": 64,
      "outputs": [
        {
          "output_type": "stream",
          "name": "stdout",
          "text": [
            "{'Alice': ['Bob', 'Candy', 'Derek', 'Elaine'], 'Bob': ['Alice', 'Fred'], 'Candy': ['Alice', 'Helen'], 'Derek': ['Alice', 'Elaine', 'Gina'], 'Elaine': ['Alice', 'Derek'], 'Fred': ['Bob', 'Helen'], 'Helen': ['Candy', 'Fred'], 'Gina': ['Derek', 'Irena'], 'Irena': ['Gina']}\n"
          ]
        }
      ]
    },
    {
      "cell_type": "code",
      "source": [
        "graph = {'Alice': ['Bob', 'Candy', 'Derek', 'Elaine'],\n",
        "         'Bob': ['Alice', 'Fred'], \n",
        "         'Candy': ['Alice', 'Helen'], \n",
        "         'Derek': ['Alice', 'Elaine', 'Gina'], \n",
        "         'Elaine': ['Alice', 'Derek'], \n",
        "         'Fred': ['Bob', 'Helen'],\n",
        "         'Helen': ['Candy', 'Fred'], \n",
        "         'Gina': ['Derek', 'Irena'], \n",
        "         'Irena': ['Gina']}"
      ],
      "metadata": {
        "id": "9_CEhmxmqHHy"
      },
      "execution_count": 93,
      "outputs": []
    },
    {
      "cell_type": "code",
      "source": [
        "# depth first traversal (for cyclic graphs)\n",
        "def depth_first_print(graph, start):\n",
        "  stack = [start]\n",
        "  visited = set()\n",
        "  while stack:\n",
        "    cur = stack.pop()\n",
        "    if cur not in visited:\n",
        "      visited.add(cur)    \n",
        "      print(cur)\n",
        "      for neighbor in graph[cur]:\n",
        "        if neighbor in visited:\n",
        "          continue\n",
        "        stack.append(neighbor)         "
      ],
      "metadata": {
        "id": "c4W2MgVerbup"
      },
      "execution_count": 102,
      "outputs": []
    },
    {
      "cell_type": "code",
      "source": [
        "depth_first_print(graph=graph, start='Alice')"
      ],
      "metadata": {
        "colab": {
          "base_uri": "https://localhost:8080/"
        },
        "id": "oumEPd10sLy2",
        "outputId": "5bfd97d3-ea20-403a-bae5-6be8da27fa21"
      },
      "execution_count": 103,
      "outputs": [
        {
          "output_type": "stream",
          "name": "stdout",
          "text": [
            "Alice\n",
            "Elaine\n",
            "Derek\n",
            "Gina\n",
            "Irena\n",
            "Candy\n",
            "Helen\n",
            "Fred\n",
            "Bob\n"
          ]
        }
      ]
    },
    {
      "cell_type": "code",
      "source": [
        "# breadth first traversal (for cyclic graphs)\n",
        "from collections import deque\n",
        "def breadth_first_print(graph, start):\n",
        "  q = deque([start])\n",
        "  visited = set()\n",
        "  while q:\n",
        "    cur = q.popleft()\n",
        "    if cur not in visited:\n",
        "      visited.add(cur)  \n",
        "      print(cur)\n",
        "      for neighbor in graph[cur]:\n",
        "        if neighbor in visited:\n",
        "          continue\n",
        "        q.append(neighbor)"
      ],
      "metadata": {
        "id": "Ua5S0J3Uy0R9"
      },
      "execution_count": 108,
      "outputs": []
    },
    {
      "cell_type": "code",
      "source": [
        "breadth_first_print(graph=graph, start='Alice')"
      ],
      "metadata": {
        "colab": {
          "base_uri": "https://localhost:8080/"
        },
        "id": "dg8aNE3Kz3ve",
        "outputId": "1913e5f9-51db-415d-a4bb-abab18ae574d"
      },
      "execution_count": 109,
      "outputs": [
        {
          "output_type": "stream",
          "name": "stdout",
          "text": [
            "Alice\n",
            "Bob\n",
            "Candy\n",
            "Derek\n",
            "Elaine\n",
            "Fred\n",
            "Helen\n",
            "Gina\n",
            "Irena\n"
          ]
        }
      ]
    },
    {
      "cell_type": "markdown",
      "source": [
        "## DFS uses a stack, BFS uses a queue\n",
        "\n",
        "\n",
        "* **Depth first search (DFS)** uses a stack (Last-In-First-Out) data structure to keep track of the visited vertices and to determine the next vertex to visit. When DFS visits a vertex, it adds it to the top of the stack and explores its neighbors. \n",
        "\n",
        " If any of the neighbors have not been visited yet, DFS recursively visits them and adds them to the stack. This process continues until all vertices have been visited. Because DFS uses a stack, it visits vertices in a depth-first manner, meaning it visits vertices that are farther away from the starting vertex before visiting the closer ones.\n",
        "\n",
        "* **Breadth first search (BFS)** uses a queue (First-In-First-Out) data structure to keep track of the visited vertices and to determine the next vertex to visit. When BFS visits a vertex, it adds it to the end of the queue and explores its neighbors. If any of the neighbors have not been visited yet, BFS visits them and adds them to the end of the queue. \n",
        "\n",
        " This process continues until all vertices have been visited. Because BFS uses a queue, it visits vertices in a breadth-first manner, meaning it visits all vertices at the same depth level before visiting vertices that are deeper in the graph.\n",
        "\n",
        "\n",
        "* Note that a queue can be generally thought of as horizontal in structure i.e, breadth/width can be attributed to it. Stack is visualized as a vertical structure and hence has depth."
      ],
      "metadata": {
        "id": "FWmrj8gc7RI1"
      }
    },
    {
      "cell_type": "markdown",
      "source": [
        "# **Leetcode 200. Number of Islands** `Medium`\n",
        "\n",
        "Given an `m x n` 2D binary grid `grid` which represents a map of `'1'`s (land) and `'0'`s (water), return the number of islands.\n",
        "\n",
        "An island is surrounded by water and is formed by connecting adjacent lands horizontally or vertically. You may assume all four edges of the grid are all surrounded by water.\n",
        " \n",
        "```\n",
        "Example 1:\n",
        "Input: grid = [\n",
        "  [\"1\",\"1\",\"1\",\"1\",\"0\"],\n",
        "  [\"1\",\"1\",\"0\",\"1\",\"0\"],\n",
        "  [\"1\",\"1\",\"0\",\"0\",\"0\"],\n",
        "  [\"0\",\"0\",\"0\",\"0\",\"0\"]\n",
        "]\n",
        "Output: 1\n",
        "\n",
        "Example 2:\n",
        "Input: grid = [\n",
        "  [\"1\",\"1\",\"0\",\"0\",\"0\"],\n",
        "  [\"1\",\"1\",\"0\",\"0\",\"0\"],\n",
        "  [\"0\",\"0\",\"1\",\"0\",\"0\"],\n",
        "  [\"0\",\"0\",\"0\",\"1\",\"1\"]\n",
        "]\n",
        "Output: 3\n",
        " \n",
        "Constraints:\n",
        "\n",
        "m == grid.length\n",
        "n == grid[i].length\n",
        "1 <= m, n <= 300\n",
        "grid[i][j] is '0' or '1'.\n",
        "```\n",
        "\n"
      ],
      "metadata": {
        "id": "VYvWHpADGpuL"
      }
    },
    {
      "cell_type": "code",
      "source": [
        "from typing import List\n",
        "\n",
        "def numIslands(grid: List[List[str]]) -> int:\n",
        "  if not grid:\n",
        "    return 0\n",
        "\n",
        "  islands = 0\n",
        "  visited = set()  \n",
        "  rows, cols = len(grid), len(grid[0])\n",
        "  directions = [[0,1], [0,-1],[1,0], [-1,0]]\n",
        "\n",
        "  def dfs(r,c):\n",
        "    if (r not in range(rows) or \n",
        "        c not in range(cols) or\n",
        "        grid[r][c] == \"0\" or \n",
        "        (r,c) in visited):\n",
        "      return \n",
        "    visited.add((r,c))\n",
        "    for rdir,cdir in directions:\n",
        "      dfs(r + rdir, c + cdir)\n",
        "  \n",
        "  for row in range(rows):\n",
        "    for col in range(cols):\n",
        "      if (grid[row][col] == \"1\" and (row, col) not in visited):\n",
        "        islands += 1\n",
        "        dfs(row, col)\n",
        "  return islands\n"
      ],
      "metadata": {
        "id": "CO3vw5bMG_5d"
      },
      "execution_count": 111,
      "outputs": []
    },
    {
      "cell_type": "code",
      "source": [
        "grid = [[\"1\",\"1\",\"0\",\"0\",\"0\"],[\"1\",\"1\",\"0\",\"0\",\"0\"],[\"0\",\"0\",\"1\",\"0\",\"0\"],[\"0\",\"0\",\"0\",\"1\",\"1\"]]\n",
        "numIslands(grid)"
      ],
      "metadata": {
        "colab": {
          "base_uri": "https://localhost:8080/"
        },
        "id": "EgPaZrEDJpMi",
        "outputId": "53e5fa61-2c7e-48fb-f988-0f3ba1b386f7"
      },
      "execution_count": 112,
      "outputs": [
        {
          "output_type": "execute_result",
          "data": {
            "text/plain": [
              "3"
            ]
          },
          "metadata": {},
          "execution_count": 112
        }
      ]
    },
    {
      "cell_type": "markdown",
      "source": [
        "# **Leetcode 133. Clone Graph** `Medium`\n",
        "\n",
        "Given a reference of a node in a connected undirected graph.\n",
        "\n",
        "Return a deep copy (clone) of the graph.\n",
        "\n",
        "Each node in the graph contains a value (int) and a list (List[Node]) of its neighbors.\n",
        "\n",
        "Test case format:\n",
        "\n",
        "For simplicity, each node's value is the same as the node's index (1-indexed). For example, the first node with `val == 1`, the second node with `val == 2`, and so on. The graph is represented in the test case using an adjacency list.\n",
        "\n",
        "An adjacency list is a collection of unordered lists used to represent a finite graph. Each list describes the set of neighbors of a node in the graph.\n",
        "\n",
        "The given node will always be the first node with val = 1. You must return the copy of the given node as a reference to the cloned graph."
      ],
      "metadata": {
        "id": "pgzxaB-juN-y"
      }
    },
    {
      "cell_type": "code",
      "source": [
        "from collections import deque\n",
        "class Node:\n",
        "    def __init__(self, val = 0, neighbors = None):\n",
        "        self.val = val\n",
        "        self.neighbors = neighbors if neighbors is not None else []\n",
        "\n",
        "def cloneGraph(self, node: 'Node') -> 'Node':\n",
        "    if node is None:\n",
        "        return None\n",
        "    \n",
        "    vertex_map = {node: Node(node.val)}\n",
        "    \n",
        "    q = deque([node])\n",
        "    \n",
        "    while q:\n",
        "        current_vertex = q.popleft()\n",
        "        for adjacent_vertex in current_vertex.neighbors:\n",
        "            if adjacent_vertex not in vertex_map:\n",
        "                vertex_map[adjacent_vertex] = Node(adjacent_vertex.val)\n",
        "                q.append(adjacent_vertex)   \n",
        "            vertex_map[current_vertex].neighbors.append(vertex_map[adjacent_vertex])\n",
        "    \n",
        "    return vertex_map[node]"
      ],
      "metadata": {
        "id": "PFbWv2W38E_h"
      },
      "execution_count": 110,
      "outputs": []
    }
  ]
}