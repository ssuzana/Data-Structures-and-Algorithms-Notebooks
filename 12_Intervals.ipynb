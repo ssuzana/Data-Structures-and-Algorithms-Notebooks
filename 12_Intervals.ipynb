{
  "nbformat": 4,
  "nbformat_minor": 0,
  "metadata": {
    "colab": {
      "provenance": [],
      "include_colab_link": true
    },
    "kernelspec": {
      "name": "python3",
      "display_name": "Python 3"
    },
    "language_info": {
      "name": "python"
    }
  },
  "cells": [
    {
      "cell_type": "markdown",
      "metadata": {
        "id": "view-in-github",
        "colab_type": "text"
      },
      "source": [
        "<a href=\"https://colab.research.google.com/github/ssuzana/Data-Structures-and-Algorithms-Notebooks/blob/main/12_Intervals.ipynb\" target=\"_parent\"><img src=\"https://colab.research.google.com/assets/colab-badge.svg\" alt=\"Open In Colab\"/></a>"
      ]
    },
    {
      "cell_type": "markdown",
      "source": [
        "#**Interval Pattern Introduction**\n",
        "\n",
        "Interval problems typically involve a list of intervals, each represented by a start and end time/position. The goal is typically detecting or merging overlapping intervals.\n",
        "\n",
        "These questions are often asked by FAANG. They are quite simple to explain but tricky to get right. The most important concept is how to find the overlap of two intervals.\n",
        "\n",
        "\n",
        "1. **Determine if there's an overlap between two intervals:**\n",
        "First let's think in the opposite direction, how would the intervals look like if they do NOT overlap?\n",
        "\n",
        "End time of the first interval has to be earlier than the start time of the second interval.\n",
        "```\n",
        "x1  x2\n",
        "|---|\n",
        "        |----|\n",
        "        y1  y2\n",
        "\n",
        "y1  y2\n",
        "|---|\n",
        "        |----|\n",
        "        x1  x2\n",
        "i.e. x2 < y1 or y2 < x1\n",
        "```\n",
        "So the overlapping condition is the opposite:\n",
        "```\n",
        "Not (x2 < y1 or y2 < x1)\n",
        "```\n",
        "\n",
        "If we want to go one-step further for, we can reduce it by \n",
        "`DeMorgan's Law (Not (A or B) == Not A and Not B)`, this is equivalent to `Not (x2 < y1) and Not (y2 < x1)` which is equivalent to `x2 >= y1 and y2 >= x1`.\n",
        "\n",
        "2. **Finding the overlap:**\n",
        "```\n",
        "x1  x2\n",
        "|----|\n",
        "     |-----|\n",
        "     y1   y2\n",
        "```        \n",
        "The overalap of two intevals `[x1,x2]` and `[y1,y2]` is given by `[max(x1, y1), min(x2, y2)]`.\n",
        "\n",
        "As we will see in the examples, solving an interval problem becomes much easier if we can find the overlap.\n",
        "\n",
        "3. **Sort by start time:**\n",
        "It's very common to sort the intervals by start time as pre-processing for interval problems. We will see this in Merge Intervals."
      ],
      "metadata": {
        "id": "J2Wed_jYuNgN"
      }
    },
    {
      "cell_type": "markdown",
      "source": [
        "#**Leetcode 56. Merge Intervals** `Medium`\n",
        "\n",
        "Given an array of intervals where `intervals[i] = [starti, endi]`, merge all overlapping intervals, and return an array of the non-overlapping intervals that cover all the intervals in the input.\n",
        "\n",
        "```\n",
        "Example 1:\n",
        "Input: intervals = [[1,3],[2,6],[8,10],[15,18]]\n",
        "Output: [[1,6],[8,10],[15,18]]\n",
        "Explanation: Since intervals [1,3] and [2,6] overlaps, merge them into [1,6].\n",
        "\n",
        "Example 2:\n",
        "Input: intervals = [[1,4],[4,5]]\n",
        "Output: [[1,5]]\n",
        "Explanation: Intervals [1,4] and [4,5] are considered overlapping.\n",
        " \n",
        "Constraints:\n",
        "\n",
        "1 <= intervals.length <= 104\n",
        "intervals[i].length == 2\n",
        "0 <= starti <= endi <= 104\n",
        "```"
      ],
      "metadata": {
        "id": "zAQ2G14wxX9e"
      }
    },
    {
      "cell_type": "code",
      "execution_count": null,
      "metadata": {
        "id": "XZXbD8-IuInX"
      },
      "outputs": [],
      "source": [
        "from typing import List\n",
        "def merge(intervals: List[List[int]]) -> List[List[int]]:\n",
        "  res = []\n",
        "\n",
        "  for interval in sorted(intervals):\n",
        "\n",
        "    if res and res[-1][-1] >= interval[0]:\n",
        "      res[-1][-1] = max(interval[-1], res[-1][-1])\n",
        "    else:\n",
        "      res += [interval]\n",
        "  return res      "
      ]
    },
    {
      "cell_type": "code",
      "source": [
        "intervals = [[1,3],[2,6],[8,10],[15,18]]\n",
        "merge(intervals)"
      ],
      "metadata": {
        "colab": {
          "base_uri": "https://localhost:8080/"
        },
        "id": "jUECti7ay59-",
        "outputId": "f80b6b66-9b66-40af-a795-69695cd5d801"
      },
      "execution_count": null,
      "outputs": [
        {
          "output_type": "execute_result",
          "data": {
            "text/plain": [
              "[[1, 6], [8, 10], [15, 18]]"
            ]
          },
          "metadata": {},
          "execution_count": 5
        }
      ]
    }
  ]
}