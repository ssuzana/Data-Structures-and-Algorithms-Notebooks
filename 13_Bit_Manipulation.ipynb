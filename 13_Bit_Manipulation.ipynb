{
  "nbformat": 4,
  "nbformat_minor": 0,
  "metadata": {
    "colab": {
      "provenance": [],
      "authorship_tag": "ABX9TyMlq2yC00Yq34DnBFFplXlb",
      "include_colab_link": true
    },
    "kernelspec": {
      "name": "python3",
      "display_name": "Python 3"
    },
    "language_info": {
      "name": "python"
    }
  },
  "cells": [
    {
      "cell_type": "markdown",
      "metadata": {
        "id": "view-in-github",
        "colab_type": "text"
      },
      "source": [
        "<a href=\"https://colab.research.google.com/github/ssuzana/Data-Structures-and-Algorithms-Notebooks/blob/main/13_Bit_manipulation.ipynb\" target=\"_parent\"><img src=\"https://colab.research.google.com/assets/colab-badge.svg\" alt=\"Open In Colab\"/></a>"
      ]
    },
    {
      "cell_type": "markdown",
      "source": [
        "#**Bit Manipulation - Useful Tricks**\n",
        "\n",
        "Source: https://leetcode.com/discuss/study-guide/1412978/Bit-Manipulation-Tricks-or-Helpful-and-concise\n",
        "\n",
        "Bitwise operations are very useful as they mostly operate in `O(1)` time.\n",
        "\n",
        "\n",
        "1. Create a number that has only set bit as `k`-th bit --> `1 << (k-1)`\n",
        "\n",
        "2. Check whether `k`-th bit is set or not --> `(n & (1 << (k - 1)))`\n",
        "   \n",
        "3. Set `k`-th bit to 1 --> `n | (1 << (k - 1))`\n",
        "\n",
        "4. Clearing the `k`-th bit --> `n & ~(1 << (k - 1))`\n",
        "\n",
        "5. Toggling the `k`-th bit --> `n ^ (1 << (k – 1))`\n",
        "\n",
        "6. Check whether `n` is power of 2 or not --> `if (x && (!( x&(x-1) ))`\n",
        "\n",
        "7. `(x<<y)` is equivalent to multiplying `x` with `2^y` (2 raised to power `y`).\n",
        "\n",
        "8.  `(x>>y)` is equivalent to dividing `x` with `2^y`.\n",
        "\n",
        "9. Swapping two numbers\n",
        "```\n",
        "x = x ^ y\n",
        "y = x ^ y\n",
        "x = x ^ y\n",
        "```\n",
        "\n",
        "10. Average of two numbers --> `(x+y) >> 1`\n",
        "\n",
        "11. Convert character ch from Upper to Lower case --> `ch = ch | ' '`\n",
        "\n",
        "12. Convert character ch from Lower to Upper case --> `ch = ch & '_'`\n",
        "\n",
        "13. Check if n is odd --> `if (n & 1)`\n",
        "\n",
        "Also see: https://leetcode.com/discuss/general-discussion/1080312/bit-manipulation-all-that-you-must-know\n"
      ],
      "metadata": {
        "id": "rNv7jo_PYaZJ"
      }
    },
    {
      "cell_type": "markdown",
      "source": [
        "#**Leetcode 231. Power of Two** `Easy`\n",
        "\n",
        "Given an integer `n`, return `true` if it is a power of two. Otherwise, return `false`.\n",
        "\n",
        "An integer `n` is a power of two, if there exists an integer `x` such that $n == 2^x$.\n",
        "\n",
        "```\n",
        "Input: n = 16\n",
        "Output: true\n",
        "Explanation: 2^4 = 16\n",
        "```"
      ],
      "metadata": {
        "id": "c9la9D00Jxcr"
      }
    },
    {
      "cell_type": "markdown",
      "source": [
        "##**Idea.**\n",
        "\n",
        "A power of two in binary representation is one 1-bit, followed by some zeros. A number which is not a power of two, has more than one 1-bit in its binary representation. The only exception is 0, which should be treated separately.\n",
        "\n",
        "`x & (x - 1)` is a way to set the rightmost 1-bit to zero.\n",
        "\n",
        "To subtract 1 means to change the rightmost 1-bit to 0 and to set all the lower bits to 1.\n",
        "\n",
        "Using the AND operator, the rightmost 1-bit will be turned off because 1 & 0 = 0, and all the lower bits as well.\n",
        "\n",
        "**Example 1.** $x = 4 = (100)_2$\n",
        "\n",
        "$x - 1 = 3 = (011)_2$\n",
        "\n",
        "$x\\ \\& \\ (x-1) = (100)_2\\ \\& \\ (011)_2 = (000)_2$\n",
        "\n",
        "**Example 2.** $x = 6 = (110)_2$\n",
        "\n",
        "$x - 1 = 5 = (101)_2$\n",
        "\n",
        "$x\\ \\& \\ (x-1) = (110)_2\\ \\& \\ (101)_2 = (100)_2$"
      ],
      "metadata": {
        "id": "1vAMHKGXMUEY"
      }
    },
    {
      "cell_type": "code",
      "execution_count": 1,
      "metadata": {
        "id": "ci52z_NRJrcU"
      },
      "outputs": [],
      "source": [
        "def isPowerOfTwo(n):\n",
        "    # time O(1), space O(1) \n",
        "    return n != 0 and n & (n-1) == 0"
      ]
    },
    {
      "cell_type": "code",
      "source": [
        "isPowerOfTwo(16)"
      ],
      "metadata": {
        "colab": {
          "base_uri": "https://localhost:8080/"
        },
        "id": "4EhMqjMQLODD",
        "outputId": "0aece5e5-fb66-46c1-9d53-374f1e200df5"
      },
      "execution_count": 2,
      "outputs": [
        {
          "output_type": "execute_result",
          "data": {
            "text/plain": [
              "True"
            ]
          },
          "metadata": {},
          "execution_count": 2
        }
      ]
    },
    {
      "cell_type": "markdown",
      "source": [
        "#**Leetcode 67. Add Binary** `Easy`\n",
        "\n",
        "Given two binary strings `a` and `b`, return their sum as a binary string.\n",
        "\n",
        "```\n",
        "Input: a = \"11\", b = \"1\"\n",
        "Output: \"100\"\n",
        "```\n"
      ],
      "metadata": {
        "id": "hyen9RNQPhvf"
      }
    },
    {
      "cell_type": "markdown",
      "source": [
        "##**Idea.**\n",
        "\n",
        "Here XOR can be used, because it's a sum of two binaries without taking carry into account.\n",
        "\n",
        "To find current carry, compute AND of two input numbers, shifted one bit to the left.\n",
        "\n",
        "Consider `a = 1111` and `b = 0010`. \n",
        "\n",
        "Then `a ^ b = 1101` and `(a & b) << 1 = (0010) << 1 = 00100`.\n"
      ],
      "metadata": {
        "id": "un4QJW3AQc7H"
      }
    },
    {
      "cell_type": "code",
      "source": [
        "# Time: O(n+m) where n and m are lengths of the input strings a and b.\n",
        "# Space: O(max⁡(n,m)) to keep the answer.\n",
        "\n",
        "def addBinary(a, b):\n",
        "  x, y = int(a, 2), int(b, 2)\n",
        "  while y:\n",
        "    answer = x ^ y \n",
        "    carry = (x & y) << 1\n",
        "    x, y = answer, carry\n",
        "  return bin(x)[2:]  "
      ],
      "metadata": {
        "id": "yDD0AbB4PxVq"
      },
      "execution_count": 7,
      "outputs": []
    },
    {
      "cell_type": "code",
      "source": [
        "a = \"11\"\n",
        "b = \"1\"\n",
        "addBinary(a, b)"
      ],
      "metadata": {
        "colab": {
          "base_uri": "https://localhost:8080/",
          "height": 35
        },
        "id": "q5PMFS93S9t6",
        "outputId": "0848751c-80f2-4237-e438-db2919608db9"
      },
      "execution_count": 9,
      "outputs": [
        {
          "output_type": "execute_result",
          "data": {
            "text/plain": [
              "'100'"
            ],
            "application/vnd.google.colaboratory.intrinsic+json": {
              "type": "string"
            }
          },
          "metadata": {},
          "execution_count": 9
        }
      ]
    },
    {
      "cell_type": "markdown",
      "source": [
        "#**Leetcode 136. Single Number** `Easy`\n",
        "\n",
        "Given a non-empty array of integers nums, every element appears twice except for one. Find that single one.\n",
        "\n",
        "You must implement a solution with a linear runtime complexity and use only constant extra space.\n",
        "\n",
        "```\n",
        "Input: nums = [4,1,2,1,2]\n",
        "Output: 4\n",
        "```\n"
      ],
      "metadata": {
        "id": "U47SFZJmUDPk"
      }
    },
    {
      "cell_type": "markdown",
      "source": [
        "##**Idea.**\n",
        "If we take XOR of zero and some bit, it will return that bit:\n",
        "`a ^ 0 = a`.\n",
        "If we take XOR of two same bits, it will return 0\n",
        "`a ^ a = 0`\n",
        "\n",
        "So we can XOR all bits together to find the unique number."
      ],
      "metadata": {
        "id": "orHdJQdqUZ_h"
      }
    },
    {
      "cell_type": "code",
      "source": [
        "def singleNumber(nums):\n",
        "  # time O(n), space O(1)\n",
        "  ans = 0\n",
        "  for num in nums:\n",
        "    ans ^= num\n",
        "  return ans  "
      ],
      "metadata": {
        "id": "57ZcovTHUTKT"
      },
      "execution_count": 10,
      "outputs": []
    },
    {
      "cell_type": "code",
      "source": [
        "nums = [4,1,2,1,2]\n",
        "singleNumber(nums)"
      ],
      "metadata": {
        "colab": {
          "base_uri": "https://localhost:8080/"
        },
        "id": "sI6Lzq4qVEk6",
        "outputId": "a525e922-796a-44db-d019-87d5e6cfc69c"
      },
      "execution_count": 11,
      "outputs": [
        {
          "output_type": "execute_result",
          "data": {
            "text/plain": [
              "4"
            ]
          },
          "metadata": {},
          "execution_count": 11
        }
      ]
    }
  ]
}
