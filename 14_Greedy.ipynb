{
  "nbformat": 4,
  "nbformat_minor": 0,
  "metadata": {
    "colab": {
      "provenance": []
    },
    "kernelspec": {
      "name": "python3",
      "display_name": "Python 3"
    },
    "language_info": {
      "name": "python"
    }
  },
  "cells": [
    {
      "cell_type": "markdown",
      "source": [
        "#**Greedy Algorithms**\n",
        "\n",
        "A *greedy algorithm* is one that, in each step, chooses what appears to be the best option at that moment in time."
      ],
      "metadata": {
        "id": "yCOYCPP0VIvN"
      }
    },
    {
      "cell_type": "markdown",
      "source": [
        "##**Example: Array Max** \n",
        "Function that find the greatest number in an array.\n",
        "\n",
        "**Explanation:** We're declaring the first number to be the `greatest_number` because it's the greatest number we've encountered so far. Next, we iterate over all the numbers in the array. As we find any number that is greater than the `greatest_number`, we make this new number the `greatest_number`. We're being greedy; each step selects the best option based on what we know at that moment in time. We're basically like a child in a candy shop grabbing the first candy we see, but as soon as we see a bigger candy, we drop the first one and grab the bigger one.\n"
      ],
      "metadata": {
        "id": "O0WTCTOhWUAi"
      }
    },
    {
      "cell_type": "code",
      "execution_count": null,
      "metadata": {
        "id": "vh7omiOcVCHI"
      },
      "outputs": [],
      "source": [
        "# Time: O(N)\n",
        "def arrayMax(array):\n",
        "  greatest_number = array[0]\n",
        "  for num in array:\n",
        "    if num > greatest_number:\n",
        "      greatest_number = num\n",
        "  return greatest_number    "
      ]
    },
    {
      "cell_type": "code",
      "source": [
        "arrayMax([3,-4,4,-3,5,-9])"
      ],
      "metadata": {
        "colab": {
          "base_uri": "https://localhost:8080/"
        },
        "id": "qu8gXEBAXGCj",
        "outputId": "0f075180-a443-446e-a823-a80367933329"
      },
      "execution_count": null,
      "outputs": [
        {
          "output_type": "execute_result",
          "data": {
            "text/plain": [
              "5"
            ]
          },
          "metadata": {},
          "execution_count": 6
        }
      ]
    },
    {
      "cell_type": "markdown",
      "source": [
        "#**Example: Largest Subsection Sum**\n",
        "Function that accepts an array of numbers and returns the largest sum that could be computed from any contiguous subsection of the array.\n",
        "\n",
        "**Assume the array contains at least one positive number.**|"
      ],
      "metadata": {
        "id": "bybr61WrcWtU"
      }
    },
    {
      "cell_type": "code",
      "source": [
        "def maxSubsectionSum(array):\n",
        "  current_sum = 0\n",
        "  greatest_sum = 0\n",
        "\n",
        "  for num in array:\n",
        "    #if current sum is negative, reset to zero\n",
        "    if current_sum + num < 0:\n",
        "      current_sum = 0\n",
        "    else:\n",
        "      current_sum += num\n",
        "\n",
        "      # greedily assume the current sum is the greatest sum \n",
        "      # if it's the greatest sum we've encountered so far\n",
        "      if current_sum > greatest_sum:\n",
        "        greatest_sum = current_sum\n",
        "  return greatest_sum        \n"
      ],
      "metadata": {
        "id": "AIffEFqZdDwl"
      },
      "execution_count": null,
      "outputs": []
    },
    {
      "cell_type": "code",
      "source": [
        "maxSubsectionSum([3,-4,4,-3,5,-9])"
      ],
      "metadata": {
        "colab": {
          "base_uri": "https://localhost:8080/"
        },
        "id": "CIG1cbtTeyBx",
        "outputId": "36141c1d-1638-4f96-e54b-5ce2d3dd70cd"
      },
      "execution_count": null,
      "outputs": [
        {
          "output_type": "execute_result",
          "data": {
            "text/plain": [
              "6"
            ]
          },
          "metadata": {},
          "execution_count": 4
        }
      ]
    },
    {
      "cell_type": "markdown",
      "source": [
        "#**Leetcode 53. Maximum Subarray** `Easy`\n",
        "\n",
        "Given an integer array `nums`, find the contiguous subarray (containing at least one number) which has the largest sum and return its sum.\n",
        "\n",
        "A subarray is a contiguous part of an array.\n",
        "\n",
        " \n",
        "```\n",
        "Example 1:\n",
        "Input: nums = [-2,1,-3,4,-1,2,1,-5,4]\n",
        "Output: 6\n",
        "Explanation: [4,-1,2,1] has the largest sum = 6.\n",
        "\n",
        "Example 2:\n",
        "Input: nums = [1]\n",
        "Output: 1\n",
        "\n",
        "Example 3:\n",
        "Input: nums = [5,4,-1,7,8]\n",
        "Output: 23\n",
        " \n",
        "\n",
        "Constraints:\n",
        "\n",
        "1 <= nums.length <= 105\n",
        "-104 <= nums[i] <= 104\n",
        "```"
      ],
      "metadata": {
        "id": "IWiXxdFINIOv"
      }
    },
    {
      "cell_type": "code",
      "source": [
        "from typing import List\n",
        "\n",
        "def maxSubArray(nums: List[int]) -> int:\n",
        "    \n",
        "    current_sum = nums[0]\n",
        "    greatest_sum = nums[0]\n",
        "    \n",
        "    for num in nums[1:]:\n",
        "        if current_sum < 0:\n",
        "            current_sum = num\n",
        "        else:\n",
        "            current_sum += num\n",
        "            \n",
        "        if current_sum > greatest_sum:\n",
        "            greatest_sum = current_sum\n",
        "                \n",
        "    return greatest_sum       \n",
        "    "
      ],
      "metadata": {
        "id": "S8j56LiVNcLg"
      },
      "execution_count": null,
      "outputs": []
    },
    {
      "cell_type": "code",
      "source": [
        "maxSubArray([-2,-1])"
      ],
      "metadata": {
        "colab": {
          "base_uri": "https://localhost:8080/"
        },
        "id": "bFQVaJfjNxt6",
        "outputId": "14d606e4-1d8f-497f-8dd6-af75fa20d097"
      },
      "execution_count": null,
      "outputs": [
        {
          "output_type": "execute_result",
          "data": {
            "text/plain": [
              "-1"
            ]
          },
          "metadata": {},
          "execution_count": 6
        }
      ]
    },
    {
      "cell_type": "markdown",
      "source": [
        "#**Leetcode 55. Jump Game** `Medium`\n",
        "\n",
        "You are given an integer array `nums`. You are initially positioned at the array's first index, and each element in the array represents your maximum jump length at that position.\n",
        "\n",
        "Return `true` if you can reach the last index, or `false` otherwise.\n",
        "```\n",
        "Example 1:\n",
        "Input: nums = [2,3,1,1,4]\n",
        "Output: true\n",
        "Explanation: Jump 1 step from index 0 to 1, then 3 steps to the last index.\n",
        "\n",
        "Example 2:\n",
        "Input: nums = [3,2,1,0,4]\n",
        "Output: false\n",
        "Explanation: You will always arrive at index 3 no matter what. Its maximum jump length is 0, which makes it impossible to reach the last index.\n",
        " \n",
        "Constraints:\n",
        "\n",
        "1 <= nums.length <= 104\n",
        "0 <= nums[i] <= 105\n",
        "```"
      ],
      "metadata": {
        "id": "1-wUXXzMoEKR"
      }
    },
    {
      "cell_type": "code",
      "source": [
        "def canJump(nums) -> bool:\n",
        "    res = False\n",
        "    target = len(nums) - 1\n",
        "    \n",
        "    if len(nums) == 1:\n",
        "        return True\n",
        "    \n",
        "    for i in range(len(nums)-2,-1,-1):\n",
        "        if nums[i] >= target - i:\n",
        "            target = i\n",
        "\n",
        "        if target == 0:\n",
        "            res = True\n",
        "            \n",
        "    return res        \n",
        "        "
      ],
      "metadata": {
        "id": "XyMyFjBoofjn"
      },
      "execution_count": null,
      "outputs": []
    },
    {
      "cell_type": "code",
      "source": [
        "print(canJump([2,3,1,1,4]))\n",
        "print(canJump([3,2,1,0,4]))"
      ],
      "metadata": {
        "colab": {
          "base_uri": "https://localhost:8080/"
        },
        "id": "KEvUlmQZo5KR",
        "outputId": "a5a0a0fa-4075-478e-9d97-84f48f349c01"
      },
      "execution_count": null,
      "outputs": [
        {
          "output_type": "stream",
          "name": "stdout",
          "text": [
            "True\n",
            "False\n"
          ]
        }
      ]
    },
    {
      "cell_type": "markdown",
      "source": [
        "#**Leetcode 45. Jump Game II** `Medium`\n",
        "\n",
        "Given an array of non-negative integers `nums`, you are initially positioned at the first index of the array.\n",
        "\n",
        "Each element in the array represents your maximum jump length at that position.\n",
        "\n",
        "Your goal is to reach the last index in the minimum number of jumps.\n",
        "\n",
        "You can assume that you can always reach the last index.\n",
        "\n",
        "```\n",
        "Example 1:\n",
        "Input: nums = [2,3,1,1,4]\n",
        "Output: 2\n",
        "Explanation: The minimum number of jumps to reach the last index is 2. Jump 1 step from index 0 to 1, then 3 steps to the last index.\n",
        "\n",
        "Example 2:\n",
        "Input: nums = [2,3,0,1,4]\n",
        "Output: 2\n",
        "\n",
        "Constraints:\n",
        "1 <= nums.length <= 104\n",
        "0 <= nums[i] <= 1000\n",
        "```"
      ],
      "metadata": {
        "id": "l04tr0GETATa"
      }
    },
    {
      "cell_type": "code",
      "source": [
        "def jump(nums) -> int:\n",
        "  res = 0\n",
        "  l, r = 0, 0\n",
        "\n",
        "  while r < len(nums) - 1:\n",
        "    farthest = 0\n",
        "    for i in range(l, r+1):\n",
        "      farthest = max(farthest, i + nums[i])\n",
        "    l =  r+1\n",
        "    r = farthest\n",
        "    res += 1\n",
        "\n",
        "  return res \n"
      ],
      "metadata": {
        "id": "qHMMWTb4TTz4"
      },
      "execution_count": null,
      "outputs": []
    },
    {
      "cell_type": "code",
      "source": [
        "jump([2,3,0,1,4])"
      ],
      "metadata": {
        "id": "-RN5bBsyT2qB",
        "outputId": "170d99e7-dfa5-4775-8a5f-230a590f8419",
        "colab": {
          "base_uri": "https://localhost:8080/"
        }
      },
      "execution_count": null,
      "outputs": [
        {
          "output_type": "execute_result",
          "data": {
            "text/plain": [
              "2"
            ]
          },
          "metadata": {},
          "execution_count": 2
        }
      ]
    }
  ]
}