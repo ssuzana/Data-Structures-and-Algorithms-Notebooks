{
  "nbformat": 4,
  "nbformat_minor": 0,
  "metadata": {
    "colab": {
      "provenance": [],
      "toc_visible": true,
      "authorship_tag": "ABX9TyMqyMou2YdilT7X4JMvQnMJ",
      "include_colab_link": true
    },
    "kernelspec": {
      "name": "python3",
      "display_name": "Python 3"
    },
    "language_info": {
      "name": "python"
    }
  },
  "cells": [
    {
      "cell_type": "markdown",
      "metadata": {
        "id": "view-in-github",
        "colab_type": "text"
      },
      "source": [
        "<a href=\"https://colab.research.google.com/github/ssuzana/Data-Structures-and-Algorithms-Notebooks/blob/main/Cisco_Leetcode.ipynb\" target=\"_parent\"><img src=\"https://colab.research.google.com/assets/colab-badge.svg\" alt=\"Open In Colab\"/></a>"
      ]
    },
    {
      "cell_type": "markdown",
      "source": [
        "# Contents \n",
        "\n",
        "This is a set of Leetcode problems that have been marked as seen in interviews with Cisco.\n",
        "\n",
        "`1`. [Convert Binary Number in a Linked List to Integer](#scrollTo=m-m9WhIYjwPc&line=1&uniqifier=1) \n",
        "\n",
        "`2`. [Reverse String](#scrollTo=WioUf2DcuSqq&line=1&uniqifier=1) \n",
        "\n",
        "`3`. [Reverse Linked List](#scrollTo=Sncy1IvyDkoL&line=1&uniqifier=1) \n",
        "\n",
        "`4`. [Squares of a Sorted Array](#scrollTo=ltUNwYl9H1Gw&line=1&uniqifier=1) \n",
        "\n",
        "`5`. [Fizz Buzz](#scrollTo=rLPhFXqSeodO&line=1&uniqifier=1) \n",
        "\n",
        "`6`. [Sort Array by Increasing Frequency](#scrollTo=hTznl3qG-t0n&line=1&uniqifier=1) \n",
        "\n",
        "`7`. [Number of 1 Bits](#scrollTo=vH6vTv1lUN0k&line=1&uniqifier=1) \n",
        "\n",
        "`8`. [Valid Anagram](#scrollTo=tfOqJ5tQUmfo&line=1&uniqifier=1) \n",
        "\n",
        "`9`. [Missing Number](#scrollTo=sJsaMsYlc-zl&line=1&uniqifier=1) \n",
        "\n",
        "`10`. [Maximum Population Year](#scrollTo=1jB3zC_l5L4-&line=1&uniqifier=1) \n",
        "\n",
        "`11`. [Rotate String](#scrollTo=sCVMCsSVKSNy&line=1&uniqifier=1) \n",
        "\n",
        "`12`. [Find Pivot Index](#scrollTo=Lmr9YsgLb4IB&line=21&uniqifier=1) \n",
        "\n",
        "`13`. [Best Time to Buy and Sell Stock](#scrollTo=eWd3vhm-jNIt&line=3&uniqifier=1)\n",
        "\n",
        "`14`. [Maximum Difference Between Increasing Elements](#scrollTo=ZH1AXW-1pGGo&line=29&uniqifier=1)\n",
        "\n",
        "`15`. [Climbing Stairs](#scrollTo=Sc6fw9F9rImr&line=24&uniqifier=1)\n",
        "\n",
        "`16`. [Two Sum](#scrollTo=gWSDigMPPP98&line=5&uniqifier=1)\n",
        "\n",
        "`17`. [Linked List Cycle](#scrollTo=fCX0vFJJTGyp&line=1&uniqifier=1)\n",
        "\n",
        "`18`. [Merge Sorted Array](#scrollTo=dSu87blZil8k&line=9&uniqifier=1)\n",
        "\n",
        "`19`. [Valid Palindrome](#scrollTo=3i0-YstALITF&line=1&uniqifier=1)\n",
        "\n",
        "`20`. [First Bad Version](#scrollTo=d9cH8O5a4t13&line=5&uniqifier=1)\n",
        "\n",
        "`21`. [Longest Common Prefix](#scrollTo=WTEsYWcv8Df4&line=18&uniqifier=1)\n",
        "\n",
        "`22`. [Valid Parentheses](#scrollTo=0gpvQPO-5uRY&line=25&uniqifier=1)\n",
        "\n",
        "`23`. [Check if Binary String Has at Most One Segment of Ones](#scrollTo=4H5KArKl9xBn&line=8&uniqifier=1)\n",
        "\n",
        "`24`. [Number of Valid Words in a Sentence](#scrollTo=UY56ZE3L-lpm&line=36&uniqifier=1)"
      ],
      "metadata": {
        "id": "mas4Pt7okcEj"
      }
    },
    {
      "cell_type": "markdown",
      "source": [
        "#**1290. Convert Binary Number in a Linked List to Integer** `Easy`\n",
        "\n",
        "https://leetcode.com/problems/convert-binary-number-in-a-linked-list-to-integer/\n",
        "\n",
        "\n",
        "Given `head` which is a reference node to a singly-linked list. The value of each node in the linked list is either 0 or 1. The linked list holds the binary representation of a number.\n",
        "\n",
        "Return the decimal value of the number in the linked list.\n",
        "\n",
        "The most significant bit is at the head of the linked list.\n",
        "\n",
        "```\n",
        "Example:\n",
        "Input: head = [1,0,1]\n",
        "Output: 5\n",
        "Explanation: (101) in base 2 = (5) in base 10\n",
        "```\n",
        "\n",
        "Constraints:\n",
        "\n",
        "* The Linked List is not empty.\n",
        "\n",
        "* Number of nodes will not exceed 30.\n",
        "\n",
        "* Each node's value is either 0 or 1."
      ],
      "metadata": {
        "id": "m-m9WhIYjwPc"
      }
    },
    {
      "cell_type": "markdown",
      "source": [
        "## Converting decimal integer to binary\n",
        "\n",
        "To convert integer to binary, start with the integer in question and divide it by 2 keeping notice of the quotient and the remainder. Continue dividing the quotient by 2 until you get a quotient of zero. Then just write out the remainders in the reverse order.\n",
        "\n"
      ],
      "metadata": {
        "id": "L9H7ajuBnfrb"
      }
    },
    {
      "cell_type": "markdown",
      "source": [
        "## Converting binary integer to decimal\n",
        "\n",
        "To convert binary integer to decimal, start from the left. Take your current total, multiply it by two and add the current digit. Continue until there are no more digits left. \n",
        "\n"
      ],
      "metadata": {
        "id": "VPxJILrGoMYC"
      }
    },
    {
      "cell_type": "code",
      "source": [
        "# Definition for singly-linked list.\n",
        "class ListNode:\n",
        "    def __init__(self, val=0, next=None):\n",
        "        self.val = val\n",
        "        self.next = next"
      ],
      "metadata": {
        "id": "EGsBCUiZrYPD"
      },
      "execution_count": null,
      "outputs": []
    },
    {
      "cell_type": "code",
      "source": [
        "def getDecimalValue(head: ListNode) -> int:\n",
        "    ans = 0\n",
        "    cur = head\n",
        "\n",
        "    while cur:\n",
        "        ans  = ans * 2 + cur.val\n",
        "        # using bit manipulation\n",
        "        # ans  = (ans << 1) | cur.val\n",
        "        cur = cur.next\n",
        "\n",
        "    return ans   "
      ],
      "metadata": {
        "id": "L0_xIXvQoSAP"
      },
      "execution_count": null,
      "outputs": []
    },
    {
      "cell_type": "code",
      "source": [
        "# head = [1,0,1]\n",
        "node1 = ListNode(1)\n",
        "node2 = ListNode(0,node1)\n",
        "head = ListNode(1, node2)"
      ],
      "metadata": {
        "id": "NXiDtdyQsW0D"
      },
      "execution_count": null,
      "outputs": []
    },
    {
      "cell_type": "code",
      "source": [
        "# head = [1,0,1]\n",
        "getDecimalValue(head)"
      ],
      "metadata": {
        "colab": {
          "base_uri": "https://localhost:8080/"
        },
        "id": "94vWZ0rksmg5",
        "outputId": "579c3199-ebfb-498a-a9ee-cbab85ea3f4d"
      },
      "execution_count": null,
      "outputs": [
        {
          "output_type": "execute_result",
          "data": {
            "text/plain": [
              "5"
            ]
          },
          "metadata": {},
          "execution_count": 9
        }
      ]
    },
    {
      "cell_type": "markdown",
      "source": [
        "## Time and Space Complexity\n",
        "\n",
        "* The time complexity of the above code is `O(n)`, where `n` is the number of nodes in the linked list. \n",
        "\n",
        " This is because the code iterates over each node of the linked list exactly once, performs a constant number of operations on each iteration (multiplication by 2 and addition of the binary value of the current node), and then returns the result. Therefore, the time complexity of the function is **linear** with respect to the number of nodes in the linked list.\n",
        "\n",
        "* The space complexity of the function is `O(1)`. \n",
        "\n",
        " This is because the function only uses a constant amount of extra space to store the variables `ans` and `cur`, regardless of the size of the input. Therefore, the space complexity of the function is **constant**. "
      ],
      "metadata": {
        "id": "mCCLyZXsqqgs"
      }
    },
    {
      "cell_type": "markdown",
      "source": [
        "#**344. Reverse String** `Easy`\n",
        "\n",
        "https://leetcode.com/problems/reverse-string/\n",
        "\n",
        "Write a function that reverses a string. The input string is given as an array of characters `s`.\n",
        "\n",
        "You must do this by modifying the input array in-place with `O(1)` extra memory.\n",
        "\n",
        " \n",
        "```\n",
        "Example:\n",
        "Input: s = [\"h\",\"e\",\"l\",\"l\",\"o\"]\n",
        "Output: [\"o\",\"l\",\"l\",\"e\",\"h\"]\n",
        "```"
      ],
      "metadata": {
        "id": "WioUf2DcuSqq"
      }
    },
    {
      "cell_type": "code",
      "source": [
        "def reverseString(s) -> None:\n",
        "    \"\"\"\n",
        "    Do not return anything, modify s in-place instead.\n",
        "    \"\"\"\n",
        "    #return s.reverse()\n",
        "    start, end = 0, len(s) - 1 \n",
        "    while start < end:\n",
        "        s[start], s[end] = s[end], s[start]\n",
        "        start += 1\n",
        "        end -= 1"
      ],
      "metadata": {
        "id": "9d760yqnuSBX"
      },
      "execution_count": null,
      "outputs": []
    },
    {
      "cell_type": "code",
      "source": [
        "s = [\"h\",\"e\",\"l\",\"l\",\"o\"]\n",
        "reverseString(s)\n",
        "print(s)"
      ],
      "metadata": {
        "colab": {
          "base_uri": "https://localhost:8080/"
        },
        "id": "k_G69iw5vDqs",
        "outputId": "613c4a2f-0c9d-482a-bbc8-955acca84fff"
      },
      "execution_count": null,
      "outputs": [
        {
          "output_type": "stream",
          "name": "stdout",
          "text": [
            "['o', 'l', 'l', 'e', 'h']\n"
          ]
        }
      ]
    },
    {
      "cell_type": "markdown",
      "source": [
        "## Time and Space Complexity\n",
        "\n",
        "* The time complexity of the given code is `O(n)`, where `n` is the length of the input list `s`. \n",
        "\n",
        " This is because the code iterates over each element of the list exactly once, swapping the first and last elements, then the second and second-to-last elements, and so on until the middle of the list is reached. The while loop executes `n/2` times, so the time complexity of the code is **linear** with respect to the length of the list.\n",
        "\n",
        "* The space complexity of the function is `O(1)`. \n",
        "\n",
        " This is because the function only uses a constant amount of extra space to store the variables `start` and `end`, and to perform the swapping of the elements in the list. Therefore, the space complexity of the function is **constant**."
      ],
      "metadata": {
        "id": "jsUK0af_whrB"
      }
    },
    {
      "cell_type": "markdown",
      "source": [
        "#**206. Reverse Linked List** `Easy`\n",
        "\n",
        "https://leetcode.com/problems/reverse-linked-list/\n",
        "\n",
        "Given the `head` of a singly linked list, reverse the list, and return the reversed list.\n",
        "\n",
        "```\n",
        "Example:\n",
        "Input: head = [1,2,3,4,5]\n",
        "Output: [5,4,3,2,1]\n",
        "```"
      ],
      "metadata": {
        "id": "Sncy1IvyDkoL"
      }
    },
    {
      "cell_type": "code",
      "source": [
        "# iterative sol: time O(n), space O(1)\n",
        "def iterativeReverseList(head):\n",
        "  prev = None\n",
        "  cur = head\n",
        "  while cur is not None:\n",
        "    # save next node\n",
        "    temp = cur.next\n",
        "    # reverse link\n",
        "    cur.next = prev\n",
        "    # shift pointers\n",
        "    prev = cur\n",
        "    cur = temp\n",
        "  return prev"
      ],
      "metadata": {
        "id": "QR848eJxvIfG"
      },
      "execution_count": null,
      "outputs": []
    },
    {
      "cell_type": "markdown",
      "source": [
        "## Time and Space Complexity of `iterativeReverseList`\n",
        "\n",
        "* The time complexity of the `iterativeReverseList` function is `O(n)`, where `n` is the number of nodes in the linked list. \n",
        "\n",
        " This is because the function iterates over each node in the list once and performs constant time operations on each node. Therefore, the time complexity is **linear** in the size of the input.\n",
        "\n",
        "* The space complexity of the `iterativeReverseList` function is `O(1)`. \n",
        "\n",
        " This is because the function uses only a fixed amount of additional memory to store three pointers (`prev`, `cur`, and `temp`) throughout the iteration, regardless of the size of the input. Therefore, the space complexity is independent of the size of the input."
      ],
      "metadata": {
        "id": "EbJn4vtvGqm5"
      }
    },
    {
      "cell_type": "code",
      "source": [
        "# recursive solution: time O(n), space O(n)\n",
        "def recursiveReverseList(head):\n",
        "        if not head or not head.next:\n",
        "            return head\n",
        "        \n",
        "        new_head = reverseList(head.next)\n",
        "        head.next.next = head\n",
        "        head.next = None\n",
        "        return new_head"
      ],
      "metadata": {
        "id": "o4AgOto-EGvD"
      },
      "execution_count": null,
      "outputs": []
    },
    {
      "cell_type": "markdown",
      "source": [
        "## Time and Space Complexity of `recursiveReverseList`\n",
        "\n",
        "* The time complexity of the `recursiveReverseList` function is `O(n)`, where `n` is the number of nodes in the linked list.\n",
        "\n",
        " This is because the function performs a recursive call for each node in the list, and each call takes constant time `O(1)` to perform the operations on the current node before making the recursive call.\n",
        "\n",
        "* The space complexity of the `recursiveReverseList` function is `O(n)`, where `n` is the number of nodes in the linked list. \n",
        "\n",
        " This is because the function uses the call stack to store the recursive calls, and the maximum depth of the call stack is proportional to the number of nodes in the list. Therefore, the space complexity is **linear** in the size of the input."
      ],
      "metadata": {
        "id": "njdWdvapGFEj"
      }
    },
    {
      "cell_type": "code",
      "source": [
        "# head = [1,2,3,4,5]\n",
        "node1 = ListNode(5)\n",
        "node2 = ListNode(4,node1)\n",
        "node3 = ListNode(3,node2)\n",
        "node4 = ListNode(2,node3)\n",
        "head = ListNode(1, node4)\n",
        "\n",
        "\n",
        "answer = iterativeReverseList(head)\n",
        "cur = answer\n",
        "while cur:\n",
        "  print(cur.val, end=\" \")\n",
        "  cur = cur.next"
      ],
      "metadata": {
        "colab": {
          "base_uri": "https://localhost:8080/"
        },
        "id": "-8c6LDNTEyjQ",
        "outputId": "5d450622-7e0c-4ae8-bfaa-59d800eaf4b0"
      },
      "execution_count": null,
      "outputs": [
        {
          "output_type": "stream",
          "name": "stdout",
          "text": [
            "5 4 3 2 1 "
          ]
        }
      ]
    },
    {
      "cell_type": "markdown",
      "source": [
        "#**977. Squares of a Sorted Array** `Easy`\n",
        "\n",
        "https://leetcode.com/problems/squares-of-a-sorted-array/\n",
        "\n",
        "Given an integer array `nums` sorted in non-decreasing order, return an array of the squares of each number sorted in non-decreasing order.\n",
        "\n",
        " \n",
        "```\n",
        "Example 1:\n",
        "Input: nums = [-4,-1,0,3,10]\n",
        "Output: [0,1,9,16,100]\n",
        "Explanation: After squaring, the array becomes [16,1,0,9,100].\n",
        "After sorting, it becomes [0,1,9,16,100].\n",
        "\n",
        "Example 2:\n",
        "Input: nums = [-7,-3,2,3,11]\n",
        "Output: [4,9,9,49,121]\n",
        "```"
      ],
      "metadata": {
        "id": "ltUNwYl9H1Gw"
      }
    },
    {
      "cell_type": "code",
      "source": [
        "def sortedSquares(nums):\n",
        "    n = len(nums)\n",
        "    ans = [0] * n\n",
        "    left, right = 0, n - 1\n",
        "\n",
        "    for i in range(n - 1, -1, -1):\n",
        "        if abs(nums[left]) < abs(nums[right]):\n",
        "            ans[i] = nums[right]**2\n",
        "            right -= 1\n",
        "        else:\n",
        "            ans[i] = nums[left]**2\n",
        "            left += 1\n",
        "    return ans     "
      ],
      "metadata": {
        "id": "refPHmTwID-x"
      },
      "execution_count": null,
      "outputs": []
    },
    {
      "cell_type": "code",
      "source": [
        "nums = [-7,-3,2,3,11]\n",
        "sortedSquares(nums)"
      ],
      "metadata": {
        "colab": {
          "base_uri": "https://localhost:8080/"
        },
        "id": "XxaT0s5hc-e1",
        "outputId": "ddd724cb-50d9-4659-d0e6-145ff17b7943"
      },
      "execution_count": null,
      "outputs": [
        {
          "output_type": "execute_result",
          "data": {
            "text/plain": [
              "[4, 9, 9, 49, 121]"
            ]
          },
          "metadata": {},
          "execution_count": 19
        }
      ]
    },
    {
      "cell_type": "markdown",
      "source": [
        "## Time and Space Complexity\n",
        "\n",
        "* The time complexity of the `sortedSquares` function is `O(n)`, where `n` is the length of the input array `nums`. \n",
        "\n",
        " This is because the function performs a single pass over the array and does constant time operations on each element. \n",
        "\n",
        "* The space complexity of the `sortedSquares` function is `O(n)`, where `n` is the length of the input array `nums`. \n",
        "\n",
        " This is because the function creates a new array of the same size as the input array to store the squared values. "
      ],
      "metadata": {
        "id": "4-myvwG3dhGW"
      }
    },
    {
      "cell_type": "markdown",
      "source": [
        "#**412. Fizz Buzz** `Easy`\n",
        "\n",
        "https://leetcode.com/problems/fizz-buzz/\n",
        "\n",
        "Given an integer `n`, return a string array `answer` (1-indexed) where:\n",
        "\n",
        "* `answer[i] == \"FizzBuzz\"` if `i` is divisible by 3 and 5.\n",
        "* `answer[i] == \"Fizz\"` if `i` is divisible by 3.\n",
        "* `answer[i] == \"Buzz\"` if `i` is divisible by 5.\n",
        "* `answer[i] == i` (as a string) if none of the above conditions are true.\n",
        " \n",
        "```\n",
        "Example 1:\n",
        "\n",
        "Input: n = 3\n",
        "Output: [\"1\",\"2\",\"Fizz\"]\n",
        "\n",
        "Example 2:\n",
        "Input: n = 5\n",
        "Output: [\"1\",\"2\",\"Fizz\",\"4\",\"Buzz\"]\n",
        "\n",
        "Example 3:\n",
        "Input: n = 15\n",
        "Output: [\"1\",\"2\",\"Fizz\",\"4\",\"Buzz\",\"Fizz\",\"7\",\"8\",\"Fizz\",\"Buzz\",\"11\",\"Fizz\",\"13\",\"14\",\"FizzBuzz\"]\n",
        "```"
      ],
      "metadata": {
        "id": "rLPhFXqSeodO"
      }
    },
    {
      "cell_type": "code",
      "source": [
        "def fizzBuzz(n: int):\n",
        "    ans = []\n",
        "    for i in range(1,n+1):\n",
        "        cur = \"\"\n",
        "        if i % 3 == 0:\n",
        "            cur += \"Fizz\"\n",
        "        if i % 5 == 0:\n",
        "            cur += \"Buzz\"\n",
        "        if cur == \"\":\n",
        "            cur = str(i)   \n",
        "        ans.append(cur)\n",
        "    return ans    "
      ],
      "metadata": {
        "id": "8iP61VaNdxyz"
      },
      "execution_count": null,
      "outputs": []
    },
    {
      "cell_type": "code",
      "source": [
        "fizzBuzz(15)"
      ],
      "metadata": {
        "colab": {
          "base_uri": "https://localhost:8080/"
        },
        "id": "2M1TrBIz8toi",
        "outputId": "35498d10-9e07-419a-e864-8cc8082aaf83"
      },
      "execution_count": null,
      "outputs": [
        {
          "output_type": "execute_result",
          "data": {
            "text/plain": [
              "['1',\n",
              " '2',\n",
              " 'Fizz',\n",
              " '4',\n",
              " 'Buzz',\n",
              " 'Fizz',\n",
              " '7',\n",
              " '8',\n",
              " 'Fizz',\n",
              " 'Buzz',\n",
              " '11',\n",
              " 'Fizz',\n",
              " '13',\n",
              " '14',\n",
              " 'FizzBuzz']"
            ]
          },
          "metadata": {},
          "execution_count": 2
        }
      ]
    },
    {
      "cell_type": "markdown",
      "source": [
        "## Time and Space Complexity \n",
        "\n",
        "* The time complexity of the `fizzBuzz` function is `O(n)`, where `n` is the input integer `n`.\n",
        "\n",
        " This is because the function performs a loop of size `n` and performs a constant time operation for each element in the loop, which is generating the corresponding FizzBuzz string based on the value of `i`. Therefore, the time complexity is linear in the size of the input.\n",
        "\n",
        "* The space complexity of the `fizzBuzz` function is also `O(n)`, where `n` is the input integer `n`. \n",
        "\n",
        " This is because the function creates a list of size `n` to store the FizzBuzz strings, each of which takes up a constant amount of memory. Therefore, the space complexity is linear in the size of the input. The `cur` variable takes up a constant amount of memory for each iteration of the loop, so it also contributes to the space complexity by a constant factor. Overall, the space complexity is `O(n)`."
      ],
      "metadata": {
        "id": "MfnHndu_87ai"
      }
    },
    {
      "cell_type": "markdown",
      "source": [
        "#**1636. Sort Array by Increasing Frequency** `Easy`\n",
        "\n",
        "https://leetcode.com/problems/sort-array-by-increasing-frequency/\n",
        "\n",
        "Given an array of integers `nums`, sort the array in increasing order based on the frequency of the values. If multiple values have the same frequency, sort them in decreasing order.\n",
        "\n",
        "Return the sorted array.\n",
        "\n",
        " \n",
        "```\n",
        "Example 1:\n",
        "Input: nums = [1,1,2,2,2,3]\n",
        "Output: [3,1,1,2,2,2]\n",
        "Explanation: '3' has a frequency of 1, '1' has a frequency of 2, and '2' has a frequency of 3.\n",
        "\n",
        "Example 2:\n",
        "Input: nums = [2,3,1,3,2]\n",
        "Output: [1,3,3,2,2]\n",
        "Explanation: '2' and '3' both have a frequency of 2, so they are sorted in decreasing order.\n",
        "\n",
        "Example 3:\n",
        "Input: nums = [-1,1,-6,4,5,-6,1,4,1]\n",
        "Output: [5,-1,4,4,-6,-6,1,1,1]\n",
        "```"
      ],
      "metadata": {
        "id": "hTznl3qG-t0n"
      }
    },
    {
      "cell_type": "code",
      "source": [
        "import collections \n",
        "def frequencySort(nums):\n",
        "    # Sol 1\n",
        "    #return sorted(sorted(nums, reverse=True), key=nums.count)\n",
        "    \n",
        "    # Sol 2\n",
        "    \"\"\"\n",
        "    Count the frequency of each element in the input list nums. \n",
        "    The sorted function is then used to sort the nums list based on the frequency of each element,\n",
        "    breaking ties with the element value. The key parameter of the sorted function takes a lambda function\n",
        "    that returns a tuple of two values for each element in the list. \n",
        "    The first value is the frequency of the element, obtained from the freq dictionary,\n",
        "    and the second value is the negative of the element value, which ensures that ties are broken in decreasing order.\n",
        "    \"\"\"\n",
        "    freq_counter = collections.Counter(nums)\n",
        "    return sorted(nums, key=lambda x: (freq_counter[x], -x))"
      ],
      "metadata": {
        "id": "jLzQ-IH29No-"
      },
      "execution_count": null,
      "outputs": []
    },
    {
      "cell_type": "code",
      "source": [
        "nums = [-1,1,-6,4,5,-6,1,4,1]\n",
        "frequencySort(nums)"
      ],
      "metadata": {
        "colab": {
          "base_uri": "https://localhost:8080/"
        },
        "id": "_nbJMXdOOyhB",
        "outputId": "0f4652e3-2ba8-457b-8795-5d15717edddf"
      },
      "execution_count": null,
      "outputs": [
        {
          "output_type": "execute_result",
          "data": {
            "text/plain": [
              "[5, -1, 4, 4, -6, -6, 1, 1, 1]"
            ]
          },
          "metadata": {},
          "execution_count": 6
        }
      ]
    },
    {
      "cell_type": "markdown",
      "source": [
        "## Time and Space Complexity\n",
        "\n",
        "* The time complexity of the function `frequencySort` is `O(n log n)`, where `n` is the length of the input list `nums`.\n",
        "\n",
        " The `Counter` method from the `collections` module takes `O(n)` time to count the frequency of each element in the list. Sorting the list using the `sorted` method with a key function that considers both the frequency of each element and the value of the element itself takes `O(n log n)` time.\n",
        "Therefore, the overall time complexity is `O(n log n)`.\n",
        "\n",
        "* The space complexity of the function is `O(n)`, where `n` is the length of the input list `nums`. \n",
        "\n",
        " This is because we need to create a frequency counter dictionary to store the count of each element in the list. The size of the dictionary is proportional to the number of unique elements in the input list. In the worst case, where all elements in the input list are distinct, the size of the dictionary would be equal to the size of the input list, which is `O(n)`."
      ],
      "metadata": {
        "id": "cb07JMbKRBsl"
      }
    },
    {
      "cell_type": "markdown",
      "source": [
        "#**191. Number of 1 Bits (Hamming weight)** `Easy`\n",
        "\n",
        "https://leetcode.com/problems/number-of-1-bits/\n",
        "\n",
        "Write a function that takes the binary representation of an unsigned integer and returns the number of `'1'` bits it has (also known as the Hamming weight).\n",
        " \n",
        "```\n",
        "Example 1:\n",
        "Input: n = 00000000000000000000000000001011\n",
        "Output: 3\n",
        "Explanation: The input binary string 00000000000000000000000000001011 has a total of three '1' bits.\n",
        "\n",
        "Example 2:\n",
        "Input: n = 00000000000000000000000010000000\n",
        "Output: 1\n",
        "Explanation: The input binary string 00000000000000000000000010000000 has a total of one '1' bit.\n",
        "\n",
        "Example 3:\n",
        "Input: n = 11111111111111111111111111111101\n",
        "Output: 31\n",
        "Explanation: The input binary string 11111111111111111111111111111101 has a total of thirty one '1' bits.\n",
        "```\n",
        "\n",
        "**Constraints:**\n",
        "\n",
        "The input must be a binary string of length 32."
      ],
      "metadata": {
        "id": "vH6vTv1lUN0k"
      }
    },
    {
      "cell_type": "markdown",
      "source": [
        "**Explanation.** In this implementation, we use a while loop to iterate through each bit of the binary representation of the integer. We do this by using the bitwise AND operator (`&`) to check the least significant bit of the integer. If the bit is a `'1'`, we increment our count. We then shift the integer to the right by one bit using the right bit shift operator `(>>=)` so that we can check the next least significant bit on the next iteration of the loop. We continue this process until we have checked all bits of the integer."
      ],
      "metadata": {
        "id": "qBgMJYJ-bfSC"
      }
    },
    {
      "cell_type": "code",
      "source": [
        "# Solution 1\n",
        "def hammingWeight1(n: int) -> int:\n",
        "    count = 0\n",
        "    while n:\n",
        "        count += n & 1\n",
        "        n >>= 1\n",
        "    return count"
      ],
      "metadata": {
        "id": "b2x8cGAbSViN"
      },
      "execution_count": null,
      "outputs": []
    },
    {
      "cell_type": "code",
      "source": [
        "n = int(0b00000000000000000000000000001011)\n",
        "hammingWeight1(n)"
      ],
      "metadata": {
        "colab": {
          "base_uri": "https://localhost:8080/"
        },
        "id": "vDEAbm3hWUxv",
        "outputId": "9f96a6c3-0cf5-4b26-b8fb-5781d95a844c"
      },
      "execution_count": null,
      "outputs": [
        {
          "output_type": "execute_result",
          "data": {
            "text/plain": [
              "3"
            ]
          },
          "metadata": {},
          "execution_count": 24
        }
      ]
    },
    {
      "cell_type": "code",
      "source": [
        "# Solution 2\n",
        "def hammingWeight2(n: int) -> int:\n",
        "    count = 0\n",
        "    while n > 0:\n",
        "        # for any number n, doing a bit-wise AND of n and n−1 \n",
        "        # flips the least-significant 1-bit in n to 0\n",
        "            n = n & (n - 1)\n",
        "            count += 1\n",
        "    return count"
      ],
      "metadata": {
        "id": "h4naeGjXaVhJ"
      },
      "execution_count": null,
      "outputs": []
    },
    {
      "cell_type": "code",
      "source": [
        "n = int(0b00000000000000000000000000001011)\n",
        "hammingWeight2(n)"
      ],
      "metadata": {
        "colab": {
          "base_uri": "https://localhost:8080/"
        },
        "id": "bD-roY5ZlcSi",
        "outputId": "3315281d-1c80-4155-cecc-5a589f59a136"
      },
      "execution_count": null,
      "outputs": [
        {
          "output_type": "execute_result",
          "data": {
            "text/plain": [
              "3"
            ]
          },
          "metadata": {},
          "execution_count": 26
        }
      ]
    },
    {
      "cell_type": "markdown",
      "source": [
        "## Time and Space Complexity\n",
        "\n",
        "Note the given constraint that the input must be a binary string of length 32.\n",
        "\n",
        "Solution 2 is using the bit-wise AND operation to flip the least-significant 1-bit in the binary string to 0 until there are no 1's left. The time and space complexity of this algorithm are:\n",
        "\n",
        "* Time Complexity `O(1)`:\n",
        "\n",
        " The time complexity of the given algorithm is proportional to the number of 1's in the binary string. Specifically, the number of 1's in the binary string is equal to the number of iterations required to make `n` equal to 0. Since the worst case scenario is that all 32 bits are 1, the maximum number of iterations required will be 32. \n",
        "\n",
        "* Space Complexity `O(1)`:\n",
        "\n",
        " The space complexity of the given algorithm is constant because the only space used is for the count variable, which takes up a fixed amount of memory. \n"
      ],
      "metadata": {
        "id": "GG5_CjfLmIn0"
      }
    },
    {
      "cell_type": "markdown",
      "source": [
        "#**242. Valid Anagram** `Easy`\n",
        "\n",
        "https://leetcode.com/problems/valid-anagram/\n",
        "\n",
        "Given two strings `s` and `t`, return `true` if `t` is an anagram of `s`, and `false` otherwise.\n",
        "\n",
        "An Anagram is a word or phrase formed by rearranging the letters of a different word or phrase, typically using all the original letters exactly once.\n",
        "\n",
        " \n",
        "```\n",
        "Example 1:\n",
        "Input: s = \"anagram\", t = \"nagaram\"\n",
        "Output: true\n",
        "\n",
        "Example 2:\n",
        "Input: s = \"rat\", t = \"car\"\n",
        "Output: false\n",
        "```"
      ],
      "metadata": {
        "id": "tfOqJ5tQUmfo"
      }
    },
    {
      "cell_type": "code",
      "source": [
        "# Solution 1\n",
        "from collections import Counter\n",
        "def isAnagram1(s: str, t: str) -> bool:\n",
        "    return Counter(s) == Counter(t)"
      ],
      "metadata": {
        "id": "7AAHr3l_mo8S"
      },
      "execution_count": null,
      "outputs": []
    },
    {
      "cell_type": "code",
      "source": [
        "s = \"anagram\"\n",
        "t = \"nagaram\"\n",
        "isAnagram1(s, t)"
      ],
      "metadata": {
        "colab": {
          "base_uri": "https://localhost:8080/"
        },
        "id": "zg8mwDvxXpuH",
        "outputId": "2c2d1231-f977-4d12-99ba-4845a66df5e0"
      },
      "execution_count": null,
      "outputs": [
        {
          "output_type": "execute_result",
          "data": {
            "text/plain": [
              "True"
            ]
          },
          "metadata": {},
          "execution_count": 9
        }
      ]
    },
    {
      "cell_type": "markdown",
      "source": [
        "## Time and Space Complexity - Solution 1\n",
        "\n",
        "* The time complexity of the `isAnagram1` function is `O(n)`, where `n` is the length of the input strings `s` and `t`. \n",
        "\n",
        " This is because the `Counter` function has a time complexity of `O(n)`, where `n` is the length of the input string, as it needs to iterate over the string to count the occurrences of each character.\n",
        "\n",
        "* The space complexity of the isAnagram function is `O(k)`, where `k` is the number of unique characters in the input strings `s` and `t`.\n",
        "\n",
        " This is because the Counter function creates a dictionary with an entry for each unique character in the string. The size of the dictionary will be proportional to the number of unique characters in the string.\n",
        "\n",
        "\n"
      ],
      "metadata": {
        "id": "2Rq2srXCYB4y"
      }
    },
    {
      "cell_type": "code",
      "source": [
        "# Solution 2\n",
        "\n",
        "def isAnagram2(s: str, t: str) -> bool:\n",
        "   \n",
        "    if len(s) != len(t):\n",
        "        return False\n",
        "\n",
        "    counter = {}\n",
        "\n",
        "    for char in s:\n",
        "        counter[char] = counter.get(char, 0) + 1\n",
        "\n",
        "    for char in t:\n",
        "        if char not in counter:\n",
        "            return False\n",
        "        else:\n",
        "            counter[char] -= 1\n",
        "            if counter[char] == 0:\n",
        "                del counter[char]\n",
        "    return len(counter) == 0    "
      ],
      "metadata": {
        "id": "a6sE8PgTX3ft"
      },
      "execution_count": null,
      "outputs": []
    },
    {
      "cell_type": "code",
      "source": [
        "s = \"anagram\"\n",
        "t = \"nagaram\"\n",
        "isAnagram2(s, t)"
      ],
      "metadata": {
        "colab": {
          "base_uri": "https://localhost:8080/"
        },
        "id": "wNPa0uOeaDXb",
        "outputId": "a7af3fec-9b66-403b-c399-53e123f0f32d"
      },
      "execution_count": null,
      "outputs": [
        {
          "output_type": "execute_result",
          "data": {
            "text/plain": [
              "True"
            ]
          },
          "metadata": {},
          "execution_count": 16
        }
      ]
    },
    {
      "cell_type": "markdown",
      "source": [
        "## Time and Space Complexity - Solution 2 \n",
        "\n",
        "* The time complexity of the `isAnagram2` function is `O(n)`, where `n` is the length of the input strings `s` and `t`. \n",
        "\n",
        " This is because we loop through each character in both strings once to update the counts in the dictionary and then again to check if the strings are anagrams.\n",
        "\n",
        "* The space complexity of the `isAnagram2` function is `O(k)`, where `k` is the number of unique characters in the input string `s`. \n",
        "\n",
        " This is because we use a dictionary to keep track of the count of each character in `s`, and the size of the dictionary will be proportional to the number of unique characters in the string."
      ],
      "metadata": {
        "id": "XdYg40qSaxso"
      }
    },
    {
      "cell_type": "markdown",
      "source": [
        "#**268. Missing Number** `Easy`\n",
        "\n",
        "https://leetcode.com/problems/missing-number/\n",
        "\n",
        "Given an array `nums` containing `n` distinct numbers in the range `[0, n]`, return the only number in the range that is missing from the array.\n",
        "\n",
        " \n",
        "```\n",
        "Example 1:\n",
        "Input: nums = [3,0,1]\n",
        "Output: 2\n",
        "\n",
        "Example 2:\n",
        "Input: nums = [0,1]\n",
        "Output: 2\n",
        "\n",
        "Example 3:\n",
        "Input: nums = [9,6,4,2,3,5,7,0,1]\n",
        "Output: 8\n",
        "```"
      ],
      "metadata": {
        "id": "sJsaMsYlc-zl"
      }
    },
    {
      "cell_type": "code",
      "source": [
        "# Solution 1 - using Gauss Sum Formula\n",
        "def missingNumber1(nums):\n",
        "    n = len(nums)\n",
        "    return (n*(n+1))//2 - sum(nums)"
      ],
      "metadata": {
        "id": "0wr2OlKdbLUO"
      },
      "execution_count": null,
      "outputs": []
    },
    {
      "cell_type": "markdown",
      "source": [
        "## Time and Space Complexity - Solution 1\n",
        "\n",
        "* The time complexity of the `missingNumber` function is `O(n)`, where `n` is the length of the input list `nums`. \n",
        "\n",
        " This is because we need to loop through the entire list once to calculate the sum of the numbers in the list using the sum function.\n",
        "\n",
        "* The space complexity of the `missingNumber1` function is `O(1)`.\n",
        "\n",
        " We are only using a constant amount of extra space to store the variables n and the sum of the numbers in the list."
      ],
      "metadata": {
        "id": "8re2al1rgITJ"
      }
    },
    {
      "cell_type": "code",
      "source": [
        "# Solution 2 - using XOR\n",
        "\n",
        "def missingNumber2(nums):\n",
        "    ans = len(nums)\n",
        "    for i, num in enumerate(nums):\n",
        "        ans ^= i ^ num\n",
        "    return ans    "
      ],
      "metadata": {
        "id": "7k8W8hvIgU3K"
      },
      "execution_count": null,
      "outputs": []
    },
    {
      "cell_type": "markdown",
      "source": [
        "**Explanation.** Note that the index `i` takes values between `0` and `len(nums) - 1`. The missing number is in the range `[0, len(nums)]`. This is why we must initialize `ans` to `len(nums).`"
      ],
      "metadata": {
        "id": "rT8HbMGim60Y"
      }
    },
    {
      "cell_type": "code",
      "source": [
        "nums = [9,6,4,2,3,5,7,0,1]\n",
        "print(len(nums))\n",
        "missingNumber2(nums)"
      ],
      "metadata": {
        "colab": {
          "base_uri": "https://localhost:8080/"
        },
        "id": "ZBSDCeb3hI3-",
        "outputId": "8ca115ef-bb2b-449a-ad10-d51c1d872b3e"
      },
      "execution_count": null,
      "outputs": [
        {
          "output_type": "stream",
          "name": "stdout",
          "text": [
            "9\n"
          ]
        },
        {
          "output_type": "execute_result",
          "data": {
            "text/plain": [
              "8"
            ]
          },
          "metadata": {},
          "execution_count": 29
        }
      ]
    },
    {
      "cell_type": "markdown",
      "source": [
        "## Time and Space Complexity - Solution 2\n",
        "\n",
        "* The time complexity of the `missingNumber2` function is `O(n)`, where `n` is the length of the input list `nums`. \n",
        " \n",
        " This is because we need to loop through the entire list once to calculate the `XOR` of all the indices and numbers in the list.\n",
        "\n",
        "* The space complexity of the `missingNumber2` function is `O(1)`.\n",
        "\n",
        " We are only using a constant amount of extra space to store the variable `ans`."
      ],
      "metadata": {
        "id": "fObXAMnFns5b"
      }
    },
    {
      "cell_type": "markdown",
      "source": [
        "#**1854. Maximum Population Year** `Easy`\n",
        "\n",
        "https://leetcode.com/problems/maximum-population-year/\n",
        "\n",
        "You are given a 2D integer array `logs` where each `logs[i] = [birthi, deathi]` indicates the birth and death years of the `i`th person.\n",
        "\n",
        "The population of some year `x` is the number of people alive during that year. The `i`th person is counted in year `x`'s population if `x` is in the inclusive range `[birthi, deathi - 1]`. Note that the person is not counted in the year that they die.\n",
        "\n",
        "Return the earliest year with the maximum population.\n",
        "\n",
        " \n",
        "```\n",
        "Example 1:\n",
        "\n",
        "Input: logs = [[1993,1999],[2000,2010]]\n",
        "Output: 1993\n",
        "Explanation: The maximum population is 1, and 1993 is the earliest year with this population.\n",
        "\n",
        "Example 2:\n",
        "Input: logs = [[1950,1961],[1960,1971],[1970,1981]]\n",
        "Output: 1960\n",
        "Explanation: \n",
        "The maximum population is 2, and it had happened in years 1960 and 1970.\n",
        "The earlier year between them is 1960.\n",
        "```"
      ],
      "metadata": {
        "id": "1jB3zC_l5L4-"
      }
    },
    {
      "cell_type": "code",
      "source": [
        "def maximumPopulation(logs):\n",
        "    # the timespan 1950-2050 covers 101 years\n",
        "    population = [0] * 101\n",
        "\n",
        "# conversion from the year (1950 + i) to the ith index\n",
        "    startYear = 1950 \n",
        "\n",
        "    for birth, death in logs:\n",
        "  # increases the population by 1\n",
        "        population[birth - startYear] += 1 \n",
        "  \n",
        "  # decreases the population by 1\n",
        "        population[death - startYear] -= 1\n",
        "    \n",
        "    curPop, maxPop = 0, 0\n",
        "    year = 1950\n",
        "\n",
        "# find the year with the greatest population\n",
        "    for i, count in enumerate(population):\n",
        "        curPop += count\n",
        "\n",
        "        if  curPop > maxPop:\n",
        "            maxPop = curPop\n",
        "            year = startYear + i\n",
        "    \n",
        "    return year"
      ],
      "metadata": {
        "id": "8awEW-cmCjqH"
      },
      "execution_count": null,
      "outputs": []
    },
    {
      "cell_type": "code",
      "source": [
        "logs = [[1950,1961],[1960,1971],[1970,1981]]\n",
        "maximumPopulation(logs)"
      ],
      "metadata": {
        "colab": {
          "base_uri": "https://localhost:8080/"
        },
        "id": "4YRclNwqCjz4",
        "outputId": "c37ec77d-ab5e-4093-eaee-e6df76d3a0ea"
      },
      "execution_count": null,
      "outputs": [
        {
          "output_type": "execute_result",
          "data": {
            "text/plain": [
              "1960"
            ]
          },
          "metadata": {},
          "execution_count": 32
        }
      ]
    },
    {
      "cell_type": "markdown",
      "source": [
        "## Time and Space Complexity\n",
        "\n",
        "* The time complexity of the above code is `O(n)`, where `n` is the number of elements in the `logs` list. \n",
        "\n",
        " This is because the code iterates over each element in the `logs` list once, performing constant time operations for each element.\n",
        "\n",
        "* The space complexity of the code is `O(1)`.\n",
        "\n",
        " This is because the size of the population list remains constant at 101, regardless of the size of the input `logs` list. The only additional space used is for a few integer variables (`curPop`, `maxPop`, and `year`) which do not depend on the size of the input list."
      ],
      "metadata": {
        "id": "6PDcePVUDMAN"
      }
    },
    {
      "cell_type": "markdown",
      "source": [
        "#**796. Rotate String** `Easy`\n",
        "\n",
        "https://leetcode.com/problems/rotate-string/\n",
        "\n",
        "Given two strings `s` and `goal`, return `true` if and only if `s` can become `goal` after some number of shifts on `s`.\n",
        "\n",
        "A shift on `s` consists of moving the leftmost character of `s` to the rightmost position.\n",
        "\n",
        "For example, if `s = \"abcde\"`, then it will be `\"bcdea\"` after one shift.\n",
        " \n",
        "```\n",
        "Example 1:\n",
        "Input: s = \"abcde\", goal = \"cdeab\"\n",
        "Output: true\n",
        "\n",
        "Example 2:\n",
        "Input: s = \"abcde\", goal = \"abced\"\n",
        "Output: false\n",
        "```"
      ],
      "metadata": {
        "id": "sCVMCsSVKSNy"
      }
    },
    {
      "cell_type": "code",
      "source": [
        "# Solution 1\n",
        "def rotateString1(s: str, goal: str) -> bool:\n",
        "    if s == goal:\n",
        "        return True\n",
        "    \n",
        "    i = 0\n",
        "    while i < len(s):\n",
        "        s = s[-1] + s[:-1]\n",
        "        if s == goal:\n",
        "            return True  \n",
        "        i += 1\n",
        "            \n",
        "    return False "
      ],
      "metadata": {
        "id": "z6svaU5QDlVh"
      },
      "execution_count": null,
      "outputs": []
    },
    {
      "cell_type": "code",
      "source": [
        "s = \"abcde\"\n",
        "goal = \"cdeab\"\n",
        "rotateString1(s, goal)"
      ],
      "metadata": {
        "colab": {
          "base_uri": "https://localhost:8080/"
        },
        "id": "xoM3wO13QxUJ",
        "outputId": "ee8529a8-f22d-4641-8370-083f165fa0e6"
      },
      "execution_count": null,
      "outputs": [
        {
          "output_type": "execute_result",
          "data": {
            "text/plain": [
              "True"
            ]
          },
          "metadata": {},
          "execution_count": 44
        }
      ]
    },
    {
      "cell_type": "markdown",
      "source": [
        "## Time and Space Complexity - Solution 1\n",
        "\n",
        "* The time complexity of this function is `O(n^2)`, where `n` is the length of the input string `s`. \n",
        "\n",
        " This is because the `while` loop executes up to `len(s)` times, and within each iteration, the `s` string is sliced and concatenated to create a new string, which takes `O(n)` time. \n",
        "\n",
        "* The space complexity of this function is `O(n)`, where `n` is the length of the input string `s`.\n",
        "\n",
        " This is because in each iteration of the `while` loop, a new string is created by slicing and concatenating `s`, which requires an additional memory space of `O(n)`. Since the while loop executes up to `len(s)` times, the total space complexity of the function is `O(n)`. "
      ],
      "metadata": {
        "id": "dfeiiPBseiTw"
      }
    },
    {
      "cell_type": "code",
      "source": [
        "# Solution 2\n",
        "def rotateString2(s: str, goal: str) -> bool:\n",
        "    if len(s) != len(goal):\n",
        "        return False\n",
        "    ss = s + s\n",
        "    return goal in ss"
      ],
      "metadata": {
        "id": "dBv2zskecfBI"
      },
      "execution_count": null,
      "outputs": []
    },
    {
      "cell_type": "code",
      "source": [
        "s = \"abcde\"\n",
        "goal = \"cdeab\"\n",
        "rotateString2(s, goal)"
      ],
      "metadata": {
        "colab": {
          "base_uri": "https://localhost:8080/"
        },
        "id": "mJxFU2Sscn3R",
        "outputId": "f83669df-3b76-4298-b413-e5cc353dc7fb"
      },
      "execution_count": null,
      "outputs": [
        {
          "output_type": "execute_result",
          "data": {
            "text/plain": [
              "True"
            ]
          },
          "metadata": {},
          "execution_count": 42
        }
      ]
    },
    {
      "cell_type": "markdown",
      "source": [
        "## Time and Space Complexity - Solution 2\n",
        "\n",
        "* The time complexity of this modified function is `O(n)`, where `n` is the length of the input string `s`. \n",
        "\n",
        " This is because the concatenation `s + s` takes `O(n)` time, and the `in` operator used to check if `goal` is a substring of `s + s` also takes `O(n)` time. Since these two operations are executed once each, the overall time complexity is `O(n)`.\n",
        "\n",
        "* The space complexity of this function is `O(n)`, where `n` is the length of the input string `s`. \n",
        "\n",
        " This is because the concatenation of `s + s` requires an additional memory space of `O(n)`, which is proportional to the size of the input. "
      ],
      "metadata": {
        "id": "1BPZL3BNc-IU"
      }
    },
    {
      "cell_type": "markdown",
      "source": [
        "#**724. Find Pivot Index** `Easy`\n",
        "\n",
        "https://leetcode.com/problems/find-pivot-index/\n",
        "\n",
        "Given an array of integers `nums`, calculate the pivot index of this array.\n",
        "\n",
        "The pivot index is the index where the sum of all the numbers strictly to the left of the index is equal to the sum of all the numbers strictly to the index's right.\n",
        "\n",
        "If the index is on the left edge of the array, then the left sum is 0 because there are no elements to the left. This also applies to the right edge of the array.\n",
        "\n",
        "Return the leftmost pivot index. If no such index exists, return -1.\n",
        "\n",
        " \n",
        "```\n",
        "Example:\n",
        "\n",
        "Input: nums = [1,7,3,6,5,6]\n",
        "Output: 3\n",
        "Explanation:\n",
        "The pivot index is 3.\n",
        "Left sum = nums[0] + nums[1] + nums[2] = 1 + 7 + 3 = 11\n",
        "Right sum = nums[4] + nums[5] = 5 + 6 = 11\n",
        "```"
      ],
      "metadata": {
        "id": "Lmr9YsgLb4IB"
      }
    },
    {
      "cell_type": "code",
      "source": [
        "def pivotIndex(nums) -> int:\n",
        "    prev = 0\n",
        "    n = len(nums)\n",
        "    prefixSum = [0]\n",
        "    \n",
        "    for i in range(n-1):\n",
        "        prev += nums[i]\n",
        "        prefixSum.append(prev)\n",
        "\n",
        "    for i, prefix in enumerate(prefixSum):\n",
        "        if sum(nums) - prefix - nums[i] == prefix:\n",
        "            return i\n",
        "    return -1  "
      ],
      "metadata": {
        "id": "16N60hHudiyE"
      },
      "execution_count": null,
      "outputs": []
    },
    {
      "cell_type": "code",
      "source": [
        "nums = [1,7,3,6,5,6]\n",
        "pivotIndex(nums)"
      ],
      "metadata": {
        "colab": {
          "base_uri": "https://localhost:8080/"
        },
        "id": "-h3xkRIhcsKA",
        "outputId": "5bf57561-c269-41ec-f600-e326ecc6d843"
      },
      "execution_count": null,
      "outputs": [
        {
          "output_type": "execute_result",
          "data": {
            "text/plain": [
              "3"
            ]
          },
          "metadata": {},
          "execution_count": 3
        }
      ]
    },
    {
      "cell_type": "markdown",
      "source": [
        "## Time and Space Complexity\n",
        "* The time complexity of this function is `O(n)`, where `n` is the length of the input array `nums`.\n",
        "\n",
        " This is because the function performs two passes over the array, where the first pass involves computing the prefix sum of the array, which takes O(n) time, and the second pass involves checking for the pivot index, which also takes `O(n)` time in the worst case.\n",
        "\n",
        "* The space complexity of this function is `O(n)`, where `n` is the length of the input array `nums`.\n",
        "\n",
        " This is because the function creates an additional array `prefixSum` of size `n+1` to store the prefix sum of the input array."
      ],
      "metadata": {
        "id": "4jg17aPSdMBW"
      }
    },
    {
      "cell_type": "markdown",
      "source": [
        "#**121. Best Time to Buy and Sell Stock** `Easy`\n",
        "\n",
        "https://leetcode.com/problems/best-time-to-buy-and-sell-stock/\n",
        "\n",
        "You are given an array prices where `prices[i]` is the price of a given stock on the `i`th day.\n",
        "\n",
        "You want to maximize your profit by choosing a single day to buy one stock and choosing a different day in the future to sell that stock.\n",
        "\n",
        "Return the maximum profit you can achieve from this transaction. If you cannot achieve any profit, return 0.\n",
        "\n",
        "```\n",
        "Example 1:\n",
        "Input: prices = [7,1,5,3,6,4]\n",
        "Output: 5\n",
        "Explanation: Buy on day 2 (price = 1) and sell on day 5 (price = 6), profit = 6-1 = 5.\n",
        "Note that buying on day 2 and selling on day 1 is not allowed because you must buy before you sell.\n",
        "\n",
        "Example 2:\n",
        "Input: prices = [7,6,4,3,1]\n",
        "Output: 0\n",
        "Explanation: In this case, no transactions are done and the max profit = 0.\n",
        "```"
      ],
      "metadata": {
        "id": "eWd3vhm-jNIt"
      }
    },
    {
      "cell_type": "code",
      "source": [
        "def maxProfit(prices):\n",
        "    minprice = prices[0]\n",
        "    maxprofit = 0\n",
        "    \n",
        "    for i in range(len(prices)):\n",
        "        if prices[i] < minprice:\n",
        "            minprice = prices[i]\n",
        "        if prices[i] - minprice > maxprofit:\n",
        "            maxprofit = prices[i] - minprice\n",
        "    return maxprofit"
      ],
      "metadata": {
        "id": "mBDuLqm9dY-p"
      },
      "execution_count": null,
      "outputs": []
    },
    {
      "cell_type": "code",
      "source": [
        "prices = [7,1,5,3,6,4]\n",
        "maxProfit(prices)"
      ],
      "metadata": {
        "colab": {
          "base_uri": "https://localhost:8080/"
        },
        "id": "4kUoHv82n5dD",
        "outputId": "461b8b72-229f-4721-d519-686b04eafb18"
      },
      "execution_count": null,
      "outputs": [
        {
          "output_type": "execute_result",
          "data": {
            "text/plain": [
              "5"
            ]
          },
          "metadata": {},
          "execution_count": 6
        }
      ]
    },
    {
      "cell_type": "markdown",
      "source": [
        "## Time and Space Compexity\n",
        "\n",
        "* The time complexity of this function is `O(n)`, where `n` is the length of the input array `prices`.\n",
        "\n",
        " This is because the function only performs a single pass over the array, where it compares the current price to the minimum price seen so far, and then updates the maximum profit accordingly.\n",
        "\n",
        "* The space complexity of this function is `O(1)`, as it uses a constant amount of extra space throughout its execution.\n",
        "\n",
        " Specifically, it uses two variables `minprice` and `maxprofit` to keep track of the minimum price seen so far and the maximum profit that can be made, respectively. As the size of the input array increases, the function does not require any additional space, and hence its space complexity is constant."
      ],
      "metadata": {
        "id": "PahysA21oNMU"
      }
    },
    {
      "cell_type": "markdown",
      "source": [
        "#**2016. Maximum Difference Between Increasing Elements** `Easy`\n",
        "\n",
        "https://leetcode.com/problems/maximum-difference-between-increasing-elements/\n",
        "\n",
        "Given a 0-indexed integer array `nums` of size `n`, find the maximum difference between `nums[i]` and `nums[j]` (i.e., `nums[j] - nums[i]`), such that `0 <= i < j < n` and `nums[i] < nums[j]`.\n",
        "\n",
        "Return the maximum difference. If no such `i` and `j` exists, return `-1`.\n",
        "\n",
        " \n",
        "```\n",
        "Example 1:\n",
        "Input: nums = [7,1,5,4]\n",
        "Output: 4\n",
        "Explanation:\n",
        "The maximum difference occurs with i = 1 and j = 2, nums[j] - nums[i] = 5 - 1 = 4.\n",
        "Note that with i = 1 and j = 0, the difference nums[j] - nums[i] = 7 - 1 = 6, but i > j, so it is not valid.\n",
        "\n",
        "Example 2:\n",
        "Input: nums = [9,4,3,2]\n",
        "Output: -1\n",
        "Explanation:\n",
        "There is no i and j such that i < j and nums[i] < nums[j].\n",
        "\n",
        "Example 3:\n",
        "Input: nums = [1,5,2,10]\n",
        "Output: 9\n",
        "Explanation:\n",
        "The maximum difference occurs with i = 0 and j = 3, nums[j] - nums[i] = 10 - 1 = 9.\n",
        "```"
      ],
      "metadata": {
        "id": "ZH1AXW-1pGGo"
      }
    },
    {
      "cell_type": "code",
      "source": [
        "def maximumDifference(nums):\n",
        "    ans = -1\n",
        "    min_so_far = nums[0]\n",
        "    \n",
        "    for i in range(len(nums)):\n",
        "        ans = max(ans, nums[i] - min_so_far)\n",
        "        min_so_far = min(min_so_far, nums[i])\n",
        "\n",
        "    return ans if ans != 0 else -1"
      ],
      "metadata": {
        "id": "5Q_g_nksn7Z7"
      },
      "execution_count": null,
      "outputs": []
    },
    {
      "cell_type": "code",
      "source": [
        "nums = [1,5,2,10]\n",
        "maximumDifference(nums)"
      ],
      "metadata": {
        "colab": {
          "base_uri": "https://localhost:8080/"
        },
        "id": "A_I3_CT9qKUG",
        "outputId": "bde769a2-f05d-40d2-8901-27fd27435a32"
      },
      "execution_count": null,
      "outputs": [
        {
          "output_type": "execute_result",
          "data": {
            "text/plain": [
              "9"
            ]
          },
          "metadata": {},
          "execution_count": 8
        }
      ]
    },
    {
      "cell_type": "markdown",
      "source": [
        "## Time and Space Complexity\n",
        "\n",
        "* The time complexity of this function is `O(n)`, where `n` is the length of the input array `nums`.\n",
        "\n",
        " This is because the function performs a single pass over the array, where it updates two variables `ans` and `min_so_far` at each iteration. The time complexity of each iteration is `O(1)`, as it only involves simple arithmetic operations and comparisons.\n",
        "\n",
        "* The space complexity of this function is `O(1)`, as it uses a constant amount of extra space throughout its execution. \n",
        "\n",
        " Specifically, it uses two variables `ans` and `min_so_far` to keep track of the maximum difference seen so far and the minimum number seen so far, respectively. As the size of the input array increases, the function does not require any additional space, and hence its space complexity is constant."
      ],
      "metadata": {
        "id": "NUkH6r3yqe_P"
      }
    },
    {
      "cell_type": "markdown",
      "source": [
        "#**70. Climbing Stairs** `Easy`\n",
        "\n",
        "https://leetcode.com/problems/climbing-stairs/\n",
        "\n",
        "You are climbing a staircase. It takes `n` steps to reach the top.\n",
        "\n",
        "Each time you can either climb 1 or 2 steps. In how many distinct ways can you climb to the top?\n",
        "\n",
        "``` \n",
        "Example 1:\n",
        "Input: n = 2\n",
        "Output: 2\n",
        "Explanation: There are two ways to climb to the top.\n",
        "1. 1 step + 1 step\n",
        "2. 2 steps\n",
        "\n",
        "Example 2:\n",
        "Input: n = 3\n",
        "Output: 3\n",
        "Explanation: There are three ways to climb to the top.\n",
        "1. 1 step + 1 step + 1 step\n",
        "2. 1 step + 2 steps\n",
        "3. 2 steps + 1 step\n",
        "```"
      ],
      "metadata": {
        "id": "Sc6fw9F9rImr"
      }
    },
    {
      "cell_type": "code",
      "source": [
        "# Time O(n), Space O(n)\n",
        "\n",
        "def climbStairs1(n):\n",
        "    dp = [0] * (n+1)\n",
        "    dp[0] = 1\n",
        "    dp[1] = 1\n",
        "    \n",
        "    for i in range(2,n+1):\n",
        "        dp[i] = dp[i-2] + dp[i-1]\n",
        "        \n",
        "    return dp[n]"
      ],
      "metadata": {
        "id": "DKsuNRjoqvsU"
      },
      "execution_count": null,
      "outputs": []
    },
    {
      "cell_type": "code",
      "source": [
        "climbStairs1(3)"
      ],
      "metadata": {
        "colab": {
          "base_uri": "https://localhost:8080/"
        },
        "id": "bnjBGVQ8s1Ge",
        "outputId": "cd66bd5a-9d1e-41a0-ca04-9330095b20fe"
      },
      "execution_count": null,
      "outputs": [
        {
          "output_type": "execute_result",
          "data": {
            "text/plain": [
              "3"
            ]
          },
          "metadata": {},
          "execution_count": 13
        }
      ]
    },
    {
      "cell_type": "code",
      "source": [
        "# Time O(n), Space O(1)\n",
        "\n",
        "def climbStairs2(n):\n",
        "    if n == 1:\n",
        "        return 1\n",
        "        \n",
        "    first = 1\n",
        "    second = 2\n",
        "\n",
        "    for i in range(3,n+1):\n",
        "        third = first + second\n",
        "        first, second = second, third\n",
        "\n",
        "    return second   "
      ],
      "metadata": {
        "id": "DTa_s5Nms39p"
      },
      "execution_count": null,
      "outputs": []
    },
    {
      "cell_type": "code",
      "source": [
        "climbStairs2(3)"
      ],
      "metadata": {
        "colab": {
          "base_uri": "https://localhost:8080/"
        },
        "id": "aKdEtZ2PtvKY",
        "outputId": "f80fbafd-9f92-419d-87ce-f727102bbdf7"
      },
      "execution_count": null,
      "outputs": [
        {
          "output_type": "execute_result",
          "data": {
            "text/plain": [
              "3"
            ]
          },
          "metadata": {},
          "execution_count": 17
        }
      ]
    },
    {
      "cell_type": "markdown",
      "source": [
        "See [Closed-form expression for `n`th Fibonnaci number](https://en.wikipedia.org/wiki/Fibonacci_number#Closed-form_expression)."
      ],
      "metadata": {
        "id": "YiyqyQlmusk4"
      }
    },
    {
      "cell_type": "code",
      "source": [
        "# Time O(1), Space O(1)\n",
        "import math\n",
        "\n",
        "def climbStairs3(n):\n",
        "    sqrt5 = math.sqrt(5)\n",
        "    phi = (1 + sqrt5) / 2\n",
        "    psi = (1 - sqrt5) / 2\n",
        "    return int((math.pow(phi, n + 1) - math.pow(psi, n + 1)) / sqrt5)"
      ],
      "metadata": {
        "id": "qdHgKP_XulI8"
      },
      "execution_count": null,
      "outputs": []
    },
    {
      "cell_type": "code",
      "source": [
        "climbStairs3(3)"
      ],
      "metadata": {
        "colab": {
          "base_uri": "https://localhost:8080/"
        },
        "id": "NC_nA1whvmFk",
        "outputId": "ac43c17d-057b-4a50-d536-841932054ce7"
      },
      "execution_count": null,
      "outputs": [
        {
          "output_type": "execute_result",
          "data": {
            "text/plain": [
              "3"
            ]
          },
          "metadata": {},
          "execution_count": 24
        }
      ]
    },
    {
      "cell_type": "markdown",
      "source": [
        "## Time and Space Complexity\n",
        "\n",
        "* In Python, the `math.pow` function has a time complexity of `O(1)`, and not `O(log n)`, as it is implemented using a C library function that directly computes the power of the input numbers.\n",
        "\n",
        " Therefore, the time complexity of the `climbStairs3` function is `O(1)`, as it involves only a constant number of arithmetic operations, square root computations, and a single call to `math.pow`, each of which takes constant time. \n",
        "\n",
        "* The space complexity of the function is `O(1)`, as it uses a constant amount of extra space throughout its execution, regardless of the value of the input n."
      ],
      "metadata": {
        "id": "EuzlkcYxye85"
      }
    },
    {
      "cell_type": "markdown",
      "source": [
        "#**1. Two Sum** `Easy`\n",
        "\n",
        "https://leetcode.com/problems/two-sum/\n",
        "\n",
        "Given an array of integers `nums` and an integer `target`, return indices of the two numbers such that they add up to target.\n",
        "\n",
        "You may assume that each input would have exactly one solution, and you may not use the same element twice.\n",
        "\n",
        "You can return the answer in any order.\n",
        "\n",
        " \n",
        "```\n",
        "Example 1:\n",
        "Input: nums = [2,7,11,15], target = 9\n",
        "Output: [0,1]\n",
        "Explanation: Because nums[0] + nums[1] == 9, we return [0, 1].\n",
        "\n",
        "Example 2:\n",
        "Input: nums = [3,2,4], target = 6\n",
        "Output: [1,2]\n",
        "\n",
        "Example 3:\n",
        "Input: nums = [3,3], target = 6\n",
        "Output: [0,1]\n",
        "```"
      ],
      "metadata": {
        "id": "gWSDigMPPP98"
      }
    },
    {
      "cell_type": "code",
      "source": [
        "def twoSum(nums, target):\n",
        "    seen = dict()\n",
        "\n",
        "    for i,num in enumerate(nums):\n",
        "        diff = target - num\n",
        "        if diff in seen:\n",
        "            return [seen[diff], i]\n",
        "        seen[num] = i "
      ],
      "metadata": {
        "id": "ZSutemXHyshn"
      },
      "execution_count": null,
      "outputs": []
    },
    {
      "cell_type": "code",
      "source": [
        "nums = [2,7,11,15]\n",
        "target = 9\n",
        "twoSum(nums, target)"
      ],
      "metadata": {
        "colab": {
          "base_uri": "https://localhost:8080/"
        },
        "id": "SaSDrNNsQz-D",
        "outputId": "8293ec80-096c-40d4-82a4-898fbf2f2506"
      },
      "execution_count": null,
      "outputs": [
        {
          "output_type": "execute_result",
          "data": {
            "text/plain": [
              "[0, 1]"
            ]
          },
          "metadata": {},
          "execution_count": 2
        }
      ]
    },
    {
      "cell_type": "markdown",
      "source": [
        "## Time and Space Complexity:\n",
        "\n",
        "\n",
        "* The time complexity is `O(n)`, where `n` is the length of the `nums` list.\n",
        "\n",
        " The function uses a dictionary `seen` to keep track of seen elements and their indices. It iterates over each element in the `nums` list once using the for loop and checks if the difference between the target and the current element is in the `seen` dictionary using the `in` operator.\n",
        "Checking for the presence of an element in a dictionary is an `O(1)` operation on average.\n",
        "\n",
        "* The space complexity is `O(n)`.\n",
        "\n",
        " The function uses a dictionary `seen` to keep track of seen elements and their indices. The size of the seen dictionary can be at most `n`, where `n` is the length of the `nums` list.\n"
      ],
      "metadata": {
        "id": "-cV_ngQlRVcn"
      }
    },
    {
      "cell_type": "markdown",
      "source": [
        "#**141. Linked List Cycle** `Easy`\n",
        "\n",
        "https://leetcode.com/problems/linked-list-cycle/\n",
        "\n",
        "Given `head`, the head of a linked list, determine if the linked list has a cycle in it.\n",
        "\n",
        "There is a cycle in a linked list if there is some node in the list that can be reached again by continuously following the next pointer. Internally, pos is used to denote the index of the node that tail's next pointer is connected to. Note that pos is not passed as a parameter.\n",
        "\n",
        "Return `true` if there is a cycle in the linked list. Otherwise, return `false`.\n",
        "\n",
        "```\n",
        "Example 1:\n",
        "\n",
        "Input: head = [3,2,0,-4], pos = 1\n",
        "Output: true\n",
        "Explanation: There is a cycle in the linked list, where the tail connects to the 1st node (0-indexed).\n",
        "\n",
        "Example 2:\n",
        "Input: head = [1,2], pos = 0\n",
        "Output: true\n",
        "Explanation: There is a cycle in the linked list, where the tail connects to the 0th node.\n",
        "\n",
        "Example 3:\n",
        "Input: head = [1], pos = -1\n",
        "Output: false\n",
        "Explanation: There is no cycle in the linked list.\n",
        "```"
      ],
      "metadata": {
        "id": "fCX0vFJJTGyp"
      }
    },
    {
      "cell_type": "code",
      "source": [
        "# Definition for singly-linked list.\n",
        "class ListNode:\n",
        "    def __init__(self, x):\n",
        "        self.val = x\n",
        "        self.next = None\n",
        "\n",
        "def hasCycle1(head):\n",
        "    seen = set()\n",
        "    cur = head\n",
        "    while cur:\n",
        "        if cur in seen:\n",
        "            return True\n",
        "        seen.add(cur)\n",
        "        cur = cur.next\n",
        "    return False "
      ],
      "metadata": {
        "id": "jkCSKJzXR-_k"
      },
      "execution_count": null,
      "outputs": []
    },
    {
      "cell_type": "markdown",
      "source": [
        "## Time and Space Complexity - Solution 1\n",
        "\n",
        "The time and space complexity of the given function `hasCycle1` can be analyzed as follows:\n",
        "\n",
        "* Time Complexity: `O(n)`, where `n` is the number of nodes in the linked list.\n",
        "\n",
        " The function uses a while loop to iterate through each node in the linked list until it reaches the end of the list or finds a cycle.\n",
        "\n",
        " Inside the while loop, it performs constant time operations such as checking if the current node is in the seen set and adding the current node to the seen set.\n",
        "Checking for the presence of an element in a set is an `O(1)` operation on average, and adding an element to a set is also an `O(1)` operation on average.\n",
        "\n",
        "\n",
        "* Space Complexity: `O(n)`, where `n` is the number of nodes in the linked list.\n",
        "\n",
        " The function uses a set `seen` to keep track of visited nodes.\n",
        "The size of the seen set can be at most `n`."
      ],
      "metadata": {
        "id": "E3ty3alseASE"
      }
    },
    {
      "cell_type": "code",
      "source": [
        "def hasCycle2(head):\n",
        "\n",
        "    slow = head\n",
        "    fast = head\n",
        "\n",
        "    while fast and fast.next:\n",
        "        slow = slow.next\n",
        "        fast = fast.next.next  \n",
        "        if slow == fast:\n",
        "            return True   \n",
        "\n",
        "    return False   "
      ],
      "metadata": {
        "id": "pT26Nc4fesaI"
      },
      "execution_count": null,
      "outputs": []
    },
    {
      "cell_type": "code",
      "source": [
        "# head = [3,2,0,-4], pos = 1\n",
        "head = ListNode(3)\n",
        "node1 = ListNode(2)\n",
        "node2 = ListNode(0)\n",
        "node3 = ListNode(-4)\n",
        "\n",
        "head.next = node1\n",
        "node1.next = node2\n",
        "node2.next = node3\n",
        "node3.next = node1"
      ],
      "metadata": {
        "id": "0w7RKpugbWS3"
      },
      "execution_count": null,
      "outputs": []
    },
    {
      "cell_type": "code",
      "source": [
        "hasCycle2(head)"
      ],
      "metadata": {
        "colab": {
          "base_uri": "https://localhost:8080/"
        },
        "id": "f7AaDvKWc0OD",
        "outputId": "4f5f50aa-01c5-45cb-c305-0858d015affe"
      },
      "execution_count": null,
      "outputs": [
        {
          "output_type": "execute_result",
          "data": {
            "text/plain": [
              "True"
            ]
          },
          "metadata": {},
          "execution_count": 23
        }
      ]
    },
    {
      "cell_type": "markdown",
      "source": [
        "## Time and Space Complexity - Solution 2\n",
        "\n",
        "The time and space complexity of the given function `hasCycle2` can be analyzed as follows:\n",
        "\n",
        "* Time Complexity: `O(n)`, where `n` is the number of nodes in the linked list.\n",
        "\n",
        " The function uses two pointers, `slow` and `fast`, to traverse the linked list.\n",
        "The while loop condition checks if both `fast` and `fast.next` are not None, which is equivalent to traversing the linked list until the end or finding a cycle.\n",
        "Inside the loop, the `slow` pointer moves one step and the `fast` pointer moves two steps per iteration. The maximum number of iterations of the while loop is `O(n)`, where `n` is the number of nodes in the linked list, since in the worst case scenario, when there is no cycle, the `fast` pointer will reach the end of the linked list after `n/2` iterations.\n",
        "\n",
        "* Space Complexity: `O(1)`\n",
        "\n",
        " The function uses only two pointers, `slow` and `fast`."
      ],
      "metadata": {
        "id": "zfcYfWDahc7G"
      }
    },
    {
      "cell_type": "markdown",
      "source": [
        "#**88. Merge Sorted Array** `Easy`\n",
        "\n",
        "https://leetcode.com/problems/merge-sorted-array/\n",
        "\n",
        "You are given two integer arrays `nums1` and `nums2`, sorted in non-decreasing order, and two integers `m` and `n`, representing the number of elements in `nums1` and `nums2` respectively.\n",
        "\n",
        "Merge `nums1` and `nums2` into a single array sorted in non-decreasing order.\n",
        "\n",
        "The final sorted array should not be returned by the function, but instead be stored inside the array `nums1`. To accommodate this, nums1 has a length of `m + n`, where the first `m` elements denote the elements that should be merged, and the last `n` elements are set to `0` and should be ignored. `nums2` has a length of `n`.\n",
        "\n",
        " \n",
        "```\n",
        "Example:\n",
        "Input: nums1 = [1,2,3,0,0,0], m = 3, nums2 = [2,5,6], n = 3\n",
        "Output: [1,2,2,3,5,6]\n",
        "Explanation: The arrays we are merging are [1,2,3] and [2,5,6].\n",
        "The result of the merge is [1,2,2,3,5,6] with the underlined elements coming from nums1.\n",
        "```"
      ],
      "metadata": {
        "id": "dSu87blZil8k"
      }
    },
    {
      "cell_type": "code",
      "source": [
        "def merge(nums1, m, nums2, n):\n",
        "    \"\"\"\n",
        "    Do not return anything, modify nums1 in-place instead.\n",
        "    \"\"\"\n",
        "\n",
        "    while m > 0 and n > 0:\n",
        "        # nums1 = [1,2,3,0,  0,  0]\n",
        "        #             m-1      m+n-1\n",
        "        # nums2 = [2,5,6]\n",
        "        #             n-1\n",
        "        if nums1[m-1] < nums2[n-1]:\n",
        "            nums1[m+n-1] = nums2[n-1]\n",
        "            n -= 1\n",
        "        else:\n",
        "            nums1[m+n-1] = nums1[m-1]\n",
        "            m -= 1\n",
        "    if n > 0:\n",
        "        nums1[:n] = nums2[:n]    "
      ],
      "metadata": {
        "id": "VcWaHtm_iHOG"
      },
      "execution_count": null,
      "outputs": []
    },
    {
      "cell_type": "code",
      "source": [
        "nums1 = [1,2,3,0,0,0]\n",
        "m = 3\n",
        "nums2 = [2,5,6]\n",
        "n = 3\n",
        "merge(nums1, m, nums2, n)\n",
        "print(nums1)"
      ],
      "metadata": {
        "colab": {
          "base_uri": "https://localhost:8080/"
        },
        "id": "reaSGFAUJrZx",
        "outputId": "2d52f5a1-8aa4-466f-ba64-af53a0d993c0"
      },
      "execution_count": null,
      "outputs": [
        {
          "output_type": "stream",
          "name": "stdout",
          "text": [
            "[1, 2, 2, 3, 5, 6]\n"
          ]
        }
      ]
    },
    {
      "cell_type": "markdown",
      "source": [
        "## Time and Space Complexity\n",
        "\n",
        "* Time complexity: `O(m+n)`\n",
        "\n",
        " The while loop iterates `m+n` times at most because at each iteration we decrement either `m` or `n`. \n",
        "\n",
        "* Space complexity: `O(1)`\n",
        "\n",
        " The function modifies the input array `nums1` in place and only uses constant extra space, regardless of the size of the input arrays. "
      ],
      "metadata": {
        "id": "0GfMbKTdKVMt"
      }
    },
    {
      "cell_type": "markdown",
      "source": [
        "#**125. Valid Palindrome** `Easy`\n",
        "\n",
        "https://leetcode.com/problems/valid-palindrome/\n",
        "\n",
        "A phrase is a palindrome if, after converting all uppercase letters into lowercase letters and removing all non-alphanumeric characters, it reads the same forward and backward. Alphanumeric characters include letters and numbers.\n",
        "\n",
        "Given a string `s`, return `true` if it is a palindrome, or `false` otherwise.\n",
        "\n",
        " \n",
        "```\n",
        "Example 1:\n",
        "Input: s = \"A man, a plan, a canal: Panama\"\n",
        "Output: true\n",
        "Explanation: \"amanaplanacanalpanama\" is a palindrome.\n",
        "\n",
        "Example 2:\n",
        "Input: s = \"race a car\"\n",
        "Output: false\n",
        "Explanation: \"raceacar\" is not a palindrome.\n",
        "```"
      ],
      "metadata": {
        "id": "3i0-YstALITF"
      }
    },
    {
      "cell_type": "code",
      "source": [
        "\n",
        "def isPalindrome(s):\n",
        "    left, right = 0, len(s) - 1\n",
        "\n",
        "    while left < right:\n",
        "        if not s[left].isalnum():\n",
        "            left += 1\n",
        "            continue\n",
        "        if not s[right].isalnum():\n",
        "            right -= 1\n",
        "            continue\n",
        "        if s[left].lower() != s[right].lower():\n",
        "            return False\n",
        "        left += 1\n",
        "        right -= 1\n",
        "    return True                \n"
      ],
      "metadata": {
        "id": "OGmFFMa-KmMG"
      },
      "execution_count": null,
      "outputs": []
    },
    {
      "cell_type": "code",
      "source": [
        "s = \"A man, a plan, a canal: Panama\"\n",
        "isPalindrome(s)"
      ],
      "metadata": {
        "colab": {
          "base_uri": "https://localhost:8080/"
        },
        "id": "aIe-laLE3vmY",
        "outputId": "7ab406a4-b758-4009-9eb6-eb34f4acc469"
      },
      "execution_count": null,
      "outputs": [
        {
          "output_type": "execute_result",
          "data": {
            "text/plain": [
              "True"
            ]
          },
          "metadata": {},
          "execution_count": 3
        }
      ]
    },
    {
      "cell_type": "code",
      "source": [
        "s = \"race a car\"\n",
        "isPalindrome(s)"
      ],
      "metadata": {
        "colab": {
          "base_uri": "https://localhost:8080/"
        },
        "id": "MFuy8A0S30Nk",
        "outputId": "d196de6f-371c-44b6-f468-7c0020a7aba8"
      },
      "execution_count": null,
      "outputs": [
        {
          "output_type": "execute_result",
          "data": {
            "text/plain": [
              "False"
            ]
          },
          "metadata": {},
          "execution_count": 4
        }
      ]
    },
    {
      "cell_type": "markdown",
      "source": [
        "## Time and Space Complexity\n",
        "\n",
        "* Time complexity: `O(n)`, where `n` is the length of the input string `s`.\n",
        "\n",
        " This is because the function iterates through the string `s` once using a while loop, and each iteration of the loop performs a constant amount of work that does not depend on the size of the input. Specifically, each iteration either increments or decrements the left or right index, or compares two characters in the string.\n",
        "\n",
        "* Space complexity: `O(1)`\n",
        "\n",
        " This is because the function only uses a fixed number of variables to keep track of the left and right indices and to compare characters in the string. The amount of memory used by these variables does not increase with the size of the input string."
      ],
      "metadata": {
        "id": "qWJh1NcA4FXe"
      }
    },
    {
      "cell_type": "markdown",
      "source": [
        "#**278. First Bad Version** `Easy`\n",
        "\n",
        "https://leetcode.com/problems/first-bad-version/\n",
        "\n",
        "You are a product manager and currently leading a team to develop a new product. Unfortunately, the latest version of your product fails the quality check. Since each version is developed based on the previous version, all the versions after a bad version are also bad.\n",
        "\n",
        "Suppose you have `n` versions `[1, 2, ..., n]` and you want to find out the first bad one, which causes all the following ones to be bad.\n",
        "\n",
        "You are given an API bool isBadVersion(version) which returns whether version is bad. Implement a function to find the first bad version. You should minimize the number of calls to the API.\n",
        "\n",
        "```\n",
        "Example 1:\n",
        "Input: n = 5, bad = 4\n",
        "Output: 4\n",
        "Explanation:\n",
        "call isBadVersion(3) -> false\n",
        "call isBadVersion(5) -> true\n",
        "call isBadVersion(4) -> true\n",
        "Then 4 is the first bad version.\n",
        "\n",
        "Example 2:\n",
        "Input: n = 1, bad = 1\n",
        "Output: 1\n",
        "```"
      ],
      "metadata": {
        "id": "d9cH8O5a4t13"
      }
    },
    {
      "cell_type": "code",
      "source": [
        "# The isBadVersion API is already defined for you.\n",
        "def isBadVersion(version: int) -> bool:\n",
        "  pass\n",
        "\n",
        "def firstBadVersion(n):\n",
        "  lower_bound = 1\n",
        "  upper_bound = n\n",
        "  \n",
        "  while lower_bound < upper_bound:\n",
        "      mid = (upper_bound + lower_bound) // 2\n",
        "      if isBadVersion(mid):\n",
        "          upper_bound = mid\n",
        "      else:\n",
        "          lower_bound = mid + 1\n",
        "  return lower_bound  "
      ],
      "metadata": {
        "id": "Ld2woAp_4cke"
      },
      "execution_count": null,
      "outputs": []
    },
    {
      "cell_type": "markdown",
      "source": [
        "## Time and Space Complexity\n",
        "\n",
        "* Time complexity: `O(log n)`, where `n` is the value of the input integer `n`. \n",
        "\n",
        " This is because the function uses a binary search algorithm to find the first \"bad\" version, which means it cuts the search space in half at each iteration. \n",
        "\n",
        "* Space complexity: `O(1)` \n",
        "\n",
        " This is because the function only uses a fixed number of variables to keep track of the lower and upper bounds and the midpoint of the search space. The amount of memory used by these variables does not increase with the size of the input integer `n`.\n"
      ],
      "metadata": {
        "id": "fWkEIbjb7Dza"
      }
    },
    {
      "cell_type": "markdown",
      "source": [
        "#**14. Longest Common Prefix** `Easy`\n",
        "\n",
        "https://leetcode.com/problems/longest-common-prefix/\n",
        "\n",
        "Write a function to find the longest common prefix string amongst an array of strings.\n",
        "\n",
        "If there is no common prefix, return an empty string `\"\"`.\n",
        "\n",
        "```\n",
        "Example 1:\n",
        "Input: strs = [\"flower\",\"flow\",\"flight\"]\n",
        "Output: \"fl\"\n",
        "\n",
        "Example 2:\n",
        "Input: strs = [\"dog\",\"racecar\",\"car\"]\n",
        "Output: \"\"\n",
        "Explanation: There is no common prefix among the input strings.\n",
        "```"
      ],
      "metadata": {
        "id": "WTEsYWcv8Df4"
      }
    },
    {
      "cell_type": "code",
      "source": [
        "def longestCommonPrefix(strs):\n",
        "    res = \"\"\n",
        "    first = strs[0]\n",
        "    k = len(first)\n",
        "    \n",
        "    for i in range(k):\n",
        "        for s in strs:\n",
        "            if i == len(s) or s[i] != first[i]:\n",
        "                return res            \n",
        "        res += first[i]\n",
        "    return res  "
      ],
      "metadata": {
        "id": "o5jAmS-_5o_c"
      },
      "execution_count": null,
      "outputs": []
    },
    {
      "cell_type": "code",
      "source": [
        "strs = [\"flower\",\"flow\",\"flight\"]\n",
        "longestCommonPrefix(strs)"
      ],
      "metadata": {
        "colab": {
          "base_uri": "https://localhost:8080/",
          "height": 35
        },
        "id": "cWqe6U1g8kCp",
        "outputId": "ede5f907-b6a5-4474-e08b-634878239311"
      },
      "execution_count": null,
      "outputs": [
        {
          "output_type": "execute_result",
          "data": {
            "text/plain": [
              "'fl'"
            ],
            "application/vnd.google.colaboratory.intrinsic+json": {
              "type": "string"
            }
          },
          "metadata": {},
          "execution_count": 11
        }
      ]
    },
    {
      "cell_type": "markdown",
      "source": [
        "## Time and Space Complexity\n",
        "\n",
        "* Time complexity: `O(NM)`, where `N` is the number of strings in the input list `strs` and `M` is the length of the first string in the list. \n",
        "\n",
        " This is because the function iterates through each character in the first string of the list, which takes `O(M)` time. For each character in the first string, the function then iterates through each string in the list, which takes `O(N)` time. \n",
        "\n",
        "* Space complexity: `O(1)`\n",
        "\n",
        " The only additional memory used by the function is for the variables `res`, `first`, and `k`, all of which require constant space. The input list `strs` is not modified, and the function does not create any new data structures or variables that grow with the size of the input."
      ],
      "metadata": {
        "id": "G7cf-pLK8jVB"
      }
    },
    {
      "cell_type": "markdown",
      "source": [
        "#**20. Valid Parentheses** `Easy`\n",
        "\n",
        "https://leetcode.com/problems/valid-parentheses/\n",
        "\n",
        "Given a string s containing just the characters `'(', ')', '{', '}', '[' and ']'`, determine if the input string is valid.\n",
        "\n",
        "An input string is valid if:\n",
        "\n",
        "Open brackets must be closed by the same type of brackets.\n",
        "Open brackets must be closed in the correct order.\n",
        "Every close bracket has a corresponding open bracket of the same type.\n",
        " \n",
        "```\n",
        "Example 1:\n",
        "Input: s = \"()\"\n",
        "Output: true\n",
        "\n",
        "Example 2:\n",
        "Input: s = \"()[]{}\"\n",
        "Output: true\n",
        "\n",
        "Example 3:\n",
        "Input: s = \"(]\"\n",
        "Output: false\n",
        "```"
      ],
      "metadata": {
        "id": "0gpvQPO-5uRY"
      }
    },
    {
      "cell_type": "code",
      "source": [
        "def isValid(s):\n",
        "    stack = []\n",
        "\n",
        "    brackets = {\n",
        "        '(': ')',\n",
        "        '[': ']',\n",
        "        '{': '}',\n",
        "      }\n",
        "\n",
        "    for char in s:\n",
        "        if char in brackets:\n",
        "            stack.append(brackets[char])\n",
        "        elif not stack or char != stack.pop():\n",
        "            return False\n",
        "\n",
        "    return stack == []"
      ],
      "metadata": {
        "id": "NRnWWGnTWK1x"
      },
      "execution_count": null,
      "outputs": []
    },
    {
      "cell_type": "code",
      "source": [
        "s = \"()[]{}\"\n",
        "isValid(s)"
      ],
      "metadata": {
        "colab": {
          "base_uri": "https://localhost:8080/"
        },
        "id": "gZajrf9N7FCE",
        "outputId": "3186b813-86d0-4295-ea51-3cd1690df0c9"
      },
      "execution_count": null,
      "outputs": [
        {
          "output_type": "execute_result",
          "data": {
            "text/plain": [
              "True"
            ]
          },
          "metadata": {},
          "execution_count": 2
        }
      ]
    },
    {
      "cell_type": "code",
      "source": [
        "s = \"(]\"\n",
        "isValid(s)"
      ],
      "metadata": {
        "colab": {
          "base_uri": "https://localhost:8080/"
        },
        "id": "icgPQsrv7KFq",
        "outputId": "3f325981-8e6d-4ed6-f9d2-7526b703a214"
      },
      "execution_count": null,
      "outputs": [
        {
          "output_type": "execute_result",
          "data": {
            "text/plain": [
              "False"
            ]
          },
          "metadata": {},
          "execution_count": 3
        }
      ]
    },
    {
      "cell_type": "markdown",
      "source": [
        "## Time and Space Complexity\n",
        "\n",
        "* Time complexity: `O(n)`, where `n` is the length of the input string `s`.\n",
        "\n",
        " This is because the function iterates through each character in the string exactly once in the for loop. Each iteration takes constant time. Note that when a character is popped from the stack, it takes `O(1)` time. \n",
        "\n",
        "* Space complexity: `O(n)`\n",
        " \n",
        " This is because in the worst case scenario (when all characters in the input string are opening brackets), the stack will contain `n/2` elements. Therefore, the space required by the stack is proportional to the length of the input string.\n",
        "\n"
      ],
      "metadata": {
        "id": "___OjY8A76ak"
      }
    },
    {
      "cell_type": "markdown",
      "source": [
        "#**1784. Check if Binary String Has at Most One Segment of Ones** `Easy`\n",
        "\n",
        "https://leetcode.com/problems/check-if-binary-string-has-at-most-one-segment-of-ones/\n",
        "\n",
        "Given a binary string `s` ​​​​​without leading zeros, return `true​​​` if `s` contains at most one contiguous segment of ones. Otherwise, return `false`.\n",
        "\n",
        "``` \n",
        "Example 1:\n",
        "Input: s = \"1001\"\n",
        "Output: false\n",
        "Explanation: The ones do not form a contiguous segment.\n",
        "\n",
        "Example 2:\n",
        "Input: s = \"110\"\n",
        "Output: true\n",
        "```"
      ],
      "metadata": {
        "id": "4H5KArKl9xBn"
      }
    },
    {
      "cell_type": "code",
      "source": [
        "def checkOnesSegment(s) -> bool:\n",
        "    \n",
        "    if s == '1':\n",
        "        return True\n",
        "    \n",
        "    count_zeros = 0\n",
        "    \n",
        "    for i in range(len(s)): \n",
        "        if s[i] == '0':\n",
        "            count_zeros += 1\n",
        "        if s[i]=='1' and count_zeros != 0:\n",
        "            return False\n",
        "    return True"
      ],
      "metadata": {
        "id": "XGAeAmI88aXr"
      },
      "execution_count": null,
      "outputs": []
    },
    {
      "cell_type": "markdown",
      "source": [
        "## Time and Space Complexity\n",
        "\n",
        "* Time complexity: `O(n)`, where `n` is the length of the input string `s`.\n",
        "\n",
        " This is because the function iterates through each character in the string exactly once in the for loop. Each iteration takes constant time.\n",
        "\n",
        "* Space complexity: `O(1)`\n",
        "\n",
        " This is because the amount of extra space used by the function does not depend on the length of the input string. The only variables used are `count_zeros` and `i`, and both of them require constant space."
      ],
      "metadata": {
        "id": "czGdel29-cPs"
      }
    },
    {
      "cell_type": "markdown",
      "source": [
        "#**2047. Number of Valid Words in a Sentence** `Easy`\n",
        "\n",
        "https://leetcode.com/problems/number-of-valid-words-in-a-sentence/\n",
        "\n",
        "A sentence consists of lowercase letters (`'a'` to `'z'`), digits (`'0'` to `'9'`), hyphens (`'-'`), punctuation marks (`'!'`, `'.'`, and `','`), and spaces (`' '`) only. Each sentence can be broken down into one or more tokens separated by one or more spaces `' '`.\n",
        "\n",
        "A token is a valid word if all three of the following are true:\n",
        "\n",
        "* It only contains lowercase letters, hyphens, and/or punctuation (no digits).\n",
        "* There is at most one hyphen `'-'`. If present, it must be surrounded by lowercase characters (`\"a-b\"` is valid, but `\"-ab\"` and `\"ab-\"` are not valid).\n",
        "* There is at most one punctuation mark. If present, it must be at the end of the token (`\"ab,\"`, `\"cd!\"`, and `\".\"` are valid, but `\"a!b\"` and `\"c.,\"` are not valid).\n",
        "\n",
        "Examples of valid words include `\"a-b.\"`, `\"afad\"`, `\"ba-c\"`, `\"a!\"`, and `\"!\"`.\n",
        "\n",
        "Given a string sentence, return the number of valid words in sentence.\n",
        "\n",
        "```\n",
        "Example 1:\n",
        "Input: sentence = \"cat and  dog\"\n",
        "Output: 3\n",
        "Explanation: The valid words in the sentence are \"cat\", \"and\", and \"dog\".\n",
        "\n",
        "Example 2:\n",
        "Input: sentence = \"!this  1-s b8d!\"\n",
        "Output: 0\n",
        "Explanation: There are no valid words in the sentence.\n",
        "\"!this\" is invalid because it starts with a punctuation mark.\n",
        "\"1-s\" and \"b8d\" are invalid because they contain digits.\n",
        "\n",
        "Example 3:\n",
        "Input: sentence = \"alice and  bob are playing stone-game10\"\n",
        "Output: 5\n",
        "Explanation: The valid words in the sentence are \"alice\", \"and\", \"bob\", \"are\", and \"playing\".\n",
        "\"stone-game10\" is invalid because it contains digits.\n",
        "\n",
        "```"
      ],
      "metadata": {
        "id": "UY56ZE3L-lpm"
      }
    },
    {
      "cell_type": "code",
      "source": [
        "def countValidWords(sentence):\n",
        "\n",
        "    sentenceList = sentence.split(\" \")\n",
        "    validWords = 0 \n",
        "\n",
        "    for word in sentenceList:\n",
        "        \n",
        "        if word == \"\": \n",
        "            continue\n",
        "            \n",
        "        hyphenCount = 0\n",
        "        valid = True\n",
        "        \n",
        "        for idx, letter in enumerate(word):\n",
        "            \n",
        "            # It only contains lowercase letters, hyphens, and/or punctuation (no digits).    \n",
        "            if letter.isalpha(): \n",
        "                continue\n",
        "\n",
        "            if letter.isdigit():\n",
        "                valid = False\n",
        "                \n",
        "            elif letter == \"-\":\n",
        "                hyphenCount += 1 \n",
        "                \n",
        "                # There is at most one hyphen '-'. If present, it must be surrounded by lowercase characters \n",
        "                if hyphenCount>1:\n",
        "                    valid = False\n",
        "                    \n",
        "                elif idx == 0 or idx == len(word)-1:\n",
        "                    valid = False\n",
        "                \n",
        "                elif not word[idx-1].isalpha() or not word[idx+1].isalpha(): \n",
        "                    valid = False\n",
        "            # There is at most one punctuation mark. If present, it must be at the end of the token         \n",
        "            elif (letter  == \"!\" or letter ==\".\" or letter == \",\") and idx !=len(word)-1: \n",
        "                valid = False\n",
        "            \n",
        "            if not valid:\n",
        "                break\n",
        "\n",
        "        if valid:\n",
        "            validWords += 1\n",
        "            \n",
        "    return validWords"
      ],
      "metadata": {
        "id": "LrLqxEp7_dwo"
      },
      "execution_count": null,
      "outputs": []
    },
    {
      "cell_type": "code",
      "source": [
        "sentence = \"!this  1-s b8d!\"\n",
        "countValidWords(sentence)"
      ],
      "metadata": {
        "colab": {
          "base_uri": "https://localhost:8080/"
        },
        "id": "rK3EewL2ZONS",
        "outputId": "4d02883a-8067-4795-932f-6154c9341201"
      },
      "execution_count": null,
      "outputs": [
        {
          "output_type": "execute_result",
          "data": {
            "text/plain": [
              "0"
            ]
          },
          "metadata": {},
          "execution_count": 9
        }
      ]
    },
    {
      "cell_type": "markdown",
      "source": [
        "## Time and Space Complexity\n",
        "\n",
        "* Time complexity: `O(n*m)`, where `n` is the number of words in the input sentence and `m` is the average length of each word. \n",
        "\n",
        " This is because the code iterates over each word in the input sentence and performs a nested iteration over each letter in the word. The number of iterations in the inner loop is at most `m`, and the outer loop is executed `n` times.\n",
        "\n",
        "* Space complexity: `O(1)`\n",
        "\n",
        " This is because the amount of memory used by the algorithm does not depend on the size of the input sentence. The algorithm only uses a fixed number of variables to keep track of the current word being processed, the number of hyphens in the word, and whether the word is valid or not. The size of these variables does not change as the input size increases, so the space complexity is constant."
      ],
      "metadata": {
        "id": "-SNNbOHH-l16"
      }
    },
    {
      "cell_type": "code",
      "source": [],
      "metadata": {
        "id": "NXQvxZGmax6C"
      },
      "execution_count": null,
      "outputs": []
    }
  ]
}