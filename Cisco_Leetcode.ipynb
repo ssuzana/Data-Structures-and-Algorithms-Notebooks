{
  "nbformat": 4,
  "nbformat_minor": 0,
  "metadata": {
    "colab": {
      "provenance": [],
      "authorship_tag": "ABX9TyMrVqX9sfXCtnTcoxstSuFY",
      "include_colab_link": true
    },
    "kernelspec": {
      "name": "python3",
      "display_name": "Python 3"
    },
    "language_info": {
      "name": "python"
    }
  },
  "cells": [
    {
      "cell_type": "markdown",
      "metadata": {
        "id": "view-in-github",
        "colab_type": "text"
      },
      "source": [
        "<a href=\"https://colab.research.google.com/github/ssuzana/Data-Structures-and-Algorithms-Notebooks/blob/main/Cisco_Leetcode.ipynb\" target=\"_parent\"><img src=\"https://colab.research.google.com/assets/colab-badge.svg\" alt=\"Open In Colab\"/></a>"
      ]
    },
    {
      "cell_type": "markdown",
      "source": [
        "This is a set of Leetcode problems that have been marked as seen in interviews with Cisco.\n",
        "\n",
        "* [1290. Convert Binary Number in a Linked List to Integer](https://leetcode.com/problems/convert-binary-number-in-a-linked-list-to-integer/) `[1]`\n",
        "\n",
        "* [344. Reverse String](https://leetcode.com/problems/reverse-string/) `[2]`\n",
        "\n",
        "* [206. Reverse Linked List](https://leetcode.com/problems/reverse-linked-list/) `[3]`\n",
        "\n",
        "* [977. Squares of a Sorted Array](https://leetcode.com/problems/squares-of-a-sorted-array/) `[4]`\n",
        "\n",
        "* [412. Fizz Buzz](https://leetcode.com/problems/fizz-buzz/) `[5]`\n",
        "\n",
        "* [1636. Sort Array by Increasing Frequency](https://leetcode.com/problems/sort-array-by-increasing-frequency/) `[6]`\n",
        "\n",
        "* [191. Number of 1 Bits](https://leetcode.com/problems/number-of-1-bits/) `[7]`\n",
        "\n",
        "* [242. Valid Anagram](https://leetcode.com/problems/valid-anagram/) `[8]`\n",
        "\n",
        "* [268. Missing Number](https://leetcode.com/problems/missing-number/) `[9]`\n",
        "\n",
        "* [1854. Maximum Population Year](https://leetcode.com/problems/maximum-population-year/) `[10]`\n",
        "\n",
        "* [796. Rotate String](https://leetcode.com/problems/rotate-string/) `[11]`\n"
      ],
      "metadata": {
        "id": "mas4Pt7okcEj"
      }
    },
    {
      "cell_type": "markdown",
      "source": [
        "#**1290. Convert Binary Number in a Linked List to Integer** `Easy`\n",
        "\n",
        "Given `head` which is a reference node to a singly-linked list. The value of each node in the linked list is either 0 or 1. The linked list holds the binary representation of a number.\n",
        "\n",
        "Return the decimal value of the number in the linked list.\n",
        "\n",
        "The most significant bit is at the head of the linked list.\n",
        "\n",
        "```\n",
        "Example:\n",
        "Input: head = [1,0,1]\n",
        "Output: 5\n",
        "Explanation: (101) in base 2 = (5) in base 10\n",
        "```\n",
        "\n",
        "Constraints:\n",
        "\n",
        "* The Linked List is not empty.\n",
        "\n",
        "* Number of nodes will not exceed 30.\n",
        "\n",
        "* Each node's value is either 0 or 1."
      ],
      "metadata": {
        "id": "m-m9WhIYjwPc"
      }
    },
    {
      "cell_type": "markdown",
      "source": [
        "## Converting decimal integer to binary\n",
        "\n",
        "To convert integer to binary, start with the integer in question and divide it by 2 keeping notice of the quotient and the remainder. Continue dividing the quotient by 2 until you get a quotient of zero. Then just write out the remainders in the reverse order.\n",
        "\n"
      ],
      "metadata": {
        "id": "L9H7ajuBnfrb"
      }
    },
    {
      "cell_type": "markdown",
      "source": [
        "## Converting binary integer to decimal\n",
        "\n",
        "To convert binary integer to decimal, start from the left. Take your current total, multiply it by two and add the current digit. Continue until there are no more digits left. \n",
        "\n"
      ],
      "metadata": {
        "id": "VPxJILrGoMYC"
      }
    },
    {
      "cell_type": "code",
      "source": [
        "# Definition for singly-linked list.\n",
        "class ListNode:\n",
        "    def __init__(self, val=0, next=None):\n",
        "        self.val = val\n",
        "        self.next = next"
      ],
      "metadata": {
        "id": "EGsBCUiZrYPD"
      },
      "execution_count": 6,
      "outputs": []
    },
    {
      "cell_type": "code",
      "source": [
        "def getDecimalValue(head: ListNode) -> int:\n",
        "    ans = 0\n",
        "    cur = head\n",
        "\n",
        "    while cur:\n",
        "        ans  = ans * 2 + cur.val\n",
        "        # using bit manipulation\n",
        "        # ans  = (ans << 1) | cur.val\n",
        "        cur = cur.next\n",
        "\n",
        "    return ans   "
      ],
      "metadata": {
        "id": "L0_xIXvQoSAP"
      },
      "execution_count": 7,
      "outputs": []
    },
    {
      "cell_type": "code",
      "source": [
        "# head = [1,0,1]\n",
        "node1 = ListNode(1)\n",
        "node2 = ListNode(0,node1)\n",
        "head = ListNode(1, node2)"
      ],
      "metadata": {
        "id": "NXiDtdyQsW0D"
      },
      "execution_count": 8,
      "outputs": []
    },
    {
      "cell_type": "code",
      "source": [
        "# head = [1,0,1]\n",
        "getDecimalValue(head)"
      ],
      "metadata": {
        "colab": {
          "base_uri": "https://localhost:8080/"
        },
        "id": "94vWZ0rksmg5",
        "outputId": "579c3199-ebfb-498a-a9ee-cbab85ea3f4d"
      },
      "execution_count": 9,
      "outputs": [
        {
          "output_type": "execute_result",
          "data": {
            "text/plain": [
              "5"
            ]
          },
          "metadata": {},
          "execution_count": 9
        }
      ]
    },
    {
      "cell_type": "markdown",
      "source": [
        "## Time and Space Complexity\n",
        "\n",
        "* The time complexity of the above code is `O(n)`, where `n` is the number of nodes in the linked list. \n",
        "\n",
        " This is because the code iterates over each node of the linked list exactly once, performs a constant number of operations on each iteration (multiplication by 2 and addition of the binary value of the current node), and then returns the result. Therefore, the time complexity of the function is **linear** with respect to the number of nodes in the linked list.\n",
        "\n",
        "* The space complexity of the function is `O(1)`. \n",
        "\n",
        " This is because the function only uses a constant amount of extra space to store the variables `ans` and `cur`, regardless of the size of the input. Therefore, the space complexity of the function is **constant**. "
      ],
      "metadata": {
        "id": "mCCLyZXsqqgs"
      }
    },
    {
      "cell_type": "markdown",
      "source": [
        "#**344. Reverse String** `Easy`\n",
        "\n",
        "Write a function that reverses a string. The input string is given as an array of characters `s`.\n",
        "\n",
        "You must do this by modifying the input array in-place with `O(1)` extra memory.\n",
        "\n",
        " \n",
        "```\n",
        "Example:\n",
        "Input: s = [\"h\",\"e\",\"l\",\"l\",\"o\"]\n",
        "Output: [\"o\",\"l\",\"l\",\"e\",\"h\"]\n",
        "```"
      ],
      "metadata": {
        "id": "WioUf2DcuSqq"
      }
    },
    {
      "cell_type": "code",
      "source": [
        "def reverseString(s) -> None:\n",
        "    \"\"\"\n",
        "    Do not return anything, modify s in-place instead.\n",
        "    \"\"\"\n",
        "    #return s.reverse()\n",
        "    start, end = 0, len(s) - 1 \n",
        "    while start < end:\n",
        "        s[start], s[end] = s[end], s[start]\n",
        "        start += 1\n",
        "        end -= 1"
      ],
      "metadata": {
        "id": "9d760yqnuSBX"
      },
      "execution_count": 12,
      "outputs": []
    },
    {
      "cell_type": "code",
      "source": [
        "s = [\"h\",\"e\",\"l\",\"l\",\"o\"]\n",
        "reverseString(s)\n",
        "print(s)"
      ],
      "metadata": {
        "colab": {
          "base_uri": "https://localhost:8080/"
        },
        "id": "k_G69iw5vDqs",
        "outputId": "613c4a2f-0c9d-482a-bbc8-955acca84fff"
      },
      "execution_count": 14,
      "outputs": [
        {
          "output_type": "stream",
          "name": "stdout",
          "text": [
            "['o', 'l', 'l', 'e', 'h']\n"
          ]
        }
      ]
    },
    {
      "cell_type": "markdown",
      "source": [
        "## Time and Space Complexity\n",
        "\n",
        "* The time complexity of the given code is `O(n)`, where `n` is the length of the input list `s`. \n",
        "\n",
        " This is because the code iterates over each element of the list exactly once, swapping the first and last elements, then the second and second-to-last elements, and so on until the middle of the list is reached. The while loop executes `n/2` times, so the time complexity of the code is **linear** with respect to the length of the list.\n",
        "\n",
        "* The space complexity of the function is `O(1)`. \n",
        "\n",
        " This is because the function only uses a constant amount of extra space to store the variables `start` and `end`, and to perform the swapping of the elements in the list. Therefore, the space complexity of the function is **constant**."
      ],
      "metadata": {
        "id": "jsUK0af_whrB"
      }
    },
    {
      "cell_type": "markdown",
      "source": [
        "#**206. Reverse Linked List** `Easy`\n",
        "\n",
        "Given the `head` of a singly linked list, reverse the list, and return the reversed list.\n",
        "\n",
        "```\n",
        "Example:\n",
        "Input: head = [1,2,3,4,5]\n",
        "Output: [5,4,3,2,1]\n",
        "```"
      ],
      "metadata": {
        "id": "Sncy1IvyDkoL"
      }
    },
    {
      "cell_type": "code",
      "source": [
        "# iterative sol: time O(n), space O(1)\n",
        "def iterativeReverseList(head):\n",
        "  prev = None\n",
        "  cur = head\n",
        "  while cur is not None:\n",
        "    # save next node\n",
        "    temp = cur.next\n",
        "    # reverse link\n",
        "    cur.next = prev\n",
        "    # shift pointers\n",
        "    prev = cur\n",
        "    cur = temp\n",
        "  return prev"
      ],
      "metadata": {
        "id": "QR848eJxvIfG"
      },
      "execution_count": 14,
      "outputs": []
    },
    {
      "cell_type": "markdown",
      "source": [
        "## Time and Space Complexity of `iterativeReverseList`\n",
        "\n",
        "* The time complexity of the `iterativeReverseList` function is `O(n)`, where `n` is the number of nodes in the linked list. \n",
        "\n",
        " This is because the function iterates over each node in the list once and performs constant time operations on each node. Therefore, the time complexity is **linear** in the size of the input.\n",
        "\n",
        "* The space complexity of the `iterativeReverseList` function is `O(1)`. \n",
        "\n",
        " This is because the function uses only a fixed amount of additional memory to store three pointers (`prev`, `cur`, and `temp`) throughout the iteration, regardless of the size of the input. Therefore, the space complexity is independent of the size of the input."
      ],
      "metadata": {
        "id": "EbJn4vtvGqm5"
      }
    },
    {
      "cell_type": "code",
      "source": [
        "# recursive solution: time O(n), space O(n)\n",
        "def recursiveReverseList(head):\n",
        "        if not head or not head.next:\n",
        "            return head\n",
        "        \n",
        "        new_head = reverseList(head.next)\n",
        "        head.next.next = head\n",
        "        head.next = None\n",
        "        return new_head"
      ],
      "metadata": {
        "id": "o4AgOto-EGvD"
      },
      "execution_count": 15,
      "outputs": []
    },
    {
      "cell_type": "markdown",
      "source": [
        "## Time and Space Complexity of `recursiveReverseList`\n",
        "\n",
        "* The time complexity of the `recursiveReverseList` function is `O(n)`, where `n` is the number of nodes in the linked list.\n",
        "\n",
        " This is because the function performs a recursive call for each node in the list, and each call takes constant time `O(1)` to perform the operations on the current node before making the recursive call.\n",
        "\n",
        "* The space complexity of the `recursiveReverseList` function is `O(n)`, where `n` is the number of nodes in the linked list. \n",
        "\n",
        " This is because the function uses the call stack to store the recursive calls, and the maximum depth of the call stack is proportional to the number of nodes in the list. Therefore, the space complexity is **linear** in the size of the input."
      ],
      "metadata": {
        "id": "njdWdvapGFEj"
      }
    },
    {
      "cell_type": "code",
      "source": [
        "# head = [1,2,3,4,5]\n",
        "node1 = ListNode(5)\n",
        "node2 = ListNode(4,node1)\n",
        "node3 = ListNode(3,node2)\n",
        "node4 = ListNode(2,node3)\n",
        "head = ListNode(1, node4)\n",
        "\n",
        "\n",
        "answer = iterativeReverseList(head)\n",
        "cur = answer\n",
        "while cur:\n",
        "  print(cur.val, end=\" \")\n",
        "  cur = cur.next"
      ],
      "metadata": {
        "colab": {
          "base_uri": "https://localhost:8080/"
        },
        "id": "-8c6LDNTEyjQ",
        "outputId": "5d450622-7e0c-4ae8-bfaa-59d800eaf4b0"
      },
      "execution_count": 16,
      "outputs": [
        {
          "output_type": "stream",
          "name": "stdout",
          "text": [
            "5 4 3 2 1 "
          ]
        }
      ]
    },
    {
      "cell_type": "markdown",
      "source": [
        "#**977. Squares of a Sorted Array** `Easy`\n",
        "\n",
        "Given an integer array `nums` sorted in non-decreasing order, return an array of the squares of each number sorted in non-decreasing order.\n",
        "\n",
        " \n",
        "```\n",
        "Example 1:\n",
        "Input: nums = [-4,-1,0,3,10]\n",
        "Output: [0,1,9,16,100]\n",
        "Explanation: After squaring, the array becomes [16,1,0,9,100].\n",
        "After sorting, it becomes [0,1,9,16,100].\n",
        "\n",
        "Example 2:\n",
        "Input: nums = [-7,-3,2,3,11]\n",
        "Output: [4,9,9,49,121]\n",
        "```"
      ],
      "metadata": {
        "id": "ltUNwYl9H1Gw"
      }
    },
    {
      "cell_type": "code",
      "source": [
        "def sortedSquares(nums):\n",
        "    n = len(nums)\n",
        "    ans = [0] * n\n",
        "    left, right = 0, n - 1\n",
        "\n",
        "    for i in range(n - 1, -1, -1):\n",
        "        if abs(nums[left]) < abs(nums[right]):\n",
        "            ans[i] = nums[right]**2\n",
        "            right -= 1\n",
        "        else:\n",
        "            ans[i] = nums[left]**2\n",
        "            left += 1\n",
        "    return ans     "
      ],
      "metadata": {
        "id": "refPHmTwID-x"
      },
      "execution_count": 18,
      "outputs": []
    },
    {
      "cell_type": "code",
      "source": [
        "nums = [-7,-3,2,3,11]\n",
        "sortedSquares(nums)"
      ],
      "metadata": {
        "colab": {
          "base_uri": "https://localhost:8080/"
        },
        "id": "XxaT0s5hc-e1",
        "outputId": "ddd724cb-50d9-4659-d0e6-145ff17b7943"
      },
      "execution_count": 19,
      "outputs": [
        {
          "output_type": "execute_result",
          "data": {
            "text/plain": [
              "[4, 9, 9, 49, 121]"
            ]
          },
          "metadata": {},
          "execution_count": 19
        }
      ]
    },
    {
      "cell_type": "markdown",
      "source": [
        "## Time and Space Complexity\n",
        "\n",
        "* The time complexity of the `sortedSquares` function is `O(n)`, where `n` is the length of the input array `nums`. \n",
        "\n",
        " This is because the function performs a single pass over the array and does constant time operations on each element. \n",
        "\n",
        "* The space complexity of the `sortedSquares` function is `O(n)`, where `n` is the length of the input array `nums`. \n",
        "\n",
        " This is because the function creates a new array of the same size as the input array to store the squared values. "
      ],
      "metadata": {
        "id": "4-myvwG3dhGW"
      }
    },
    {
      "cell_type": "markdown",
      "source": [
        "#**412. Fizz Buzz** `Easy`\n",
        "\n",
        "Given an integer `n`, return a string array `answer` (1-indexed) where:\n",
        "\n",
        "* `answer[i] == \"FizzBuzz\"` if `i` is divisible by 3 and 5.\n",
        "* `answer[i] == \"Fizz\"` if `i` is divisible by 3.\n",
        "* `answer[i] == \"Buzz\"` if `i` is divisible by 5.\n",
        "* `answer[i] == i` (as a string) if none of the above conditions are true.\n",
        " \n",
        "```\n",
        "Example 1:\n",
        "\n",
        "Input: n = 3\n",
        "Output: [\"1\",\"2\",\"Fizz\"]\n",
        "\n",
        "Example 2:\n",
        "Input: n = 5\n",
        "Output: [\"1\",\"2\",\"Fizz\",\"4\",\"Buzz\"]\n",
        "\n",
        "Example 3:\n",
        "Input: n = 15\n",
        "Output: [\"1\",\"2\",\"Fizz\",\"4\",\"Buzz\",\"Fizz\",\"7\",\"8\",\"Fizz\",\"Buzz\",\"11\",\"Fizz\",\"13\",\"14\",\"FizzBuzz\"]\n",
        "```"
      ],
      "metadata": {
        "id": "rLPhFXqSeodO"
      }
    },
    {
      "cell_type": "code",
      "source": [
        "def fizzBuzz(n: int):\n",
        "    ans = []\n",
        "    for i in range(1,n+1):\n",
        "        cur = \"\"\n",
        "        if i % 3 == 0:\n",
        "            cur += \"Fizz\"\n",
        "        if i % 5 == 0:\n",
        "            cur += \"Buzz\"\n",
        "        if cur == \"\":\n",
        "            cur = str(i)   \n",
        "        ans.append(cur)\n",
        "    return ans    "
      ],
      "metadata": {
        "id": "8iP61VaNdxyz"
      },
      "execution_count": 1,
      "outputs": []
    },
    {
      "cell_type": "code",
      "source": [
        "fizzBuzz(15)"
      ],
      "metadata": {
        "colab": {
          "base_uri": "https://localhost:8080/"
        },
        "id": "2M1TrBIz8toi",
        "outputId": "35498d10-9e07-419a-e864-8cc8082aaf83"
      },
      "execution_count": 2,
      "outputs": [
        {
          "output_type": "execute_result",
          "data": {
            "text/plain": [
              "['1',\n",
              " '2',\n",
              " 'Fizz',\n",
              " '4',\n",
              " 'Buzz',\n",
              " 'Fizz',\n",
              " '7',\n",
              " '8',\n",
              " 'Fizz',\n",
              " 'Buzz',\n",
              " '11',\n",
              " 'Fizz',\n",
              " '13',\n",
              " '14',\n",
              " 'FizzBuzz']"
            ]
          },
          "metadata": {},
          "execution_count": 2
        }
      ]
    },
    {
      "cell_type": "markdown",
      "source": [
        "## Time and Space Complexity \n",
        "\n",
        "* The time complexity of the `fizzBuzz` function is `O(n)`, where `n` is the input integer `n`.\n",
        "\n",
        " This is because the function performs a loop of size `n` and performs a constant time operation for each element in the loop, which is generating the corresponding FizzBuzz string based on the value of `i`. Therefore, the time complexity is linear in the size of the input.\n",
        "\n",
        "* The space complexity of the `fizzBuzz` function is also `O(n)`, where `n` is the input integer `n`. \n",
        "\n",
        " This is because the function creates a list of size `n` to store the FizzBuzz strings, each of which takes up a constant amount of memory. Therefore, the space complexity is linear in the size of the input. The `cur` variable takes up a constant amount of memory for each iteration of the loop, so it also contributes to the space complexity by a constant factor. Overall, the space complexity is `O(n)`."
      ],
      "metadata": {
        "id": "MfnHndu_87ai"
      }
    },
    {
      "cell_type": "markdown",
      "source": [
        "#**1636. Sort Array by Increasing Frequency** `Easy`\n",
        "\n",
        "Given an array of integers `nums`, sort the array in increasing order based on the frequency of the values. If multiple values have the same frequency, sort them in decreasing order.\n",
        "\n",
        "Return the sorted array.\n",
        "\n",
        " \n",
        "```\n",
        "Example 1:\n",
        "Input: nums = [1,1,2,2,2,3]\n",
        "Output: [3,1,1,2,2,2]\n",
        "Explanation: '3' has a frequency of 1, '1' has a frequency of 2, and '2' has a frequency of 3.\n",
        "\n",
        "Example 2:\n",
        "Input: nums = [2,3,1,3,2]\n",
        "Output: [1,3,3,2,2]\n",
        "Explanation: '2' and '3' both have a frequency of 2, so they are sorted in decreasing order.\n",
        "\n",
        "Example 3:\n",
        "Input: nums = [-1,1,-6,4,5,-6,1,4,1]\n",
        "Output: [5,-1,4,4,-6,-6,1,1,1]\n",
        "```"
      ],
      "metadata": {
        "id": "hTznl3qG-t0n"
      }
    },
    {
      "cell_type": "code",
      "source": [
        "import collections \n",
        "def frequencySort(nums):\n",
        "    # Sol 1\n",
        "    #return sorted(sorted(nums, reverse=True), key=nums.count)\n",
        "    \n",
        "    # Sol 2\n",
        "    \"\"\"\n",
        "    Count the frequency of each element in the input list nums. \n",
        "    The sorted function is then used to sort the nums list based on the frequency of each element,\n",
        "    breaking ties with the element value. The key parameter of the sorted function takes a lambda function\n",
        "    that returns a tuple of two values for each element in the list. \n",
        "    The first value is the frequency of the element, obtained from the freq dictionary,\n",
        "    and the second value is the negative of the element value, which ensures that ties are broken in decreasing order.\n",
        "    \"\"\"\n",
        "    freq_counter = collections.Counter(nums)\n",
        "    return sorted(nums, key=lambda x: (freq_counter[x], -x))"
      ],
      "metadata": {
        "id": "jLzQ-IH29No-"
      },
      "execution_count": 5,
      "outputs": []
    },
    {
      "cell_type": "code",
      "source": [
        "nums = [-1,1,-6,4,5,-6,1,4,1]\n",
        "frequencySort(nums)"
      ],
      "metadata": {
        "colab": {
          "base_uri": "https://localhost:8080/"
        },
        "id": "_nbJMXdOOyhB",
        "outputId": "0f4652e3-2ba8-457b-8795-5d15717edddf"
      },
      "execution_count": 6,
      "outputs": [
        {
          "output_type": "execute_result",
          "data": {
            "text/plain": [
              "[5, -1, 4, 4, -6, -6, 1, 1, 1]"
            ]
          },
          "metadata": {},
          "execution_count": 6
        }
      ]
    },
    {
      "cell_type": "markdown",
      "source": [
        "## Time and Space Complexity\n",
        "\n",
        "* The time complexity of the function `frequencySort` is `O(n log n)`, where `n` is the length of the input list `nums`.\n",
        "\n",
        " The `Counter` method from the `collections` module takes `O(n)` time to count the frequency of each element in the list. Sorting the list using the `sorted` method with a key function that considers both the frequency of each element and the value of the element itself takes `O(n log n)` time.\n",
        "Therefore, the overall time complexity is `O(n log n)`.\n",
        "\n",
        "* The space complexity of the function is `O(n)`, where `n` is the length of the input list `nums`. \n",
        "\n",
        " This is because we need to create a frequency counter dictionary to store the count of each element in the list. The size of the dictionary is proportional to the number of unique elements in the input list. In the worst case, where all elements in the input list are distinct, the size of the dictionary would be equal to the size of the input list, which is `O(n)`."
      ],
      "metadata": {
        "id": "cb07JMbKRBsl"
      }
    },
    {
      "cell_type": "markdown",
      "source": [
        "#**191. Number of 1 Bits (Hamming weight)** `Easy`\n",
        "\n",
        "\n",
        "Write a function that takes the binary representation of an unsigned integer and returns the number of `'1'` bits it has (also known as the Hamming weight).\n",
        " \n",
        "```\n",
        "Example 1:\n",
        "Input: n = 00000000000000000000000000001011\n",
        "Output: 3\n",
        "Explanation: The input binary string 00000000000000000000000000001011 has a total of three '1' bits.\n",
        "\n",
        "Example 2:\n",
        "Input: n = 00000000000000000000000010000000\n",
        "Output: 1\n",
        "Explanation: The input binary string 00000000000000000000000010000000 has a total of one '1' bit.\n",
        "\n",
        "Example 3:\n",
        "Input: n = 11111111111111111111111111111101\n",
        "Output: 31\n",
        "Explanation: The input binary string 11111111111111111111111111111101 has a total of thirty one '1' bits.\n",
        "```\n",
        "\n",
        "**Constraints:**\n",
        "\n",
        "The input must be a binary string of length 32."
      ],
      "metadata": {
        "id": "vH6vTv1lUN0k"
      }
    },
    {
      "cell_type": "markdown",
      "source": [
        "**Explanation.** In this implementation, we use a while loop to iterate through each bit of the binary representation of the integer. We do this by using the bitwise AND operator (`&`) to check the least significant bit of the integer. If the bit is a `'1'`, we increment our count. We then shift the integer to the right by one bit using the right bit shift operator `(>>=)` so that we can check the next least significant bit on the next iteration of the loop. We continue this process until we have checked all bits of the integer."
      ],
      "metadata": {
        "id": "qBgMJYJ-bfSC"
      }
    },
    {
      "cell_type": "code",
      "source": [
        "# Solution 1\n",
        "def hammingWeight1(n: int) -> int:\n",
        "    count = 0\n",
        "    while n:\n",
        "        count += n & 1\n",
        "        n >>= 1\n",
        "    return count"
      ],
      "metadata": {
        "id": "b2x8cGAbSViN"
      },
      "execution_count": 23,
      "outputs": []
    },
    {
      "cell_type": "code",
      "source": [
        "n = int(0b00000000000000000000000000001011)\n",
        "hammingWeight1(n)"
      ],
      "metadata": {
        "colab": {
          "base_uri": "https://localhost:8080/"
        },
        "id": "vDEAbm3hWUxv",
        "outputId": "9f96a6c3-0cf5-4b26-b8fb-5781d95a844c"
      },
      "execution_count": 24,
      "outputs": [
        {
          "output_type": "execute_result",
          "data": {
            "text/plain": [
              "3"
            ]
          },
          "metadata": {},
          "execution_count": 24
        }
      ]
    },
    {
      "cell_type": "code",
      "source": [
        "# Solution 2\n",
        "def hammingWeight2(n: int) -> int:\n",
        "    count = 0\n",
        "    while n > 0:\n",
        "        # for any number n, doing a bit-wise AND of n and n−1 \n",
        "        # flips the least-significant 1-bit in n to 0\n",
        "            n = n & (n - 1)\n",
        "            count += 1\n",
        "    return count"
      ],
      "metadata": {
        "id": "h4naeGjXaVhJ"
      },
      "execution_count": 27,
      "outputs": []
    },
    {
      "cell_type": "code",
      "source": [
        "n = int(0b00000000000000000000000000001011)\n",
        "hammingWeight2(n)"
      ],
      "metadata": {
        "colab": {
          "base_uri": "https://localhost:8080/"
        },
        "id": "bD-roY5ZlcSi",
        "outputId": "3315281d-1c80-4155-cecc-5a589f59a136"
      },
      "execution_count": 26,
      "outputs": [
        {
          "output_type": "execute_result",
          "data": {
            "text/plain": [
              "3"
            ]
          },
          "metadata": {},
          "execution_count": 26
        }
      ]
    },
    {
      "cell_type": "markdown",
      "source": [
        "## Time and Space Complexity\n",
        "\n",
        "Note the given constraint that the input must be a binary string of length 32.\n",
        "\n",
        "Solution 2 is using the bit-wise AND operation to flip the least-significant 1-bit in the binary string to 0 until there are no 1's left. The time and space complexity of this algorithm are:\n",
        "\n",
        "* Time Complexity `O(1)`:\n",
        "\n",
        " The time complexity of the given algorithm is proportional to the number of 1's in the binary string. Specifically, the number of 1's in the binary string is equal to the number of iterations required to make `n` equal to 0. Since the worst case scenario is that all 32 bits are 1, the maximum number of iterations required will be 32. \n",
        "\n",
        "* Space Complexity `O(1)`:\n",
        "\n",
        " The space complexity of the given algorithm is constant because the only space used is for the count variable, which takes up a fixed amount of memory. \n"
      ],
      "metadata": {
        "id": "GG5_CjfLmIn0"
      }
    },
    {
      "cell_type": "markdown",
      "source": [
        "#**242. Valid Anagram** `Easy`\n",
        "\n",
        "Given two strings `s` and `t`, return `true` if `t` is an anagram of `s`, and `false` otherwise.\n",
        "\n",
        "An Anagram is a word or phrase formed by rearranging the letters of a different word or phrase, typically using all the original letters exactly once.\n",
        "\n",
        " \n",
        "```\n",
        "Example 1:\n",
        "Input: s = \"anagram\", t = \"nagaram\"\n",
        "Output: true\n",
        "\n",
        "Example 2:\n",
        "Input: s = \"rat\", t = \"car\"\n",
        "Output: false\n",
        "```"
      ],
      "metadata": {
        "id": "tfOqJ5tQUmfo"
      }
    },
    {
      "cell_type": "code",
      "source": [
        "# Solution 1\n",
        "from collections import Counter\n",
        "def isAnagram1(s: str, t: str) -> bool:\n",
        "    return Counter(s) == Counter(t)"
      ],
      "metadata": {
        "id": "7AAHr3l_mo8S"
      },
      "execution_count": 8,
      "outputs": []
    },
    {
      "cell_type": "code",
      "source": [
        "s = \"anagram\"\n",
        "t = \"nagaram\"\n",
        "isAnagram1(s, t)"
      ],
      "metadata": {
        "colab": {
          "base_uri": "https://localhost:8080/"
        },
        "id": "zg8mwDvxXpuH",
        "outputId": "2c2d1231-f977-4d12-99ba-4845a66df5e0"
      },
      "execution_count": 9,
      "outputs": [
        {
          "output_type": "execute_result",
          "data": {
            "text/plain": [
              "True"
            ]
          },
          "metadata": {},
          "execution_count": 9
        }
      ]
    },
    {
      "cell_type": "markdown",
      "source": [
        "## Time and Space Complexity - Solution 1\n",
        "\n",
        "* The time complexity of the `isAnagram1` function is `O(n)`, where `n` is the length of the input strings `s` and `t`. \n",
        "\n",
        " This is because the `Counter` function has a time complexity of `O(n)`, where `n` is the length of the input string, as it needs to iterate over the string to count the occurrences of each character.\n",
        "\n",
        "* The space complexity of the isAnagram function is `O(k)`, where `k` is the number of unique characters in the input strings `s` and `t`.\n",
        "\n",
        " This is because the Counter function creates a dictionary with an entry for each unique character in the string. The size of the dictionary will be proportional to the number of unique characters in the string.\n",
        "\n",
        "\n"
      ],
      "metadata": {
        "id": "2Rq2srXCYB4y"
      }
    },
    {
      "cell_type": "code",
      "source": [
        "# Solution 2\n",
        "\n",
        "def isAnagram2(s: str, t: str) -> bool:\n",
        "   \n",
        "    if len(s) != len(t):\n",
        "        return False\n",
        "\n",
        "    counter = {}\n",
        "\n",
        "    for char in s:\n",
        "        counter[char] = counter.get(char, 0) + 1\n",
        "\n",
        "    for char in t:\n",
        "        if char not in counter:\n",
        "            return False\n",
        "        else:\n",
        "            counter[char] -= 1\n",
        "            if counter[char] == 0:\n",
        "                del counter[char]\n",
        "    return len(counter) == 0    "
      ],
      "metadata": {
        "id": "a6sE8PgTX3ft"
      },
      "execution_count": 15,
      "outputs": []
    },
    {
      "cell_type": "code",
      "source": [
        "s = \"anagram\"\n",
        "t = \"nagaram\"\n",
        "isAnagram2(s, t)"
      ],
      "metadata": {
        "colab": {
          "base_uri": "https://localhost:8080/"
        },
        "id": "wNPa0uOeaDXb",
        "outputId": "a7af3fec-9b66-403b-c399-53e123f0f32d"
      },
      "execution_count": 16,
      "outputs": [
        {
          "output_type": "execute_result",
          "data": {
            "text/plain": [
              "True"
            ]
          },
          "metadata": {},
          "execution_count": 16
        }
      ]
    },
    {
      "cell_type": "markdown",
      "source": [
        "## Time and Space Complexity - Solution 2 \n",
        "\n",
        "* The time complexity of the `isAnagram2` function is `O(n)`, where `n` is the length of the input strings `s` and `t`. \n",
        "\n",
        " This is because we loop through each character in both strings once to update the counts in the dictionary and then again to check if the strings are anagrams.\n",
        "\n",
        "* The space complexity of the `isAnagram2` function is `O(k)`, where `k` is the number of unique characters in the input string `s`. \n",
        "\n",
        " This is because we use a dictionary to keep track of the count of each character in `s`, and the size of the dictionary will be proportional to the number of unique characters in the string."
      ],
      "metadata": {
        "id": "XdYg40qSaxso"
      }
    },
    {
      "cell_type": "markdown",
      "source": [
        "#**268. Missing Number** `Easy`\n",
        "\n",
        "Given an array `nums` containing `n` distinct numbers in the range `[0, n]`, return the only number in the range that is missing from the array.\n",
        "\n",
        " \n",
        "```\n",
        "Example 1:\n",
        "Input: nums = [3,0,1]\n",
        "Output: 2\n",
        "\n",
        "Example 2:\n",
        "Input: nums = [0,1]\n",
        "Output: 2\n",
        "\n",
        "Example 3:\n",
        "Input: nums = [9,6,4,2,3,5,7,0,1]\n",
        "Output: 8\n",
        "```"
      ],
      "metadata": {
        "id": "sJsaMsYlc-zl"
      }
    },
    {
      "cell_type": "code",
      "source": [
        "# Solution 1 - using Gauss Sum Formula\n",
        "def missingNumber1(nums):\n",
        "    n = len(nums)\n",
        "    return (n*(n+1))//2 - sum(nums)"
      ],
      "metadata": {
        "id": "0wr2OlKdbLUO"
      },
      "execution_count": 18,
      "outputs": []
    },
    {
      "cell_type": "markdown",
      "source": [
        "## Time and Space Complexity - Solution 1\n",
        "\n",
        "* The time complexity of the `missingNumber` function is `O(n)`, where `n` is the length of the input list `nums`. \n",
        "\n",
        " This is because we need to loop through the entire list once to calculate the sum of the numbers in the list using the sum function.\n",
        "\n",
        "* The space complexity of the `missingNumber1` function is `O(1)`.\n",
        "\n",
        " We are only using a constant amount of extra space to store the variables n and the sum of the numbers in the list."
      ],
      "metadata": {
        "id": "8re2al1rgITJ"
      }
    },
    {
      "cell_type": "code",
      "source": [
        "# Solution 2 - using XOR\n",
        "\n",
        "def missingNumber2(nums):\n",
        "    ans = len(nums)\n",
        "    for i, num in enumerate(nums):\n",
        "        ans ^= i ^ num\n",
        "    return ans    "
      ],
      "metadata": {
        "id": "7k8W8hvIgU3K"
      },
      "execution_count": 27,
      "outputs": []
    },
    {
      "cell_type": "markdown",
      "source": [
        "**Explanation.** Note that the index `i` takes values between `0` and `len(nums) - 1`. The missing number is in the range `[0, len(nums)]`. This is why we must initialize `ans` to `len(nums).`"
      ],
      "metadata": {
        "id": "rT8HbMGim60Y"
      }
    },
    {
      "cell_type": "code",
      "source": [
        "nums = [9,6,4,2,3,5,7,0,1]\n",
        "print(len(nums))\n",
        "missingNumber2(nums)"
      ],
      "metadata": {
        "colab": {
          "base_uri": "https://localhost:8080/"
        },
        "id": "ZBSDCeb3hI3-",
        "outputId": "8ca115ef-bb2b-449a-ad10-d51c1d872b3e"
      },
      "execution_count": 29,
      "outputs": [
        {
          "output_type": "stream",
          "name": "stdout",
          "text": [
            "9\n"
          ]
        },
        {
          "output_type": "execute_result",
          "data": {
            "text/plain": [
              "8"
            ]
          },
          "metadata": {},
          "execution_count": 29
        }
      ]
    },
    {
      "cell_type": "markdown",
      "source": [
        "## Time and Space Complexity - Solution 2\n",
        "\n",
        "* The time complexity of the `missingNumber2` function is `O(n)`, where `n` is the length of the input list `nums`. \n",
        " \n",
        " This is because we need to loop through the entire list once to calculate the `XOR` of all the indices and numbers in the list.\n",
        "\n",
        "* The space complexity of the `missingNumber2` function is `O(1)`.\n",
        "\n",
        " We are only using a constant amount of extra space to store the variable `ans`."
      ],
      "metadata": {
        "id": "fObXAMnFns5b"
      }
    },
    {
      "cell_type": "markdown",
      "source": [
        "#**1854. Maximum Population Year** `Easy`\n",
        "\n",
        "You are given a 2D integer array `logs` where each `logs[i] = [birthi, deathi]` indicates the birth and death years of the `i`th person.\n",
        "\n",
        "The population of some year `x` is the number of people alive during that year. The `i`th person is counted in year `x`'s population if `x` is in the inclusive range `[birthi, deathi - 1]`. Note that the person is not counted in the year that they die.\n",
        "\n",
        "Return the earliest year with the maximum population.\n",
        "\n",
        " \n",
        "```\n",
        "Example 1:\n",
        "\n",
        "Input: logs = [[1993,1999],[2000,2010]]\n",
        "Output: 1993\n",
        "Explanation: The maximum population is 1, and 1993 is the earliest year with this population.\n",
        "\n",
        "Example 2:\n",
        "Input: logs = [[1950,1961],[1960,1971],[1970,1981]]\n",
        "Output: 1960\n",
        "Explanation: \n",
        "The maximum population is 2, and it had happened in years 1960 and 1970.\n",
        "The earlier year between them is 1960.\n",
        "```"
      ],
      "metadata": {
        "id": "1jB3zC_l5L4-"
      }
    },
    {
      "cell_type": "code",
      "source": [
        "def maximumPopulation(logs):\n",
        "    # the timespan 1950-2050 covers 101 years\n",
        "    population = [0] * 101\n",
        "\n",
        "# conversion from the year (1950 + i) to the ith index\n",
        "    startYear = 1950 \n",
        "\n",
        "    for birth, death in logs:\n",
        "  # increases the population by 1\n",
        "        population[birth - startYear] += 1 \n",
        "  \n",
        "  # decreases the population by 1\n",
        "        population[death - startYear] -= 1\n",
        "    \n",
        "    curPop, maxPop = 0, 0\n",
        "    year = 1950\n",
        "\n",
        "# find the year with the greatest population\n",
        "    for i, count in enumerate(population):\n",
        "        curPop += count\n",
        "\n",
        "        if  curPop > maxPop:\n",
        "            maxPop = curPop\n",
        "            year = startYear + i\n",
        "    \n",
        "    return year"
      ],
      "metadata": {
        "id": "8awEW-cmCjqH"
      },
      "execution_count": 31,
      "outputs": []
    },
    {
      "cell_type": "code",
      "source": [
        "logs = [[1950,1961],[1960,1971],[1970,1981]]\n",
        "maximumPopulation(logs)"
      ],
      "metadata": {
        "colab": {
          "base_uri": "https://localhost:8080/"
        },
        "id": "4YRclNwqCjz4",
        "outputId": "c37ec77d-ab5e-4093-eaee-e6df76d3a0ea"
      },
      "execution_count": 32,
      "outputs": [
        {
          "output_type": "execute_result",
          "data": {
            "text/plain": [
              "1960"
            ]
          },
          "metadata": {},
          "execution_count": 32
        }
      ]
    },
    {
      "cell_type": "markdown",
      "source": [
        "## Time and Space Complexity\n",
        "\n",
        "* The time complexity of the above code is `O(n)`, where `n` is the number of elements in the `logs` list. \n",
        "\n",
        " This is because the code iterates over each element in the `logs` list once, performing constant time operations for each element.\n",
        "\n",
        "* The space complexity of the code is `O(1)`.\n",
        "\n",
        " This is because the size of the population list remains constant at 101, regardless of the size of the input `logs` list. The only additional space used is for a few integer variables (`curPop`, `maxPop`, and `year`) which do not depend on the size of the input list."
      ],
      "metadata": {
        "id": "6PDcePVUDMAN"
      }
    },
    {
      "cell_type": "markdown",
      "source": [
        "#**796. Rotate String** `Easy`\n",
        "\n",
        "Given two strings `s` and `goal`, return `true` if and only if `s` can become `goal` after some number of shifts on `s`.\n",
        "\n",
        "A shift on `s` consists of moving the leftmost character of `s` to the rightmost position.\n",
        "\n",
        "For example, if `s = \"abcde\"`, then it will be `\"bcdea\"` after one shift.\n",
        " \n",
        "```\n",
        "Example 1:\n",
        "Input: s = \"abcde\", goal = \"cdeab\"\n",
        "Output: true\n",
        "\n",
        "Example 2:\n",
        "Input: s = \"abcde\", goal = \"abced\"\n",
        "Output: false\n",
        "```"
      ],
      "metadata": {
        "id": "sCVMCsSVKSNy"
      }
    },
    {
      "cell_type": "code",
      "source": [
        "# Solution 1\n",
        "def rotateString1(s: str, goal: str) -> bool:\n",
        "    if s == goal:\n",
        "        return True\n",
        "    \n",
        "    i = 0\n",
        "    while i < len(s):\n",
        "        s = s[-1] + s[:-1]\n",
        "        if s == goal:\n",
        "            return True  \n",
        "        i += 1\n",
        "            \n",
        "    return False "
      ],
      "metadata": {
        "id": "z6svaU5QDlVh"
      },
      "execution_count": 43,
      "outputs": []
    },
    {
      "cell_type": "code",
      "source": [
        "s = \"abcde\"\n",
        "goal = \"cdeab\"\n",
        "rotateString1(s, goal)"
      ],
      "metadata": {
        "colab": {
          "base_uri": "https://localhost:8080/"
        },
        "id": "xoM3wO13QxUJ",
        "outputId": "ee8529a8-f22d-4641-8370-083f165fa0e6"
      },
      "execution_count": 44,
      "outputs": [
        {
          "output_type": "execute_result",
          "data": {
            "text/plain": [
              "True"
            ]
          },
          "metadata": {},
          "execution_count": 44
        }
      ]
    },
    {
      "cell_type": "markdown",
      "source": [
        "## Time and Space Complexity - Solution 1\n",
        "\n",
        "* The time complexity of this function is `O(n^2)`, where `n` is the length of the input string `s`. \n",
        "\n",
        " This is because the `while` loop executes up to `len(s)` times, and within each iteration, the `s` string is sliced and concatenated to create a new string, which takes `O(n)` time. \n",
        "\n",
        "* The space complexity of this function is `O(n)`, where `n` is the length of the input string `s`.\n",
        "\n",
        " This is because in each iteration of the `while` loop, a new string is created by slicing and concatenating `s`, which requires an additional memory space of `O(n)`. Since the while loop executes up to `len(s)` times, the total space complexity of the function is `O(n)`. "
      ],
      "metadata": {
        "id": "dfeiiPBseiTw"
      }
    },
    {
      "cell_type": "code",
      "source": [
        "# Solution 2\n",
        "def rotateString2(s: str, goal: str) -> bool:\n",
        "    if len(s) != len(goal):\n",
        "        return False\n",
        "    ss = s + s\n",
        "    return goal in ss"
      ],
      "metadata": {
        "id": "dBv2zskecfBI"
      },
      "execution_count": 41,
      "outputs": []
    },
    {
      "cell_type": "code",
      "source": [
        "s = \"abcde\"\n",
        "goal = \"cdeab\"\n",
        "rotateString2(s, goal)"
      ],
      "metadata": {
        "colab": {
          "base_uri": "https://localhost:8080/"
        },
        "id": "mJxFU2Sscn3R",
        "outputId": "f83669df-3b76-4298-b413-e5cc353dc7fb"
      },
      "execution_count": 42,
      "outputs": [
        {
          "output_type": "execute_result",
          "data": {
            "text/plain": [
              "True"
            ]
          },
          "metadata": {},
          "execution_count": 42
        }
      ]
    },
    {
      "cell_type": "markdown",
      "source": [
        "## Time and Space Complexity - Solution 2\n",
        "\n",
        "* The time complexity of this modified function is `O(n)`, where `n` is the length of the input string `s`. \n",
        "\n",
        " This is because the concatenation `s + s` takes `O(n)` time, and the `in` operator used to check if `goal` is a substring of `s + s` also takes `O(n)` time. Since these two operations are executed once each, the overall time complexity is `O(n)`.\n",
        "\n",
        "* The space complexity of this function is `O(n)`, where `n` is the length of the input string `s`. \n",
        "\n",
        " This is because the concatenation of `s + s` requires an additional memory space of `O(n)`, which is proportional to the size of the input. "
      ],
      "metadata": {
        "id": "1BPZL3BNc-IU"
      }
    },
    {
      "cell_type": "code",
      "source": [],
      "metadata": {
        "id": "16N60hHudiyE"
      },
      "execution_count": null,
      "outputs": []
    }
  ]
}