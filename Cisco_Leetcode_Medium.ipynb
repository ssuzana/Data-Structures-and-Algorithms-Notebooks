{
  "nbformat": 4,
  "nbformat_minor": 0,
  "metadata": {
    "colab": {
      "provenance": [],
      "toc_visible": true,
      "authorship_tag": "ABX9TyOxXeaczrXQKk9auivD3KFe",
      "include_colab_link": true
    },
    "kernelspec": {
      "name": "python3",
      "display_name": "Python 3"
    },
    "language_info": {
      "name": "python"
    }
  },
  "cells": [
    {
      "cell_type": "markdown",
      "metadata": {
        "id": "view-in-github",
        "colab_type": "text"
      },
      "source": [
        "<a href=\"https://colab.research.google.com/github/ssuzana/Data-Structures-and-Algorithms-Notebooks/blob/main/Cisco_Leetcode_Medium.ipynb\" target=\"_parent\"><img src=\"https://colab.research.google.com/assets/colab-badge.svg\" alt=\"Open In Colab\"/></a>"
      ]
    },
    {
      "cell_type": "markdown",
      "source": [
        "# Contents \n",
        "\n",
        "This is a set of Leetcode problems that have been marked as seen in interviews with Cisco.\n",
        "\n",
        "`1`. [Rotate Image](#scrollTo=KJnxwcxlJSjy&line=5&uniqifier=1)\n",
        "\n",
        "`2`. [Group Anagrams](#scrollTo=4Fd-E2n5MCxD&line=3&uniqifier=1)\n",
        "\n",
        "`3`. [Kth Largest Element in an Array](#scrollTo=HD_KHrxHf2mD&line=17&uniqifier=1)\n",
        "\n",
        "`4`. [Beautiful Arrangement](#scrollTo=jXDPir25ITOq&line=9&uniqifier=1)\n",
        "\n",
        "`5`. [Spiral Matrix](#scrollTo=YkNl7ln_Wlnc&line=15&uniqifier=1)\n",
        "\n",
        "`6`. [Decode Ways](#scrollTo=8ByGzZdCLxV8&line=1&uniqifier=1)"
      ],
      "metadata": {
        "id": "9UNLXahiJAkY"
      }
    },
    {
      "cell_type": "markdown",
      "source": [
        "#**48. Rotate Image** `Medium`\n",
        "\n",
        "https://leetcode.com/problems/rotate-image/\n",
        "\n",
        "\n",
        "You are given an `n x n` 2D matrix representing an image, rotate the image by 90 degrees (clockwise).\n",
        "\n",
        "You have to rotate the image in-place, which means you have to modify the input 2D matrix directly. DO NOT allocate another 2D matrix and do the rotation.\n",
        "\n",
        "```\n",
        "Example 1:\n",
        "Input: matrix = [[1,2,3],[4,5,6],[7,8,9]]\n",
        "Output: [[7,4,1],[8,5,2],[9,6,3]]\n",
        "\n",
        "Example 2:\n",
        "Input: matrix = [[5,1,9,11],[2,4,8,10],[13,3,6,7],[15,14,12,16]]\n",
        "Output: [[15,13,2,5],[14,3,4,1],[12,6,8,9],[16,7,10,11]]\n",
        "```"
      ],
      "metadata": {
        "id": "KJnxwcxlJSjy"
      }
    },
    {
      "cell_type": "code",
      "execution_count": null,
      "metadata": {
        "id": "cVMDEG__I_tz"
      },
      "outputs": [],
      "source": [
        "def rotate(mat):\n",
        "    \"\"\"\n",
        "    Do not return anything, modify matrix in-place instead.\n",
        "    \"\"\"\n",
        "    # make transpose of the matrix\n",
        "    for i in range(len(mat)):\n",
        "        for j in range(i, len(mat)):\n",
        "            mat[i][j], mat[j][i] = mat[j][i], mat[i][j]    \n",
        "    # reversing the matrix\n",
        "    for i in range(len(mat)):\n",
        "        mat[i].reverse()        \n",
        "        "
      ]
    },
    {
      "cell_type": "code",
      "source": [
        "matrix = [[1,2,3],[4,5,6],[7,8,9]]\n",
        "rotate(matrix)\n",
        "matrix"
      ],
      "metadata": {
        "colab": {
          "base_uri": "https://localhost:8080/"
        },
        "id": "7FukkxuXKVGa",
        "outputId": "42602e41-e4a6-4997-8553-15e75cd33005"
      },
      "execution_count": null,
      "outputs": [
        {
          "output_type": "execute_result",
          "data": {
            "text/plain": [
              "[[7, 4, 1], [8, 5, 2], [9, 6, 3]]"
            ]
          },
          "metadata": {},
          "execution_count": 4
        }
      ]
    },
    {
      "cell_type": "markdown",
      "source": [
        "## TC and SC\n",
        "\n",
        "* Time complexity: `O(n^2)`, where `n` is the size of the matrix.\n",
        " \n",
        "  This is because there are two nested loops, each running `n` times.\n",
        "\n",
        "* Space complexity: `O(1)`\n",
        "\n",
        " This is because no additional space is used, and the modifications are done in-place."
      ],
      "metadata": {
        "id": "RoTpJ0JUKyZz"
      }
    },
    {
      "cell_type": "markdown",
      "source": [
        "#**49. Group Anagrams** `Medium`\n",
        "\n",
        "https://leetcode.com/problems/group-anagrams/\n",
        "\n",
        "Given an array of strings `strs`, group the anagrams together. You can return the answer in any order.\n",
        "\n",
        "An Anagram is a word or phrase formed by rearranging the letters of a different word or phrase, typically using all the original letters exactly once.\n",
        "\n",
        "``` \n",
        "Example 1:\n",
        "Input: strs = [\"eat\",\"tea\",\"tan\",\"ate\",\"nat\",\"bat\"]\n",
        "Output: [[\"bat\"],[\"nat\",\"tan\"],[\"ate\",\"eat\",\"tea\"]]\n",
        "\n",
        "Example 2:\n",
        "Input: strs = [\"\"]\n",
        "Output: [[\"\"]]\n",
        "\n",
        "Example 3:\n",
        "Input: strs = [\"a\"]\n",
        "Output: [[\"a\"]]\n",
        "```"
      ],
      "metadata": {
        "id": "4Fd-E2n5MCxD"
      }
    },
    {
      "cell_type": "markdown",
      "source": [
        "Two strings are anagrams if and only if their character counts (respective number of occurrences of each character) are the same. Transform each string `s` into a character count, `count`, consisting of 26 non-negative integers representing the number of `a`'s, `b`'s, `c`'s, etc. We use these counts as the basis for a dictionary whose keys are tuples and values are lists."
      ],
      "metadata": {
        "id": "iftEeeuAXS3j"
      }
    },
    {
      "cell_type": "code",
      "source": [
        "from collections import defaultdict\n",
        "\n",
        "def groupAnagrams(strs):\n",
        "\n",
        "  anagrams = defaultdict(list)\n",
        "\n",
        "  for s in strs:\n",
        "    count = [0] * 26\n",
        "    for char in s:\n",
        "      count[ord(char) - ord('a')] += 1\n",
        "    anagrams[tuple(count)].append(s)\n",
        "\n",
        "  return anagrams.values()         "
      ],
      "metadata": {
        "id": "fvj2_U6pLAbI"
      },
      "execution_count": null,
      "outputs": []
    },
    {
      "cell_type": "markdown",
      "source": [
        "Here's how the function works:\n",
        "\n",
        "* It creates a dictionary called `anagrams` using `defaultdict(list)`. A `defaultdict` is a subclass of the built-in `dict` class. It takes a function as its argument (in this case list), which is called to provide a default value whenever a non-existent key is accessed. In this case, it will create a new empty list for each new key.\n",
        "\n",
        "* It then loops over each string in the input list `strs`.\n",
        "For each string `s`, it creates a list called `count` with 26 zeros, one for each letter of the alphabet.\n",
        "\n",
        "* It then loops over each character `char` in the string `s` and increments the corresponding element in count.\n",
        "\n",
        "* Finally, it appends the original string `s` to the list in the `anagrams` dictionary that corresponds to the tuple of counts. Tuples are used because they can be used as keys in a dictionary while lists cannot.\n",
        "\n",
        "For example, if the input list strs was [\"eat\", \"tea\", \"tan\", \"ate\", \"nat\", \"bat\"], then the anagrams dictionary would be:\n",
        "\n",
        "```\n",
        "{\n",
        "  (1, 0, 0, 0, 1, 0, 0, 0, 0, 0, 0, 1, 0, 0, 0, 0, 0, 0, 0, 0, 0, 0, 0, 0, 0, 0): ['eat', 'tea', 'ate'], \n",
        "  (0, 1, 0, 0, 0, 0, 1, 0, 0, 0, 0, 0, 1, 0, 0, 0, 0, 0, 0, 0, 0, 0, 0, 0, 0, 0): ['tan', 'nat'], \n",
        "  (1, 0, 0, 0, 0, 0, 0, 0, 0, 0, 1, 0, 0, 0, 0, 1, 0, 0, 0, 0, 0, 0, 0, 0, 0, 1): ['bat']\n",
        "}\n",
        "```"
      ],
      "metadata": {
        "id": "nQowC0Idbqwo"
      }
    },
    {
      "cell_type": "code",
      "source": [
        "strs = [\"eat\",\"tea\",\"tan\",\"ate\",\"nat\",\"bat\"]\n",
        "groupAnagrams(strs)"
      ],
      "metadata": {
        "colab": {
          "base_uri": "https://localhost:8080/"
        },
        "id": "7pOZK7H1XCO2",
        "outputId": "e3b6e35c-ef34-4a32-b1a8-90d35ce338ef"
      },
      "execution_count": null,
      "outputs": [
        {
          "output_type": "execute_result",
          "data": {
            "text/plain": [
              "dict_values([['eat', 'tea', 'ate'], ['tan', 'nat'], ['bat']])"
            ]
          },
          "metadata": {},
          "execution_count": 7
        }
      ]
    },
    {
      "cell_type": "markdown",
      "source": [
        "## TC and SC\n",
        "\n",
        "* Time complexity: `O(nk)`, where `n` is the length of the input list `strs` and `k` is the maximum length of a string in the list. \n",
        " \n",
        " This is because the loop that iterates over the strings has to run `n` times, and the loop that creates the count list has to run `k` times.\n",
        " \n",
        "* Space complexity: `O(nk)`\n",
        "\n",
        " This is because it creates a new list of length `k` for each string in the input list."
      ],
      "metadata": {
        "id": "O4yfGFWTcWUd"
      }
    },
    {
      "cell_type": "markdown",
      "source": [
        "#**215. Kth Largest Element in an Array** `Medium`\n",
        "\n",
        "https://leetcode.com/problems/kth-largest-element-in-an-array/\n",
        "\n",
        "Given an integer array `nums` and an integer `k`, return the `k`th largest element in the array.\n",
        "\n",
        "Note that it is the `k`th largest element in the sorted order, not the `k`th distinct element.\n",
        "\n",
        "You must solve it in `O(n)` time complexity.\n",
        "\n",
        "```\n",
        "Example 1:\n",
        "Input: nums = [3,2,1,5,6,4], k = 2\n",
        "Output: 5\n",
        "\n",
        "Example 2:\n",
        "Input: nums = [3,2,3,1,2,4,5,5,6], k = 4\n",
        "Output: 4\n",
        "```"
      ],
      "metadata": {
        "id": "HD_KHrxHf2mD"
      }
    },
    {
      "cell_type": "markdown",
      "source": [
        "Note that `return heapq.nlargest(k, nums)[-1]` would give the correct answer but it would have `O(n log k)` time complexity, where `n` is the length of the input list nums. The `heapq.nlargest()` function uses a heap data structure to find the `k` largest elements in the list, and its time complexity is `O(n log k)`. Since we are only interested in the `k`th largest element, we use `[-1]` to access it, which has a constant time complexity of `O(1)`.\n",
        "\n",
        "\n",
        "\n"
      ],
      "metadata": {
        "id": "LAYxr9d7hImO"
      }
    },
    {
      "cell_type": "markdown",
      "source": [
        "## Quickselect - overview and time complexity\n",
        "\n",
        "\n",
        "To solve this problem in **average** `O(n)` time complexity, we can use the `quickselect` algorithm, which is a modified version of the `quicksort` algorithm. \n",
        "\n",
        "The algorithm works by recursively partitioning an array and selecting the `K`th smallest element from the resulting subarray. The partitioning is performed using a pivot element, which is chosen randomly from the subarray.\n",
        "\n",
        "Note that the worst time complexity is `O(n^2)`, which occurs when the randomly selected pivot is the the smallest or the largest element in the current subarray. The probability of the worst-case reduces exponentially with the length of the input array, and the worst-case is a nonissue in practice. For this reason, the randomize selection algorithm is sometimes said to have `almost certain O(n)` time complexity.\n",
        "\n",
        "Here is a step-by-step description of the quickselect algorithm:\n",
        "\n",
        "1. Start with an array of `n` elements and a value `K` representing the `K`th **smallest** element to select.\n",
        "\n",
        "2. Choose a pivot element randomly from the array.\n",
        "\n",
        "3. Partition the array around the pivot element by rearranging its elements such that all elements less than the pivot are placed to its left, and all elements greater than the pivot are placed to its right.\n",
        "\n",
        "4. Determine the index of the pivot element in the partitioned array. If the index is equal to `K`, return the pivot element as the `K`th smallest element. If the index is less than `K`, recursively apply the quickselect algorithm to the right subarray of the pivot. If the index is greater than `K`, recursively apply the quickselect algorithm to the left subarray of the pivot.\n",
        "\n",
        "5. Repeat steps 2-4 until the `K`th **smallest** element is found.\n",
        "\n",
        "\n"
      ],
      "metadata": {
        "id": "NYfdmx8dOniJ"
      }
    },
    {
      "cell_type": "code",
      "source": [
        "import random\n",
        "def findKthLargest(nums, k):\n",
        "    def quick_select(l, r, K):\n",
        "        pivot_index = random.randint(l, r)\n",
        "        pivot = nums[pivot_index]\n",
        "        nums[r], nums[pivot_index] = nums[pivot_index], nums[r]\n",
        "        \n",
        "        p = l\n",
        "        for i in range(l, r):\n",
        "            if nums[i] <= pivot:\n",
        "                nums[i], nums[p] = nums[p], nums[i]\n",
        "                p += 1\n",
        "        nums[p], nums[r] = nums[r], nums[p]\n",
        "        \n",
        "        if p > K:\n",
        "            return quick_select(l, p - 1, K)\n",
        "        elif p < K:\n",
        "            return quick_select(p + 1, r, K)\n",
        "        else:\n",
        "            return nums[p]\n",
        "        \n",
        "    return quick_select(0, len(nums) - 1, len(nums) - k)"
      ],
      "metadata": {
        "id": "aNUyNxm_cqNS"
      },
      "execution_count": null,
      "outputs": []
    },
    {
      "cell_type": "code",
      "source": [
        "import random\n",
        "def findKthLargest(nums, k):\n",
        "\n",
        "    def partition(left, right, pivot_idx):\n",
        "        pivot = nums[pivot_idx]\n",
        "        nums[pivot_idx], nums[right] = nums[right], nums[pivot_idx]\n",
        "        # alternatively, we could have set pivot = nums[right]\n",
        "        idx = left\n",
        "        for i in range(left, right):\n",
        "            if nums[i] <= pivot:\n",
        "                nums[i], nums[idx] = nums[idx], nums[i]\n",
        "                idx += 1\n",
        "      \n",
        "        nums[right], nums[idx] = nums[idx], nums[right]\n",
        "        return idx\n",
        "\n",
        "\n",
        "    def quickselect(left, right, K):\n",
        "        \"\"\"returns Kth smallest value\"\"\"\n",
        "        # select a random pivot_index between \n",
        "        pivot_idx = random.randint(left, right) \n",
        "        # partition the array and grab the index of the pivot\n",
        "        new_pivot_idx = partition(left, right, pivot_idx)\n",
        "\n",
        "        if K < new_pivot_idx:\n",
        "            return quickselect(left, new_pivot_idx - 1, K)\n",
        "        elif K > new_pivot_idx:\n",
        "            return quickselect(new_pivot_idx + 1, right, K)\n",
        "        else:\n",
        "            return nums[new_pivot_idx] \n",
        "\n",
        "    return quickselect(0, len(nums) - 1, K = len(nums)-k)           "
      ],
      "metadata": {
        "id": "mA6pRa9udS1J"
      },
      "execution_count": null,
      "outputs": []
    },
    {
      "cell_type": "code",
      "source": [
        "nums = [3,2,3,1,2,4,5,5,6]\n",
        "k = 4\n",
        "findKthLargest(nums, k)"
      ],
      "metadata": {
        "colab": {
          "base_uri": "https://localhost:8080/"
        },
        "id": "b2Tbelibg6wd",
        "outputId": "a5434243-3a85-45fa-ed05-fea98dbf8ec8"
      },
      "execution_count": null,
      "outputs": [
        {
          "output_type": "execute_result",
          "data": {
            "text/plain": [
              "4"
            ]
          },
          "metadata": {},
          "execution_count": 3
        }
      ]
    },
    {
      "cell_type": "markdown",
      "source": [
        "##  Step-by-step Example - Partitioning\n",
        "\n",
        "Let's step through the partition function with the input array `[5, 2, 8, 4, 7, 6]` and the initial parameters `left=0`, `right=5`, and `pivot_idx=5`:\n",
        "\n",
        "1. `pivot = nums[pivot_idx]` sets pivot to `nums[5]`, which is `6`.\n",
        "\n",
        "2. `nums[pivot_idx], nums[right] = nums[right], nums[pivot_idx]` swaps the pivot element (`nums[5]` or `6`) with the rightmost element (`nums[5]` or `6`). The array is still `[5, 2, 8, 4, 7, 6]`.\n",
        "\n",
        "3. `idx = left` sets `idx` to `0`.\n",
        "\n",
        "4. The for loop iterates over i from 0 to 4:\n",
        "\n",
        "   * On the first iteration (`i=0`, `nums[i]=5`), the if statement is true (`5 <= 6`), so `nums[i], nums[idx] = nums[idx], nums[i]` swaps `nums[0]` (`5`) with `nums[0]` (which is itself), and `idx` is incremented to `1`.\n",
        "\n",
        "  * On the second iteration (`i=1`, `nums[i]=2`), the if statement is true (`2 <= 6`), so `nums[i], nums[idx] = nums[idx], nums[i]` swaps `nums[1]` (`2`) with `nums[1]` (which is itself), and `idx` is incremented to `2`.\n",
        "\n",
        "  * On the third iteration (`i=2`, `nums[i]=8`), the if statement is false (`8 > 6`), so no swap occurs and `idx` is not incremented.\n",
        "\n",
        "  * On the fourth iteration (`i=3`, `nums[i]=4`), the if statement is true (`4 <= 6`), so `nums[i], nums[idx] = nums[idx], nums[i]` swaps `nums[3]` (`4`) with `nums[2]` (`8`), and `idx` is incremented to `3`.\n",
        "\n",
        "  * On the fifth iteration (`i=4`, `nums[i]=7`), the if statement is false (`7 > 6`), so no swap occurs and `idx` is not incremented.\n",
        "\n",
        "5. `nums[right], nums[idx] = nums[idx], nums[right]` swaps `nums[5]` (`6`) with `nums[3]` (`8`), putting the pivot element (`6`) in its final sorted position. The array is now `[5, 2, 4, 6, 7, 8]`, with the pivot element in the third position.\n",
        "6. `return idx` returns the index of the pivot element in the sorted subarray, which is `3`.\n",
        "\n",
        " So after this partition function call, the array `[5, 2, 8, 4, 7, 6]` has been partitioned into two subarrays: `[5, 2, 4]` (which contains all elements less than or equal to the pivot element, `6`) and `[8, 7]` (which contains all elements greater than the pivot element)."
      ],
      "metadata": {
        "id": "EySEP2uEjQ09"
      }
    },
    {
      "cell_type": "markdown",
      "source": [
        "#**526. Beautiful Arrangement** `Medium`\n",
        "\n",
        "https://leetcode.com/problems/beautiful-arrangement/\n",
        "\n",
        "Suppose you have `n` integers labeled `1` through `n`. A permutation of those `n` integers perm (`1`-indexed) is considered a beautiful arrangement if for every `i` (`1 <= i <= n`), either of the following is true:\n",
        "\n",
        "* `perm[i]` is divisible by `i`.\n",
        "* `i` is divisible by `perm[i]`.\n",
        "\n",
        "Given an integer `n`, return the number of the beautiful arrangements that you can construct.\n",
        "\n",
        " \n",
        "```\n",
        "Example 1:\n",
        "Input: n = 2\n",
        "Output: 2\n",
        "Explanation: \n",
        "The first beautiful arrangement is [1,2]:\n",
        "    - perm[1] = 1 is divisible by i = 1\n",
        "    - perm[2] = 2 is divisible by i = 2\n",
        "The second beautiful arrangement is [2,1]:\n",
        "    - perm[1] = 2 is divisible by i = 1\n",
        "    - i = 2 is divisible by perm[2] = 1\n",
        "\n",
        "Example 2:\n",
        "Input: n = 1\n",
        "Output: 1\n",
        " \n",
        "Constraints:\n",
        "1 <= n <= 15\n",
        "```"
      ],
      "metadata": {
        "id": "jXDPir25ITOq"
      }
    },
    {
      "cell_type": "code",
      "source": [
        "def countArrangement(N):\n",
        "\n",
        "    # memo is used to store previously computed values to avoid recomputing them.\n",
        "    def helper(X, memo={}):\n",
        "      if len(X) == 1:\n",
        "          return 1\n",
        "      \n",
        "      if X in memo:\n",
        "          return memo[X]\n",
        "\n",
        "      # This loop iterates over the numbers in the X tuple and checks if they satisfy the condition for forming a beautiful arrangement\n",
        "      # If the condition is satisfied, the function recursively calls itself with the updated X tuple \n",
        "      # where the j-th element is removed (X[:j] + X[j+1:]) and adds the returned value to the total variable.\n",
        "      \n",
        "      total = 0\n",
        "      for j in range(len(X)):\n",
        "          if X[j] % len(X) == 0 or len(X) % X[j] == 0:\n",
        "              total += helper(X[:j] + X[j+1:])\n",
        "              \n",
        "      memo[X] = total \n",
        "      return total \n",
        "  \n",
        "    return helper(tuple(range(1, N+1)))"
      ],
      "metadata": {
        "id": "dyEuUU2sn_Vi"
      },
      "execution_count": 8,
      "outputs": []
    },
    {
      "cell_type": "code",
      "source": [
        "countArrangement(N=10)"
      ],
      "metadata": {
        "colab": {
          "base_uri": "https://localhost:8080/"
        },
        "id": "_928o57CR4sy",
        "outputId": "9442f5c7-96ab-45e9-ac8f-390c7eaad854"
      },
      "execution_count": 7,
      "outputs": [
        {
          "output_type": "execute_result",
          "data": {
            "text/plain": [
              "700"
            ]
          },
          "metadata": {},
          "execution_count": 7
        }
      ]
    },
    {
      "cell_type": "markdown",
      "source": [
        "## TC and SC\n",
        "\n",
        "* Time complexity: `O(n!)`, where `n` is the input integer.\n",
        "\n",
        " This is because the algorithm recursively explores all possible arrangements of the numbers from `1` to `n` and checks whether each arrangement satisfies the given condition. Since there are `n!` possible arrangements, the time complexity of the algorithm is `O(n!)`.\n",
        "\n",
        "* Space complexity: `O(n!)`\n",
        "\n",
        " This is because the algorithm uses a cache dictionary to store the results of previous computations, and the size of the cache can grow to contain `n!` different entries, one for each possible arrangement of the numbers from `1` to `n`. In addition, the recursion depth of the algorithm is also proportional to `n!`, which contributes to the overall space complexity."
      ],
      "metadata": {
        "id": "6tjLF4L3UOKG"
      }
    },
    {
      "cell_type": "markdown",
      "source": [
        "#**54. Spiral Matrix** `Medium`\n",
        "\n",
        "https://leetcode.com/problems/spiral-matrix/\n",
        "\n",
        "Given an `m x n` matrix, return all elements of the matrix in spiral order.\n",
        "\n",
        "```\n",
        "Example 1:\n",
        "Input: matrix = [[1,2,3],[4,5,6],[7,8,9]]\n",
        "Output: [1,2,3,6,9,8,7,4,5]\n",
        "\n",
        "1 -> 2 -> 3\n",
        "          |\n",
        "4 -> 5    6\n",
        "|         |\n",
        "7 <- 8 <- 9\n",
        "\n",
        "Example 2:\n",
        "Input: matrix = [[1,2,3,4],[5,6,7,8],[9,10,11,12]]\n",
        "Output: [1,2,3,4,8,12,11,10,9,5,6,7]\n",
        "```"
      ],
      "metadata": {
        "id": "YkNl7ln_Wlnc"
      }
    },
    {
      "cell_type": "code",
      "source": [
        "def spiralOrder(matrix):\n",
        "    answer = []\n",
        "    L, R = 0, len(matrix[0])\n",
        "    T, B = 0, len(matrix)\n",
        "\n",
        "    while L < R and T < B:\n",
        "        # top row\n",
        "        for i in range(L,R):\n",
        "            answer.append(matrix[T][i])\n",
        "        T += 1\n",
        "        # rightmost column\n",
        "        for i in range(T, B):\n",
        "            answer.append(matrix[i][R-1])\n",
        "        R -= 1\n",
        "\n",
        "        if not (L < R and T < B):\n",
        "            break\n",
        "\n",
        "        # bottom row\n",
        "        for i in range(R-1, L-1, -1):\n",
        "            answer.append(matrix[B-1][i])\n",
        "        B -= 1\n",
        "        # leftmost column\n",
        "        for i in range(B-1, T-1, -1):\n",
        "            answer.append(matrix[i][L])      \n",
        "        L += 1\n",
        "        \n",
        "    return answer      "
      ],
      "metadata": {
        "id": "Y3qZ5BpzUnCn"
      },
      "execution_count": 9,
      "outputs": []
    },
    {
      "cell_type": "code",
      "source": [
        "matrix = [[1,2,3],[4,5,6],[7,8,9]]\n",
        "spiralOrder(matrix)"
      ],
      "metadata": {
        "colab": {
          "base_uri": "https://localhost:8080/"
        },
        "id": "m79fOAQvIdN0",
        "outputId": "40c5afa3-42ce-4aaa-ed26-2aa2cbbc8656"
      },
      "execution_count": 10,
      "outputs": [
        {
          "output_type": "execute_result",
          "data": {
            "text/plain": [
              "[1, 2, 3, 6, 9, 8, 7, 4, 5]"
            ]
          },
          "metadata": {},
          "execution_count": 10
        }
      ]
    },
    {
      "cell_type": "markdown",
      "source": [
        "## TC and SC\n",
        "\n",
        "* Time complexity: `O(mn)`, where `m` and `n` are the number of rows and columns in the input matrix, respectively.\n",
        "\n",
        " The outer while loop runs for at most `min(m, n) // 2` iterations, since each iteration removes two rows or two columns from the remaining sub-matrix. Within each iteration, the four for loops iterate over at most `m + n - 2` elements of the matrix. Therefore, the total number of iterations over the elements of the matrix is at most `(m + n - 2) * (min(m, n) // 2)`, which is `O(mn)`.\n",
        "\n",
        "* Space complexity of the function is `O(mn)`\n",
        "\n",
        " If we include the space used by the output array `answer` in the space analysis, then the space complexity would be `O(mn)`, where `m` and `n` are the number of rows and columns in the input matrix, respectively."
      ],
      "metadata": {
        "id": "TgWI-H8jJRJP"
      }
    },
    {
      "cell_type": "markdown",
      "source": [
        "#**91. Decode Ways** `Medium`\n",
        "\n",
        "https://leetcode.com/problems/decode-ways/\n",
        "\n",
        "A message containing letters from `A-Z` can be encoded into numbers using the following mapping:\n",
        "```\n",
        "'A' -> \"1\"\n",
        "'B' -> \"2\"\n",
        "...\n",
        "'Z' -> \"26\"\n",
        "```\n",
        "\n",
        "To decode an encoded message, all the digits must be grouped then mapped back into letters using the reverse of the mapping above (there may be multiple ways). For example, `\"11106\"` can be mapped into:\n",
        "```\n",
        "\"AAJF\" with the grouping (1 1 10 6)\n",
        "\"KJF\" with the grouping (11 10 6)\n",
        "Note that the grouping (1 11 06) is invalid because \"06\" cannot be mapped into 'F' since \"6\" is different from \"06\".\n",
        "```\n",
        "Given a string `s` containing only digits, return the number of ways to decode it.\n",
        "\n",
        "The test cases are generated so that the answer fits in a 32-bit integer.\n",
        "\n",
        "```\n",
        "Example 1:\n",
        "Input: s = \"12\"\n",
        "Output: 2\n",
        "Explanation: \"12\" could be decoded as \"AB\" (1 2) or \"L\" (12).\n",
        "\n",
        "Example 2:\n",
        "Input: s = \"226\"\n",
        "Output: 3\n",
        "Explanation: \"226\" could be decoded as \"BZ\" (2 26), \"VF\" (22 6), or \"BBF\" (2 2 6).\n",
        "\n",
        "Example 3:\n",
        "Input: s = \"06\"\n",
        "Output: 0\n",
        "Explanation: \"06\" cannot be mapped to \"F\" because of the leading zero (\"6\" is different from \"06\").\n",
        "```"
      ],
      "metadata": {
        "id": "8ByGzZdCLxV8"
      }
    },
    {
      "cell_type": "code",
      "source": [
        "def numDecodings(s: str) -> int:\n",
        "    n = len(s)\n",
        "    # dp[i] represents the number of ways to decode\n",
        "    # the first i digits of the string s\n",
        "    dp = [0] * (n + 1)\n",
        "    # initialize dp[0] = 1 to represent the empty string\n",
        "    dp[0] = 1\n",
        "    \n",
        "    for i in range(1, n + 1):\n",
        "        if s[i-1] != '0':\n",
        "            dp[i] += dp[i-1]\n",
        "        \n",
        "        if i > 1 and '10' <= s[i-2:i] <= '26':\n",
        "            dp[i] += dp[i-2]\n",
        "    \n",
        "    return dp[n]"
      ],
      "metadata": {
        "id": "KfgRhhabKbh4"
      },
      "execution_count": 1,
      "outputs": []
    },
    {
      "cell_type": "markdown",
      "source": [
        "## Code Explanation\n",
        "\n",
        "For each position `i` in the string, we can consider the two possibilities: either the digit at position `i` is decoded on its own, or it is combined with the digit at position `i-1` to form a two-digit number that can be decoded.\n",
        "\n",
        "If the digit at position `i` can be decoded on its own (i.e., it is not zero), we can add `dp[i-1]` to `dp[i]`, since we can simply add the decoded letter to all the ways we could decode the first `i-1` digits.\n",
        "\n",
        "If the digit at position `i-1` and position `i` can be combined to form a two-digit number that can be decoded, we can add `dp[i-2]` to `dp[i]`. This is because we can decode the two digits as a single letter and add it to all the ways we could decode the first `i-2` digits.\n",
        "\n",
        "Finally, we can return `dp[n]`, which will represent the number of ways to decode the entire string."
      ],
      "metadata": {
        "id": "eeGhEj3QqlXx"
      }
    },
    {
      "cell_type": "code",
      "source": [
        "s = \"226\"\n",
        "numDecodings(s)"
      ],
      "metadata": {
        "colab": {
          "base_uri": "https://localhost:8080/"
        },
        "id": "NTA8j0wfqZKE",
        "outputId": "8b8e06d8-b0ab-4b0a-e470-499bfc2e7640"
      },
      "execution_count": 2,
      "outputs": [
        {
          "output_type": "execute_result",
          "data": {
            "text/plain": [
              "3"
            ]
          },
          "metadata": {},
          "execution_count": 2
        }
      ]
    },
    {
      "cell_type": "markdown",
      "source": [
        "## TC and SC\n",
        "\n",
        "* Time complexity: `O(n)`, where `n` is the length of the input string `s`.\n",
        "\n",
        "  This is because we iterate over each character in the string once, and the operations we perform inside the loop (checking if the digit at position `i` can be decoded on its own and checking if the digit at position `i-1` and position `i` can be combined to form a two-digit number that can be decoded) take constant time.\n",
        "\n",
        "* Space complexity: `O(n)`\n",
        "\n",
        " We use a list `dp` of length `n+1` to store the values.\n",
        " "
      ],
      "metadata": {
        "id": "AkLiBCgUrRz-"
      }
    },
    {
      "cell_type": "markdown",
      "source": [
        "## Improved solution - O(1) space \n",
        "\n",
        "We can improve the space complexity of the above solution to `O(1)` by using two variables to store the values of `dp[i-1]` and `dp[i-2]` instead of using a list to store all the values of `dp`.\n",
        "\n",
        "In this version of the code, we initialize `prev` and `prev_prev` to 1, which corresponds to `dp[0]` and `dp[-1]`. We iterate over each character in the string, updating `curr` based on the conditions we used in the previous solution. We then update `prev_prev` and `prev` to be `prev` and `curr`, respectively, and move on to the next character.\n",
        "\n",
        "At the end of the loop, `prev` will store the value of `dp[n]`, which is the number of ways to decode the entire string.\n",
        "\n"
      ],
      "metadata": {
        "id": "NJS1V1g5tERe"
      }
    },
    {
      "cell_type": "code",
      "source": [
        "def numDecodings(s: str) -> int:\n",
        "    n = len(s)\n",
        "    if s[0] == '0':\n",
        "        return 0\n",
        "    \n",
        "    prev = 1\n",
        "    prev_prev = 1\n",
        "    \n",
        "    for i in range(1, n):\n",
        "        curr = 0\n",
        "        if s[i] != '0':\n",
        "            curr += prev\n",
        "        \n",
        "        if s[i-1] == '1' or (s[i-1] == '2' and s[i] <= '6'):\n",
        "            curr += prev_prev\n",
        "        \n",
        "        prev_prev = prev\n",
        "        prev = curr\n",
        "    \n",
        "    return prev"
      ],
      "metadata": {
        "id": "TokWhfd8rpUJ"
      },
      "execution_count": 3,
      "outputs": []
    },
    {
      "cell_type": "code",
      "source": [
        "s = \"10\"\n",
        "numDecodings(s)"
      ],
      "metadata": {
        "colab": {
          "base_uri": "https://localhost:8080/"
        },
        "id": "1vf6AvJAuElV",
        "outputId": "611f15aa-8e9d-4977-be84-ea8c7ac08b58"
      },
      "execution_count": 5,
      "outputs": [
        {
          "output_type": "execute_result",
          "data": {
            "text/plain": [
              "1"
            ]
          },
          "metadata": {},
          "execution_count": 5
        }
      ]
    }
  ]
}