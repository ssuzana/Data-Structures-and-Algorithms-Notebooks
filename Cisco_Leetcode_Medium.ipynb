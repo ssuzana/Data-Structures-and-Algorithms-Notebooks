{
  "nbformat": 4,
  "nbformat_minor": 0,
  "metadata": {
    "colab": {
      "provenance": [],
      "toc_visible": true,
      "authorship_tag": "ABX9TyMsp/coZrPYC6EovTYhuKYq",
      "include_colab_link": true
    },
    "kernelspec": {
      "name": "python3",
      "display_name": "Python 3"
    },
    "language_info": {
      "name": "python"
    }
  },
  "cells": [
    {
      "cell_type": "markdown",
      "metadata": {
        "id": "view-in-github",
        "colab_type": "text"
      },
      "source": [
        "<a href=\"https://colab.research.google.com/github/ssuzana/Data-Structures-and-Algorithms-Notebooks/blob/main/Cisco_Leetcode_Medium.ipynb\" target=\"_parent\"><img src=\"https://colab.research.google.com/assets/colab-badge.svg\" alt=\"Open In Colab\"/></a>"
      ]
    },
    {
      "cell_type": "markdown",
      "source": [
        "# Contents \n",
        "\n",
        "This is a set of Leetcode problems that have been marked as seen in interviews with Cisco.\n",
        "\n",
        "`1`. [Rotate Image](#scrollTo=KJnxwcxlJSjy&line=5&uniqifier=1)\n",
        "\n",
        "`2`. [Group Anagrams](#scrollTo=4Fd-E2n5MCxD&line=3&uniqifier=1)\n",
        "\n",
        "`3`. [Kth Largest Element in an Array](#scrollTo=HD_KHrxHf2mD&line=17&uniqifier=1)"
      ],
      "metadata": {
        "id": "9UNLXahiJAkY"
      }
    },
    {
      "cell_type": "markdown",
      "source": [
        "#**48. Rotate Image** `Medium`\n",
        "\n",
        "https://leetcode.com/problems/rotate-image/\n",
        "\n",
        "\n",
        "You are given an `n x n` 2D matrix representing an image, rotate the image by 90 degrees (clockwise).\n",
        "\n",
        "You have to rotate the image in-place, which means you have to modify the input 2D matrix directly. DO NOT allocate another 2D matrix and do the rotation.\n",
        "\n",
        "```\n",
        "Example 1:\n",
        "Input: matrix = [[1,2,3],[4,5,6],[7,8,9]]\n",
        "Output: [[7,4,1],[8,5,2],[9,6,3]]\n",
        "\n",
        "Example 2:\n",
        "Input: matrix = [[5,1,9,11],[2,4,8,10],[13,3,6,7],[15,14,12,16]]\n",
        "Output: [[15,13,2,5],[14,3,4,1],[12,6,8,9],[16,7,10,11]]\n",
        "```"
      ],
      "metadata": {
        "id": "KJnxwcxlJSjy"
      }
    },
    {
      "cell_type": "code",
      "execution_count": 1,
      "metadata": {
        "id": "cVMDEG__I_tz"
      },
      "outputs": [],
      "source": [
        "def rotate(mat):\n",
        "    \"\"\"\n",
        "    Do not return anything, modify matrix in-place instead.\n",
        "    \"\"\"\n",
        "    # make transpose of the matrix\n",
        "    for i in range(len(mat)):\n",
        "        for j in range(i, len(mat)):\n",
        "            mat[i][j], mat[j][i] = mat[j][i], mat[i][j]    \n",
        "    # reversing the matrix\n",
        "    for i in range(len(mat)):\n",
        "        mat[i].reverse()        \n",
        "        "
      ]
    },
    {
      "cell_type": "code",
      "source": [
        "matrix = [[1,2,3],[4,5,6],[7,8,9]]\n",
        "rotate(matrix)\n",
        "matrix"
      ],
      "metadata": {
        "colab": {
          "base_uri": "https://localhost:8080/"
        },
        "id": "7FukkxuXKVGa",
        "outputId": "42602e41-e4a6-4997-8553-15e75cd33005"
      },
      "execution_count": 4,
      "outputs": [
        {
          "output_type": "execute_result",
          "data": {
            "text/plain": [
              "[[7, 4, 1], [8, 5, 2], [9, 6, 3]]"
            ]
          },
          "metadata": {},
          "execution_count": 4
        }
      ]
    },
    {
      "cell_type": "markdown",
      "source": [
        "## Time and Space Complexity\n",
        "\n",
        "* Time complexity: `O(n^2)`, where `n` is the size of the matrix.\n",
        " \n",
        "  This is because there are two nested loops, each running `n` times.\n",
        "\n",
        "* Space complexity: `O(1)`\n",
        "\n",
        " This is because no additional space is used, and the modifications are done in-place."
      ],
      "metadata": {
        "id": "RoTpJ0JUKyZz"
      }
    },
    {
      "cell_type": "markdown",
      "source": [
        "#**49. Group Anagrams** `Medium`\n",
        "\n",
        "https://leetcode.com/problems/group-anagrams/\n",
        "\n",
        "Given an array of strings `strs`, group the anagrams together. You can return the answer in any order.\n",
        "\n",
        "An Anagram is a word or phrase formed by rearranging the letters of a different word or phrase, typically using all the original letters exactly once.\n",
        "\n",
        "``` \n",
        "Example 1:\n",
        "Input: strs = [\"eat\",\"tea\",\"tan\",\"ate\",\"nat\",\"bat\"]\n",
        "Output: [[\"bat\"],[\"nat\",\"tan\"],[\"ate\",\"eat\",\"tea\"]]\n",
        "\n",
        "Example 2:\n",
        "Input: strs = [\"\"]\n",
        "Output: [[\"\"]]\n",
        "\n",
        "Example 3:\n",
        "Input: strs = [\"a\"]\n",
        "Output: [[\"a\"]]\n",
        "```"
      ],
      "metadata": {
        "id": "4Fd-E2n5MCxD"
      }
    },
    {
      "cell_type": "markdown",
      "source": [
        "Two strings are anagrams if and only if their character counts (respective number of occurrences of each character) are the same. Transform each string `s` into a character count, `count`, consisting of 26 non-negative integers representing the number of `a`'s, `b`'s, `c`'s, etc. We use these counts as the basis for a dictionary whose keys are tuples and values are lists."
      ],
      "metadata": {
        "id": "iftEeeuAXS3j"
      }
    },
    {
      "cell_type": "code",
      "source": [
        "from collections import defaultdict\n",
        "\n",
        "def groupAnagrams(strs):\n",
        "\n",
        "  anagrams = defaultdict(list)\n",
        "\n",
        "  for s in strs:\n",
        "    count = [0] * 26\n",
        "    for char in s:\n",
        "      count[ord(char) - ord('a')] += 1\n",
        "    anagrams[tuple(count)].append(s)\n",
        "\n",
        "  return anagrams.values()         "
      ],
      "metadata": {
        "id": "fvj2_U6pLAbI"
      },
      "execution_count": 6,
      "outputs": []
    },
    {
      "cell_type": "markdown",
      "source": [
        "Here's how the function works:\n",
        "\n",
        "* It creates a dictionary called `anagrams` using `defaultdict(list)`. A `defaultdict` is a subclass of the built-in `dict` class. It takes a function as its argument (in this case list), which is called to provide a default value whenever a non-existent key is accessed. In this case, it will create a new empty list for each new key.\n",
        "\n",
        "* It then loops over each string in the input list `strs`.\n",
        "For each string `s`, it creates a list called `count` with 26 zeros, one for each letter of the alphabet.\n",
        "\n",
        "* It then loops over each character `char` in the string `s` and increments the corresponding element in count.\n",
        "\n",
        "* Finally, it appends the original string `s` to the list in the `anagrams` dictionary that corresponds to the tuple of counts. Tuples are used because they can be used as keys in a dictionary while lists cannot.\n",
        "\n",
        "For example, if the input list strs was [\"eat\", \"tea\", \"tan\", \"ate\", \"nat\", \"bat\"], then the anagrams dictionary would be:\n",
        "\n",
        "```\n",
        "{\n",
        "  (1, 0, 0, 0, 1, 0, 0, 0, 0, 0, 0, 1, 0, 0, 0, 0, 0, 0, 0, 0, 0, 0, 0, 0, 0, 0): ['eat', 'tea', 'ate'], \n",
        "  (0, 1, 0, 0, 0, 0, 1, 0, 0, 0, 0, 0, 1, 0, 0, 0, 0, 0, 0, 0, 0, 0, 0, 0, 0, 0): ['tan', 'nat'], \n",
        "  (1, 0, 0, 0, 0, 0, 0, 0, 0, 0, 1, 0, 0, 0, 0, 1, 0, 0, 0, 0, 0, 0, 0, 0, 0, 1): ['bat']\n",
        "}\n",
        "```"
      ],
      "metadata": {
        "id": "nQowC0Idbqwo"
      }
    },
    {
      "cell_type": "code",
      "source": [
        "strs = [\"eat\",\"tea\",\"tan\",\"ate\",\"nat\",\"bat\"]\n",
        "groupAnagrams(strs)"
      ],
      "metadata": {
        "colab": {
          "base_uri": "https://localhost:8080/"
        },
        "id": "7pOZK7H1XCO2",
        "outputId": "e3b6e35c-ef34-4a32-b1a8-90d35ce338ef"
      },
      "execution_count": 7,
      "outputs": [
        {
          "output_type": "execute_result",
          "data": {
            "text/plain": [
              "dict_values([['eat', 'tea', 'ate'], ['tan', 'nat'], ['bat']])"
            ]
          },
          "metadata": {},
          "execution_count": 7
        }
      ]
    },
    {
      "cell_type": "markdown",
      "source": [
        "## Time and Space Complexity\n",
        "\n",
        "* Time complexity: `O(nk)`, where `n` is the length of the input list `strs` and `k` is the maximum length of a string in the list. \n",
        " \n",
        " This is because the loop that iterates over the strings has to run `n` times, and the loop that creates the count list has to run `k` times.\n",
        " \n",
        "* Space complexity: `O(nk)`\n",
        "\n",
        " This is because it creates a new list of length `k` for each string in the input list."
      ],
      "metadata": {
        "id": "O4yfGFWTcWUd"
      }
    },
    {
      "cell_type": "markdown",
      "source": [
        "#**215. Kth Largest Element in an Array** `Medium`\n",
        "\n",
        "https://leetcode.com/problems/kth-largest-element-in-an-array/\n",
        "\n",
        "Given an integer array `nums` and an integer `k`, return the `k`th largest element in the array.\n",
        "\n",
        "Note that it is the `k`th largest element in the sorted order, not the `k`th distinct element.\n",
        "\n",
        "You must solve it in `O(n)` time complexity.\n",
        "\n",
        "```\n",
        "Example 1:\n",
        "Input: nums = [3,2,1,5,6,4], k = 2\n",
        "Output: 5\n",
        "\n",
        "Example 2:\n",
        "Input: nums = [3,2,3,1,2,4,5,5,6], k = 4\n",
        "Output: 4\n",
        "```"
      ],
      "metadata": {
        "id": "HD_KHrxHf2mD"
      }
    },
    {
      "cell_type": "markdown",
      "source": [
        "Note that `return heapq.nlargest(k, nums)[-1]` would give the correct answer but it would have `O(n log k)` time complexity, where `n` is the length of the input list nums. The `heapq.nlargest()` function uses a heap data structure to find the `k` largest elements in the list, and its time complexity is `O(n log k)`. Since we are only interested in the `k`th largest element, we use `[-1]` to access it, which has a constant time complexity of `O(1)`."
      ],
      "metadata": {
        "id": "LAYxr9d7hImO"
      }
    },
    {
      "cell_type": "code",
      "source": [
        "import random\n",
        "def findKthLargest(nums, k):\n",
        "    def quick_select(l, r, k):\n",
        "        pivot_index = random.randint(l, r)\n",
        "        pivot = nums[pivot_index]\n",
        "        nums[r], nums[pivot_index] = nums[pivot_index], nums[r]\n",
        "        \n",
        "        p = l\n",
        "        for i in range(l, r):\n",
        "            if nums[i] <= pivot:\n",
        "                nums[i], nums[p] = nums[p], nums[i]\n",
        "                p += 1\n",
        "        nums[p], nums[r] = nums[r], nums[p]\n",
        "        \n",
        "        if p > k:\n",
        "            return quick_select(l, p - 1, k)\n",
        "        elif p < k:\n",
        "            return quick_select(p + 1, r, k)\n",
        "        else:\n",
        "            return nums[p]\n",
        "        \n",
        "    return quick_select(0, len(nums) - 1, len(nums) - k)"
      ],
      "metadata": {
        "id": "aNUyNxm_cqNS"
      },
      "execution_count": 12,
      "outputs": []
    },
    {
      "cell_type": "code",
      "source": [
        "nums = [3,2,3,1,2,4,5,5,6]\n",
        "k = 4\n",
        "findKthLargest(nums, k)"
      ],
      "metadata": {
        "colab": {
          "base_uri": "https://localhost:8080/"
        },
        "id": "b2Tbelibg6wd",
        "outputId": "dcaa6521-0514-4085-96fe-3711314f7c2b"
      },
      "execution_count": 13,
      "outputs": [
        {
          "output_type": "execute_result",
          "data": {
            "text/plain": [
              "4"
            ]
          },
          "metadata": {},
          "execution_count": 13
        }
      ]
    }
  ]
}