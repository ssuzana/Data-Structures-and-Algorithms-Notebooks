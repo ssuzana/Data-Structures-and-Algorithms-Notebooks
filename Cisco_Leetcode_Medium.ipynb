{
 "cells": [
  {
   "cell_type": "markdown",
   "metadata": {
    "id": "9UNLXahiJAkY"
   },
   "source": [
    "# Contents \n",
    "\n",
    "This is a set of Leetcode problems that have been marked as seen in interviews with Cisco.\n",
    "\n",
    "`1`. [Rotate Image](#scrollTo=KJnxwcxlJSjy&line=5&uniqifier=1)\n",
    "\n",
    "`2`. [Group Anagrams](#scrollTo=4Fd-E2n5MCxD&line=3&uniqifier=1)\n",
    "\n",
    "`3`. [Kth Largest Element in an Array](#scrollTo=HD_KHrxHf2mD&line=17&uniqifier=1)"
   ]
  },
  {
   "cell_type": "markdown",
   "metadata": {
    "id": "KJnxwcxlJSjy"
   },
   "source": [
    "#**48. Rotate Image** `Medium`\n",
    "\n",
    "https://leetcode.com/problems/rotate-image/\n",
    "\n",
    "\n",
    "You are given an `n x n` 2D matrix representing an image, rotate the image by 90 degrees (clockwise).\n",
    "\n",
    "You have to rotate the image in-place, which means you have to modify the input 2D matrix directly. DO NOT allocate another 2D matrix and do the rotation.\n",
    "\n",
    "```\n",
    "Example 1:\n",
    "Input: matrix = [[1,2,3],[4,5,6],[7,8,9]]\n",
    "Output: [[7,4,1],[8,5,2],[9,6,3]]\n",
    "\n",
    "Example 2:\n",
    "Input: matrix = [[5,1,9,11],[2,4,8,10],[13,3,6,7],[15,14,12,16]]\n",
    "Output: [[15,13,2,5],[14,3,4,1],[12,6,8,9],[16,7,10,11]]\n",
    "```"
   ]
  },
  {
   "cell_type": "code",
   "execution_count": null,
   "metadata": {
    "id": "cVMDEG__I_tz"
   },
   "outputs": [],
   "source": [
    "def rotate(mat):\n",
    "    \"\"\"\n",
    "    Do not return anything, modify matrix in-place instead.\n",
    "    \"\"\"\n",
    "    # make transpose of the matrix\n",
    "    for i in range(len(mat)):\n",
    "        for j in range(i, len(mat)):\n",
    "            mat[i][j], mat[j][i] = mat[j][i], mat[i][j]    \n",
    "    # reversing the matrix\n",
    "    for i in range(len(mat)):\n",
    "        mat[i].reverse()        \n",
    "        "
   ]
  },
  {
   "cell_type": "code",
   "execution_count": null,
   "metadata": {
    "colab": {
     "base_uri": "https://localhost:8080/"
    },
    "id": "7FukkxuXKVGa",
    "outputId": "42602e41-e4a6-4997-8553-15e75cd33005"
   },
   "outputs": [
    {
     "data": {
      "text/plain": [
       "[[7, 4, 1], [8, 5, 2], [9, 6, 3]]"
      ]
     },
     "execution_count": 4,
     "metadata": {},
     "output_type": "execute_result"
    }
   ],
   "source": [
    "matrix = [[1,2,3],[4,5,6],[7,8,9]]\n",
    "rotate(matrix)\n",
    "matrix"
   ]
  },
  {
   "cell_type": "markdown",
   "metadata": {
    "id": "RoTpJ0JUKyZz"
   },
   "source": [
    "## Time and Space Complexity\n",
    "\n",
    "* Time complexity: `O(n^2)`, where `n` is the size of the matrix.\n",
    " \n",
    "  This is because there are two nested loops, each running `n` times.\n",
    "\n",
    "* Space complexity: `O(1)`\n",
    "\n",
    " This is because no additional space is used, and the modifications are done in-place."
   ]
  },
  {
   "cell_type": "markdown",
   "metadata": {
    "id": "4Fd-E2n5MCxD"
   },
   "source": [
    "#**49. Group Anagrams** `Medium`\n",
    "\n",
    "https://leetcode.com/problems/group-anagrams/\n",
    "\n",
    "Given an array of strings `strs`, group the anagrams together. You can return the answer in any order.\n",
    "\n",
    "An Anagram is a word or phrase formed by rearranging the letters of a different word or phrase, typically using all the original letters exactly once.\n",
    "\n",
    "``` \n",
    "Example 1:\n",
    "Input: strs = [\"eat\",\"tea\",\"tan\",\"ate\",\"nat\",\"bat\"]\n",
    "Output: [[\"bat\"],[\"nat\",\"tan\"],[\"ate\",\"eat\",\"tea\"]]\n",
    "\n",
    "Example 2:\n",
    "Input: strs = [\"\"]\n",
    "Output: [[\"\"]]\n",
    "\n",
    "Example 3:\n",
    "Input: strs = [\"a\"]\n",
    "Output: [[\"a\"]]\n",
    "```"
   ]
  },
  {
   "cell_type": "markdown",
   "metadata": {
    "id": "iftEeeuAXS3j"
   },
   "source": [
    "Two strings are anagrams if and only if their character counts (respective number of occurrences of each character) are the same. Transform each string `s` into a character count, `count`, consisting of 26 non-negative integers representing the number of `a`'s, `b`'s, `c`'s, etc. We use these counts as the basis for a dictionary whose keys are tuples and values are lists."
   ]
  },
  {
   "cell_type": "code",
   "execution_count": null,
   "metadata": {
    "id": "fvj2_U6pLAbI"
   },
   "outputs": [],
   "source": [
    "from collections import defaultdict\n",
    "\n",
    "def groupAnagrams(strs):\n",
    "\n",
    "  anagrams = defaultdict(list)\n",
    "\n",
    "  for s in strs:\n",
    "    count = [0] * 26\n",
    "    for char in s:\n",
    "      count[ord(char) - ord('a')] += 1\n",
    "    anagrams[tuple(count)].append(s)\n",
    "\n",
    "  return anagrams.values()         "
   ]
  },
  {
   "cell_type": "markdown",
   "metadata": {
    "id": "nQowC0Idbqwo"
   },
   "source": [
    "Here's how the function works:\n",
    "\n",
    "* It creates a dictionary called `anagrams` using `defaultdict(list)`. A `defaultdict` is a subclass of the built-in `dict` class. It takes a function as its argument (in this case list), which is called to provide a default value whenever a non-existent key is accessed. In this case, it will create a new empty list for each new key.\n",
    "\n",
    "* It then loops over each string in the input list `strs`.\n",
    "For each string `s`, it creates a list called `count` with 26 zeros, one for each letter of the alphabet.\n",
    "\n",
    "* It then loops over each character `char` in the string `s` and increments the corresponding element in count.\n",
    "\n",
    "* Finally, it appends the original string `s` to the list in the `anagrams` dictionary that corresponds to the tuple of counts. Tuples are used because they can be used as keys in a dictionary while lists cannot.\n",
    "\n",
    "For example, if the input list strs was [\"eat\", \"tea\", \"tan\", \"ate\", \"nat\", \"bat\"], then the anagrams dictionary would be:\n",
    "\n",
    "```\n",
    "{\n",
    "  (1, 0, 0, 0, 1, 0, 0, 0, 0, 0, 0, 1, 0, 0, 0, 0, 0, 0, 0, 0, 0, 0, 0, 0, 0, 0): ['eat', 'tea', 'ate'], \n",
    "  (0, 1, 0, 0, 0, 0, 1, 0, 0, 0, 0, 0, 1, 0, 0, 0, 0, 0, 0, 0, 0, 0, 0, 0, 0, 0): ['tan', 'nat'], \n",
    "  (1, 0, 0, 0, 0, 0, 0, 0, 0, 0, 1, 0, 0, 0, 0, 1, 0, 0, 0, 0, 0, 0, 0, 0, 0, 1): ['bat']\n",
    "}\n",
    "```"
   ]
  },
  {
   "cell_type": "code",
   "execution_count": null,
   "metadata": {
    "colab": {
     "base_uri": "https://localhost:8080/"
    },
    "id": "7pOZK7H1XCO2",
    "outputId": "e3b6e35c-ef34-4a32-b1a8-90d35ce338ef"
   },
   "outputs": [
    {
     "data": {
      "text/plain": [
       "dict_values([['eat', 'tea', 'ate'], ['tan', 'nat'], ['bat']])"
      ]
     },
     "execution_count": 7,
     "metadata": {},
     "output_type": "execute_result"
    }
   ],
   "source": [
    "strs = [\"eat\",\"tea\",\"tan\",\"ate\",\"nat\",\"bat\"]\n",
    "groupAnagrams(strs)"
   ]
  },
  {
   "cell_type": "markdown",
   "metadata": {
    "id": "O4yfGFWTcWUd"
   },
   "source": [
    "## Time and Space Complexity\n",
    "\n",
    "* Time complexity: `O(nk)`, where `n` is the length of the input list `strs` and `k` is the maximum length of a string in the list. \n",
    " \n",
    " This is because the loop that iterates over the strings has to run `n` times, and the loop that creates the count list has to run `k` times.\n",
    " \n",
    "* Space complexity: `O(nk)`\n",
    "\n",
    " This is because it creates a new list of length `k` for each string in the input list."
   ]
  },
  {
   "cell_type": "markdown",
   "metadata": {
    "id": "HD_KHrxHf2mD"
   },
   "source": [
    "#**215. Kth Largest Element in an Array** `Medium`\n",
    "\n",
    "https://leetcode.com/problems/kth-largest-element-in-an-array/\n",
    "\n",
    "Given an integer array `nums` and an integer `k`, return the `k`th largest element in the array.\n",
    "\n",
    "Note that it is the `k`th largest element in the sorted order, not the `k`th distinct element.\n",
    "\n",
    "You must solve it in `O(n)` time complexity.\n",
    "\n",
    "```\n",
    "Example 1:\n",
    "Input: nums = [3,2,1,5,6,4], k = 2\n",
    "Output: 5\n",
    "\n",
    "Example 2:\n",
    "Input: nums = [3,2,3,1,2,4,5,5,6], k = 4\n",
    "Output: 4\n",
    "```"
   ]
  },
  {
   "cell_type": "markdown",
   "metadata": {
    "id": "LAYxr9d7hImO"
   },
   "source": [
    "Note that `return heapq.nlargest(k, nums)[-1]` would give the correct answer but it would have `O(n log k)` time complexity, where `n` is the length of the input list nums. The `heapq.nlargest()` function uses a heap data structure to find the `k` largest elements in the list, and its time complexity is `O(n log k)`. Since we are only interested in the `k`th largest element, we use `[-1]` to access it, which has a constant time complexity of `O(1)`.\n",
    "\n",
    "\n",
    "\n"
   ]
  },
  {
   "cell_type": "markdown",
   "metadata": {
    "id": "NYfdmx8dOniJ"
   },
   "source": [
    "## Quickselect - overview and time complexity\n",
    "\n",
    "\n",
    "To solve this problem in **average** `O(n)` time complexity, we can use the `quickselect` algorithm, which is a modified version of the `quicksort` algorithm. \n",
    "\n",
    "The algorithm works by recursively partitioning an array and selecting the `K`th smallest element from the resulting subarray. The partitioning is performed using a pivot element, which is chosen randomly from the subarray.\n",
    "\n",
    "Note that the worst time complexity is `O(n^2)`, which occurs when the randomly selected pivot is the the smallest or the largest element in the current subarray. The probability of the worst-case reduces exponentially with the length of the input array, and the worst-case is a nonissue in practice. For this reason, the randomize selection algorithm is sometimes said to have `almost certain O(n)` time complexity.\n",
    "\n",
    "Here is a step-by-step description of the quickselect algorithm:\n",
    "\n",
    "1. Start with an array of `n` elements and a value `K` representing the `K`th **smallest** element to select.\n",
    "\n",
    "2. Choose a pivot element randomly from the array.\n",
    "\n",
    "3. Partition the array around the pivot element by rearranging its elements such that all elements less than the pivot are placed to its left, and all elements greater than the pivot are placed to its right.\n",
    "\n",
    "4. Determine the index of the pivot element in the partitioned array. If the index is equal to `K`, return the pivot element as the `K`th smallest element. If the index is less than `K`, recursively apply the quickselect algorithm to the right subarray of the pivot. If the index is greater than `K`, recursively apply the quickselect algorithm to the left subarray of the pivot.\n",
    "\n",
    "5. Repeat steps 2-4 until the `K`th **smallest** element is found.\n",
    "\n",
    "\n"
   ]
  },
  {
   "cell_type": "code",
   "execution_count": null,
   "metadata": {
    "id": "aNUyNxm_cqNS"
   },
   "outputs": [],
   "source": [
    "import random\n",
    "def findKthLargest(nums, k):\n",
    "    def quick_select(l, r, K):\n",
    "        pivot_index = random.randint(l, r)\n",
    "        pivot = nums[pivot_index]\n",
    "        nums[r], nums[pivot_index] = nums[pivot_index], nums[r]\n",
    "        \n",
    "        p = l\n",
    "        for i in range(l, r):\n",
    "            if nums[i] <= pivot:\n",
    "                nums[i], nums[p] = nums[p], nums[i]\n",
    "                p += 1\n",
    "        nums[p], nums[r] = nums[r], nums[p]\n",
    "        \n",
    "        if p > K:\n",
    "            return quick_select(l, p - 1, K)\n",
    "        elif p < K:\n",
    "            return quick_select(p + 1, r, K)\n",
    "        else:\n",
    "            return nums[p]\n",
    "        \n",
    "    return quick_select(0, len(nums) - 1, len(nums) - k)"
   ]
  },
  {
   "cell_type": "code",
   "execution_count": null,
   "metadata": {
    "id": "mA6pRa9udS1J"
   },
   "outputs": [],
   "source": [
    "import random\n",
    "def findKthLargest(nums, k):\n",
    "\n",
    "    def partition(left, right, pivot_idx):\n",
    "        pivot = nums[pivot_idx]\n",
    "        nums[pivot_idx], nums[right] = nums[right], nums[pivot_idx]\n",
    "        # alternatively, we could have set pivot = nums[right]\n",
    "        idx = left\n",
    "        for i in range(left, right):\n",
    "            if nums[i] <= pivot:\n",
    "                nums[i], nums[idx] = nums[idx], nums[i]\n",
    "                idx += 1\n",
    "      \n",
    "        nums[right], nums[idx] = nums[idx], nums[right]\n",
    "        return idx\n",
    "\n",
    "\n",
    "    def quickselect(left, right, K):\n",
    "        \"\"\"returns Kth smallest value\"\"\"\n",
    "        # select a random pivot_index between \n",
    "        pivot_idx = random.randint(left, right) \n",
    "        # partition the array and grab the index of the pivot\n",
    "        new_pivot_idx = partition(left, right, pivot_idx)\n",
    "\n",
    "        if K < new_pivot_idx:\n",
    "            return quickselect(left, new_pivot_idx - 1, K)\n",
    "        elif K > new_pivot_idx:\n",
    "            return quickselect(new_pivot_idx + 1, right, K)\n",
    "        else:\n",
    "            return nums[new_pivot_idx] \n",
    "\n",
    "    return quickselect(0, len(nums) - 1, K = len(nums)-k)           "
   ]
  },
  {
   "cell_type": "code",
   "execution_count": null,
   "metadata": {
    "colab": {
     "base_uri": "https://localhost:8080/"
    },
    "id": "b2Tbelibg6wd",
    "outputId": "a5434243-3a85-45fa-ed05-fea98dbf8ec8"
   },
   "outputs": [
    {
     "data": {
      "text/plain": [
       "4"
      ]
     },
     "execution_count": 3,
     "metadata": {},
     "output_type": "execute_result"
    }
   ],
   "source": [
    "nums = [3,2,3,1,2,4,5,5,6]\n",
    "k = 4\n",
    "findKthLargest(nums, k)"
   ]
  },
  {
   "cell_type": "markdown",
   "metadata": {
    "id": "EySEP2uEjQ09"
   },
   "source": [
    "##  Step-by-step Example - Partitioning\n",
    "\n",
    "Let's step through the partition function with the input array `[5, 2, 8, 4, 7, 6]` and the initial parameters `left=0`, `right=5`, and `pivot_idx=5`:\n",
    "\n",
    "1. pivot = nums[pivot_idx]` sets pivot to `nums[5]`, which is `6`.\n",
    "\n",
    "2. `nums[pivot_idx], nums[right] = nums[right], nums[pivot_idx]` swaps the pivot element (`nums[5]` or `6`) with the rightmost element (`nums[5]` or `6`). The array is still `[5, 2, 8, 4, 7, 6]`.\n",
    "\n",
    "3. `idx = left` sets `idx` to `0`.\n",
    "\n",
    "4. The for loop iterates over i from 0 to 4:\n",
    "\n",
    "   * On the first iteration (`i=0`, `nums[i]=5`), the if statement is true (`5 <= 6`), so `nums[i], nums[idx] = nums[idx], nums[i]` swaps `nums[0]` (`5`) with `nums[0]` (which is itself), and `idx` is incremented to `1`.\n",
    "\n",
    "  * On the second iteration (`i=1`, `nums[i]=2`), the if statement is true (`2 <= 6`), so `nums[i], nums[idx] = nums[idx], nums[i]` swaps `nums[1]` (`2`) with `nums[1]` (which is itself), and `idx` is incremented to `2`.\n",
    "\n",
    "  * On the third iteration (`i=2`, `nums[i]=8`), the if statement is false (`8 > 6`), so no swap occurs and `idx` is not incremented.\n",
    "\n",
    "  * On the fourth iteration (`i=3`, `nums[i]=4`), the if statement is true (`4 <= 6`), so `nums[i], nums[idx] = nums[idx], nums[i]` swaps `nums[3]` (`4`) with `nums[2]` (`8`), and `idx` is incremented to `3`.\n",
    "\n",
    "  * On the fifth iteration (`i=4`, `nums[i]=7`), the if statement is false (`7 > 6`), so no swap occurs and `idx` is not incremented.\n",
    "\n",
    "5. `nums[right], nums[idx] = nums[idx], nums[right]` swaps `nums[5]` (`6`) with `nums[3]` (`8`), putting the pivot element (`6`) in its final sorted position. The array is now `[5, 2, 4, 6, 7, 8]`, with the pivot element in the third position.\n",
    "6. `return idx` returns the index of the pivot element in the sorted subarray, which is `3`.\n",
    "\n",
    " So after this partition function call, the array `[5, 2, 8, 4, 7, 6]` has been partitioned into two subarrays: `[5, 2, 4]` (which contains all elements less than or equal to the pivot element, `6`) and `[8, 7]` (which contains all elements greater than the pivot element)."
   ]
  },
  {
   "cell_type": "code",
   "execution_count": null,
   "metadata": {
    "id": "dyEuUU2sn_Vi"
   },
   "outputs": [],
   "source": []
  }
 ],
 "metadata": {
  "colab": {
   "provenance": [],
   "toc_visible": true
  },
  "kernelspec": {
   "display_name": "Python 3 (ipykernel)",
   "language": "python",
   "name": "python3"
  },
  "language_info": {
   "codemirror_mode": {
    "name": "ipython",
    "version": 3
   },
   "file_extension": ".py",
   "mimetype": "text/x-python",
   "name": "python",
   "nbconvert_exporter": "python",
   "pygments_lexer": "ipython3",
   "version": "3.9.13"
  }
 },
 "nbformat": 4,
 "nbformat_minor": 1
}
